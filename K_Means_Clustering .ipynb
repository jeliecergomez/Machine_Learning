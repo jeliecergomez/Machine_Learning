{
 "cells": [
  {
   "cell_type": "code",
   "execution_count": 182,
   "id": "b268eb1d-e115-4486-8b8a-5c7d18ea15c3",
   "metadata": {},
   "outputs": [
    {
     "data": {
      "text/html": [
       "<div>\n",
       "<style scoped>\n",
       "    .dataframe tbody tr th:only-of-type {\n",
       "        vertical-align: middle;\n",
       "    }\n",
       "\n",
       "    .dataframe tbody tr th {\n",
       "        vertical-align: top;\n",
       "    }\n",
       "\n",
       "    .dataframe thead th {\n",
       "        text-align: right;\n",
       "    }\n",
       "</style>\n",
       "<table border=\"1\" class=\"dataframe\">\n",
       "  <thead>\n",
       "    <tr style=\"text-align: right;\">\n",
       "      <th></th>\n",
       "      <th>Nombre</th>\n",
       "      <th>Edad</th>\n",
       "      <th>Ingresos</th>\n",
       "    </tr>\n",
       "  </thead>\n",
       "  <tbody>\n",
       "    <tr>\n",
       "      <th>0</th>\n",
       "      <td>DAYAN</td>\n",
       "      <td>27</td>\n",
       "      <td>7000000</td>\n",
       "    </tr>\n",
       "    <tr>\n",
       "      <th>1</th>\n",
       "      <td>HELMAN</td>\n",
       "      <td>29</td>\n",
       "      <td>9000000</td>\n",
       "    </tr>\n",
       "    <tr>\n",
       "      <th>2</th>\n",
       "      <td>JOHNATAN</td>\n",
       "      <td>30</td>\n",
       "      <td>6100000</td>\n",
       "    </tr>\n",
       "    <tr>\n",
       "      <th>3</th>\n",
       "      <td>JAIME</td>\n",
       "      <td>30</td>\n",
       "      <td>6000000</td>\n",
       "    </tr>\n",
       "    <tr>\n",
       "      <th>4</th>\n",
       "      <td>DANIELA</td>\n",
       "      <td>28</td>\n",
       "      <td>15000000</td>\n",
       "    </tr>\n",
       "  </tbody>\n",
       "</table>\n",
       "</div>"
      ],
      "text/plain": [
       "     Nombre  Edad  Ingresos\n",
       "0     DAYAN    27   7000000\n",
       "1    HELMAN    29   9000000\n",
       "2  JOHNATAN    30   6100000\n",
       "3     JAIME    30   6000000\n",
       "4   DANIELA    28  15000000"
      ]
     },
     "execution_count": 182,
     "metadata": {},
     "output_type": "execute_result"
    }
   ],
   "source": [
    "import pandas as pd\n",
    "#se define un data frame para cargar el archivo que contiene los datos de entrenamiento\n",
    "dtincome = pd.read_csv(\"/Machine Learning/Data/Ingresos_Mensuales.csv\")\n",
    "#se muestra el dataframe\n",
    "dtincome.head()"
   ]
  },
  {
   "cell_type": "code",
   "execution_count": 183,
   "id": "76cc061d-f0a0-412b-b32d-b3a4262957c9",
   "metadata": {},
   "outputs": [
    {
     "data": {
      "text/plain": [
       "<matplotlib.collections.PathCollection at 0x1f30ef70>"
      ]
     },
     "execution_count": 183,
     "metadata": {},
     "output_type": "execute_result"
    },
    {
     "data": {
      "image/png": "[encoded data removed]",
      "text/plain": [
       "<Figure size 432x288 with 1 Axes>"
      ]
     },
     "metadata": {
      "needs_background": "light"
     },
     "output_type": "display_data"
    }
   ],
   "source": [
    "import matplotlib.pyplot as plt\n",
    "%matplotlib inline\n",
    "plt.xlabel('Edad')\n",
    "plt.ylabel('Ingresos')\n",
    "\n",
    "plt.scatter(dtincome.Edad, dtincome.Ingresos, color ='blue',marker='+')"
   ]
  },
  {
   "cell_type": "code",
   "execution_count": 184,
   "id": "e10b6822-5510-499c-b7c3-416b30643093",
   "metadata": {},
   "outputs": [
    {
     "data": {
      "text/plain": [
       "KMeans(n_clusters=3)"
      ]
     },
     "execution_count": 184,
     "metadata": {},
     "output_type": "execute_result"
    }
   ],
   "source": [
    "from sklearn.cluster import KMeans\n",
    "Km=KMeans(n_clusters=3)\n",
    "Km"
   ]
  },
  {
   "cell_type": "code",
   "execution_count": 185,
   "id": "7c79c462-d4c4-4cb0-a5a0-5027ca15c0b2",
   "metadata": {},
   "outputs": [
    {
     "data": {
      "text/plain": [
       "array([2, 2, 0, 0, 1, 1, 1, 1, 1, 1, 1, 0, 0, 0, 0, 0, 0, 2, 2, 0, 0, 2])"
      ]
     },
     "execution_count": 185,
     "metadata": {},
     "output_type": "execute_result"
    }
   ],
   "source": [
    "y_predict = Km.fit_predict(dtincome[['Edad','Ingresos']])\n",
    "y_predict"
   ]
  },
  {
   "cell_type": "code",
   "execution_count": 186,
   "id": "7c840a3e-2919-4686-ae3e-1357431cda6a",
   "metadata": {},
   "outputs": [
    {
     "data": {
      "text/html": [
       "<div>\n",
       "<style scoped>\n",
       "    .dataframe tbody tr th:only-of-type {\n",
       "        vertical-align: middle;\n",
       "    }\n",
       "\n",
       "    .dataframe tbody tr th {\n",
       "        vertical-align: top;\n",
       "    }\n",
       "\n",
       "    .dataframe thead th {\n",
       "        text-align: right;\n",
       "    }\n",
       "</style>\n",
       "<table border=\"1\" class=\"dataframe\">\n",
       "  <thead>\n",
       "    <tr style=\"text-align: right;\">\n",
       "      <th></th>\n",
       "      <th>Nombre</th>\n",
       "      <th>Edad</th>\n",
       "      <th>Ingresos</th>\n",
       "      <th>cluster</th>\n",
       "    </tr>\n",
       "  </thead>\n",
       "  <tbody>\n",
       "    <tr>\n",
       "      <th>0</th>\n",
       "      <td>DAYAN</td>\n",
       "      <td>27</td>\n",
       "      <td>7000000</td>\n",
       "      <td>2</td>\n",
       "    </tr>\n",
       "    <tr>\n",
       "      <th>1</th>\n",
       "      <td>HELMAN</td>\n",
       "      <td>29</td>\n",
       "      <td>9000000</td>\n",
       "      <td>2</td>\n",
       "    </tr>\n",
       "    <tr>\n",
       "      <th>2</th>\n",
       "      <td>JOHNATAN</td>\n",
       "      <td>30</td>\n",
       "      <td>6100000</td>\n",
       "      <td>0</td>\n",
       "    </tr>\n",
       "    <tr>\n",
       "      <th>3</th>\n",
       "      <td>JAIME</td>\n",
       "      <td>30</td>\n",
       "      <td>6000000</td>\n",
       "      <td>0</td>\n",
       "    </tr>\n",
       "    <tr>\n",
       "      <th>4</th>\n",
       "      <td>DANIELA</td>\n",
       "      <td>28</td>\n",
       "      <td>15000000</td>\n",
       "      <td>1</td>\n",
       "    </tr>\n",
       "  </tbody>\n",
       "</table>\n",
       "</div>"
      ],
      "text/plain": [
       "     Nombre  Edad  Ingresos  cluster\n",
       "0     DAYAN    27   7000000        2\n",
       "1    HELMAN    29   9000000        2\n",
       "2  JOHNATAN    30   6100000        0\n",
       "3     JAIME    30   6000000        0\n",
       "4   DANIELA    28  15000000        1"
      ]
     },
     "execution_count": 186,
     "metadata": {},
     "output_type": "execute_result"
    }
   ],
   "source": [
    "dtincome['cluster'] = y_predict\n",
    "dtincome.head()"
   ]
  },
  {
   "cell_type": "code",
   "execution_count": 187,
   "id": "0a88df41-5bf3-4cd7-beb0-ff2cd3a9e6fa",
   "metadata": {},
   "outputs": [
    {
     "data": {
      "image/png": "[encoded data removed]",
      "text/plain": [
       "<Figure size 432x288 with 1 Axes>"
      ]
     },
     "metadata": {
      "needs_background": "light"
     },
     "output_type": "display_data"
    }
   ],
   "source": [
    "import numpy as np\n",
    "import matplotlib.pyplot as plt\n",
    "\n",
    "dtincome1 = dtincome[dtincome.cluster==0]\n",
    "dtincome2 = dtincome[dtincome.cluster==1]\n",
    "dtincome3 = dtincome[dtincome.cluster==2]\n",
    "\n",
    "plt.scatter(dtincome1.Edad,dtincome1['Ingresos'], color='blue')\n",
    "plt.scatter(dtincome2.Edad,dtincome2['Ingresos'], color='red')\n",
    "plt.scatter(dtincome3.Edad,dtincome3['Ingresos'], color='black')\n",
    "\n",
    "plt.xlabel('Edad')\n",
    "plt.ylabel('Ingresos')\n",
    "plt.legend(['Ingresos1', 'Ingresos2', 'Ingresos3'])\n",
    "plt.show()"
   ]
  },
  {
   "cell_type": "code",
   "execution_count": 188,
   "id": "927b07c0-d7fd-471d-b8d8-847dc7b43940",
   "metadata": {},
   "outputs": [
    {
     "data": {
      "text/html": [
       "<div>\n",
       "<style scoped>\n",
       "    .dataframe tbody tr th:only-of-type {\n",
       "        vertical-align: middle;\n",
       "    }\n",
       "\n",
       "    .dataframe tbody tr th {\n",
       "        vertical-align: top;\n",
       "    }\n",
       "\n",
       "    .dataframe thead th {\n",
       "        text-align: right;\n",
       "    }\n",
       "</style>\n",
       "<table border=\"1\" class=\"dataframe\">\n",
       "  <thead>\n",
       "    <tr style=\"text-align: right;\">\n",
       "      <th></th>\n",
       "      <th>Edad</th>\n",
       "      <th>Ingresos</th>\n",
       "    </tr>\n",
       "  </thead>\n",
       "  <tbody>\n",
       "    <tr>\n",
       "      <th>0</th>\n",
       "      <td>27</td>\n",
       "      <td>7000000</td>\n",
       "    </tr>\n",
       "    <tr>\n",
       "      <th>1</th>\n",
       "      <td>29</td>\n",
       "      <td>9000000</td>\n",
       "    </tr>\n",
       "    <tr>\n",
       "      <th>2</th>\n",
       "      <td>30</td>\n",
       "      <td>6100000</td>\n",
       "    </tr>\n",
       "    <tr>\n",
       "      <th>3</th>\n",
       "      <td>30</td>\n",
       "      <td>6000000</td>\n",
       "    </tr>\n",
       "    <tr>\n",
       "      <th>4</th>\n",
       "      <td>28</td>\n",
       "      <td>15000000</td>\n",
       "    </tr>\n",
       "  </tbody>\n",
       "</table>\n",
       "</div>"
      ],
      "text/plain": [
       "   Edad  Ingresos\n",
       "0    27   7000000\n",
       "1    29   9000000\n",
       "2    30   6100000\n",
       "3    30   6000000\n",
       "4    28  15000000"
      ]
     },
     "execution_count": 188,
     "metadata": {},
     "output_type": "execute_result"
    }
   ],
   "source": [
    "from sklearn.preprocessing import MinMaxScaler\n",
    "scaler = MinMaxScaler()\n",
    "dtincometmp= dtincome.drop(['Nombre'], axis='columns')\n",
    "cluster_tmp =pd.DataFrame(dtincometmp.cluster)\n",
    "dtincometmp= dtincome.drop(['Nombre','cluster'], axis='columns')\n",
    "dtincometmp.head()"
   ]
  },
  {
   "cell_type": "code",
   "execution_count": 189,
   "id": "194a1963-37b2-48e4-8734-f803c169ec29",
   "metadata": {},
   "outputs": [
    {
     "data": {
      "text/plain": [
       "array([[0.05882353, 0.21367521],\n",
       "       [0.17647059, 0.38461538],\n",
       "       [0.23529412, 0.13675214],\n",
       "       [0.23529412, 0.12820513],\n",
       "       [0.11764706, 0.8974359 ],\n",
       "       [0.94117647, 0.94017094],\n",
       "       [0.76470588, 0.98290598],\n",
       "       [0.88235294, 1.        ],\n",
       "       [0.64705882, 0.94871795],\n",
       "       [0.58823529, 0.81196581],\n",
       "       [0.52941176, 0.8974359 ],\n",
       "       [0.        , 0.        ],\n",
       "       [0.05882353, 0.02564103],\n",
       "       [0.17647059, 0.03846154],\n",
       "       [0.35294118, 0.06837607],\n",
       "       [0.82352941, 0.17094017],\n",
       "       [0.88235294, 0.15384615],\n",
       "       [1.        , 0.2991453 ],\n",
       "       [0.76470588, 0.31623932],\n",
       "       [0.88235294, 0.11111111],\n",
       "       [0.76470588, 0.03418803],\n",
       "       [0.82352941, 0.21367521]])"
      ]
     },
     "execution_count": 189,
     "metadata": {},
     "output_type": "execute_result"
    }
   ],
   "source": [
    "scaler.fit(dtincometmp)\n",
    "dtincometmp = scaler.transform(dtincometmp)\n",
    "dtincometmp"
   ]
  },
  {
   "cell_type": "code",
   "execution_count": 190,
   "id": "62993463-8843-47df-b289-c3528875a95f",
   "metadata": {},
   "outputs": [
    {
     "data": {
      "text/plain": [
       "KMeans(n_clusters=3)"
      ]
     },
     "execution_count": 190,
     "metadata": {},
     "output_type": "execute_result"
    }
   ],
   "source": [
    "Km=KMeans(n_clusters=3)\n",
    "\n",
    "Km"
   ]
  },
  {
   "cell_type": "code",
   "execution_count": 191,
   "id": "181a206d-b21b-49ab-9189-269fe8015b52",
   "metadata": {},
   "outputs": [
    {
     "data": {
      "text/html": [
       "<div>\n",
       "<style scoped>\n",
       "    .dataframe tbody tr th:only-of-type {\n",
       "        vertical-align: middle;\n",
       "    }\n",
       "\n",
       "    .dataframe tbody tr th {\n",
       "        vertical-align: top;\n",
       "    }\n",
       "\n",
       "    .dataframe thead th {\n",
       "        text-align: right;\n",
       "    }\n",
       "</style>\n",
       "<table border=\"1\" class=\"dataframe\">\n",
       "  <thead>\n",
       "    <tr style=\"text-align: right;\">\n",
       "      <th></th>\n",
       "      <th>Edad</th>\n",
       "      <th>Ingresos</th>\n",
       "      <th>cluster</th>\n",
       "    </tr>\n",
       "  </thead>\n",
       "  <tbody>\n",
       "    <tr>\n",
       "      <th>0</th>\n",
       "      <td>0.058824</td>\n",
       "      <td>0.213675</td>\n",
       "      <td>2</td>\n",
       "    </tr>\n",
       "    <tr>\n",
       "      <th>1</th>\n",
       "      <td>0.176471</td>\n",
       "      <td>0.384615</td>\n",
       "      <td>2</td>\n",
       "    </tr>\n",
       "    <tr>\n",
       "      <th>2</th>\n",
       "      <td>0.235294</td>\n",
       "      <td>0.136752</td>\n",
       "      <td>0</td>\n",
       "    </tr>\n",
       "    <tr>\n",
       "      <th>3</th>\n",
       "      <td>0.235294</td>\n",
       "      <td>0.128205</td>\n",
       "      <td>0</td>\n",
       "    </tr>\n",
       "    <tr>\n",
       "      <th>4</th>\n",
       "      <td>0.117647</td>\n",
       "      <td>0.897436</td>\n",
       "      <td>1</td>\n",
       "    </tr>\n",
       "  </tbody>\n",
       "</table>\n",
       "</div>"
      ],
      "text/plain": [
       "       Edad  Ingresos  cluster\n",
       "0  0.058824  0.213675        2\n",
       "1  0.176471  0.384615        2\n",
       "2  0.235294  0.136752        0\n",
       "3  0.235294  0.128205        0\n",
       "4  0.117647  0.897436        1"
      ]
     },
     "execution_count": 191,
     "metadata": {},
     "output_type": "execute_result"
    }
   ],
   "source": [
    "dtincometmp = pd.DataFrame(dtincometmp)\n",
    "dtincometmp['cluster']= cluster_tmp\n",
    "dtincometmp.columns = ['Edad', 'Ingresos', 'cluster']\n",
    "dtincometmp.head()"
   ]
  },
  {
   "cell_type": "code",
   "execution_count": 192,
   "id": "e6104867-4207-4ae3-808e-2fafa842bfaa",
   "metadata": {},
   "outputs": [
    {
     "data": {
      "text/plain": [
       "array([1, 1, 1, 1, 2, 2, 2, 2, 2, 2, 2, 1, 1, 1, 1, 0, 0, 0, 0, 0, 0, 0])"
      ]
     },
     "execution_count": 192,
     "metadata": {},
     "output_type": "execute_result"
    }
   ],
   "source": [
    "y_predict = Km.fit_predict(dtincometmp[['Edad','Ingresos']])\n",
    "y_predict"
   ]
  },
  {
   "cell_type": "code",
   "execution_count": 193,
   "id": "36518ba4-6e16-45eb-beeb-0f58a634779c",
   "metadata": {},
   "outputs": [
    {
     "data": {
      "text/html": [
       "<div>\n",
       "<style scoped>\n",
       "    .dataframe tbody tr th:only-of-type {\n",
       "        vertical-align: middle;\n",
       "    }\n",
       "\n",
       "    .dataframe tbody tr th {\n",
       "        vertical-align: top;\n",
       "    }\n",
       "\n",
       "    .dataframe thead th {\n",
       "        text-align: right;\n",
       "    }\n",
       "</style>\n",
       "<table border=\"1\" class=\"dataframe\">\n",
       "  <thead>\n",
       "    <tr style=\"text-align: right;\">\n",
       "      <th></th>\n",
       "      <th>Edad</th>\n",
       "      <th>Ingresos</th>\n",
       "      <th>cluster</th>\n",
       "    </tr>\n",
       "  </thead>\n",
       "  <tbody>\n",
       "    <tr>\n",
       "      <th>0</th>\n",
       "      <td>0.058824</td>\n",
       "      <td>0.213675</td>\n",
       "      <td>2</td>\n",
       "    </tr>\n",
       "    <tr>\n",
       "      <th>1</th>\n",
       "      <td>0.176471</td>\n",
       "      <td>0.384615</td>\n",
       "      <td>2</td>\n",
       "    </tr>\n",
       "    <tr>\n",
       "      <th>2</th>\n",
       "      <td>0.235294</td>\n",
       "      <td>0.136752</td>\n",
       "      <td>0</td>\n",
       "    </tr>\n",
       "    <tr>\n",
       "      <th>3</th>\n",
       "      <td>0.235294</td>\n",
       "      <td>0.128205</td>\n",
       "      <td>0</td>\n",
       "    </tr>\n",
       "    <tr>\n",
       "      <th>4</th>\n",
       "      <td>0.117647</td>\n",
       "      <td>0.897436</td>\n",
       "      <td>1</td>\n",
       "    </tr>\n",
       "  </tbody>\n",
       "</table>\n",
       "</div>"
      ],
      "text/plain": [
       "       Edad  Ingresos  cluster\n",
       "0  0.058824  0.213675        2\n",
       "1  0.176471  0.384615        2\n",
       "2  0.235294  0.136752        0\n",
       "3  0.235294  0.128205        0\n",
       "4  0.117647  0.897436        1"
      ]
     },
     "execution_count": 193,
     "metadata": {},
     "output_type": "execute_result"
    }
   ],
   "source": [
    "dtincometmp.head()"
   ]
  },
  {
   "cell_type": "code",
   "execution_count": 194,
   "id": "60db0ce7-753d-42cc-9a9c-e05e65500a68",
   "metadata": {},
   "outputs": [
    {
     "data": {
      "text/plain": [
       "array([[0.8487395 , 0.18559219],\n",
       "       [0.16176471, 0.12446581],\n",
       "       [0.63865546, 0.92551893]])"
      ]
     },
     "execution_count": 194,
     "metadata": {},
     "output_type": "execute_result"
    }
   ],
   "source": [
    "Km.cluster_centers_"
   ]
  },
  {
   "cell_type": "code",
   "execution_count": null,
   "id": "4d622b53-3c5d-4e45-bdee-59f450a2b30c",
   "metadata": {},
   "outputs": [],
   "source": []
  },
  {
   "cell_type": "code",
   "execution_count": 197,
   "id": "8e824cdb-3245-42de-a12c-6d4d1f8df8f7",
   "metadata": {},
   "outputs": [
    {
     "data": {
      "image/png": "[encoded data removed]",
      "text/plain": [
       "<Figure size 432x288 with 1 Axes>"
      ]
     },
     "metadata": {
      "needs_background": "light"
     },
     "output_type": "display_data"
    }
   ],
   "source": [
    "\n",
    "dtincome1 = dtincometmp[dtincometmp.cluster==0]\n",
    "dtincome2 = dtincometmp[dtincometmp.cluster==1]\n",
    "dtincome3 = dtincometmp[dtincometmp.cluster==2]\n",
    "\n",
    "plt.scatter(dtincome1.Edad,dtincome1['Ingresos'], color='blue')\n",
    "plt.scatter(dtincome2.Edad,dtincome2['Ingresos'], color='red')\n",
    "plt.scatter(dtincome3.Edad,dtincome3['Ingresos'], color='orange')\n",
    "\n",
    "plt.scatter(Km.cluster_centers_[:,0], Km.cluster_centers_[:,1],color='green', marker='*', label='centroid')\n",
    "\n",
    "plt.xlabel('Edad')\n",
    "plt.ylabel('Ingresos')\n",
    "plt.legend(['Ingresos1', 'Ingresos2', 'Ingresos3', 'Centroid'])\n",
    "plt.show()"
   ]
  },
  {
   "cell_type": "code",
   "execution_count": 207,
   "id": "2db4eb7b-d989-4fcc-9287-e5b955c86d7e",
   "metadata": {},
   "outputs": [
    {
     "name": "stdout",
     "output_type": "stream",
     "text": [
      "[5.525389416115616, 2.560431995309114, 0.7845943586533373, 0.4669828770073131, 0.34224903629145353, 0.2556909295626654, 0.18225133115301106, 0.140514939802566, 0.11898425355712505]\n"
     ]
    },
    {
     "data": {
      "text/plain": [
       "[<matplotlib.lines.Line2D at 0x21a6f8b0>]"
      ]
     },
     "execution_count": 207,
     "metadata": {},
     "output_type": "execute_result"
    },
    {
     "data": {
      "image/png": "[encoded data removed]",
      "text/plain": [
       "<Figure size 432x288 with 1 Axes>"
      ]
     },
     "metadata": {
      "needs_background": "light"
     },
     "output_type": "display_data"
    }
   ],
   "source": [
    "sse=[]\n",
    "no_of_cluster = []\n",
    "\n",
    "for i in range(1,10): \n",
    "    km = KMeans(n_clusters=i)\n",
    "    cluster_predicted = km.fit(dtincometmp[['Edad', 'Ingresos']])\n",
    "    no_of_cluster.append(i) \n",
    "    sse.append(cluster_predicted.inertia_)\n",
    "print(sse)\n",
    "plt.plot(no_of_cluster, sse)"
   ]
  },
  {
   "cell_type": "code",
   "execution_count": null,
   "id": "787c8887-ee79-4127-b8f8-c32fac95c45a",
   "metadata": {},
   "outputs": [],
   "source": []
  },
  {
   "cell_type": "code",
   "execution_count": null,
   "id": "fc9dad1a-c44e-4d7a-a92a-5453bd523e20",
   "metadata": {},
   "outputs": [],
   "source": []
  },
  {
   "cell_type": "code",
   "execution_count": null,
   "id": "99d08187-64bd-418c-890d-d06af1c4f4bb",
   "metadata": {},
   "outputs": [],
   "source": []
  }
 ],
 "metadata": {
  "kernelspec": {
   "display_name": "Python 3 (ipykernel)",
   "language": "python",
   "name": "python3"
  },
  "language_info": {
   "codemirror_mode": {
    "name": "ipython",
    "version": 3
   },
   "file_extension": ".py",
   "mimetype": "text/x-python",
   "name": "python",
   "nbconvert_exporter": "python",
   "pygments_lexer": "ipython3",
   "version": "3.8.2"
  }
 },
 "nbformat": 4,
 "nbformat_minor": 5
}
