{
 "cells": [
  {
   "cell_type": "code",
   "execution_count": 46,
   "id": "c8eb2559-d2e4-4133-ad6b-77ff4e28eba4",
   "metadata": {},
   "outputs": [
    {
     "data": {
      "text/html": [
       "<div>\n",
       "<style scoped>\n",
       "    .dataframe tbody tr th:only-of-type {\n",
       "        vertical-align: middle;\n",
       "    }\n",
       "\n",
       "    .dataframe tbody tr th {\n",
       "        vertical-align: top;\n",
       "    }\n",
       "\n",
       "    .dataframe thead th {\n",
       "        text-align: right;\n",
       "    }\n",
       "</style>\n",
       "<table border=\"1\" class=\"dataframe\">\n",
       "  <thead>\n",
       "    <tr style=\"text-align: right;\">\n",
       "      <th></th>\n",
       "      <th>sepal_length</th>\n",
       "      <th>sepal_width</th>\n",
       "      <th>petal_length</th>\n",
       "      <th>petal_width</th>\n",
       "      <th>species</th>\n",
       "    </tr>\n",
       "  </thead>\n",
       "  <tbody>\n",
       "    <tr>\n",
       "      <th>0</th>\n",
       "      <td>5.1</td>\n",
       "      <td>3.5</td>\n",
       "      <td>1.4</td>\n",
       "      <td>0.2</td>\n",
       "      <td>Iris-setosa</td>\n",
       "    </tr>\n",
       "    <tr>\n",
       "      <th>1</th>\n",
       "      <td>4.9</td>\n",
       "      <td>3.0</td>\n",
       "      <td>1.4</td>\n",
       "      <td>0.2</td>\n",
       "      <td>Iris-setosa</td>\n",
       "    </tr>\n",
       "    <tr>\n",
       "      <th>2</th>\n",
       "      <td>4.7</td>\n",
       "      <td>3.2</td>\n",
       "      <td>1.3</td>\n",
       "      <td>0.2</td>\n",
       "      <td>Iris-setosa</td>\n",
       "    </tr>\n",
       "    <tr>\n",
       "      <th>3</th>\n",
       "      <td>4.6</td>\n",
       "      <td>3.1</td>\n",
       "      <td>1.5</td>\n",
       "      <td>0.2</td>\n",
       "      <td>Iris-setosa</td>\n",
       "    </tr>\n",
       "    <tr>\n",
       "      <th>4</th>\n",
       "      <td>5.0</td>\n",
       "      <td>3.6</td>\n",
       "      <td>1.4</td>\n",
       "      <td>0.2</td>\n",
       "      <td>Iris-setosa</td>\n",
       "    </tr>\n",
       "  </tbody>\n",
       "</table>\n",
       "</div>"
      ],
      "text/plain": [
       "   sepal_length  sepal_width  petal_length  petal_width      species\n",
       "0           5.1          3.5           1.4          0.2  Iris-setosa\n",
       "1           4.9          3.0           1.4          0.2  Iris-setosa\n",
       "2           4.7          3.2           1.3          0.2  Iris-setosa\n",
       "3           4.6          3.1           1.5          0.2  Iris-setosa\n",
       "4           5.0          3.6           1.4          0.2  Iris-setosa"
      ]
     },
     "execution_count": 46,
     "metadata": {},
     "output_type": "execute_result"
    }
   ],
   "source": [
    "import pandas as pd\n",
    "#se define un data frame para cargar el archivo que contiene los datos de entrenamiento\n",
    "dtflowers = pd.read_csv(\"/UCordoba/Machine Learning/Data/IRIS.csv\")\n",
    "#se muestra el dataframe\n",
    "dtflowers.head()"
   ]
  },
  {
   "cell_type": "code",
   "execution_count": 47,
   "id": "bdbd4383-31d5-418f-9847-797bb0b18b69",
   "metadata": {},
   "outputs": [],
   "source": [
    "#Se reemplazará el valor de las especies de flores, donde 0 corresponde a setosa, 1 a virginica y 2 a versicolor\n",
    "dtflowers=dtflowers.replace(to_replace =\"Iris-setosa\", value =\"0\")\n",
    "dtflowers=dtflowers.replace(to_replace =\"Iris-virginica\", value =\"1\")\n",
    "dtflowers=dtflowers.replace(to_replace =\"Iris-versicolor\", value =\"2\")"
   ]
  },
  {
   "cell_type": "code",
   "execution_count": 48,
   "id": "31cbe2e8-f346-44b5-b55c-10591b1eda49",
   "metadata": {},
   "outputs": [
    {
     "data": {
      "text/plain": [
       "Index(['sepal_length', 'sepal_width', 'petal_length', 'petal_width',\n",
       "       'species'],\n",
       "      dtype='object')"
      ]
     },
     "execution_count": 48,
     "metadata": {},
     "output_type": "execute_result"
    }
   ],
   "source": [
    "#permite mostrar el nombre de las columnas \n",
    "col_names=dtflowers.columns\n",
    "col_names"
   ]
  },
  {
   "cell_type": "code",
   "execution_count": 49,
   "id": "2c71fe9f-7f79-4273-8fd0-e771794fc579",
   "metadata": {},
   "outputs": [],
   "source": [
    "dtflowers.columns=dtflowers.columns.str.strip()"
   ]
  },
  {
   "cell_type": "code",
   "execution_count": 50,
   "id": "48bab655-77b6-4f5c-89a5-867b10d56bae",
   "metadata": {},
   "outputs": [
    {
     "data": {
      "text/plain": [
       "Index(['sepal_length', 'sepal_width', 'petal_length', 'petal_width',\n",
       "       'species'],\n",
       "      dtype='object')"
      ]
     },
     "execution_count": 50,
     "metadata": {},
     "output_type": "execute_result"
    }
   ],
   "source": [
    "dtflowers.columns"
   ]
  },
  {
   "cell_type": "code",
   "execution_count": 51,
   "id": "f93f662b-c1ca-43fd-b13c-19d56310dcbd",
   "metadata": {},
   "outputs": [],
   "source": [
    "#Se renombra la columna specie por target_class, las demás columnas quedan iguales.\n",
    "dtflowers.columns=['sepal_length', 'sepal_width', 'petal_length', 'petal_width','target_class']"
   ]
  },
  {
   "cell_type": "code",
   "execution_count": 52,
   "id": "4ba03e11-dc8f-468f-a686-b4cc25af7f5d",
   "metadata": {},
   "outputs": [
    {
     "data": {
      "text/html": [
       "<div>\n",
       "<style scoped>\n",
       "    .dataframe tbody tr th:only-of-type {\n",
       "        vertical-align: middle;\n",
       "    }\n",
       "\n",
       "    .dataframe tbody tr th {\n",
       "        vertical-align: top;\n",
       "    }\n",
       "\n",
       "    .dataframe thead th {\n",
       "        text-align: right;\n",
       "    }\n",
       "</style>\n",
       "<table border=\"1\" class=\"dataframe\">\n",
       "  <thead>\n",
       "    <tr style=\"text-align: right;\">\n",
       "      <th></th>\n",
       "      <th>sepal_length</th>\n",
       "      <th>sepal_width</th>\n",
       "      <th>petal_length</th>\n",
       "      <th>petal_width</th>\n",
       "      <th>target_class</th>\n",
       "    </tr>\n",
       "  </thead>\n",
       "  <tbody>\n",
       "    <tr>\n",
       "      <th>0</th>\n",
       "      <td>5.1</td>\n",
       "      <td>3.5</td>\n",
       "      <td>1.4</td>\n",
       "      <td>0.2</td>\n",
       "      <td>0</td>\n",
       "    </tr>\n",
       "    <tr>\n",
       "      <th>1</th>\n",
       "      <td>4.9</td>\n",
       "      <td>3.0</td>\n",
       "      <td>1.4</td>\n",
       "      <td>0.2</td>\n",
       "      <td>0</td>\n",
       "    </tr>\n",
       "    <tr>\n",
       "      <th>2</th>\n",
       "      <td>4.7</td>\n",
       "      <td>3.2</td>\n",
       "      <td>1.3</td>\n",
       "      <td>0.2</td>\n",
       "      <td>0</td>\n",
       "    </tr>\n",
       "    <tr>\n",
       "      <th>3</th>\n",
       "      <td>4.6</td>\n",
       "      <td>3.1</td>\n",
       "      <td>1.5</td>\n",
       "      <td>0.2</td>\n",
       "      <td>0</td>\n",
       "    </tr>\n",
       "    <tr>\n",
       "      <th>4</th>\n",
       "      <td>5.0</td>\n",
       "      <td>3.6</td>\n",
       "      <td>1.4</td>\n",
       "      <td>0.2</td>\n",
       "      <td>0</td>\n",
       "    </tr>\n",
       "  </tbody>\n",
       "</table>\n",
       "</div>"
      ],
      "text/plain": [
       "   sepal_length  sepal_width  petal_length  petal_width target_class\n",
       "0           5.1          3.5           1.4          0.2            0\n",
       "1           4.9          3.0           1.4          0.2            0\n",
       "2           4.7          3.2           1.3          0.2            0\n",
       "3           4.6          3.1           1.5          0.2            0\n",
       "4           5.0          3.6           1.4          0.2            0"
      ]
     },
     "execution_count": 52,
     "metadata": {},
     "output_type": "execute_result"
    }
   ],
   "source": [
    "#Se muestran las columnas con los nombres actualizados.\n",
    "dtflowers.head()"
   ]
  },
  {
   "cell_type": "code",
   "execution_count": 53,
   "id": "e04e231e-916e-46cc-81af-3a555ef76839",
   "metadata": {},
   "outputs": [
    {
     "data": {
      "text/plain": [
       "Index(['sepal_length', 'sepal_width', 'petal_length', 'petal_width',\n",
       "       'target_class'],\n",
       "      dtype='object')"
      ]
     },
     "execution_count": 53,
     "metadata": {},
     "output_type": "execute_result"
    }
   ],
   "source": [
    "dtflowers.columns"
   ]
  },
  {
   "cell_type": "code",
   "execution_count": 54,
   "id": "c8143f37-b3a6-43d7-aa96-1b85956350f9",
   "metadata": {},
   "outputs": [
    {
     "data": {
      "text/plain": [
       "target_class\n",
       "0    50\n",
       "2    50\n",
       "1    50\n",
       "Name: count, dtype: int64"
      ]
     },
     "execution_count": 54,
     "metadata": {},
     "output_type": "execute_result"
    }
   ],
   "source": [
    "#Se visualizan el número de especies por cada clase de flores\n",
    "dtflowers['target_class'].value_counts()"
   ]
  },
  {
   "cell_type": "code",
   "execution_count": 55,
   "id": "341bf139-1bb5-45f1-b039-ff12c89178f1",
   "metadata": {},
   "outputs": [
    {
     "name": "stdout",
     "output_type": "stream",
     "text": [
      "<class 'pandas.core.frame.DataFrame'>\n",
      "RangeIndex: 150 entries, 0 to 149\n",
      "Data columns (total 5 columns):\n",
      " #   Column        Non-Null Count  Dtype  \n",
      "---  ------        --------------  -----  \n",
      " 0   sepal_length  150 non-null    float64\n",
      " 1   sepal_width   150 non-null    float64\n",
      " 2   petal_length  150 non-null    float64\n",
      " 3   petal_width   150 non-null    float64\n",
      " 4   target_class  150 non-null    object \n",
      "dtypes: float64(4), object(1)\n",
      "memory usage: 6.0+ KB\n"
     ]
    }
   ],
   "source": [
    "#Permite viusalizar información del dataframe\n",
    "dtflowers.info()"
   ]
  },
  {
   "cell_type": "code",
   "execution_count": 56,
   "id": "c571834e-fba9-469e-a3f6-4080728c83b6",
   "metadata": {},
   "outputs": [
    {
     "data": {
      "text/plain": [
       "sepal_length    0\n",
       "sepal_width     0\n",
       "petal_length    0\n",
       "petal_width     0\n",
       "target_class    0\n",
       "dtype: int64"
      ]
     },
     "execution_count": 56,
     "metadata": {},
     "output_type": "execute_result"
    }
   ],
   "source": [
    "#Se muestran los datos vacios o nulos en el dataframe\n",
    "dtflowers.isnull().sum()"
   ]
  },
  {
   "cell_type": "code",
   "execution_count": 57,
   "id": "06cfc68b-6f4c-451d-a390-98d3adebc16d",
   "metadata": {},
   "outputs": [
    {
     "data": {
      "text/html": [
       "<div>\n",
       "<style scoped>\n",
       "    .dataframe tbody tr th:only-of-type {\n",
       "        vertical-align: middle;\n",
       "    }\n",
       "\n",
       "    .dataframe tbody tr th {\n",
       "        vertical-align: top;\n",
       "    }\n",
       "\n",
       "    .dataframe thead th {\n",
       "        text-align: right;\n",
       "    }\n",
       "</style>\n",
       "<table border=\"1\" class=\"dataframe\">\n",
       "  <thead>\n",
       "    <tr style=\"text-align: right;\">\n",
       "      <th></th>\n",
       "      <th>sepal_length</th>\n",
       "      <th>sepal_width</th>\n",
       "      <th>petal_length</th>\n",
       "      <th>petal_width</th>\n",
       "    </tr>\n",
       "  </thead>\n",
       "  <tbody>\n",
       "    <tr>\n",
       "      <th>count</th>\n",
       "      <td>150.00</td>\n",
       "      <td>150.00</td>\n",
       "      <td>150.00</td>\n",
       "      <td>150.00</td>\n",
       "    </tr>\n",
       "    <tr>\n",
       "      <th>mean</th>\n",
       "      <td>5.84</td>\n",
       "      <td>3.05</td>\n",
       "      <td>3.76</td>\n",
       "      <td>1.20</td>\n",
       "    </tr>\n",
       "    <tr>\n",
       "      <th>std</th>\n",
       "      <td>0.83</td>\n",
       "      <td>0.43</td>\n",
       "      <td>1.76</td>\n",
       "      <td>0.76</td>\n",
       "    </tr>\n",
       "    <tr>\n",
       "      <th>min</th>\n",
       "      <td>4.30</td>\n",
       "      <td>2.00</td>\n",
       "      <td>1.00</td>\n",
       "      <td>0.10</td>\n",
       "    </tr>\n",
       "    <tr>\n",
       "      <th>25%</th>\n",
       "      <td>5.10</td>\n",
       "      <td>2.80</td>\n",
       "      <td>1.60</td>\n",
       "      <td>0.30</td>\n",
       "    </tr>\n",
       "    <tr>\n",
       "      <th>50%</th>\n",
       "      <td>5.80</td>\n",
       "      <td>3.00</td>\n",
       "      <td>4.35</td>\n",
       "      <td>1.30</td>\n",
       "    </tr>\n",
       "    <tr>\n",
       "      <th>75%</th>\n",
       "      <td>6.40</td>\n",
       "      <td>3.30</td>\n",
       "      <td>5.10</td>\n",
       "      <td>1.80</td>\n",
       "    </tr>\n",
       "    <tr>\n",
       "      <th>max</th>\n",
       "      <td>7.90</td>\n",
       "      <td>4.40</td>\n",
       "      <td>6.90</td>\n",
       "      <td>2.50</td>\n",
       "    </tr>\n",
       "  </tbody>\n",
       "</table>\n",
       "</div>"
      ],
      "text/plain": [
       "       sepal_length  sepal_width  petal_length  petal_width\n",
       "count        150.00       150.00        150.00       150.00\n",
       "mean           5.84         3.05          3.76         1.20\n",
       "std            0.83         0.43          1.76         0.76\n",
       "min            4.30         2.00          1.00         0.10\n",
       "25%            5.10         2.80          1.60         0.30\n",
       "50%            5.80         3.00          4.35         1.30\n",
       "75%            6.40         3.30          5.10         1.80\n",
       "max            7.90         4.40          6.90         2.50"
      ]
     },
     "execution_count": 57,
     "metadata": {},
     "output_type": "execute_result"
    }
   ],
   "source": [
    "#permite mostrar estadísticas del resumen de las variables numéricas\n",
    "round(dtflowers.describe(),2)"
   ]
  },
  {
   "cell_type": "code",
   "execution_count": 58,
   "id": "d3408e9d-a404-4e5e-88c7-501c345d2097",
   "metadata": {},
   "outputs": [
    {
     "data": {
      "text/plain": [
       "Text(0, 0.5, 'petal_width')"
      ]
     },
     "execution_count": 58,
     "metadata": {},
     "output_type": "execute_result"
    },
    {
     "data": {
      "image/png": "[encoded data removed]",
      "text/plain": [
       "<Figure size 2400x2000 with 4 Axes>"
      ]
     },
     "metadata": {},
     "output_type": "display_data"
    }
   ],
   "source": [
    "# se muestran en figuras los valores atípicos\n",
    "import matplotlib.pyplot as plt\n",
    "plt.figure(figsize=(24,20))\n",
    "\n",
    "\n",
    "plt.subplot(4, 2, 1)\n",
    "fig = dtflowers.boxplot(column='sepal_length')\n",
    "fig.set_title('')\n",
    "fig.set_ylabel('sepal_length')\n",
    "\n",
    "\n",
    "plt.subplot(4, 2, 2)\n",
    "fig = dtflowers.boxplot(column='sepal_width')\n",
    "fig.set_title('')\n",
    "fig.set_ylabel('sepal_width')\n",
    "\n",
    "\n",
    "plt.subplot(4, 2, 3)\n",
    "fig = dtflowers.boxplot(column='petal_length')\n",
    "fig.set_title('')\n",
    "fig.set_ylabel('petal_length')\n",
    "\n",
    "\n",
    "plt.subplot(4, 2, 4)\n",
    "fig = dtflowers.boxplot(column='petal_width')\n",
    "fig.set_title('')\n",
    "fig.set_ylabel('petal_width')\n"
   ]
  },
  {
   "cell_type": "code",
   "execution_count": 59,
   "id": "caa70849-5ecf-4ff7-be25-325f23fc0b71",
   "metadata": {},
   "outputs": [
    {
     "data": {
      "text/plain": [
       "Text(0, 0.5, 'Número de flores')"
      ]
     },
     "execution_count": 59,
     "metadata": {},
     "output_type": "execute_result"
    },
    {
     "data": {
      "image/png": "[encoded data removed]",
      "text/plain": [
       "<Figure size 2400x2000 with 4 Axes>"
      ]
     },
     "metadata": {},
     "output_type": "display_data"
    }
   ],
   "source": [
    "#Histograma para verificar la distribución\n",
    "plt.figure(figsize=(24,20))\n",
    "\n",
    "\n",
    "plt.subplot(4, 2, 1)\n",
    "fig = dtflowers['sepal_length'].hist(bins=20)\n",
    "fig.set_xlabel('sepal_length')\n",
    "fig.set_ylabel('Número de flores')\n",
    "\n",
    "\n",
    "plt.subplot(4, 2, 2)\n",
    "fig = dtflowers['sepal_width'].hist(bins=20)\n",
    "fig.set_xlabel('sepal_width')\n",
    "fig.set_ylabel('Número de flores')\n",
    "\n",
    "\n",
    "plt.subplot(4, 2, 3)\n",
    "fig = dtflowers['petal_length'].hist(bins=20)\n",
    "fig.set_xlabel('petal_length')\n",
    "fig.set_ylabel('Número de flores')\n",
    "\n",
    "\n",
    "\n",
    "plt.subplot(4, 2, 4)\n",
    "fig = dtflowers['petal_width'].hist(bins=20)\n",
    "fig.set_xlabel('petal_width')\n",
    "fig.set_ylabel('Número de flores')\n"
   ]
  },
  {
   "cell_type": "code",
   "execution_count": 60,
   "id": "b42f804f-c15a-4328-9e71-e1aaa34dbec9",
   "metadata": {},
   "outputs": [],
   "source": [
    "#Se crean unos dataframe temporales de acuerdo a cada especie para visualizarlo en un diagrama de dispersión\n",
    "df0=dtflowers[dtflowers.target_class=='0']\n",
    "df1=dtflowers[dtflowers.target_class=='1']\n",
    "df2=dtflowers[dtflowers.target_class=='2']\n"
   ]
  },
  {
   "cell_type": "code",
   "execution_count": 61,
   "id": "2eb38602-ca02-4749-a0cc-21732f5c2e54",
   "metadata": {},
   "outputs": [
    {
     "data": {
      "text/plain": [
       "<matplotlib.collections.PathCollection at 0x14017009310>"
      ]
     },
     "execution_count": 61,
     "metadata": {},
     "output_type": "execute_result"
    },
    {
     "data": {
      "image/png": "[encoded data removed]",
      "text/plain": [
       "<Figure size 640x480 with 1 Axes>"
      ]
     },
     "metadata": {},
     "output_type": "display_data"
    }
   ],
   "source": [
    "#Visualización del diagrama de dispersión\n",
    "plt.xlabel('sepal_length in cm')\n",
    "plt.ylabel('sepal_width in cm')\n",
    "plt.scatter(df0['sepal_length'],df0['sepal_width'], color='green',marker='*')\n",
    "plt.scatter(df1['sepal_length'],df1['sepal_width'], color='blue',marker='+')\n",
    "#plt.scatter(df0['petal_length'],df0['petal_length'], color='green',marker='*')\n",
    "#plt.scatter(df1['petal_width'],df1['petal_width'], color='blue',marker='+')\n"
   ]
  },
  {
   "cell_type": "code",
   "execution_count": 62,
   "id": "7e7b74b9-494e-4d96-aa20-3c5dbe521e15",
   "metadata": {},
   "outputs": [],
   "source": [
    "#Se almacena en la variable inputs la variables independientes y en mytarget la variable dependiente\n",
    "inputs_X=dtflowers.drop('target_class', axis='columns')\n",
    "mytarget_y=dtflowers['target_class']"
   ]
  },
  {
   "cell_type": "code",
   "execution_count": 63,
   "id": "9ec9a438-4afc-4a1c-9b1e-dabf65f7a7b9",
   "metadata": {},
   "outputs": [
    {
     "data": {
      "text/html": [
       "<div>\n",
       "<style scoped>\n",
       "    .dataframe tbody tr th:only-of-type {\n",
       "        vertical-align: middle;\n",
       "    }\n",
       "\n",
       "    .dataframe tbody tr th {\n",
       "        vertical-align: top;\n",
       "    }\n",
       "\n",
       "    .dataframe thead th {\n",
       "        text-align: right;\n",
       "    }\n",
       "</style>\n",
       "<table border=\"1\" class=\"dataframe\">\n",
       "  <thead>\n",
       "    <tr style=\"text-align: right;\">\n",
       "      <th></th>\n",
       "      <th>sepal_length</th>\n",
       "      <th>sepal_width</th>\n",
       "      <th>petal_length</th>\n",
       "      <th>petal_width</th>\n",
       "    </tr>\n",
       "  </thead>\n",
       "  <tbody>\n",
       "    <tr>\n",
       "      <th>0</th>\n",
       "      <td>5.1</td>\n",
       "      <td>3.5</td>\n",
       "      <td>1.4</td>\n",
       "      <td>0.2</td>\n",
       "    </tr>\n",
       "    <tr>\n",
       "      <th>1</th>\n",
       "      <td>4.9</td>\n",
       "      <td>3.0</td>\n",
       "      <td>1.4</td>\n",
       "      <td>0.2</td>\n",
       "    </tr>\n",
       "    <tr>\n",
       "      <th>2</th>\n",
       "      <td>4.7</td>\n",
       "      <td>3.2</td>\n",
       "      <td>1.3</td>\n",
       "      <td>0.2</td>\n",
       "    </tr>\n",
       "    <tr>\n",
       "      <th>3</th>\n",
       "      <td>4.6</td>\n",
       "      <td>3.1</td>\n",
       "      <td>1.5</td>\n",
       "      <td>0.2</td>\n",
       "    </tr>\n",
       "    <tr>\n",
       "      <th>4</th>\n",
       "      <td>5.0</td>\n",
       "      <td>3.6</td>\n",
       "      <td>1.4</td>\n",
       "      <td>0.2</td>\n",
       "    </tr>\n",
       "    <tr>\n",
       "      <th>...</th>\n",
       "      <td>...</td>\n",
       "      <td>...</td>\n",
       "      <td>...</td>\n",
       "      <td>...</td>\n",
       "    </tr>\n",
       "    <tr>\n",
       "      <th>145</th>\n",
       "      <td>6.7</td>\n",
       "      <td>3.0</td>\n",
       "      <td>5.2</td>\n",
       "      <td>2.3</td>\n",
       "    </tr>\n",
       "    <tr>\n",
       "      <th>146</th>\n",
       "      <td>6.3</td>\n",
       "      <td>2.5</td>\n",
       "      <td>5.0</td>\n",
       "      <td>1.9</td>\n",
       "    </tr>\n",
       "    <tr>\n",
       "      <th>147</th>\n",
       "      <td>6.5</td>\n",
       "      <td>3.0</td>\n",
       "      <td>5.2</td>\n",
       "      <td>2.0</td>\n",
       "    </tr>\n",
       "    <tr>\n",
       "      <th>148</th>\n",
       "      <td>6.2</td>\n",
       "      <td>3.4</td>\n",
       "      <td>5.4</td>\n",
       "      <td>2.3</td>\n",
       "    </tr>\n",
       "    <tr>\n",
       "      <th>149</th>\n",
       "      <td>5.9</td>\n",
       "      <td>3.0</td>\n",
       "      <td>5.1</td>\n",
       "      <td>1.8</td>\n",
       "    </tr>\n",
       "  </tbody>\n",
       "</table>\n",
       "<p>150 rows × 4 columns</p>\n",
       "</div>"
      ],
      "text/plain": [
       "     sepal_length  sepal_width  petal_length  petal_width\n",
       "0             5.1          3.5           1.4          0.2\n",
       "1             4.9          3.0           1.4          0.2\n",
       "2             4.7          3.2           1.3          0.2\n",
       "3             4.6          3.1           1.5          0.2\n",
       "4             5.0          3.6           1.4          0.2\n",
       "..            ...          ...           ...          ...\n",
       "145           6.7          3.0           5.2          2.3\n",
       "146           6.3          2.5           5.0          1.9\n",
       "147           6.5          3.0           5.2          2.0\n",
       "148           6.2          3.4           5.4          2.3\n",
       "149           5.9          3.0           5.1          1.8\n",
       "\n",
       "[150 rows x 4 columns]"
      ]
     },
     "execution_count": 63,
     "metadata": {},
     "output_type": "execute_result"
    }
   ],
   "source": [
    "#Variables independientes\n",
    "inputs_X"
   ]
  },
  {
   "cell_type": "code",
   "execution_count": 64,
   "id": "1c475e3f-c6c1-4b5c-98e1-feeb0510c85d",
   "metadata": {},
   "outputs": [
    {
     "data": {
      "text/plain": [
       "0      0\n",
       "1      0\n",
       "2      0\n",
       "3      0\n",
       "4      0\n",
       "      ..\n",
       "145    1\n",
       "146    1\n",
       "147    1\n",
       "148    1\n",
       "149    1\n",
       "Name: target_class, Length: 150, dtype: object"
      ]
     },
     "execution_count": 64,
     "metadata": {},
     "output_type": "execute_result"
    }
   ],
   "source": [
    "#Se viualiza la variable dependiente\n",
    "mytarget_y"
   ]
  },
  {
   "cell_type": "code",
   "execution_count": 65,
   "id": "5036bbbd-2054-4238-b163-81cc560edaac",
   "metadata": {},
   "outputs": [],
   "source": [
    "#A continuación se introducirán los datos de entrenamiento y de prueba\n",
    "from sklearn.model_selection import train_test_split\n",
    "\n",
    "X_train, X_test, y_train, y_test = train_test_split(inputs_X, mytarget_y, test_size = 0.2, random_state = 10)"
   ]
  },
  {
   "cell_type": "code",
   "execution_count": 66,
   "id": "27e85d23-18d4-44f5-93c0-6a01247a6446",
   "metadata": {},
   "outputs": [
    {
     "data": {
      "text/plain": [
       "((120, 4), (30, 4))"
      ]
     },
     "execution_count": 66,
     "metadata": {},
     "output_type": "execute_result"
    }
   ],
   "source": [
    "#Visualiza los datos de entrenamiento y el número de variables involucradas \n",
    "X_train.shape, X_test.shape"
   ]
  },
  {
   "cell_type": "code",
   "execution_count": 67,
   "id": "0ce20aa7-86f2-4588-bd51-9bef245aaea2",
   "metadata": {},
   "outputs": [],
   "source": [
    "#Permite conocer cuantas variables se van a utilizar\n",
    "cols=inputs_X.columns"
   ]
  },
  {
   "cell_type": "code",
   "execution_count": 68,
   "id": "d9569b01-dd0f-4131-a186-2756a843cadd",
   "metadata": {},
   "outputs": [],
   "source": [
    "from sklearn.preprocessing import StandardScaler\n",
    "\n",
    "scaler = StandardScaler()\n",
    "#scaler.fit_transform se utiliza para el ajuste  de parámetros iniciales de acuerdo al conjunto de datos de entrenamiento\n",
    "#además devuelve la trnasformada\n",
    "X_train = scaler.fit_transform(X_train)\n",
    "#scaler.transform se utiliza para para calcular la media y la desviación estándar en un conjunto de entrenamiento para poder volver a aplicar más tarde,\n",
    "#la misma transformación en el conjunto de prueba.\n",
    "X_test = scaler.transform(X_test)"
   ]
  },
  {
   "cell_type": "code",
   "execution_count": 69,
   "id": "0d644924-42c7-4cbf-a8ce-3e6ac0541e56",
   "metadata": {},
   "outputs": [],
   "source": [
    "#Se define a los datos de entrenamiento el número de columnas del dataframe que corresponden a las variables independientes\n",
    "X_train = pd.DataFrame(X_train, columns=[cols])\n"
   ]
  },
  {
   "cell_type": "code",
   "execution_count": 70,
   "id": "1c54a9a4-4a2f-42bb-85ec-bed415875680",
   "metadata": {},
   "outputs": [],
   "source": [
    "#Se define a los datos de prueba el número de columnas del dataframe que corresponden a las variables independientes\n",
    "X_test = pd.DataFrame(X_test, columns=[cols])"
   ]
  },
  {
   "cell_type": "code",
   "execution_count": 71,
   "id": "cff81a70-af55-45d6-9b8a-92c62a6580cc",
   "metadata": {},
   "outputs": [
    {
     "data": {
      "text/html": [
       "<div>\n",
       "<style scoped>\n",
       "    .dataframe tbody tr th:only-of-type {\n",
       "        vertical-align: middle;\n",
       "    }\n",
       "\n",
       "    .dataframe tbody tr th {\n",
       "        vertical-align: top;\n",
       "    }\n",
       "\n",
       "    .dataframe thead tr th {\n",
       "        text-align: left;\n",
       "    }\n",
       "</style>\n",
       "<table border=\"1\" class=\"dataframe\">\n",
       "  <thead>\n",
       "    <tr>\n",
       "      <th></th>\n",
       "      <th>sepal_length</th>\n",
       "      <th>sepal_width</th>\n",
       "      <th>petal_length</th>\n",
       "      <th>petal_width</th>\n",
       "    </tr>\n",
       "  </thead>\n",
       "  <tbody>\n",
       "    <tr>\n",
       "      <th>count</th>\n",
       "      <td>1.200000e+02</td>\n",
       "      <td>1.200000e+02</td>\n",
       "      <td>1.200000e+02</td>\n",
       "      <td>1.200000e+02</td>\n",
       "    </tr>\n",
       "    <tr>\n",
       "      <th>mean</th>\n",
       "      <td>-1.139829e-15</td>\n",
       "      <td>-1.073216e-15</td>\n",
       "      <td>1.776357e-16</td>\n",
       "      <td>-3.108624e-16</td>\n",
       "    </tr>\n",
       "    <tr>\n",
       "      <th>std</th>\n",
       "      <td>1.004193e+00</td>\n",
       "      <td>1.004193e+00</td>\n",
       "      <td>1.004193e+00</td>\n",
       "      <td>1.004193e+00</td>\n",
       "    </tr>\n",
       "    <tr>\n",
       "      <th>min</th>\n",
       "      <td>-1.873478e+00</td>\n",
       "      <td>-2.020670e+00</td>\n",
       "      <td>-1.565099e+00</td>\n",
       "      <td>-1.445568e+00</td>\n",
       "    </tr>\n",
       "    <tr>\n",
       "      <th>25%</th>\n",
       "      <td>-9.188396e-01</td>\n",
       "      <td>-6.244298e-01</td>\n",
       "      <td>-1.227511e+00</td>\n",
       "      <td>-1.186853e+00</td>\n",
       "    </tr>\n",
       "    <tr>\n",
       "      <th>50%</th>\n",
       "      <td>-8.353087e-02</td>\n",
       "      <td>-1.590163e-01</td>\n",
       "      <td>3.197717e-01</td>\n",
       "      <td>1.067198e-01</td>\n",
       "    </tr>\n",
       "    <tr>\n",
       "      <th>75%</th>\n",
       "      <td>7.517778e-01</td>\n",
       "      <td>5.391040e-01</td>\n",
       "      <td>7.417577e-01</td>\n",
       "      <td>7.535062e-01</td>\n",
       "    </tr>\n",
       "    <tr>\n",
       "      <th>max</th>\n",
       "      <td>2.422395e+00</td>\n",
       "      <td>3.098878e+00</td>\n",
       "      <td>1.754524e+00</td>\n",
       "      <td>1.659007e+00</td>\n",
       "    </tr>\n",
       "  </tbody>\n",
       "</table>\n",
       "</div>"
      ],
      "text/plain": [
       "       sepal_length   sepal_width  petal_length   petal_width\n",
       "count  1.200000e+02  1.200000e+02  1.200000e+02  1.200000e+02\n",
       "mean  -1.139829e-15 -1.073216e-15  1.776357e-16 -3.108624e-16\n",
       "std    1.004193e+00  1.004193e+00  1.004193e+00  1.004193e+00\n",
       "min   -1.873478e+00 -2.020670e+00 -1.565099e+00 -1.445568e+00\n",
       "25%   -9.188396e-01 -6.244298e-01 -1.227511e+00 -1.186853e+00\n",
       "50%   -8.353087e-02 -1.590163e-01  3.197717e-01  1.067198e-01\n",
       "75%    7.517778e-01  5.391040e-01  7.417577e-01  7.535062e-01\n",
       "max    2.422395e+00  3.098878e+00  1.754524e+00  1.659007e+00"
      ]
     },
     "execution_count": 71,
     "metadata": {},
     "output_type": "execute_result"
    }
   ],
   "source": [
    "#Visualiza las estadísticas del las diferentes variables independientes\n",
    "X_train.describe()"
   ]
  },
  {
   "cell_type": "code",
   "execution_count": 72,
   "id": "54ae73c1-a10a-4afa-9aaf-718929b89a0b",
   "metadata": {},
   "outputs": [
    {
     "name": "stdout",
     "output_type": "stream",
     "text": [
      "Puntuación de precisión del modelo con hiperparámetros predeterminados: 0.9667\n"
     ]
    }
   ],
   "source": [
    "\n",
    "# Se importa el clasificador SVC\n",
    "from sklearn.svm import SVC\n",
    "\n",
    "\n",
    "# Se importan las metricas para calcular la precisión\n",
    "from sklearn.metrics import accuracy_score\n",
    "\n",
    "\n",
    "#Se instancia el clasificador con hypermarametros por defecto\n",
    "svc=SVC() \n",
    "\n",
    "\n",
    "#Al clasificador se fijan los datos de entrenamiento\n",
    "svc.fit(X_train,y_train)\n",
    "\n",
    "\n",
    "# Se hacen las predicciones sobre los datos de prueba\n",
    "y_pred=svc.predict(X_test)\n",
    "\n",
    "\n",
    "# compute and print accuracy score\n",
    "# Se visualiza el computo y la precisión del puntaje\n",
    "print('Puntuación de precisión del modelo con hiperparámetros predeterminados: {0:0.4f}'. format(accuracy_score(y_test, y_pred)))"
   ]
  },
  {
   "cell_type": "code",
   "execution_count": 73,
   "id": "c3fe4783-4d5f-4027-989c-c86b5052b59a",
   "metadata": {},
   "outputs": [
    {
     "name": "stdout",
     "output_type": "stream",
     "text": [
      "Puntuación de precisión del modelo con kernel rbf y C=100.0 : 0.9333\n"
     ]
    }
   ],
   "source": [
    "# instanciación con clasificador con kernel rbf y C=100\n",
    "svc=SVC(C=100.0) \n",
    "\n",
    "# Se se establece los datos de entrenamiento\n",
    "svc.fit(X_train,y_train)\n",
    "\n",
    "# Se hace la predicción sobre el conjunto de datos de prueba\n",
    "y_pred=svc.predict(X_test)\n",
    "\n",
    "# Se imprime el puntaje de precisión de computo\n",
    "print('Puntuación de precisión del modelo con kernel rbf y C=100.0 : {0:0.4f}'. format(accuracy_score(y_test, y_pred)))"
   ]
  },
  {
   "cell_type": "code",
   "execution_count": 74,
   "id": "2f24296c-3bf5-4831-8fd0-4d1ff8da1e16",
   "metadata": {},
   "outputs": [
    {
     "name": "stdout",
     "output_type": "stream",
     "text": [
      "Puntuación de precisión del modelo con kernel rbf y C=1000.0 : 0.9667\n"
     ]
    }
   ],
   "source": [
    "# instanciación con clasificador con kernel rbf y C=1000\n",
    "svc=SVC(C=1000.0) \n",
    "\n",
    "\n",
    "# Se se establece los datos de entrenamiento\n",
    "svc.fit(X_train,y_train)\n",
    "\n",
    "\n",
    "# Se hace la predicción sobre el conjunto de datos de prueba\n",
    "y_pred=svc.predict(X_test)\n",
    "\n",
    "\n",
    "# Se imprime el puntaje de precisión de computo\n",
    "print('Puntuación de precisión del modelo con kernel rbf y C=1000.0 : {0:0.4f}'. format(accuracy_score(y_test, y_pred)))"
   ]
  },
  {
   "cell_type": "code",
   "execution_count": 75,
   "id": "36fd3fa3-119b-442c-a988-4b847f06b618",
   "metadata": {},
   "outputs": [
    {
     "name": "stdout",
     "output_type": "stream",
     "text": [
      "Puntuación de precisión del modelo con kernel lineal y C=1.0: 0.9667\n"
     ]
    }
   ],
   "source": [
    "# se instancia un clasificador con kernel lineal y C=1.0\n",
    "linear_svc=SVC(kernel='linear', C=1.0) \n",
    "\n",
    "\n",
    "# Se se establece los datos de entrenamiento\n",
    "linear_svc.fit(X_train,y_train)\n",
    "\n",
    "\n",
    "# Se hace la predicción sobre el conjunto de datos de prueba\n",
    "y_pred_test=linear_svc.predict(X_test)\n",
    "\n",
    "\n",
    "# Se imprime el puntaje de precisión de computo\n",
    "print('Puntuación de precisión del modelo con kernel lineal y C=1.0: {0:0.4f}'. format(accuracy_score(y_test, y_pred_test)))"
   ]
  },
  {
   "cell_type": "code",
   "execution_count": 76,
   "id": "4709db21-611d-4296-a19f-cff8ae9edba8",
   "metadata": {},
   "outputs": [
    {
     "name": "stdout",
     "output_type": "stream",
     "text": [
      "Puntuación de precisión del modelo con kernel lineal y C=100.0: 1.0000\n"
     ]
    }
   ],
   "source": [
    "# se instancia un clasificador con kernel lineal y C=100.0\n",
    "linear_svc100=SVC(kernel='linear', C=100.0) \n",
    "\n",
    "\n",
    "# Se se establece los datos de entrenamiento\n",
    "linear_svc100.fit(X_train, y_train)\n",
    "\n",
    "\n",
    "# Se hace la predicción sobre el conjunto de datos de prueba\n",
    "y_pred=linear_svc100.predict(X_test)\n",
    "\n",
    "\n",
    "# Se imprime el puntaje de precisión de computo\n",
    "print('Puntuación de precisión del modelo con kernel lineal y C=100.0: {0:0.4f}'. format(accuracy_score(y_test, y_pred)))"
   ]
  },
  {
   "cell_type": "code",
   "execution_count": 77,
   "id": "714a56ef-7c40-472f-a0fb-62048e0616c0",
   "metadata": {},
   "outputs": [
    {
     "name": "stdout",
     "output_type": "stream",
     "text": [
      "Puntuación de precisión del modelo con kernel lineal y C=1000.0: 1.0000\n"
     ]
    }
   ],
   "source": [
    "# se instancia un clasificador con kernel lineal y C=1000.0\n",
    "linear_svc1000=SVC(kernel='linear', C=1000.0) \n",
    "\n",
    "\n",
    "# Se se establece los datos de entrenamiento\n",
    "linear_svc1000.fit(X_train, y_train)\n",
    "\n",
    "\n",
    "# Se hace la predicción sobre el conjunto de datos de prueba\n",
    "y_pred=linear_svc1000.predict(X_test)\n",
    "\n",
    "\n",
    "# Se imprime el puntaje de precisión de computo\n",
    "print('Puntuación de precisión del modelo con kernel lineal y C=1000.0: {0:0.4f}'. format(accuracy_score(y_test, y_pred)))"
   ]
  },
  {
   "cell_type": "code",
   "execution_count": 78,
   "id": "8672452f-e251-4fce-8058-26e03bee1e0f",
   "metadata": {},
   "outputs": [
    {
     "data": {
      "text/plain": [
       "array(['2', '2', '1', '1', '1', '0', '1', '1', '1', '1', '0', '0', '2',\n",
       "       '0', '2', '0', '2', '1', '1', '1', '1', '1', '2', '2', '2', '0',\n",
       "       '0', '2', '0', '1', '0', '0', '1', '2', '1', '0', '1', '0', '2',\n",
       "       '1', '0', '1', '1', '1', '1', '1', '0', '2', '1', '2', '0', '1',\n",
       "       '2', '2', '0', '0', '0', '2', '1', '1', '2', '0', '0', '0', '1',\n",
       "       '1', '2', '2', '1', '1', '1', '1', '2', '0', '0', '2', '0', '0',\n",
       "       '1', '2', '0', '0', '0', '2', '0', '2', '0', '2', '1', '0', '2',\n",
       "       '2', '1', '0', '1', '0', '2', '1', '1', '1', '0', '2', '1', '1',\n",
       "       '2', '2', '1', '0', '1', '0', '0', '2', '0', '1', '1', '1', '2',\n",
       "       '0', '1', '0'], dtype=object)"
      ]
     },
     "execution_count": 78,
     "metadata": {},
     "output_type": "execute_result"
    }
   ],
   "source": [
    "#Se visuarlizarán los datos de entrenamiento\n",
    "y_pred_train = linear_svc.predict(X_train)\n",
    "\n",
    "y_pred_train"
   ]
  },
  {
   "cell_type": "code",
   "execution_count": 79,
   "id": "1e6d118c-8dd4-4ed3-bad8-ed11284692ce",
   "metadata": {},
   "outputs": [
    {
     "name": "stdout",
     "output_type": "stream",
     "text": [
      "Puntuación de precisión del conjunto de entrenamiento: 0.9667\n"
     ]
    }
   ],
   "source": [
    "print('Puntuación de precisión del conjunto de entrenamiento: {0:0.4f}'. format(accuracy_score(y_train, y_pred_train)))"
   ]
  },
  {
   "cell_type": "code",
   "execution_count": 80,
   "id": "abb216a1-7bcd-4296-ab79-121ec5fad701",
   "metadata": {},
   "outputs": [
    {
     "name": "stdout",
     "output_type": "stream",
     "text": [
      "Puntuación de datos de entrenamiento: 0.9667\n",
      "Puntuación de datos de prueba: 0.9667\n"
     ]
    }
   ],
   "source": [
    "# se imprime las puntuaciones en el conjunto de entrenamiento y prueba\n",
    "print('Puntuación de datos de entrenamiento: {:.4f}'.format(linear_svc.score(X_train, y_train)))\n",
    "\n",
    "print('Puntuación de datos de prueba: {:.4f}'.format(linear_svc.score(X_test, y_test)))"
   ]
  },
  {
   "cell_type": "code",
   "execution_count": 81,
   "id": "a3435182-e578-4d19-a8f3-a5b736ca279e",
   "metadata": {},
   "outputs": [
    {
     "data": {
      "text/plain": [
       "target_class\n",
       "2    13\n",
       "0    10\n",
       "1     7\n",
       "Name: count, dtype: int64"
      ]
     },
     "execution_count": 81,
     "metadata": {},
     "output_type": "execute_result"
    }
   ],
   "source": [
    "#Se comprueba  la distribución de clase en conjunto de datos de prueba\n",
    "y_test.value_counts()"
   ]
  },
  {
   "cell_type": "code",
   "execution_count": 82,
   "id": "f0c63b97-ec45-491b-8d21-d87f4e296102",
   "metadata": {},
   "outputs": [
    {
     "name": "stdout",
     "output_type": "stream",
     "text": [
      "Puntuación de precisión modelo con kernel polinomial y c = 1.0:  0.9667\n"
     ]
    }
   ],
   "source": [
    "# Se instancia el clasificador con kernel polinomial y c = 1.0\n",
    "poly_svc=SVC(kernel='poly', C=1.0) \n",
    "\n",
    "\n",
    "# Se se establece los datos de entrenamiento\n",
    "poly_svc.fit(X_train,y_train)\n",
    "\n",
    "\n",
    "# Se hace la predicción sobre el conjunto de datos de prueba\n",
    "y_pred=poly_svc.predict(X_test)\n",
    "\n",
    "\n",
    "# Se imprime el puntaje de precisión de computo\n",
    "print('Puntuación de precisión modelo con kernel polinomial y c = 1.0: {0: 0.4F}'. format(accuracy_score(y_test, y_pred)))"
   ]
  },
  {
   "cell_type": "code",
   "execution_count": 83,
   "id": "e40630f8-b67b-42d8-939b-4f9bf234b24f",
   "metadata": {},
   "outputs": [
    {
     "name": "stdout",
     "output_type": "stream",
     "text": [
      "Puntuación de precisión modelo con kernel polinomial y c = 1.0:  1.0000\n"
     ]
    }
   ],
   "source": [
    "# Se instancia el clasificador con kernel polinomial y c = 100.0\n",
    "poly_svc100=SVC(kernel='poly', C=100.0) \n",
    "\n",
    "\n",
    "# Se se establece los datos de entrenamiento\n",
    "poly_svc100.fit(X_train, y_train)\n",
    "\n",
    "\n",
    "# Se hace la predicción sobre el conjunto de datos de prueba\n",
    "y_pred=poly_svc100.predict(X_test)\n",
    "\n",
    "\n",
    "# Se imprime el puntaje de precisión de computo\n",
    "print('Puntuación de precisión modelo con kernel polinomial y c = 1.0: {0: 0.4F}'. format(accuracy_score(y_test, y_pred)))"
   ]
  },
  {
   "cell_type": "code",
   "execution_count": 84,
   "id": "8f461d60-2815-4a1d-8693-40ee6df41a95",
   "metadata": {},
   "outputs": [
    {
     "name": "stdout",
     "output_type": "stream",
     "text": [
      "Puntuación de precisión modelo con kernel sigmoideo y c = 1.0:  0.9000\n"
     ]
    }
   ],
   "source": [
    "#Instancia del clasificador con kernel sigmoid y c = 1.0\n",
    "sigmoid_svc=SVC(kernel='sigmoid', C=1.0) \n",
    "\n",
    "\n",
    "# Se se establece los datos de entrenamiento\n",
    "sigmoid_svc.fit(X_train,y_train)\n",
    "\n",
    "\n",
    "# Se hace la predicción sobre el conjunto de datos de prueba\n",
    "y_pred=sigmoid_svc.predict(X_test)\n",
    "\n",
    "\n",
    "# Se imprime el puntaje de precisión de computo\n",
    "print('Puntuación de precisión modelo con kernel sigmoideo y c = 1.0: {0: 0.4F}'. format(accuracy_score(y_test, y_pred)))"
   ]
  },
  {
   "cell_type": "code",
   "execution_count": 85,
   "id": "0105452b-b041-441b-a304-cbfc1e1446c3",
   "metadata": {},
   "outputs": [
    {
     "name": "stdout",
     "output_type": "stream",
     "text": [
      "Puntuación de precisión modelo con kernel sigmoideo y c = 1.0:  0.9000\n"
     ]
    }
   ],
   "source": [
    "#Instancia del clasificador con kernel sigmoid y c = 100.0\n",
    "sigmoid_svc100=SVC(kernel='sigmoid', C=100.0) \n",
    "\n",
    "\n",
    "# Se se establece los datos de entrenamiento\n",
    "sigmoid_svc100.fit(X_train,y_train)\n",
    "\n",
    "\n",
    "# Se hace la predicción sobre el conjunto de datos de prueba\n",
    "y_pred=sigmoid_svc100.predict(X_test)\n",
    "\n",
    "\n",
    "# Se imprime el puntaje de precisión de computo\n",
    "print('Puntuación de precisión modelo con kernel sigmoideo y c = 1.0: {0: 0.4F}'. format(accuracy_score(y_test, y_pred)))"
   ]
  },
  {
   "cell_type": "code",
   "execution_count": 86,
   "id": "ec402e73-3982-4e0f-88af-cddeb8a8288c",
   "metadata": {},
   "outputs": [
    {
     "data": {
      "text/plain": [
       "array([[10,  0,  0],\n",
       "       [ 0,  7,  0],\n",
       "       [ 0,  1, 12]], dtype=int64)"
      ]
     },
     "execution_count": 86,
     "metadata": {},
     "output_type": "execute_result"
    }
   ],
   "source": [
    "#Se vizualizará la matriz de confusión\n",
    "y_prediccion = svc.predict(X_test)\n",
    "from sklearn.metrics import confusion_matrix\n",
    "mconf= confusion_matrix(y_test,y_prediccion)\n",
    "mconf"
   ]
  },
  {
   "cell_type": "code",
   "execution_count": 87,
   "id": "48d5dff0-61ea-44d9-a77f-673be3c3e72c",
   "metadata": {},
   "outputs": [
    {
     "data": {
      "text/plain": [
       "Text(95.72222222222221, 0.5, 'Verdadero')"
      ]
     },
     "execution_count": 87,
     "metadata": {},
     "output_type": "execute_result"
    },
    {
     "data": {
      "image/png": "[encoded data removed]",
      "text/plain": [
       "<Figure size 1000x600 with 2 Axes>"
      ]
     },
     "metadata": {},
     "output_type": "display_data"
    }
   ],
   "source": [
    "#seaborn es una biblioteca para hacer gráficos estadísticos\n",
    "#Si tiene problemas para ejecutar seaborn ejecute la siguiente instruccion: pip install seaborn\n",
    "import seaborn as sn\n",
    "plt.figure(figsize=(10,6))\n",
    "sn.heatmap(mconf,annot=True)\n",
    "plt.xlabel('Prediccion')\n",
    "plt.ylabel('Verdadero')"
   ]
  },
  {
   "cell_type": "code",
   "execution_count": 88,
   "id": "4f505856-8e26-48e4-b047-d178197ef475",
   "metadata": {},
   "outputs": [
    {
     "name": "stdout",
     "output_type": "stream",
     "text": [
      "              precision    recall  f1-score   support\n",
      "\n",
      "           0       1.00      1.00      1.00        10\n",
      "           1       0.88      1.00      0.93         7\n",
      "           2       1.00      0.92      0.96        13\n",
      "\n",
      "    accuracy                           0.97        30\n",
      "   macro avg       0.96      0.97      0.96        30\n",
      "weighted avg       0.97      0.97      0.97        30\n",
      "\n"
     ]
    }
   ],
   "source": [
    "from sklearn.metrics import classification_report\n",
    "\n",
    "print(classification_report(y_test, y_pred_test))"
   ]
  },
  {
   "cell_type": "code",
   "execution_count": null,
   "id": "300c0286-851e-4f29-93a2-106ef238e2df",
   "metadata": {},
   "outputs": [],
   "source": []
  },
  {
   "cell_type": "code",
   "execution_count": null,
   "id": "fd132480-68cf-4585-9682-ce9969c81247",
   "metadata": {},
   "outputs": [],
   "source": []
  },
  {
   "cell_type": "code",
   "execution_count": null,
   "id": "fec79094-94aa-4071-a973-5b188a5b4a66",
   "metadata": {},
   "outputs": [],
   "source": []
  },
  {
   "cell_type": "code",
   "execution_count": null,
   "id": "eda6ea1d-680b-4b30-90cc-030d3115d4c5",
   "metadata": {},
   "outputs": [],
   "source": []
  },
  {
   "cell_type": "code",
   "execution_count": null,
   "id": "50eda4c3-544b-4ef3-81c3-078171f2f71c",
   "metadata": {},
   "outputs": [],
   "source": []
  }
 ],
 "metadata": {
  "kernelspec": {
   "display_name": "Python 3 (ipykernel)",
   "language": "python",
   "name": "python3"
  },
  "language_info": {
   "codemirror_mode": {
    "name": "ipython",
    "version": 3
   },
   "file_extension": ".py",
   "mimetype": "text/x-python",
   "name": "python",
   "nbconvert_exporter": "python",
   "pygments_lexer": "ipython3",
   "version": "3.11.5"
  }
 },
 "nbformat": 4,
 "nbformat_minor": 5
}
