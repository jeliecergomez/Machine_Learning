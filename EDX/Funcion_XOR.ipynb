{
 "cells": [
  {
   "cell_type": "code",
   "execution_count": 117,
   "id": "b5213c0a-ac7e-447b-b224-72ff6e7bda07",
   "metadata": {},
   "outputs": [],
   "source": [
    "import numpy as np"
   ]
  },
  {
   "cell_type": "code",
   "execution_count": 118,
   "id": "fd794500-7b16-47a6-8fc6-528aa330d16b",
   "metadata": {},
   "outputs": [],
   "source": [
    "X= np.array(([0,0,0],\n",
    "             [0,0,1],\n",
    "             [0,1,0],\n",
    "             [0,1,1],\n",
    "             [1,0,0],\n",
    "             [1,0,1],\n",
    "             [1,1,0],\n",
    "             [1,1,1]), dtype = float)\n",
    "y= np.array(([0],\n",
    "             [1],\n",
    "             [1],\n",
    "             [0],\n",
    "             [1],\n",
    "             [0],\n",
    "             [0],\n",
    "             [1]), dtype = float)"
   ]
  },
  {
   "cell_type": "code",
   "execution_count": 119,
   "id": "c906a863-20f5-4505-9e55-50e2d08bad57",
   "metadata": {},
   "outputs": [
    {
     "name": "stdout",
     "output_type": "stream",
     "text": [
      "[[0. 0. 0.]\n",
      " [0. 0. 1.]\n",
      " [0. 1. 0.]\n",
      " [0. 1. 1.]\n",
      " [1. 0. 0.]\n",
      " [1. 0. 1.]\n",
      " [1. 1. 0.]\n",
      " [1. 1. 1.]]\n"
     ]
    }
   ],
   "source": [
    "print (X)"
   ]
  },
  {
   "cell_type": "code",
   "execution_count": 120,
   "id": "7af5e578-4957-4ec9-abae-2eb45e948ad5",
   "metadata": {},
   "outputs": [
    {
     "name": "stdout",
     "output_type": "stream",
     "text": [
      "[[0.]\n",
      " [1.]\n",
      " [1.]\n",
      " [0.]\n",
      " [1.]\n",
      " [0.]\n",
      " [0.]\n",
      " [1.]]\n"
     ]
    }
   ],
   "source": [
    "print (y)"
   ]
  },
  {
   "cell_type": "code",
   "execution_count": 121,
   "id": "8fbbc31a-40aa-46f0-93e0-ae35d74893c8",
   "metadata": {},
   "outputs": [],
   "source": [
    "lr = 0.5\n",
    "w0 = np.random.randn(X.shape[1],4)\n",
    "w1 = np.random.randn(4,1)\n",
    "output = np.zeros(y.shape)\n",
    "Z0,z1,a0,a1,a2,error = [],[],[],[],[],[]"
   ]
  },
  {
   "cell_type": "code",
   "execution_count": 122,
   "id": "e881b49f-ceae-4b7b-8b7e-8c35e2d09173",
   "metadata": {},
   "outputs": [],
   "source": [
    "def sigmoid(t):\n",
    "    return 1/(1+np.exp(-t))\n",
    "\n",
    "def sigmoid_derivate(p):\n",
    "    return sigmoid(p) * sigmoid(1-p)\n",
    "    "
   ]
  },
  {
   "cell_type": "code",
   "execution_count": 123,
   "id": "eace8deb-80ab-4b01-b16b-3e6c2af9c85b",
   "metadata": {},
   "outputs": [],
   "source": [
    "#Nos proporciona los datos de la capa anterior a la siguiente\n",
    "def feedforward(X_input):\n",
    "    #np.dot regresa el producto punto de dos arreglos\n",
    "    global a0,z0,a1,z1,a2\n",
    "    a0 = X_input # entrada de datos, no aumenta o decrementa los pesos\n",
    "    z0 = np.dot(a0,w0) # guarda el acumulado\n",
    "    a1 = sigmoid(z0) # Formula de activacion de la capa\n",
    "    z1 = np.dot(a1,w1)\n",
    "    a2 = sigmoid(z1)\n",
    "    output = a2\n",
    "    return output\n",
    "    "
   ]
  },
  {
   "cell_type": "code",
   "execution_count": 124,
   "id": "ab0b7d1b-8689-44d1-ba2e-1d70b81f2938",
   "metadata": {},
   "outputs": [],
   "source": [
    "def backprop():\n",
    "        \n",
    "    #Aplicando la regla de la cadena para la funcion de perdida a los pesos 2 y 1\n",
    "    # T devuelve la matriz traspuesta\n",
    "    global w0,w1,w2,b0,b1,b2\n",
    "    mse = np.sum((y - output)**2)\n",
    "    error.append(mse)\n",
    "    delta1 = -(y - output) * sigmoid_derivate(z1)\n",
    "    d_w1 =np.dot(a1.T,delta1)\n",
    "    d_b1 = delta1\n",
    "\n",
    "    delta0 = np.dot(delta1,w1.T)* sigmoid_derivate(z0)\n",
    "    d_w0 = np.dot(a0.T, delta0)\n",
    "    d_b0 = delta0\n",
    "\n",
    "    w1= w1 -lr * d_w1\n",
    "    w0= w0 -lr * d_w0\n"
   ]
  },
  {
   "cell_type": "code",
   "execution_count": 125,
   "id": "f5920aac-f00d-4a2c-ba7a-4b18acd7bd08",
   "metadata": {},
   "outputs": [
    {
     "name": "stdout",
     "output_type": "stream",
     "text": [
      "Epoch: 0, mse: 2.244643726482458\n",
      "Epoch: 10, mse: 1.975452034687431\n",
      "Epoch: 20, mse: 1.9641015379246798\n",
      "Epoch: 30, mse: 1.9527136650429864\n",
      "Epoch: 40, mse: 1.9387755664634165\n",
      "Epoch: 50, mse: 1.9206708098384495\n",
      "Epoch: 60, mse: 1.8974052791837055\n",
      "Epoch: 70, mse: 1.868429426350096\n",
      "Epoch: 80, mse: 1.8335723684900127\n",
      "Epoch: 90, mse: 1.7930338899296947\n",
      "Epoch: 100, mse: 1.7474025933104411\n",
      "Epoch: 110, mse: 1.6976224915601976\n",
      "Epoch: 120, mse: 1.6448362394839022\n",
      "Epoch: 130, mse: 1.5901319284398507\n",
      "Epoch: 140, mse: 1.5342883832264649\n",
      "Epoch: 150, mse: 1.47759329504335\n",
      "Epoch: 160, mse: 1.4197725355184556\n",
      "Epoch: 170, mse: 1.36006157382125\n",
      "Epoch: 180, mse: 1.297453152314923\n",
      "Epoch: 190, mse: 1.2311351753589428\n"
     ]
    }
   ],
   "source": [
    "for i in range(200):\n",
    "    output = feedforward(X)\n",
    "    backprop()\n",
    "    if i % 10 == 0 :\n",
    "        print (\"Epoch: {}, mse: {}\".format(i,error[-1]))\n",
    "    "
   ]
  },
  {
   "cell_type": "code",
   "execution_count": 126,
   "id": "dbe122ce-e39c-46b4-a6bb-5d096b5b612e",
   "metadata": {},
   "outputs": [
    {
     "data": {
      "text/plain": [
       "array([[ 3.09045348,  0.3381738 ,  4.54875063, -0.07219332],\n",
       "       [-0.76271849,  1.11348503,  3.87093059,  1.91943018],\n",
       "       [-2.67995886, -2.1815292 , -5.95016862, -0.61430587]])"
      ]
     },
     "execution_count": 126,
     "metadata": {},
     "output_type": "execute_result"
    }
   ],
   "source": [
    "w0"
   ]
  },
  {
   "cell_type": "code",
   "execution_count": 127,
   "id": "ff4f6e50-59e8-4e14-9ed2-70bdea5bfa1d",
   "metadata": {},
   "outputs": [
    {
     "data": {
      "text/plain": [
       "array([[-2.38649282],\n",
       "       [-1.86736127],\n",
       "       [ 4.39840749],\n",
       "       [-1.09890991]])"
      ]
     },
     "execution_count": 127,
     "metadata": {},
     "output_type": "execute_result"
    }
   ],
   "source": [
    "w1"
   ]
  },
  {
   "cell_type": "code",
   "execution_count": 128,
   "id": "579c417c-8ead-4843-8426-d1ad57a83ed5",
   "metadata": {},
   "outputs": [
    {
     "data": {
      "text/plain": [
       "array([0.38291866])"
      ]
     },
     "execution_count": 128,
     "metadata": {},
     "output_type": "execute_result"
    }
   ],
   "source": [
    "output = feedforward([0,0,0])\n",
    "output"
   ]
  },
  {
   "cell_type": "code",
   "execution_count": 129,
   "id": "d8a87336-4ba1-427d-9755-006de17158e9",
   "metadata": {},
   "outputs": [
    {
     "data": {
      "text/plain": [
       "[<matplotlib.lines.Line2D at 0x1c03682ccd0>]"
      ]
     },
     "execution_count": 129,
     "metadata": {},
     "output_type": "execute_result"
    },
    {
     "data": {
      "image/png": "[encoded data removed]",
      "text/plain": [
       "<Figure size 640x480 with 1 Axes>"
      ]
     },
     "metadata": {},
     "output_type": "display_data"
    }
   ],
   "source": [
    "import matplotlib.pyplot as plt\n",
    "%matplotlib inline\n",
    "plt.plot(error)"
   ]
  },
  {
   "cell_type": "code",
   "execution_count": null,
   "id": "bdfdf14f-2481-4c68-a5b0-5c644ef5461c",
   "metadata": {},
   "outputs": [],
   "source": []
  },
  {
   "cell_type": "code",
   "execution_count": null,
   "id": "59db63a6-8695-45a2-9dda-9581119345c5",
   "metadata": {},
   "outputs": [],
   "source": []
  }
 ],
 "metadata": {
  "kernelspec": {
   "display_name": "Python 3 (ipykernel)",
   "language": "python",
   "name": "python3"
  },
  "language_info": {
   "codemirror_mode": {
    "name": "ipython",
    "version": 3
   },
   "file_extension": ".py",
   "mimetype": "text/x-python",
   "name": "python",
   "nbconvert_exporter": "python",
   "pygments_lexer": "ipython3",
   "version": "3.11.5"
  }
 },
 "nbformat": 4,
 "nbformat_minor": 5
}
