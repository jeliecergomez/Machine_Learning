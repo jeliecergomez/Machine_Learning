{
 "cells": [
  {
   "cell_type": "code",
   "execution_count": 3,
   "id": "4ac91067-e43b-4233-85ad-9ae43c0ca8f8",
   "metadata": {},
   "outputs": [
    {
     "name": "stdout",
     "output_type": "stream",
     "text": [
      "Total Datos 251\n",
      "Total trafico elefante 40\n",
      "ultima ip ['fe80::4ba:91a:7817:e318', 'ff02::fb', '5353', '5353', '1588779655298', '1588779655298', '295']\n"
     ]
    }
   ],
   "source": [
    "#Version 1 --Hasta ahora es el mejor código para preprocesar los datos\n",
    "import csv\n",
    "total_datos = 0\n",
    "elephant=0\n",
    "my_flow=''\n",
    "\n",
    "def write_file(src_ip, dst_ip, src_port,dst_port,bidirectional_first_seen_ms,bidirectional_last_seen_ms,bidirectional_bytes,target_traffic):\n",
    "\n",
    "  \n",
    "     with open('/Trafic Network/Trafic ucor/sampletelegram_ml.csv', mode='a') as csv_file:\n",
    "            fieldnames = ['src_ip', 'dst_ip', 'src_port','dst_port','bidirectional_first_seen_ms','bidirectional_last_seen_ms','bidirectional_bytes','target_traffic']\n",
    "            writer = csv.DictWriter(csv_file, fieldnames=fieldnames)\n",
    "            #writer.writeheader()\n",
    "            writer.writerow({'src_ip': src_ip,'dst_ip':dst_ip, 'src_port':src_port,'dst_port': dst_port,'bidirectional_first_seen_ms':bidirectional_first_seen_ms,'bidirectional_last_seen_ms':bidirectional_last_seen_ms,'bidirectional_bytes':bidirectional_bytes,'target_traffic':target_traffic})\n",
    "\n",
    "      \n",
    "def comparar(ip_scr,ip_des,pt_scr,pt_dest):\n",
    "        type_trafic=0\n",
    "        bidirectional_bytes=0\n",
    "        umbral=67000\n",
    "        ln_count = 0\n",
    "        global elephant\n",
    "        global total_datos\n",
    "        global my_flow\n",
    "        with open('/Trafic Network/Trafic ucor/sampletelegram.csv') as csv_file:\n",
    "                csv_reader = csv.reader(csv_file, delimiter=',')\n",
    "                for row in csv_reader:\n",
    "                    if  ln_count== 0:\n",
    "                        #print(f'Column names are {\", \".join(row)}')\n",
    "                        ln_count += 1\n",
    "                        #write_file(my_flow)\n",
    "                    else:\n",
    "                        my_flow=[row[2],row[6],row[5],row[9],row[14],row[15],row[18]]\n",
    "                        if (ip_scr=={row[2]} and ip_des=={row[6]} and pt_scr=={row[5]} and pt_dest=={row[9]}  ):\n",
    "                            bidirectional_bytes+=int(row[18])\n",
    "                            \n",
    "                            ln_count += 1\n",
    "                        else:\n",
    "                            ln_count += 1\n",
    "                    \n",
    "        if (bidirectional_bytes>umbral):\n",
    "            elephant+=1\n",
    "            type_trafic=1\n",
    "     \n",
    "        return type_trafic\n",
    "\n",
    "with open('/Trafic Network/Trafic ucor/sampletelegram.csv') as csv_file:\n",
    "        csv_reader = csv.reader(csv_file, delimiter=',')\n",
    "        line_count = 0\n",
    "        ip_count=0\n",
    "        ip_origen=''\n",
    "        ip_destino=''\n",
    "        pto_origen=''\n",
    "        pto_destino=''\n",
    "        bidirectional_bytes=0\n",
    "        for row in csv_reader:\n",
    "            if line_count == 0:\n",
    "                line_count += 1\n",
    "            else:\n",
    "                ip_origen={row[2]}\n",
    "                ip_destino={row[6]}\n",
    "                pto_origen={row[5]}\n",
    "                pto_destino={row[9]}\n",
    "                if (comparar(ip_origen,ip_destino,pto_origen, pto_destino)==0):\n",
    "                 write_file(row[2],row[6],row[5],row[9],row[14],row[15],row[18],'0' )\n",
    "                else :\n",
    "                    write_file(row[2],row[6],row[5],row[9],row[14],row[15],row[18],'1' )\n",
    "                line_count += 1\n",
    "                total_datos += 1\n",
    "print('Total Datos', total_datos)\n",
    "print('Total trafico elefante', elephant)\n",
    "print ('ultima ip', my_flow)"
   ]
  },
  {
   "cell_type": "code",
   "execution_count": null,
   "id": "7690ae7d-98cf-4d84-ad5a-d5a49ed7d90f",
   "metadata": {},
   "outputs": [],
   "source": []
  }
 ],
 "metadata": {
  "kernelspec": {
   "display_name": "Python 3 (ipykernel)",
   "language": "python",
   "name": "python3"
  },
  "language_info": {
   "codemirror_mode": {
    "name": "ipython",
    "version": 3
   },
   "file_extension": ".py",
   "mimetype": "text/x-python",
   "name": "python",
   "nbconvert_exporter": "python",
   "pygments_lexer": "ipython3",
   "version": "3.8.2"
  }
 },
 "nbformat": 4,
 "nbformat_minor": 5
}
