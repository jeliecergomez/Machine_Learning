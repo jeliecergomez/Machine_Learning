{
 "cells": [
  {
   "cell_type": "code",
   "execution_count": 88,
   "id": "c1ccaaac-154d-4d05-b2cd-09e2bc7c9420",
   "metadata": {},
   "outputs": [],
   "source": [
    "#Se crea una estructura de un dataframe para cargar los datos\n",
    "import pandas as pd   \n",
    "# Permite cargar el modelo logistica de regresión\n",
    "from sklearn.linear_model import LogisticRegression "
   ]
  },
  {
   "cell_type": "code",
   "execution_count": 118,
   "id": "87597793-e2cc-48f0-b7d9-d5f5b1d1a3b4",
   "metadata": {},
   "outputs": [
    {
     "data": {
      "text/html": [
       "<div>\n",
       "<style scoped>\n",
       "    .dataframe tbody tr th:only-of-type {\n",
       "        vertical-align: middle;\n",
       "    }\n",
       "\n",
       "    .dataframe tbody tr th {\n",
       "        vertical-align: top;\n",
       "    }\n",
       "\n",
       "    .dataframe thead th {\n",
       "        text-align: right;\n",
       "    }\n",
       "</style>\n",
       "<table border=\"1\" class=\"dataframe\">\n",
       "  <thead>\n",
       "    <tr style=\"text-align: right;\">\n",
       "      <th></th>\n",
       "      <th>gran_size</th>\n",
       "      <th>spiders</th>\n",
       "    </tr>\n",
       "  </thead>\n",
       "  <tbody>\n",
       "    <tr>\n",
       "      <th>0</th>\n",
       "      <td>0.245</td>\n",
       "      <td>0</td>\n",
       "    </tr>\n",
       "    <tr>\n",
       "      <th>1</th>\n",
       "      <td>0.247</td>\n",
       "      <td>0</td>\n",
       "    </tr>\n",
       "    <tr>\n",
       "      <th>2</th>\n",
       "      <td>0.285</td>\n",
       "      <td>1</td>\n",
       "    </tr>\n",
       "    <tr>\n",
       "      <th>3</th>\n",
       "      <td>0.299</td>\n",
       "      <td>1</td>\n",
       "    </tr>\n",
       "    <tr>\n",
       "      <th>4</th>\n",
       "      <td>0.327</td>\n",
       "      <td>1</td>\n",
       "    </tr>\n",
       "  </tbody>\n",
       "</table>\n",
       "</div>"
      ],
      "text/plain": [
       "   gran_size  spiders\n",
       "0      0.245        0\n",
       "1      0.247        0\n",
       "2      0.285        1\n",
       "3      0.299        1\n",
       "4      0.327        1"
      ]
     },
     "execution_count": 118,
     "metadata": {},
     "output_type": "execute_result"
    }
   ],
   "source": [
    "#se define un data frame para cargar el archivo que contiene los datos de entrenamiento\n",
    "dfspider = pd.read_csv(\"/Machine Learning/Data/spider.csv\")\n",
    "#se muestra el dataframe\n",
    "dfspider.head()"
   ]
  },
  {
   "cell_type": "code",
   "execution_count": 119,
   "id": "40cf2cab-5467-4e07-9225-040c4f55527c",
   "metadata": {},
   "outputs": [
    {
     "data": {
      "text/plain": [
       "<matplotlib.collections.PathCollection at 0x1aefa1d8>"
      ]
     },
     "execution_count": 119,
     "metadata": {},
     "output_type": "execute_result"
    },
    {
     "data": {
      "image/png": "[encoded data removed]",
      "text/plain": [
       "<Figure size 432x288 with 1 Axes>"
      ]
     },
     "metadata": {
      "needs_background": "light"
     },
     "output_type": "display_data"
    }
   ],
   "source": [
    "#Se visualiza en una gráfico de dispersión presencia de arañas y tamaño de los granos de arena\n",
    "import matplotlib.pyplot as plott\n",
    "%matplotlib inline\n",
    "plott.ylabel('presencia de arañas')\n",
    "plott.xlabel('tamaño de los granos de arena')\n",
    "plott.scatter(dfspider['gran_size'],dfspider['spiders'])"
   ]
  },
  {
   "cell_type": "code",
   "execution_count": 120,
   "id": "0d9a1d38-4f01-487f-b326-96c5e0fd9152",
   "metadata": {},
   "outputs": [
    {
     "data": {
      "text/html": [
       "<div>\n",
       "<style scoped>\n",
       "    .dataframe tbody tr th:only-of-type {\n",
       "        vertical-align: middle;\n",
       "    }\n",
       "\n",
       "    .dataframe tbody tr th {\n",
       "        vertical-align: top;\n",
       "    }\n",
       "\n",
       "    .dataframe thead th {\n",
       "        text-align: right;\n",
       "    }\n",
       "</style>\n",
       "<table border=\"1\" class=\"dataframe\">\n",
       "  <thead>\n",
       "    <tr style=\"text-align: right;\">\n",
       "      <th></th>\n",
       "      <th>gran_size</th>\n",
       "    </tr>\n",
       "  </thead>\n",
       "  <tbody>\n",
       "    <tr>\n",
       "      <th>0</th>\n",
       "      <td>0.245</td>\n",
       "    </tr>\n",
       "    <tr>\n",
       "      <th>1</th>\n",
       "      <td>0.247</td>\n",
       "    </tr>\n",
       "    <tr>\n",
       "      <th>2</th>\n",
       "      <td>0.285</td>\n",
       "    </tr>\n",
       "    <tr>\n",
       "      <th>3</th>\n",
       "      <td>0.299</td>\n",
       "    </tr>\n",
       "    <tr>\n",
       "      <th>4</th>\n",
       "      <td>0.327</td>\n",
       "    </tr>\n",
       "  </tbody>\n",
       "</table>\n",
       "</div>"
      ],
      "text/plain": [
       "   gran_size\n",
       "0      0.245\n",
       "1      0.247\n",
       "2      0.285\n",
       "3      0.299\n",
       "4      0.327"
      ]
     },
     "execution_count": 120,
     "metadata": {},
     "output_type": "execute_result"
    }
   ],
   "source": [
    "#En X se separan las variables independientes, en este caso el tamo de los granos de arena\n",
    "X= dfspider[['gran_size']]\n",
    "#En y se asigna la variable dependiente que en este caso presencia de arañas (donde 1 indicia que hay arañas y 0 no hay arañas)\n",
    "y=dfspider['spiders']\n",
    "#Se visualizan las variables independientes \n",
    "X.head()"
   ]
  },
  {
   "cell_type": "code",
   "execution_count": 121,
   "id": "5ac06ed0-b3ff-4584-b8f5-e922aedee580",
   "metadata": {},
   "outputs": [],
   "source": [
    "#train_test_split permite la separación de datos de entrenamiento y pruebas\n",
    "from sklearn.model_selection import train_test_split\n",
    "#Se dividen los datos en en entrenamiento y pruebas, además se define mediante test_size=0.2 el porcentaje para pruebas\n",
    "#También se puede definir de forma aleatoria que datos se utilizarán para el entrenamiento mediante random_state=10\n",
    "X_train, X_test, y_train, y_test= train_test_split(X,y,test_size=0.2, random_state=10)"
   ]
  },
  {
   "cell_type": "code",
   "execution_count": 122,
   "id": "fcc73297-80f1-461e-af7f-0661c5aa5fdf",
   "metadata": {},
   "outputs": [
    {
     "name": "stdout",
     "output_type": "stream",
     "text": [
      "Número de muestras para el entrenamiento:  32\n"
     ]
    }
   ],
   "source": [
    "#se define una variable tmX para mostrar cuantos datos fueron tomados del dataset para entrenar de las variables independientes\n",
    "tmX=len(X_train)\n",
    "print('Número de muestras para el entrenamiento: ',tmX)"
   ]
  },
  {
   "cell_type": "code",
   "execution_count": 123,
   "id": "88282021-08f3-46fa-88f5-99ad22d1ae06",
   "metadata": {},
   "outputs": [
    {
     "name": "stdout",
     "output_type": "stream",
     "text": [
      "Número de muestras para las pruebas:  8\n"
     ]
    }
   ],
   "source": [
    "#se define una variable tmtestX para mostrar cuantos datos fueron tomados del dataset para hacer el entrenamiento de las variable independientes\n",
    "tmtestX=len(X_test)\n",
    "print('Número de muestras para las pruebas: ',tmtestX)"
   ]
  },
  {
   "cell_type": "code",
   "execution_count": 124,
   "id": "d2cea895-5e58-48fc-b451-c3dcb2d8a92c",
   "metadata": {},
   "outputs": [
    {
     "data": {
      "text/html": [
       "<div>\n",
       "<style scoped>\n",
       "    .dataframe tbody tr th:only-of-type {\n",
       "        vertical-align: middle;\n",
       "    }\n",
       "\n",
       "    .dataframe tbody tr th {\n",
       "        vertical-align: top;\n",
       "    }\n",
       "\n",
       "    .dataframe thead th {\n",
       "        text-align: right;\n",
       "    }\n",
       "</style>\n",
       "<table border=\"1\" class=\"dataframe\">\n",
       "  <thead>\n",
       "    <tr style=\"text-align: right;\">\n",
       "      <th></th>\n",
       "      <th>gran_size</th>\n",
       "    </tr>\n",
       "  </thead>\n",
       "  <tbody>\n",
       "    <tr>\n",
       "      <th>31</th>\n",
       "      <td>1.500</td>\n",
       "    </tr>\n",
       "    <tr>\n",
       "      <th>12</th>\n",
       "      <td>0.409</td>\n",
       "    </tr>\n",
       "    <tr>\n",
       "      <th>5</th>\n",
       "      <td>0.347</td>\n",
       "    </tr>\n",
       "    <tr>\n",
       "      <th>6</th>\n",
       "      <td>0.356</td>\n",
       "    </tr>\n",
       "    <tr>\n",
       "      <th>3</th>\n",
       "      <td>0.299</td>\n",
       "    </tr>\n",
       "  </tbody>\n",
       "</table>\n",
       "</div>"
      ],
      "text/plain": [
       "    gran_size\n",
       "31      1.500\n",
       "12      0.409\n",
       "5       0.347\n",
       "6       0.356\n",
       "3       0.299"
      ]
     },
     "execution_count": 124,
     "metadata": {},
     "output_type": "execute_result"
    }
   ],
   "source": [
    "#Se muestran el dataset de entrenamiento almacenados en X_train\n",
    "X_train.head()"
   ]
  },
  {
   "cell_type": "code",
   "execution_count": 125,
   "id": "a000a34c-b26d-47a8-a864-cf3100a2fcb6",
   "metadata": {},
   "outputs": [
    {
     "data": {
      "text/plain": [
       "LogisticRegression()"
      ]
     },
     "execution_count": 125,
     "metadata": {},
     "output_type": "execute_result"
    }
   ],
   "source": [
    "#Se define el modelo de logística de regresión \n",
    "modelreg=LogisticRegression()\n",
    "modelreg.fit(X_train,y_train)"
   ]
  },
  {
   "cell_type": "code",
   "execution_count": 126,
   "id": "3234ab7d-2fa6-4081-bb75-dfe9cfec2919",
   "metadata": {},
   "outputs": [
    {
     "data": {
      "text/plain": [
       "array([0, 1, 1, 0, 0, 0, 0, 1], dtype=int64)"
      ]
     },
     "execution_count": 126,
     "metadata": {},
     "output_type": "execute_result"
    }
   ],
   "source": [
    "#Se agregan los datos de prueba al modelo de predicción\n",
    "modelreg.predict(X_test)"
   ]
  },
  {
   "cell_type": "code",
   "execution_count": 127,
   "id": "7645a98a-ca95-4e1b-b33e-01ef8a58b5d0",
   "metadata": {},
   "outputs": [
    {
     "data": {
      "text/plain": [
       "0.625"
      ]
     },
     "execution_count": 127,
     "metadata": {},
     "output_type": "execute_result"
    }
   ],
   "source": [
    "#Permite saber el porcentaje de precisión de los datos de prueba\n",
    "modelreg.score(X_test,y_test)"
   ]
  },
  {
   "cell_type": "code",
   "execution_count": 128,
   "id": "3e5ab62b-bc25-4891-a6ac-29e69be4f74e",
   "metadata": {},
   "outputs": [
    {
     "data": {
      "text/plain": [
       "array([[0.56664403, 0.43335597],\n",
       "       [0.26787163, 0.73212837],\n",
       "       [0.12614024, 0.87385976],\n",
       "       [0.61322543, 0.38677457],\n",
       "       [0.50545652, 0.49454348],\n",
       "       [0.51006387, 0.48993613],\n",
       "       [0.53556127, 0.46443873],\n",
       "       [0.33543792, 0.66456208]])"
      ]
     },
     "execution_count": 128,
     "metadata": {},
     "output_type": "execute_result"
    }
   ],
   "source": [
    "#Visualizar la probabilidad de predicción de los items de prueba\n",
    "modelreg.predict_proba(X_test)"
   ]
  },
  {
   "cell_type": "code",
   "execution_count": 129,
   "id": "0bb2537a-1a30-432f-bc36-8a49bd2eaf14",
   "metadata": {},
   "outputs": [
    {
     "data": {
      "text/html": [
       "<div>\n",
       "<style scoped>\n",
       "    .dataframe tbody tr th:only-of-type {\n",
       "        vertical-align: middle;\n",
       "    }\n",
       "\n",
       "    .dataframe tbody tr th {\n",
       "        vertical-align: top;\n",
       "    }\n",
       "\n",
       "    .dataframe thead th {\n",
       "        text-align: right;\n",
       "    }\n",
       "</style>\n",
       "<table border=\"1\" class=\"dataframe\">\n",
       "  <thead>\n",
       "    <tr style=\"text-align: right;\">\n",
       "      <th></th>\n",
       "      <th>gran_size</th>\n",
       "    </tr>\n",
       "  </thead>\n",
       "  <tbody>\n",
       "    <tr>\n",
       "      <th>2</th>\n",
       "      <td>0.285</td>\n",
       "    </tr>\n",
       "    <tr>\n",
       "      <th>27</th>\n",
       "      <td>1.045</td>\n",
       "    </tr>\n",
       "    <tr>\n",
       "      <th>35</th>\n",
       "      <td>1.600</td>\n",
       "    </tr>\n",
       "    <tr>\n",
       "      <th>30</th>\n",
       "      <td>0.170</td>\n",
       "    </tr>\n",
       "    <tr>\n",
       "      <th>14</th>\n",
       "      <td>0.432</td>\n",
       "    </tr>\n",
       "    <tr>\n",
       "      <th>13</th>\n",
       "      <td>0.421</td>\n",
       "    </tr>\n",
       "    <tr>\n",
       "      <th>7</th>\n",
       "      <td>0.360</td>\n",
       "    </tr>\n",
       "    <tr>\n",
       "      <th>24</th>\n",
       "      <td>0.853</td>\n",
       "    </tr>\n",
       "  </tbody>\n",
       "</table>\n",
       "</div>"
      ],
      "text/plain": [
       "    gran_size\n",
       "2       0.285\n",
       "27      1.045\n",
       "35      1.600\n",
       "30      0.170\n",
       "14      0.432\n",
       "13      0.421\n",
       "7       0.360\n",
       "24      0.853"
      ]
     },
     "execution_count": 129,
     "metadata": {},
     "output_type": "execute_result"
    }
   ],
   "source": [
    "#Se visualizan los datos de la variable independiente de prueba \n",
    "X_test\n"
   ]
  },
  {
   "cell_type": "code",
   "execution_count": 130,
   "id": "fc675a50-d40d-444f-b26d-f7d5530991f2",
   "metadata": {},
   "outputs": [
    {
     "data": {
      "text/plain": [
       "array([0], dtype=int64)"
      ]
     },
     "execution_count": 130,
     "metadata": {},
     "output_type": "execute_result"
    }
   ],
   "source": [
    "#Se introduce un parámetro para determinar la presencia o no de arañas\n",
    "modelreg.predict([[0.099]])"
   ]
  },
  {
   "cell_type": "code",
   "execution_count": 131,
   "id": "ccd91917-40ba-423d-929c-439352e29016",
   "metadata": {},
   "outputs": [
    {
     "data": {
      "text/plain": [
       "array([[1.67581551]])"
      ]
     },
     "execution_count": 131,
     "metadata": {},
     "output_type": "execute_result"
    }
   ],
   "source": [
    "#Se muestra el coeficiente\n",
    "modelreg.coef_"
   ]
  },
  {
   "cell_type": "code",
   "execution_count": 132,
   "id": "59cd5b81-43e1-4e36-ab40-2c4ee96b2705",
   "metadata": {},
   "outputs": [
    {
     "data": {
      "text/plain": [
       "array([-0.74577924])"
      ]
     },
     "execution_count": 132,
     "metadata": {},
     "output_type": "execute_result"
    }
   ],
   "source": [
    "modelreg.intercept_"
   ]
  },
  {
   "cell_type": "code",
   "execution_count": null,
   "id": "08ab3e66-4410-4d41-a0ff-e1eed908a163",
   "metadata": {},
   "outputs": [],
   "source": []
  }
 ],
 "metadata": {
  "kernelspec": {
   "display_name": "Python 3 (ipykernel)",
   "language": "python",
   "name": "python3"
  },
  "language_info": {
   "codemirror_mode": {
    "name": "ipython",
    "version": 3
   },
   "file_extension": ".py",
   "mimetype": "text/x-python",
   "name": "python",
   "nbconvert_exporter": "python",
   "pygments_lexer": "ipython3",
   "version": "3.8.2"
  }
 },
 "nbformat": 4,
 "nbformat_minor": 5
}
