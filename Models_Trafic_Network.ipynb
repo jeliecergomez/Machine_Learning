{
 "cells": [
  {
   "cell_type": "code",
   "execution_count": 254,
   "id": "e48ab958-8a8a-437e-b6aa-9e78b5db112f",
   "metadata": {},
   "outputs": [],
   "source": [
    "#Se crea una estructura de un dataframe para cargar los datos\n",
    "import pandas as pd   \n",
    "# Permite cargar el modelo logistica de regresión\n",
    "from sklearn.linear_model import LogisticRegression "
   ]
  },
  {
   "cell_type": "code",
   "execution_count": 255,
   "id": "a61a9949-9bbc-4e62-adb4-9f3e2bf4513e",
   "metadata": {},
   "outputs": [
    {
     "data": {
      "text/html": [
       "<div>\n",
       "<style scoped>\n",
       "    .dataframe tbody tr th:only-of-type {\n",
       "        vertical-align: middle;\n",
       "    }\n",
       "\n",
       "    .dataframe tbody tr th {\n",
       "        vertical-align: top;\n",
       "    }\n",
       "\n",
       "    .dataframe thead th {\n",
       "        text-align: right;\n",
       "    }\n",
       "</style>\n",
       "<table border=\"1\" class=\"dataframe\">\n",
       "  <thead>\n",
       "    <tr style=\"text-align: right;\">\n",
       "      <th></th>\n",
       "      <th>src_ip</th>\n",
       "      <th>dst_ip</th>\n",
       "      <th>src_port</th>\n",
       "      <th>dst_port</th>\n",
       "      <th>bidirectional_first_seen_ms</th>\n",
       "      <th>bidirectional_last_seen_ms</th>\n",
       "      <th>bidirectional_bytes</th>\n",
       "      <th>target_traffic</th>\n",
       "    </tr>\n",
       "  </thead>\n",
       "  <tbody>\n",
       "    <tr>\n",
       "      <th>0</th>\n",
       "      <td>192.168.1.75</td>\n",
       "      <td>224.0.0.251</td>\n",
       "      <td>5353</td>\n",
       "      <td>5353</td>\n",
       "      <td>1588779596708</td>\n",
       "      <td>1588779598016</td>\n",
       "      <td>1327</td>\n",
       "      <td>0</td>\n",
       "    </tr>\n",
       "    <tr>\n",
       "      <th>1</th>\n",
       "      <td>fe80::4ba:91a:7817:e318</td>\n",
       "      <td>ff02::fb</td>\n",
       "      <td>5353</td>\n",
       "      <td>5353</td>\n",
       "      <td>1588779596708</td>\n",
       "      <td>1588779598016</td>\n",
       "      <td>1467</td>\n",
       "      <td>0</td>\n",
       "    </tr>\n",
       "    <tr>\n",
       "      <th>2</th>\n",
       "      <td>192.168.1.75</td>\n",
       "      <td>224.0.0.251</td>\n",
       "      <td>5353</td>\n",
       "      <td>5353</td>\n",
       "      <td>1588779598120</td>\n",
       "      <td>1588779600214</td>\n",
       "      <td>1440</td>\n",
       "      <td>0</td>\n",
       "    </tr>\n",
       "    <tr>\n",
       "      <th>3</th>\n",
       "      <td>fe80::4ba:91a:7817:e318</td>\n",
       "      <td>ff02::fb</td>\n",
       "      <td>5353</td>\n",
       "      <td>5353</td>\n",
       "      <td>1588779598121</td>\n",
       "      <td>1588779600214</td>\n",
       "      <td>1580</td>\n",
       "      <td>0</td>\n",
       "    </tr>\n",
       "    <tr>\n",
       "      <th>4</th>\n",
       "      <td>192.168.1.75</td>\n",
       "      <td>224.0.0.251</td>\n",
       "      <td>5353</td>\n",
       "      <td>5353</td>\n",
       "      <td>1588779600739</td>\n",
       "      <td>1588779601600</td>\n",
       "      <td>1396</td>\n",
       "      <td>0</td>\n",
       "    </tr>\n",
       "  </tbody>\n",
       "</table>\n",
       "</div>"
      ],
      "text/plain": [
       "                    src_ip       dst_ip  src_port  dst_port  \\\n",
       "0             192.168.1.75  224.0.0.251      5353      5353   \n",
       "1  fe80::4ba:91a:7817:e318     ff02::fb      5353      5353   \n",
       "2             192.168.1.75  224.0.0.251      5353      5353   \n",
       "3  fe80::4ba:91a:7817:e318     ff02::fb      5353      5353   \n",
       "4             192.168.1.75  224.0.0.251      5353      5353   \n",
       "\n",
       "   bidirectional_first_seen_ms  bidirectional_last_seen_ms  \\\n",
       "0                1588779596708               1588779598016   \n",
       "1                1588779596708               1588779598016   \n",
       "2                1588779598120               1588779600214   \n",
       "3                1588779598121               1588779600214   \n",
       "4                1588779600739               1588779601600   \n",
       "\n",
       "   bidirectional_bytes  target_traffic  \n",
       "0                 1327               0  \n",
       "1                 1467               0  \n",
       "2                 1440               0  \n",
       "3                 1580               0  \n",
       "4                 1396               0  "
      ]
     },
     "execution_count": 255,
     "metadata": {},
     "output_type": "execute_result"
    }
   ],
   "source": [
    "#se define un data frame para cargar el archivo que contiene los datos de entrenamiento\n",
    "dfNetwork = pd.read_csv(\"/Trafic Network/Trafic ucor/sampletelegram_ml.csv\")\n",
    "#se muestra el dataframe\n",
    "dfNetwork.head()"
   ]
  },
  {
   "cell_type": "code",
   "execution_count": 256,
   "id": "e6858ec8-3688-46af-b324-9a30c378af0a",
   "metadata": {},
   "outputs": [
    {
     "data": {
      "text/plain": [
       "<matplotlib.collections.PathCollection at 0x1dcff7a8>"
      ]
     },
     "execution_count": 256,
     "metadata": {},
     "output_type": "execute_result"
    },
    {
     "data": {
      "image/png": "[encoded data removed]",
      "text/plain": [
       "<Figure size 432x288 with 1 Axes>"
      ]
     },
     "metadata": {
      "needs_background": "light"
     },
     "output_type": "display_data"
    }
   ],
   "source": [
    "#Se visualiza en una gráfico de dispersión presencia de arañas y tamaño de los granos de arena\n",
    "import matplotlib.pyplot as plott\n",
    "%matplotlib inline\n",
    "plott.ylabel('Tipo de trafico')\n",
    "plott.xlabel('Tamaño del paquete')\n",
    "plott.scatter(dfNetwork['bidirectional_bytes'],dfNetwork['target_traffic'])"
   ]
  },
  {
   "cell_type": "code",
   "execution_count": 257,
   "id": "51cd2fb0-98b8-4806-8aeb-a6726564ebcb",
   "metadata": {},
   "outputs": [],
   "source": [
    "#Se elimina los espacios al principio y al final de la cadena:\n",
    "#en el eventual caso de que los hubiera\n",
    "dfNetwork.columns=dfNetwork.columns.str.strip()"
   ]
  },
  {
   "cell_type": "code",
   "execution_count": 258,
   "id": "7bf6c224-45ef-4866-83c1-72c05e248e8a",
   "metadata": {},
   "outputs": [],
   "source": [
    "#Se almacena en la variable inputs la variables independientes y en mytarget la variable dependiente\n",
    "inputs_X=dfNetwork.drop('src_ip', axis='columns')\n",
    "# Se elimina la columna id, debido a que no es relevante\n",
    "inputs_X=dfNetwork.drop('dst_ip', axis='columns')"
   ]
  },
  {
   "cell_type": "code",
   "execution_count": 259,
   "id": "f07ec4f4-31a3-4b80-884f-82573c7dc16d",
   "metadata": {},
   "outputs": [
    {
     "data": {
      "text/html": [
       "<div>\n",
       "<style scoped>\n",
       "    .dataframe tbody tr th:only-of-type {\n",
       "        vertical-align: middle;\n",
       "    }\n",
       "\n",
       "    .dataframe tbody tr th {\n",
       "        vertical-align: top;\n",
       "    }\n",
       "\n",
       "    .dataframe thead th {\n",
       "        text-align: right;\n",
       "    }\n",
       "</style>\n",
       "<table border=\"1\" class=\"dataframe\">\n",
       "  <thead>\n",
       "    <tr style=\"text-align: right;\">\n",
       "      <th></th>\n",
       "      <th>src_port</th>\n",
       "      <th>dst_port</th>\n",
       "      <th>bidirectional_bytes</th>\n",
       "    </tr>\n",
       "  </thead>\n",
       "  <tbody>\n",
       "    <tr>\n",
       "      <th>0</th>\n",
       "      <td>5353</td>\n",
       "      <td>5353</td>\n",
       "      <td>1327</td>\n",
       "    </tr>\n",
       "    <tr>\n",
       "      <th>1</th>\n",
       "      <td>5353</td>\n",
       "      <td>5353</td>\n",
       "      <td>1467</td>\n",
       "    </tr>\n",
       "    <tr>\n",
       "      <th>2</th>\n",
       "      <td>5353</td>\n",
       "      <td>5353</td>\n",
       "      <td>1440</td>\n",
       "    </tr>\n",
       "    <tr>\n",
       "      <th>3</th>\n",
       "      <td>5353</td>\n",
       "      <td>5353</td>\n",
       "      <td>1580</td>\n",
       "    </tr>\n",
       "    <tr>\n",
       "      <th>4</th>\n",
       "      <td>5353</td>\n",
       "      <td>5353</td>\n",
       "      <td>1396</td>\n",
       "    </tr>\n",
       "  </tbody>\n",
       "</table>\n",
       "</div>"
      ],
      "text/plain": [
       "   src_port  dst_port  bidirectional_bytes\n",
       "0      5353      5353                 1327\n",
       "1      5353      5353                 1467\n",
       "2      5353      5353                 1440\n",
       "3      5353      5353                 1580\n",
       "4      5353      5353                 1396"
      ]
     },
     "execution_count": 259,
     "metadata": {},
     "output_type": "execute_result"
    }
   ],
   "source": [
    "#En X se separan las variables independientes, en este caso el tamo de los granos de arena\n",
    "#X= dfNetwork[['src_port','dst_port','bidirectional_first_seen_ms','bidirectional_last_seen_ms','bidirectional_bytes']]\n",
    "X= dfNetwork[['src_port','dst_port','bidirectional_bytes']]\n",
    "\n",
    "X                 \n",
    "#En y se asigna la variable dependiente que en este caso presencia de arañas (donde 1 indicia que hay arañas y 0 no hay arañas)\n",
    "y=dfNetwork['target_traffic']\n",
    "#Se visualizan las variables independientes \n",
    "X.head()"
   ]
  },
  {
   "cell_type": "code",
   "execution_count": 260,
   "id": "775e4afa-5885-48f0-a9c6-4112bfaba560",
   "metadata": {},
   "outputs": [],
   "source": [
    "#train_test_split permite la separación de datos de entrenamiento y pruebas\n",
    "from sklearn.model_selection import train_test_split\n",
    "#Se dividen los datos en en entrenamiento y pruebas, además se define mediante test_size=0.2 el porcentaje para pruebas\n",
    "#También se puede definir de forma aleatoria que datos se utilizarán para el entrenamiento mediante random_state=10\n",
    "X_train, X_test, y_train, y_test= train_test_split(X,y,test_size=0.2, random_state=30)"
   ]
  },
  {
   "cell_type": "code",
   "execution_count": 261,
   "id": "4138ff72-8d65-4082-8750-679a596f739d",
   "metadata": {},
   "outputs": [
    {
     "name": "stdout",
     "output_type": "stream",
     "text": [
      "<class 'pandas.core.frame.DataFrame'>\n",
      "RangeIndex: 251 entries, 0 to 250\n",
      "Data columns (total 8 columns):\n",
      " #   Column                       Non-Null Count  Dtype \n",
      "---  ------                       --------------  ----- \n",
      " 0   src_ip                       251 non-null    object\n",
      " 1   dst_ip                       251 non-null    object\n",
      " 2   src_port                     251 non-null    int64 \n",
      " 3   dst_port                     251 non-null    int64 \n",
      " 4   bidirectional_first_seen_ms  251 non-null    int64 \n",
      " 5   bidirectional_last_seen_ms   251 non-null    int64 \n",
      " 6   bidirectional_bytes          251 non-null    int64 \n",
      " 7   target_traffic               251 non-null    int64 \n",
      "dtypes: int64(6), object(2)\n",
      "memory usage: 13.8+ KB\n"
     ]
    }
   ],
   "source": [
    "#Permite viusalizar información del dataframe\n",
    "dfNetwork.info()"
   ]
  },
  {
   "cell_type": "code",
   "execution_count": 262,
   "id": "5b4e3629-6737-4911-a907-20cb35f68ae4",
   "metadata": {},
   "outputs": [
    {
     "data": {
      "text/html": [
       "<div>\n",
       "<style scoped>\n",
       "    .dataframe tbody tr th:only-of-type {\n",
       "        vertical-align: middle;\n",
       "    }\n",
       "\n",
       "    .dataframe tbody tr th {\n",
       "        vertical-align: top;\n",
       "    }\n",
       "\n",
       "    .dataframe thead th {\n",
       "        text-align: right;\n",
       "    }\n",
       "</style>\n",
       "<table border=\"1\" class=\"dataframe\">\n",
       "  <thead>\n",
       "    <tr style=\"text-align: right;\">\n",
       "      <th></th>\n",
       "      <th>src_port</th>\n",
       "      <th>dst_port</th>\n",
       "      <th>bidirectional_first_seen_ms</th>\n",
       "      <th>bidirectional_last_seen_ms</th>\n",
       "      <th>bidirectional_bytes</th>\n",
       "      <th>target_traffic</th>\n",
       "    </tr>\n",
       "  </thead>\n",
       "  <tbody>\n",
       "    <tr>\n",
       "      <th>count</th>\n",
       "      <td>251.00</td>\n",
       "      <td>251.00</td>\n",
       "      <td>2.510000e+02</td>\n",
       "      <td>2.510000e+02</td>\n",
       "      <td>251.00</td>\n",
       "      <td>251.00</td>\n",
       "    </tr>\n",
       "    <tr>\n",
       "      <th>mean</th>\n",
       "      <td>17951.43</td>\n",
       "      <td>13703.64</td>\n",
       "      <td>1.588780e+12</td>\n",
       "      <td>1.588780e+12</td>\n",
       "      <td>1341.93</td>\n",
       "      <td>0.16</td>\n",
       "    </tr>\n",
       "    <tr>\n",
       "      <th>std</th>\n",
       "      <td>15958.67</td>\n",
       "      <td>14034.84</td>\n",
       "      <td>1.624715e+04</td>\n",
       "      <td>1.536398e+04</td>\n",
       "      <td>560.82</td>\n",
       "      <td>0.37</td>\n",
       "    </tr>\n",
       "    <tr>\n",
       "      <th>min</th>\n",
       "      <td>68.00</td>\n",
       "      <td>53.00</td>\n",
       "      <td>1.588780e+12</td>\n",
       "      <td>1.588780e+12</td>\n",
       "      <td>82.00</td>\n",
       "      <td>0.00</td>\n",
       "    </tr>\n",
       "    <tr>\n",
       "      <th>25%</th>\n",
       "      <td>537.50</td>\n",
       "      <td>529.00</td>\n",
       "      <td>1.588780e+12</td>\n",
       "      <td>1.588780e+12</td>\n",
       "      <td>806.00</td>\n",
       "      <td>0.00</td>\n",
       "    </tr>\n",
       "    <tr>\n",
       "      <th>50%</th>\n",
       "      <td>23174.00</td>\n",
       "      <td>5353.00</td>\n",
       "      <td>1.588780e+12</td>\n",
       "      <td>1.588780e+12</td>\n",
       "      <td>1536.00</td>\n",
       "      <td>0.00</td>\n",
       "    </tr>\n",
       "    <tr>\n",
       "      <th>75%</th>\n",
       "      <td>28150.00</td>\n",
       "      <td>28150.00</td>\n",
       "      <td>1.588780e+12</td>\n",
       "      <td>1.588780e+12</td>\n",
       "      <td>1730.00</td>\n",
       "      <td>0.00</td>\n",
       "    </tr>\n",
       "    <tr>\n",
       "      <th>max</th>\n",
       "      <td>61974.00</td>\n",
       "      <td>60723.00</td>\n",
       "      <td>1.588780e+12</td>\n",
       "      <td>1.588780e+12</td>\n",
       "      <td>2854.00</td>\n",
       "      <td>1.00</td>\n",
       "    </tr>\n",
       "  </tbody>\n",
       "</table>\n",
       "</div>"
      ],
      "text/plain": [
       "       src_port  dst_port  bidirectional_first_seen_ms  \\\n",
       "count    251.00    251.00                 2.510000e+02   \n",
       "mean   17951.43  13703.64                 1.588780e+12   \n",
       "std    15958.67  14034.84                 1.624715e+04   \n",
       "min       68.00     53.00                 1.588780e+12   \n",
       "25%      537.50    529.00                 1.588780e+12   \n",
       "50%    23174.00   5353.00                 1.588780e+12   \n",
       "75%    28150.00  28150.00                 1.588780e+12   \n",
       "max    61974.00  60723.00                 1.588780e+12   \n",
       "\n",
       "       bidirectional_last_seen_ms  bidirectional_bytes  target_traffic  \n",
       "count                2.510000e+02               251.00          251.00  \n",
       "mean                 1.588780e+12              1341.93            0.16  \n",
       "std                  1.536398e+04               560.82            0.37  \n",
       "min                  1.588780e+12                82.00            0.00  \n",
       "25%                  1.588780e+12               806.00            0.00  \n",
       "50%                  1.588780e+12              1536.00            0.00  \n",
       "75%                  1.588780e+12              1730.00            0.00  \n",
       "max                  1.588780e+12              2854.00            1.00  "
      ]
     },
     "execution_count": 262,
     "metadata": {},
     "output_type": "execute_result"
    }
   ],
   "source": [
    "#permite mostrar estadísticas del resumen de las variables numéricas\n",
    "round(dfNetwork.describe(),2)"
   ]
  },
  {
   "cell_type": "code",
   "execution_count": 263,
   "id": "d2b5c994-3159-47f3-ae88-c0de1b0e37d3",
   "metadata": {},
   "outputs": [],
   "source": [
    "from sklearn.preprocessing import StandardScaler\n",
    "\n",
    "scaler = StandardScaler()\n",
    "#scaler.fit_transform se utiliza para el ajuste  de parámetros iniciales de acuerdo al conjunto de datos de entrenamiento\n",
    "#además devuelve la trnasformada\n",
    "X_train = scaler.fit_transform(X_train)\n",
    "#scaler.transform se utiliza para para calcular la media y la desviación estándar en un conjunto de entrenamiento para poder volver a aplicar más tarde,\n",
    "#la misma transformación en el conjunto de prueba.\n",
    "X_test = scaler.transform(X_test)"
   ]
  },
  {
   "cell_type": "code",
   "execution_count": 264,
   "id": "9c589405-2785-4ab2-b106-413ba2b6bcea",
   "metadata": {},
   "outputs": [],
   "source": [
    "#X_train"
   ]
  },
  {
   "cell_type": "code",
   "execution_count": 265,
   "id": "ccaca23d-1c76-49b0-bfa8-ac70135b34a6",
   "metadata": {},
   "outputs": [
    {
     "data": {
      "text/plain": [
       "136    0\n",
       "149    0\n",
       "24     0\n",
       "196    0\n",
       "21     0\n",
       "      ..\n",
       "244    0\n",
       "45     0\n",
       "173    0\n",
       "165    1\n",
       "37     0\n",
       "Name: target_traffic, Length: 200, dtype: int64"
      ]
     },
     "execution_count": 265,
     "metadata": {},
     "output_type": "execute_result"
    }
   ],
   "source": [
    "y_train"
   ]
  },
  {
   "cell_type": "code",
   "execution_count": 266,
   "id": "bfae2d2b-b6e8-414b-be68-c61a0f16cf7d",
   "metadata": {},
   "outputs": [],
   "source": [
    "#Permite conocer cuantas variables se van a utilizar\n",
    "cols=X.columns"
   ]
  },
  {
   "cell_type": "code",
   "execution_count": 267,
   "id": "809faa46-31ce-4c32-879d-76cab954afe1",
   "metadata": {},
   "outputs": [],
   "source": [
    "#Se define a los datos de entrenamiento el número de columnas del dataframe que corresponden a las variables independientes\n",
    "X_train = pd.DataFrame(X_train, columns=[cols])"
   ]
  },
  {
   "cell_type": "code",
   "execution_count": 268,
   "id": "0a277c69-90de-4770-9897-8cc31b24c42d",
   "metadata": {},
   "outputs": [
    {
     "data": {
      "text/html": [
       "<div>\n",
       "<style scoped>\n",
       "    .dataframe tbody tr th:only-of-type {\n",
       "        vertical-align: middle;\n",
       "    }\n",
       "\n",
       "    .dataframe tbody tr th {\n",
       "        vertical-align: top;\n",
       "    }\n",
       "\n",
       "    .dataframe thead tr th {\n",
       "        text-align: left;\n",
       "    }\n",
       "</style>\n",
       "<table border=\"1\" class=\"dataframe\">\n",
       "  <thead>\n",
       "    <tr>\n",
       "      <th></th>\n",
       "      <th>src_port</th>\n",
       "      <th>dst_port</th>\n",
       "      <th>bidirectional_bytes</th>\n",
       "    </tr>\n",
       "  </thead>\n",
       "  <tbody>\n",
       "    <tr>\n",
       "      <th>count</th>\n",
       "      <td>2.000000e+02</td>\n",
       "      <td>2.000000e+02</td>\n",
       "      <td>2.000000e+02</td>\n",
       "    </tr>\n",
       "    <tr>\n",
       "      <th>mean</th>\n",
       "      <td>-1.398881e-16</td>\n",
       "      <td>5.329071e-17</td>\n",
       "      <td>8.881784e-18</td>\n",
       "    </tr>\n",
       "    <tr>\n",
       "      <th>std</th>\n",
       "      <td>1.002509e+00</td>\n",
       "      <td>1.002509e+00</td>\n",
       "      <td>1.002509e+00</td>\n",
       "    </tr>\n",
       "    <tr>\n",
       "      <th>min</th>\n",
       "      <td>-1.140148e+00</td>\n",
       "      <td>-9.818671e-01</td>\n",
       "      <td>-2.319273e+00</td>\n",
       "    </tr>\n",
       "    <tr>\n",
       "      <th>25%</th>\n",
       "      <td>-1.109020e+00</td>\n",
       "      <td>-9.486467e-01</td>\n",
       "      <td>-9.439357e-01</td>\n",
       "    </tr>\n",
       "    <tr>\n",
       "      <th>50%</th>\n",
       "      <td>3.909759e-01</td>\n",
       "      <td>-6.119757e-01</td>\n",
       "      <td>3.541770e-01</td>\n",
       "    </tr>\n",
       "    <tr>\n",
       "      <th>75%</th>\n",
       "      <td>7.207115e-01</td>\n",
       "      <td>9.790462e-01</td>\n",
       "      <td>7.072048e-01</td>\n",
       "    </tr>\n",
       "    <tr>\n",
       "      <th>max</th>\n",
       "      <td>2.939336e+00</td>\n",
       "      <td>3.252343e+00</td>\n",
       "      <td>2.777566e+00</td>\n",
       "    </tr>\n",
       "  </tbody>\n",
       "</table>\n",
       "</div>"
      ],
      "text/plain": [
       "           src_port      dst_port bidirectional_bytes\n",
       "count  2.000000e+02  2.000000e+02        2.000000e+02\n",
       "mean  -1.398881e-16  5.329071e-17        8.881784e-18\n",
       "std    1.002509e+00  1.002509e+00        1.002509e+00\n",
       "min   -1.140148e+00 -9.818671e-01       -2.319273e+00\n",
       "25%   -1.109020e+00 -9.486467e-01       -9.439357e-01\n",
       "50%    3.909759e-01 -6.119757e-01        3.541770e-01\n",
       "75%    7.207115e-01  9.790462e-01        7.072048e-01\n",
       "max    2.939336e+00  3.252343e+00        2.777566e+00"
      ]
     },
     "execution_count": 268,
     "metadata": {},
     "output_type": "execute_result"
    }
   ],
   "source": [
    "#Visualiza las estadísticas del las diferentes variables independientes\n",
    "X_train.describe()"
   ]
  },
  {
   "cell_type": "code",
   "execution_count": 269,
   "id": "f8cdcce9-c725-4edf-9da4-05f42337fd39",
   "metadata": {},
   "outputs": [
    {
     "data": {
      "text/plain": [
       "LogisticRegression()"
      ]
     },
     "execution_count": 269,
     "metadata": {},
     "output_type": "execute_result"
    }
   ],
   "source": [
    "# Ahora lo haremos con logistica de regresión\n",
    "#Se define el modelo de logística de regresión \n",
    "# Permite cargar el modelo logistica de regresión\n",
    "from sklearn.linear_model import LogisticRegression \n",
    "modelreg=LogisticRegression()\n",
    "modelreg.fit(X_train,y_train)"
   ]
  },
  {
   "cell_type": "code",
   "execution_count": 270,
   "id": "c13d935a-c493-46d1-a803-db427e465ea3",
   "metadata": {},
   "outputs": [],
   "source": [
    "#Permite la normalización de los datos de entrenamiento  normalmente distribuidos estándar: Gaussian con media cero y varianza de unidad\n",
    "from sklearn.preprocessing import StandardScaler\n",
    "from sklearn.model_selection import StratifiedKFold\n",
    "folds = StratifiedKFold(n_splits=3)"
   ]
  },
  {
   "cell_type": "code",
   "execution_count": 271,
   "id": "ee949677-dda2-47bb-9790-216695568b1d",
   "metadata": {},
   "outputs": [
    {
     "data": {
      "text/plain": [
       "KFold(n_splits=3, random_state=None, shuffle=False)"
      ]
     },
     "execution_count": 271,
     "metadata": {},
     "output_type": "execute_result"
    }
   ],
   "source": [
    "from sklearn.model_selection import KFold\n",
    "kf = KFold(n_splits=3)\n",
    "kf"
   ]
  },
  {
   "cell_type": "code",
   "execution_count": 272,
   "id": "54412a44-3f2b-4008-87db-016368a8110a",
   "metadata": {},
   "outputs": [],
   "source": [
    "def get_score(model, X_train,X_test,y_train,y_test):\n",
    "    model.fit(X_train,y_train)\n",
    "    return model.score(X_test,y_test)"
   ]
  },
  {
   "cell_type": "code",
   "execution_count": 273,
   "id": "abdc60c2-c7dd-494f-8b01-1553f5c13064",
   "metadata": {},
   "outputs": [
    {
     "data": {
      "text/plain": [
       "0.9607843137254902"
      ]
     },
     "execution_count": 273,
     "metadata": {},
     "output_type": "execute_result"
    }
   ],
   "source": [
    "get_score(LogisticRegression(),X_train,X_test,y_train,y_test)"
   ]
  },
  {
   "cell_type": "code",
   "execution_count": 274,
   "id": "78125c85-6bb1-4c06-ac0c-aebb6f6e978c",
   "metadata": {},
   "outputs": [
    {
     "data": {
      "text/plain": [
       "1.0"
      ]
     },
     "execution_count": 274,
     "metadata": {},
     "output_type": "execute_result"
    }
   ],
   "source": [
    "get_score(SVC(),X_train,X_test,y_train,y_test)"
   ]
  },
  {
   "cell_type": "code",
   "execution_count": 275,
   "id": "61426b31-f523-461c-ac85-ea49d12a2c91",
   "metadata": {},
   "outputs": [
    {
     "data": {
      "text/plain": [
       "1.0"
      ]
     },
     "execution_count": 275,
     "metadata": {},
     "output_type": "execute_result"
    }
   ],
   "source": [
    "get_score(RandomForestClassifier(),X_train,X_test,y_train,y_test)"
   ]
  },
  {
   "cell_type": "code",
   "execution_count": 276,
   "id": "a5a92e8a-87b6-4968-9e4d-4df3444baa9c",
   "metadata": {},
   "outputs": [
    {
     "data": {
      "text/plain": [
       "1.0"
      ]
     },
     "execution_count": 276,
     "metadata": {},
     "output_type": "execute_result"
    }
   ],
   "source": [
    "get_score(GaussianNB(),X_train,X_test,y_train,y_test)"
   ]
  },
  {
   "cell_type": "code",
   "execution_count": 277,
   "id": "5b37ad50-d534-4e89-9c7c-ffead075aa8a",
   "metadata": {},
   "outputs": [],
   "source": [
    "from sklearn import preprocessing\n",
    "# Se importa el clasificador SVC\n",
    "from sklearn.svm import SVC\n",
    "#Se importa el modelo de predicción de bosque aleatorio\n",
    "from sklearn.ensemble import RandomForestClassifier\n",
    "#Se importa el modelo de predicción de Naive Bayes\n",
    "from sklearn.naive_bayes import GaussianNB\n",
    "\n",
    "lg_score = []\n",
    "svm_score = []\n",
    "rf_score = []\n",
    "nby_score = []\n",
    "for train_index,test_index in kf.split(X):\n",
    "    X_train,X_test=X.iloc[train_index,:],X.iloc[test_index,:]\n",
    "    #scale preprocesa los datos para ser normalizados posteriormente\n",
    "    scaler = preprocessing.StandardScaler().fit(X_train)\n",
    "    y_train,y_test=y[train_index],y[test_index]\n",
    "    #Normaliza los datos\n",
    "    X_scaled = scaler.transform(X_train)\n",
    "    lg_score.append(get_score(LogisticRegression(),X_scaled,X_test,y_train,y_test))\n",
    "    svm_score.append(get_score(SVC(),X_train,X_test,y_train,y_test))\n",
    "    rf_score.append(get_score(RandomForestClassifier(n_estimators=20),X_train,X_test,y_train,y_test))\n",
    "    nby_score.append(get_score(GaussianNB(),X_train,X_test,y_train,y_test))"
   ]
  },
  {
   "cell_type": "code",
   "execution_count": 278,
   "id": "88e5814a-c202-4037-b6b2-d01efb2d4fd4",
   "metadata": {},
   "outputs": [
    {
     "data": {
      "text/plain": [
       "[0.47619047619047616, 0.9404761904761905, 0.7108433734939759]"
      ]
     },
     "execution_count": 278,
     "metadata": {},
     "output_type": "execute_result"
    }
   ],
   "source": [
    "lg_score"
   ]
  },
  {
   "cell_type": "code",
   "execution_count": 279,
   "id": "32c34090-804b-4e1f-807d-9eb13d2c6676",
   "metadata": {},
   "outputs": [
    {
     "data": {
      "text/plain": [
       "[0.8809523809523809, 0.6904761904761905, 0.927710843373494]"
      ]
     },
     "execution_count": 279,
     "metadata": {},
     "output_type": "execute_result"
    }
   ],
   "source": [
    "svm_score"
   ]
  },
  {
   "cell_type": "code",
   "execution_count": 280,
   "id": "6fcf49e3-c5d8-400b-b0be-988258b0230a",
   "metadata": {},
   "outputs": [
    {
     "data": {
      "text/plain": [
       "[1.0, 1.0, 1.0]"
      ]
     },
     "execution_count": 280,
     "metadata": {},
     "output_type": "execute_result"
    }
   ],
   "source": [
    "rf_score"
   ]
  },
  {
   "cell_type": "code",
   "execution_count": 281,
   "id": "fee83f0c-9b96-4dbc-a733-a1a67daae9a0",
   "metadata": {},
   "outputs": [
    {
     "data": {
      "text/plain": [
       "[1.0, 1.0, 1.0]"
      ]
     },
     "execution_count": 281,
     "metadata": {},
     "output_type": "execute_result"
    }
   ],
   "source": [
    "nby_score"
   ]
  },
  {
   "cell_type": "code",
   "execution_count": 282,
   "id": "4db7d423-6ef3-4d56-95d7-08f77a29dccb",
   "metadata": {},
   "outputs": [
    {
     "data": {
      "text/plain": [
       "array([0.94117647, 0.76470588, 1.        , 0.93939394, 1.        ])"
      ]
     },
     "execution_count": 282,
     "metadata": {},
     "output_type": "execute_result"
    }
   ],
   "source": [
    "from sklearn.model_selection import cross_val_score\n",
    "cross_val_score(SVC(),X_train,y_train)"
   ]
  },
  {
   "cell_type": "code",
   "execution_count": 283,
   "id": "4e6e570a-dae3-40e2-81e3-67063196a6ee",
   "metadata": {},
   "outputs": [
    {
     "data": {
      "text/plain": [
       "array([0.88235294, 1.        , 0.97058824, 0.93939394, 1.        ])"
      ]
     },
     "execution_count": 283,
     "metadata": {},
     "output_type": "execute_result"
    }
   ],
   "source": [
    "cross_val_score(LogisticRegression(),X_train,y_train)"
   ]
  },
  {
   "cell_type": "code",
   "execution_count": 284,
   "id": "944fa7a4-8c1d-47a0-b408-e8d5058d75b7",
   "metadata": {},
   "outputs": [
    {
     "data": {
      "text/plain": [
       "array([0.97058824, 1.        , 1.        , 0.93939394, 1.        ])"
      ]
     },
     "execution_count": 284,
     "metadata": {},
     "output_type": "execute_result"
    }
   ],
   "source": [
    "cross_val_score(RandomForestClassifier(n_estimators=40),X_train,y_train)"
   ]
  },
  {
   "cell_type": "code",
   "execution_count": 285,
   "id": "473d1ca3-6a44-4a52-a5ef-c844ee5986be",
   "metadata": {},
   "outputs": [
    {
     "data": {
      "text/plain": [
       "array([1., 1., 1., 1., 1.])"
      ]
     },
     "execution_count": 285,
     "metadata": {},
     "output_type": "execute_result"
    }
   ],
   "source": [
    "cross_val_score(GaussianNB(),X_train,y_train)"
   ]
  },
  {
   "cell_type": "code",
   "execution_count": null,
   "id": "3fed359e-92c9-4221-a216-6cc05da9f8fb",
   "metadata": {},
   "outputs": [],
   "source": []
  },
  {
   "cell_type": "code",
   "execution_count": null,
   "id": "c36cd24e-c163-4217-bf36-c95426eface8",
   "metadata": {},
   "outputs": [],
   "source": []
  }
 ],
 "metadata": {
  "kernelspec": {
   "display_name": "Python 3 (ipykernel)",
   "language": "python",
   "name": "python3"
  },
  "language_info": {
   "codemirror_mode": {
    "name": "ipython",
    "version": 3
   },
   "file_extension": ".py",
   "mimetype": "text/x-python",
   "name": "python",
   "nbconvert_exporter": "python",
   "pygments_lexer": "ipython3",
   "version": "3.8.2"
  }
 },
 "nbformat": 4,
 "nbformat_minor": 5
}
