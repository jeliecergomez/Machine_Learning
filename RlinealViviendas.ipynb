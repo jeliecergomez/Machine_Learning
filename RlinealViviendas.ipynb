{
 "cells": [
  {
   "cell_type": "code",
   "execution_count": 17,
   "id": "4c43decc-4409-4010-89f3-15463b8c66b1",
   "metadata": {},
   "outputs": [
    {
     "name": "stdout",
     "output_type": "stream",
     "text": [
      "   area  precio\n",
      "0    98     275\n",
      "1   115     370\n",
      "2   125     410\n",
      "3   150     470\n",
      "4   175     520\n",
      "5   200     580\n",
      "precio  [510.15266749] de acuerdo a los 170 mts cuadrados\n",
      "m:  [2.77653506]\n",
      "b:  38.141706744211945\n",
      "precio  [510.15266749]\n",
      "   area\n",
      "0   260\n",
      "1   300\n",
      "2   320\n",
      "3   360\n",
      "4   400\n",
      "precios [ 760.04082317  871.1022257   926.63292697 1037.69432949 1148.75573202\n",
      " 1304.24169556 1398.64388771 1426.40923834 1454.17458897 1565.2359915\n",
      " 1593.00134213 1648.5320434  1704.06274466 2037.24695224]\n"
     ]
    },
    {
     "data": {
      "image/png": "[encoded data removed]",
      "text/plain": [
       "<Figure size 432x288 with 1 Axes>"
      ]
     },
     "metadata": {
      "needs_background": "light"
     },
     "output_type": "display_data"
    }
   ],
   "source": [
    "#se importan las librerias para gestionar el modelo\n",
    "import pandas as pd\n",
    "import numpy as np\n",
    "import matplotlib.pyplot as plt\n",
    "from sklearn import linear_model\n",
    "#se define un data frame para cargar el archivo que contiene los datos de entrenamiento\n",
    "s_home = pd.read_csv(\"/Machine Learning/Data/precio_casas.csv\")\n",
    "#permite visualizar los datos del dataframe\n",
    "print(s_home)\n",
    "#Se define la gráfica de dispersión\n",
    "%matplotlib inline\n",
    "plt.xlabel('area(metro cuadrado)')\n",
    "plt.ylabel('Precio (COP$) x Millon')\n",
    "plt.scatter(s_home.area, s_home.precio, color ='blue',marker='+')\n",
    "#Se define el modelo de regresión líneal\n",
    "reg = linear_model.LinearRegression()\n",
    "reg.fit(s_home[['area']],s_home.precio)\n",
    "#dato para predecir el valor de la casa de acuerdo al metro cuadrado\n",
    "print('precio ',reg.predict([[170]]), 'de acuerdo a los 170 mts cuadrados')\n",
    "#m es la pendiente o gradiente\n",
    "m=reg.coef_\n",
    "print('m: ',m)\n",
    "#b es el intercepto\n",
    "b=reg.intercept_\n",
    "print('b: ',b)\n",
    "#area en metros cuadrados (x)\n",
    "x=170\n",
    "#Finalmente obtenemos el valor de y, que viene siendo el precio de la vivienda\n",
    "y=m*x+b\n",
    "y\n",
    "\n",
    "print('precio ',y)\n",
    "#Se define el gráfico de dispersión y la línea basada en el modelo de predicción, con el area y el precio como parámetros\n",
    "%matplotlib inline\n",
    "plt.xlabel('area(Metro Cuadrado)',fontsize=20)\n",
    "plt.ylabel('Precio (COP$) x Millon ',fontsize=20)\n",
    "plt.scatter(s_home.area, s_home.precio, color ='red',marker='+')\n",
    "plt.plot(s_home.area,reg.predict(s_home[['area']]),color='blue')\n",
    "#Se define un nuevo dataframe para cargar los datos de area\n",
    "sale_home2=pd.read_csv(\"/Machine Learning/Data/area.csv\")\n",
    "print(sale_home2.head(5))\n",
    "print('precios',reg.predict(sale_home2))\n",
    "#Definimos una variable precio para cargar los datos de predicción\n",
    "precio=reg.predict(sale_home2)\n",
    "#Guardamos el archivo de predicción que incluye el área cuadrada y el precio de las casas\n",
    "sale_home2.to_csv(\"/Machine Learning/Data/Prediccion.csv\")"
   ]
  },
  {
   "cell_type": "code",
   "execution_count": null,
   "id": "e4be303c-9a44-460e-ab50-8c33c7eb4e3c",
   "metadata": {},
   "outputs": [],
   "source": []
  }
 ],
 "metadata": {
  "kernelspec": {
   "display_name": "Python 3 (ipykernel)",
   "language": "python",
   "name": "python3"
  },
  "language_info": {
   "codemirror_mode": {
    "name": "ipython",
    "version": 3
   },
   "file_extension": ".py",
   "mimetype": "text/x-python",
   "name": "python",
   "nbconvert_exporter": "python",
   "pygments_lexer": "ipython3",
   "version": "3.8.2"
  }
 },
 "nbformat": 4,
 "nbformat_minor": 5
}
