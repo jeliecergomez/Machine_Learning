{
 "cells": [
  {
   "cell_type": "code",
   "execution_count": 133,
   "id": "331ed082-ac07-475e-91d0-a4db95d528ae",
   "metadata": {},
   "outputs": [],
   "source": [
    "#se importan las librerias para gestionar el modelo\n",
    "import pandas as pd\n",
    "import numpy as np\n",
    "import matplotlib.pyplot as plt\n",
    "from sklearn import linear_model"
   ]
  },
  {
   "cell_type": "code",
   "execution_count": 134,
   "id": "d196ef23-7d33-48c5-82de-5c019f7fd796",
   "metadata": {},
   "outputs": [],
   "source": [
    "#se define un data frame para cargar el archivo que contiene los datos de entrenamiento\n",
    "s_home = pd.read_csv(\"/Machine Learning/Data/precio_casas.csv\")\n"
   ]
  },
  {
   "cell_type": "code",
   "execution_count": 135,
   "id": "1e01d4aa-e77c-4a13-8287-9499010561cc",
   "metadata": {},
   "outputs": [
    {
     "data": {
      "text/html": [
       "<div>\n",
       "<style scoped>\n",
       "    .dataframe tbody tr th:only-of-type {\n",
       "        vertical-align: middle;\n",
       "    }\n",
       "\n",
       "    .dataframe tbody tr th {\n",
       "        vertical-align: top;\n",
       "    }\n",
       "\n",
       "    .dataframe thead th {\n",
       "        text-align: right;\n",
       "    }\n",
       "</style>\n",
       "<table border=\"1\" class=\"dataframe\">\n",
       "  <thead>\n",
       "    <tr style=\"text-align: right;\">\n",
       "      <th></th>\n",
       "      <th>area</th>\n",
       "      <th>precio</th>\n",
       "    </tr>\n",
       "  </thead>\n",
       "  <tbody>\n",
       "    <tr>\n",
       "      <th>0</th>\n",
       "      <td>98</td>\n",
       "      <td>275</td>\n",
       "    </tr>\n",
       "    <tr>\n",
       "      <th>1</th>\n",
       "      <td>115</td>\n",
       "      <td>370</td>\n",
       "    </tr>\n",
       "    <tr>\n",
       "      <th>2</th>\n",
       "      <td>125</td>\n",
       "      <td>410</td>\n",
       "    </tr>\n",
       "    <tr>\n",
       "      <th>3</th>\n",
       "      <td>150</td>\n",
       "      <td>470</td>\n",
       "    </tr>\n",
       "    <tr>\n",
       "      <th>4</th>\n",
       "      <td>175</td>\n",
       "      <td>520</td>\n",
       "    </tr>\n",
       "    <tr>\n",
       "      <th>5</th>\n",
       "      <td>200</td>\n",
       "      <td>580</td>\n",
       "    </tr>\n",
       "  </tbody>\n",
       "</table>\n",
       "</div>"
      ],
      "text/plain": [
       "   area  precio\n",
       "0    98     275\n",
       "1   115     370\n",
       "2   125     410\n",
       "3   150     470\n",
       "4   175     520\n",
       "5   200     580"
      ]
     },
     "execution_count": 135,
     "metadata": {},
     "output_type": "execute_result"
    }
   ],
   "source": [
    "#permite visualizar los datos del dataframe\n",
    "s_home"
   ]
  },
  {
   "cell_type": "code",
   "execution_count": 121,
   "id": "d232e690-ebd5-40b4-9694-a0dfc491ae70",
   "metadata": {},
   "outputs": [
    {
     "data": {
      "text/plain": [
       "<matplotlib.collections.PathCollection at 0x1e5e7790>"
      ]
     },
     "execution_count": 121,
     "metadata": {},
     "output_type": "execute_result"
    },
    {
     "data": {
      "image/png": "[encoded data removed]",
      "text/plain": [
       "<Figure size 432x288 with 1 Axes>"
      ]
     },
     "metadata": {
      "needs_background": "light"
     },
     "output_type": "display_data"
    }
   ],
   "source": [
    "%matplotlib inline\n",
    "plt.xlabel('area(metro cuadrado)')\n",
    "plt.ylabel('Precio (COP$) x Millon')\n",
    "\n",
    "plt.scatter(s_home.area, s_home.precio, color ='blue',marker='+')"
   ]
  },
  {
   "cell_type": "code",
   "execution_count": 136,
   "id": "67ea488b-56b0-49ba-bb1d-82616a1f99ca",
   "metadata": {},
   "outputs": [
    {
     "data": {
      "text/plain": [
       "LinearRegression()"
      ]
     },
     "execution_count": 136,
     "metadata": {},
     "output_type": "execute_result"
    }
   ],
   "source": [
    "reg = linear_model.LinearRegression()\n",
    "reg.fit(s_home[['area']],s_home.precio)"
   ]
  },
  {
   "cell_type": "code",
   "execution_count": 143,
   "id": "8a508a67-453f-4669-a7dc-bf0634d7ee25",
   "metadata": {},
   "outputs": [
    {
     "data": {
      "text/plain": [
       "array([510.15266749])"
      ]
     },
     "execution_count": 143,
     "metadata": {},
     "output_type": "execute_result"
    }
   ],
   "source": [
    "#dato para predecir el valor de la casa de acuerdo al metro cuadrado\n",
    "reg.predict([[170]])"
   ]
  },
  {
   "cell_type": "code",
   "execution_count": 138,
   "id": "bff3c5f5-b0d8-4643-b480-29f6d9e3fdcb",
   "metadata": {},
   "outputs": [
    {
     "data": {
      "text/plain": [
       "array([2.77653506])"
      ]
     },
     "execution_count": 138,
     "metadata": {},
     "output_type": "execute_result"
    }
   ],
   "source": [
    "#m es la pendiente o gradiente\n",
    "m=reg.coef_\n",
    "m"
   ]
  },
  {
   "cell_type": "code",
   "execution_count": 139,
   "id": "4b6a5065-8982-4e0f-ba83-e2b34389e98f",
   "metadata": {},
   "outputs": [
    {
     "data": {
      "text/plain": [
       "38.141706744211945"
      ]
     },
     "execution_count": 139,
     "metadata": {},
     "output_type": "execute_result"
    }
   ],
   "source": [
    "#b es el intercepto\n",
    "b=reg.intercept_\n",
    "b"
   ]
  },
  {
   "cell_type": "code",
   "execution_count": 141,
   "id": "eeba839f-3939-4b69-a8ce-49a4f2bd7d42",
   "metadata": {},
   "outputs": [],
   "source": [
    "#area en metros cuadrados (x)\n",
    "x=170"
   ]
  },
  {
   "cell_type": "code",
   "execution_count": 142,
   "id": "e0e01050-be6b-4822-a065-f0b1b319c869",
   "metadata": {},
   "outputs": [
    {
     "data": {
      "text/plain": [
       "array([510.15266749])"
      ]
     },
     "execution_count": 142,
     "metadata": {},
     "output_type": "execute_result"
    }
   ],
   "source": [
    "#Finalmente obtenemos el valor de y, que viene siendo el precio de la vivienda\n",
    "y=m*x+b\n",
    "y"
   ]
  },
  {
   "cell_type": "code",
   "execution_count": 130,
   "id": "f7693a7b-3a73-4e92-813f-1a4cb1a3f5b3",
   "metadata": {},
   "outputs": [
    {
     "data": {
      "text/plain": [
       "[<matplotlib.lines.Line2D at 0x1f627730>]"
      ]
     },
     "execution_count": 130,
     "metadata": {},
     "output_type": "execute_result"
    },
    {
     "data": {
      "image/png": "[encoded data removed]",
      "text/plain": [
       "<Figure size 432x288 with 1 Axes>"
      ]
     },
     "metadata": {
      "needs_background": "light"
     },
     "output_type": "display_data"
    }
   ],
   "source": [
    "#Se define el gráfico de dispersión y la línea basada en el modelo de predicción, con el area y el precio como parámetros\n",
    "%matplotlib inline\n",
    "plt.xlabel('area(Metro Cuadrado)',fontsize=20)\n",
    "plt.ylabel('Precio (COP$) x Millon ',fontsize=20)\n",
    "plt.scatter(s_home.area, s_home.precio, color ='red',marker='+')\n",
    "plt.plot(s_home.area,reg.predict(s_home[['area']]),color='blue')"
   ]
  },
  {
   "cell_type": "code",
   "execution_count": 67,
   "id": "42b3e5c8-01f5-4cbd-9c49-f3b21a7df6e0",
   "metadata": {},
   "outputs": [],
   "source": []
  },
  {
   "cell_type": "code",
   "execution_count": 146,
   "id": "c467114d-f05f-4843-818b-499ddefc1cc3",
   "metadata": {},
   "outputs": [
    {
     "data": {
      "text/html": [
       "<div>\n",
       "<style scoped>\n",
       "    .dataframe tbody tr th:only-of-type {\n",
       "        vertical-align: middle;\n",
       "    }\n",
       "\n",
       "    .dataframe tbody tr th {\n",
       "        vertical-align: top;\n",
       "    }\n",
       "\n",
       "    .dataframe thead th {\n",
       "        text-align: right;\n",
       "    }\n",
       "</style>\n",
       "<table border=\"1\" class=\"dataframe\">\n",
       "  <thead>\n",
       "    <tr style=\"text-align: right;\">\n",
       "      <th></th>\n",
       "      <th>area</th>\n",
       "    </tr>\n",
       "  </thead>\n",
       "  <tbody>\n",
       "    <tr>\n",
       "      <th>0</th>\n",
       "      <td>260</td>\n",
       "    </tr>\n",
       "    <tr>\n",
       "      <th>1</th>\n",
       "      <td>300</td>\n",
       "    </tr>\n",
       "    <tr>\n",
       "      <th>2</th>\n",
       "      <td>320</td>\n",
       "    </tr>\n",
       "    <tr>\n",
       "      <th>3</th>\n",
       "      <td>360</td>\n",
       "    </tr>\n",
       "    <tr>\n",
       "      <th>4</th>\n",
       "      <td>400</td>\n",
       "    </tr>\n",
       "  </tbody>\n",
       "</table>\n",
       "</div>"
      ],
      "text/plain": [
       "   area\n",
       "0   260\n",
       "1   300\n",
       "2   320\n",
       "3   360\n",
       "4   400"
      ]
     },
     "execution_count": 146,
     "metadata": {},
     "output_type": "execute_result"
    }
   ],
   "source": [
    "#Se define un nuevo dataframe para cargar los datos de area\n",
    "sale_home2=pd.read_csv(\"/Machine Learning/Data/area.csv\")\n",
    "sale_home2.head(5)"
   ]
  },
  {
   "cell_type": "code",
   "execution_count": 145,
   "id": "fafbb63c-6931-4851-865d-23a0adda06c0",
   "metadata": {},
   "outputs": [
    {
     "data": {
      "text/plain": [
       "array([ 760.04082317,  871.1022257 ,  926.63292697, 1037.69432949,\n",
       "       1148.75573202, 1304.24169556, 1398.64388771, 1426.40923834,\n",
       "       1454.17458897, 1565.2359915 , 1593.00134213, 1648.5320434 ,\n",
       "       1704.06274466, 2037.24695224])"
      ]
     },
     "execution_count": 145,
     "metadata": {},
     "output_type": "execute_result"
    }
   ],
   "source": [
    "reg.predict(sale_home2)"
   ]
  },
  {
   "cell_type": "code",
   "execution_count": 69,
   "id": "c58bef30-b8b1-46f2-9e69-7ec8acf3ab1f",
   "metadata": {},
   "outputs": [],
   "source": [
    "#Definimos una variable precio para cargar los datos de predicción\n",
    "precio=reg.predict(sale_home2)"
   ]
  },
  {
   "cell_type": "code",
   "execution_count": 71,
   "id": "11dec9f4-f3d8-4f45-b210-0750695a746b",
   "metadata": {},
   "outputs": [
    {
     "data": {
      "text/html": [
       "<div>\n",
       "<style scoped>\n",
       "    .dataframe tbody tr th:only-of-type {\n",
       "        vertical-align: middle;\n",
       "    }\n",
       "\n",
       "    .dataframe tbody tr th {\n",
       "        vertical-align: top;\n",
       "    }\n",
       "\n",
       "    .dataframe thead th {\n",
       "        text-align: right;\n",
       "    }\n",
       "</style>\n",
       "<table border=\"1\" class=\"dataframe\">\n",
       "  <thead>\n",
       "    <tr style=\"text-align: right;\">\n",
       "      <th></th>\n",
       "      <th>area</th>\n",
       "      <th>precio</th>\n",
       "    </tr>\n",
       "  </thead>\n",
       "  <tbody>\n",
       "    <tr>\n",
       "      <th>0</th>\n",
       "      <td>2600</td>\n",
       "      <td>5.336644e+05</td>\n",
       "    </tr>\n",
       "    <tr>\n",
       "      <th>1</th>\n",
       "      <td>3000</td>\n",
       "      <td>5.879795e+05</td>\n",
       "    </tr>\n",
       "    <tr>\n",
       "      <th>2</th>\n",
       "      <td>3200</td>\n",
       "      <td>6.151370e+05</td>\n",
       "    </tr>\n",
       "    <tr>\n",
       "      <th>3</th>\n",
       "      <td>3600</td>\n",
       "      <td>6.694521e+05</td>\n",
       "    </tr>\n",
       "    <tr>\n",
       "      <th>4</th>\n",
       "      <td>4000</td>\n",
       "      <td>7.237671e+05</td>\n",
       "    </tr>\n",
       "    <tr>\n",
       "      <th>5</th>\n",
       "      <td>4560</td>\n",
       "      <td>7.998082e+05</td>\n",
       "    </tr>\n",
       "    <tr>\n",
       "      <th>6</th>\n",
       "      <td>5490</td>\n",
       "      <td>9.260908e+05</td>\n",
       "    </tr>\n",
       "    <tr>\n",
       "      <th>7</th>\n",
       "      <td>3490</td>\n",
       "      <td>6.545154e+05</td>\n",
       "    </tr>\n",
       "    <tr>\n",
       "      <th>8</th>\n",
       "      <td>3460</td>\n",
       "      <td>6.504418e+05</td>\n",
       "    </tr>\n",
       "    <tr>\n",
       "      <th>9</th>\n",
       "      <td>4750</td>\n",
       "      <td>8.256079e+05</td>\n",
       "    </tr>\n",
       "    <tr>\n",
       "      <th>10</th>\n",
       "      <td>2300</td>\n",
       "      <td>4.929281e+05</td>\n",
       "    </tr>\n",
       "    <tr>\n",
       "      <th>11</th>\n",
       "      <td>9000</td>\n",
       "      <td>1.402705e+06</td>\n",
       "    </tr>\n",
       "    <tr>\n",
       "      <th>12</th>\n",
       "      <td>8600</td>\n",
       "      <td>1.348390e+06</td>\n",
       "    </tr>\n",
       "    <tr>\n",
       "      <th>13</th>\n",
       "      <td>7100</td>\n",
       "      <td>1.144709e+06</td>\n",
       "    </tr>\n",
       "  </tbody>\n",
       "</table>\n",
       "</div>"
      ],
      "text/plain": [
       "    area        precio\n",
       "0   2600  5.336644e+05\n",
       "1   3000  5.879795e+05\n",
       "2   3200  6.151370e+05\n",
       "3   3600  6.694521e+05\n",
       "4   4000  7.237671e+05\n",
       "5   4560  7.998082e+05\n",
       "6   5490  9.260908e+05\n",
       "7   3490  6.545154e+05\n",
       "8   3460  6.504418e+05\n",
       "9   4750  8.256079e+05\n",
       "10  2300  4.929281e+05\n",
       "11  9000  1.402705e+06\n",
       "12  8600  1.348390e+06\n",
       "13  7100  1.144709e+06"
      ]
     },
     "execution_count": 71,
     "metadata": {},
     "output_type": "execute_result"
    }
   ],
   "source": [
    "#Al dataframe sale_home le asignamos el precio basado en la predicción\n",
    "sale_home2['precio']=precio\n",
    "sale_home2"
   ]
  },
  {
   "cell_type": "code",
   "execution_count": 72,
   "id": "091bbddc-0e32-45c2-9d0b-da1e40f06864",
   "metadata": {},
   "outputs": [],
   "source": [
    "#Guardamos el archivo de predicción que incluye el área cuadrada y el precio de las casas\n",
    "sale_home2.to_csv(\"/Machine Learning/Data/Prediccion.csv\")"
   ]
  },
  {
   "cell_type": "code",
   "execution_count": 148,
   "id": "57180b6e-03a9-4538-968c-e60baa41579f",
   "metadata": {},
   "outputs": [],
   "source": []
  },
  {
   "cell_type": "code",
   "execution_count": 151,
   "id": "4204fd71-fd02-42b5-bc99-45f2d493d647",
   "metadata": {},
   "outputs": [
    {
     "data": {
      "text/html": [
       "<div>\n",
       "<style scoped>\n",
       "    .dataframe tbody tr th:only-of-type {\n",
       "        vertical-align: middle;\n",
       "    }\n",
       "\n",
       "    .dataframe tbody tr th {\n",
       "        vertical-align: top;\n",
       "    }\n",
       "\n",
       "    .dataframe thead th {\n",
       "        text-align: right;\n",
       "    }\n",
       "</style>\n",
       "<table border=\"1\" class=\"dataframe\">\n",
       "  <thead>\n",
       "    <tr style=\"text-align: right;\">\n",
       "      <th></th>\n",
       "      <th>area</th>\n",
       "      <th>habitaciones</th>\n",
       "      <th>edad</th>\n",
       "      <th>precio</th>\n",
       "    </tr>\n",
       "  </thead>\n",
       "  <tbody>\n",
       "    <tr>\n",
       "      <th>0</th>\n",
       "      <td>98</td>\n",
       "      <td>3</td>\n",
       "      <td>5</td>\n",
       "      <td>210</td>\n",
       "    </tr>\n",
       "    <tr>\n",
       "      <th>1</th>\n",
       "      <td>115</td>\n",
       "      <td>4</td>\n",
       "      <td>10</td>\n",
       "      <td>320</td>\n",
       "    </tr>\n",
       "    <tr>\n",
       "      <th>2</th>\n",
       "      <td>150</td>\n",
       "      <td>5</td>\n",
       "      <td>5</td>\n",
       "      <td>450</td>\n",
       "    </tr>\n",
       "    <tr>\n",
       "      <th>3</th>\n",
       "      <td>170</td>\n",
       "      <td>4</td>\n",
       "      <td>20</td>\n",
       "      <td>600</td>\n",
       "    </tr>\n",
       "    <tr>\n",
       "      <th>4</th>\n",
       "      <td>200</td>\n",
       "      <td>5</td>\n",
       "      <td>15</td>\n",
       "      <td>800</td>\n",
       "    </tr>\n",
       "  </tbody>\n",
       "</table>\n",
       "</div>"
      ],
      "text/plain": [
       "   area  habitaciones  edad  precio\n",
       "0    98             3     5     210\n",
       "1   115             4    10     320\n",
       "2   150             5     5     450\n",
       "3   170             4    20     600\n",
       "4   200             5    15     800"
      ]
     },
     "execution_count": 151,
     "metadata": {},
     "output_type": "execute_result"
    }
   ],
   "source": []
  },
  {
   "cell_type": "code",
   "execution_count": null,
   "id": "431fe7dc-acd0-4ed9-a03e-53006c5f8116",
   "metadata": {},
   "outputs": [],
   "source": []
  },
  {
   "cell_type": "code",
   "execution_count": null,
   "id": "3cac287c-8509-4554-af93-f16fc08005b8",
   "metadata": {},
   "outputs": [],
   "source": []
  }
 ],
 "metadata": {
  "kernelspec": {
   "display_name": "Python 3 (ipykernel)",
   "language": "python",
   "name": "python3"
  },
  "language_info": {
   "codemirror_mode": {
    "name": "ipython",
    "version": 3
   },
   "file_extension": ".py",
   "mimetype": "text/x-python",
   "name": "python",
   "nbconvert_exporter": "python",
   "pygments_lexer": "ipython3",
   "version": "3.8.2"
  }
 },
 "nbformat": 4,
 "nbformat_minor": 5
}
