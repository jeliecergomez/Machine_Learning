{
 "cells": [
  {
   "cell_type": "code",
   "execution_count": 1,
   "id": "a9c9756b-bdd9-4bd1-b983-4c1d2ea989fe",
   "metadata": {},
   "outputs": [],
   "source": [
    "import pandas as pd"
   ]
  },
  {
   "cell_type": "code",
   "execution_count": 2,
   "id": "89c56427-d557-471d-b50f-33c383c20c95",
   "metadata": {},
   "outputs": [
    {
     "data": {
      "text/html": [
       "<div>\n",
       "<style scoped>\n",
       "    .dataframe tbody tr th:only-of-type {\n",
       "        vertical-align: middle;\n",
       "    }\n",
       "\n",
       "    .dataframe tbody tr th {\n",
       "        vertical-align: top;\n",
       "    }\n",
       "\n",
       "    .dataframe thead th {\n",
       "        text-align: right;\n",
       "    }\n",
       "</style>\n",
       "<table border=\"1\" class=\"dataframe\">\n",
       "  <thead>\n",
       "    <tr style=\"text-align: right;\">\n",
       "      <th></th>\n",
       "      <th>Si</th>\n",
       "      <th>No</th>\n",
       "    </tr>\n",
       "  </thead>\n",
       "  <tbody>\n",
       "    <tr>\n",
       "      <th>0</th>\n",
       "      <td>100</td>\n",
       "      <td>50</td>\n",
       "    </tr>\n",
       "    <tr>\n",
       "      <th>1</th>\n",
       "      <td>200</td>\n",
       "      <td>30</td>\n",
       "    </tr>\n",
       "  </tbody>\n",
       "</table>\n",
       "</div>"
      ],
      "text/plain": [
       "    Si  No\n",
       "0  100  50\n",
       "1  200  30"
      ]
     },
     "execution_count": 2,
     "metadata": {},
     "output_type": "execute_result"
    }
   ],
   "source": [
    "pd.DataFrame({'Si': [100, 200], 'No': [50, 30]})"
   ]
  },
  {
   "cell_type": "code",
   "execution_count": 4,
   "id": "a72ef0c5-901b-47c0-86b1-4274ab156e3c",
   "metadata": {},
   "outputs": [
    {
     "data": {
      "text/html": [
       "<div>\n",
       "<style scoped>\n",
       "    .dataframe tbody tr th:only-of-type {\n",
       "        vertical-align: middle;\n",
       "    }\n",
       "\n",
       "    .dataframe tbody tr th {\n",
       "        vertical-align: top;\n",
       "    }\n",
       "\n",
       "    .dataframe thead th {\n",
       "        text-align: right;\n",
       "    }\n",
       "</style>\n",
       "<table border=\"1\" class=\"dataframe\">\n",
       "  <thead>\n",
       "    <tr style=\"text-align: right;\">\n",
       "      <th></th>\n",
       "      <th>Jorge</th>\n",
       "      <th>Aida</th>\n",
       "    </tr>\n",
       "  </thead>\n",
       "  <tbody>\n",
       "    <tr>\n",
       "      <th>0</th>\n",
       "      <td>Pollo.</td>\n",
       "      <td>Pollo.</td>\n",
       "    </tr>\n",
       "    <tr>\n",
       "      <th>1</th>\n",
       "      <td>Carne de Res.</td>\n",
       "      <td>Carne de Cerdo.</td>\n",
       "    </tr>\n",
       "    <tr>\n",
       "      <th>2</th>\n",
       "      <td>Carne de Cerdo.</td>\n",
       "      <td>Verduras.</td>\n",
       "    </tr>\n",
       "    <tr>\n",
       "      <th>3</th>\n",
       "      <td>Pescado.</td>\n",
       "      <td>Frutas.</td>\n",
       "    </tr>\n",
       "  </tbody>\n",
       "</table>\n",
       "</div>"
      ],
      "text/plain": [
       "             Jorge             Aida\n",
       "0           Pollo.           Pollo.\n",
       "1    Carne de Res.  Carne de Cerdo.\n",
       "2  Carne de Cerdo.        Verduras.\n",
       "3         Pescado.          Frutas."
      ]
     },
     "execution_count": 4,
     "metadata": {},
     "output_type": "execute_result"
    }
   ],
   "source": [
    "pd.DataFrame({'Jorge': ['Pollo.', 'Carne de Res.', 'Carne de Cerdo.', 'Pescado.'], 'Aida': ['Pollo.', 'Carne de Cerdo.', 'Verduras.', 'Frutas.']})"
   ]
  },
  {
   "cell_type": "code",
   "execution_count": 5,
   "id": "fbd05364-aa9d-4d22-9226-6570eff60011",
   "metadata": {},
   "outputs": [
    {
     "data": {
      "text/html": [
       "<div>\n",
       "<style scoped>\n",
       "    .dataframe tbody tr th:only-of-type {\n",
       "        vertical-align: middle;\n",
       "    }\n",
       "\n",
       "    .dataframe tbody tr th {\n",
       "        vertical-align: top;\n",
       "    }\n",
       "\n",
       "    .dataframe thead th {\n",
       "        text-align: right;\n",
       "    }\n",
       "</style>\n",
       "<table border=\"1\" class=\"dataframe\">\n",
       "  <thead>\n",
       "    <tr style=\"text-align: right;\">\n",
       "      <th></th>\n",
       "      <th>Jorge</th>\n",
       "      <th>Aida</th>\n",
       "    </tr>\n",
       "  </thead>\n",
       "  <tbody>\n",
       "    <tr>\n",
       "      <th>Comida A</th>\n",
       "      <td>Pollo.</td>\n",
       "      <td>Pollo.</td>\n",
       "    </tr>\n",
       "    <tr>\n",
       "      <th>Comida B</th>\n",
       "      <td>Carne de Res.</td>\n",
       "      <td>Carne de Cerdo.</td>\n",
       "    </tr>\n",
       "    <tr>\n",
       "      <th>Comida C</th>\n",
       "      <td>Carne de Cerdo.</td>\n",
       "      <td>Verduras.</td>\n",
       "    </tr>\n",
       "    <tr>\n",
       "      <th>Comida D</th>\n",
       "      <td>Pescado.</td>\n",
       "      <td>Frutas.</td>\n",
       "    </tr>\n",
       "  </tbody>\n",
       "</table>\n",
       "</div>"
      ],
      "text/plain": [
       "                    Jorge             Aida\n",
       "Comida A           Pollo.           Pollo.\n",
       "Comida B    Carne de Res.  Carne de Cerdo.\n",
       "Comida C  Carne de Cerdo.        Verduras.\n",
       "Comida D         Pescado.          Frutas."
      ]
     },
     "execution_count": 5,
     "metadata": {},
     "output_type": "execute_result"
    }
   ],
   "source": [
    "pd.DataFrame({'Jorge': ['Pollo.', 'Carne de Res.', 'Carne de Cerdo.', 'Pescado.'], 'Aida': ['Pollo.', 'Carne de Cerdo.', 'Verduras.', 'Frutas.']},\n",
    "             index=['Comida A', 'Comida B', 'Comida C', 'Comida D'])\n"
   ]
  },
  {
   "cell_type": "code",
   "execution_count": 7,
   "id": "3c077f34-2259-40b4-ade3-7484d6415432",
   "metadata": {},
   "outputs": [
    {
     "data": {
      "text/plain": [
       "0    1.1\n",
       "1    2.2\n",
       "2    3.3\n",
       "3    4.4\n",
       "4    5.5\n",
       "5    6.6\n",
       "6    7.7\n",
       "7    8.8\n",
       "8    9.9\n",
       "dtype: float64"
      ]
     },
     "execution_count": 7,
     "metadata": {},
     "output_type": "execute_result"
    }
   ],
   "source": [
    "pd.Series([1.1, 2.2, 3.3, 4.4, 5.5, 6.6, 7.7, 8.8, 9.9])"
   ]
  },
  {
   "cell_type": "code",
   "execution_count": 8,
   "id": "584f99f9-1ee2-41c8-a7bf-9b01beca4e34",
   "metadata": {},
   "outputs": [
    {
     "data": {
      "text/plain": [
       "Quiz          3.5\n",
       "Taller        4.0\n",
       "Parcial       4.5\n",
       "Definitiva    4.0\n",
       "Name: Estudiante Diana, dtype: float64"
      ]
     },
     "execution_count": 8,
     "metadata": {},
     "output_type": "execute_result"
    }
   ],
   "source": [
    "pd.Series([3.5, 4.0, 4.5, 4.0], index=['Quiz', 'Taller', 'Parcial', 'Definitiva' ], name='Estudiante Diana')"
   ]
  },
  {
   "cell_type": "code",
   "execution_count": 18,
   "id": "114a069c-bac8-47ea-be97-6cb4edf4f664",
   "metadata": {},
   "outputs": [],
   "source": [
    "ventas = pd.read_csv(\"/Machine Learning/Data/mydata_sales.csv\")"
   ]
  },
  {
   "cell_type": "code",
   "execution_count": 19,
   "id": "7a5cdaaf-1809-49cb-a87c-7cfa030e347f",
   "metadata": {},
   "outputs": [
    {
     "data": {
      "text/html": [
       "<div>\n",
       "<style scoped>\n",
       "    .dataframe tbody tr th:only-of-type {\n",
       "        vertical-align: middle;\n",
       "    }\n",
       "\n",
       "    .dataframe tbody tr th {\n",
       "        vertical-align: top;\n",
       "    }\n",
       "\n",
       "    .dataframe thead th {\n",
       "        text-align: right;\n",
       "    }\n",
       "</style>\n",
       "<table border=\"1\" class=\"dataframe\">\n",
       "  <thead>\n",
       "    <tr style=\"text-align: right;\">\n",
       "      <th></th>\n",
       "      <th>Ventas Enero</th>\n",
       "      <th>Ventas Febrero</th>\n",
       "      <th>Ventas Marzo</th>\n",
       "    </tr>\n",
       "  </thead>\n",
       "  <tbody>\n",
       "    <tr>\n",
       "      <th>0</th>\n",
       "      <td>130</td>\n",
       "      <td>201</td>\n",
       "      <td>900</td>\n",
       "    </tr>\n",
       "    <tr>\n",
       "      <th>1</th>\n",
       "      <td>350</td>\n",
       "      <td>340</td>\n",
       "      <td>100</td>\n",
       "    </tr>\n",
       "    <tr>\n",
       "      <th>2</th>\n",
       "      <td>410</td>\n",
       "      <td>1110</td>\n",
       "      <td>2011</td>\n",
       "    </tr>\n",
       "    <tr>\n",
       "      <th>3</th>\n",
       "      <td>677</td>\n",
       "      <td>6000</td>\n",
       "      <td>5500</td>\n",
       "    </tr>\n",
       "    <tr>\n",
       "      <th>4</th>\n",
       "      <td>550</td>\n",
       "      <td>700</td>\n",
       "      <td>800</td>\n",
       "    </tr>\n",
       "  </tbody>\n",
       "</table>\n",
       "</div>"
      ],
      "text/plain": [
       "   Ventas Enero  Ventas Febrero   Ventas Marzo\n",
       "0           130             201            900\n",
       "1           350             340            100\n",
       "2           410            1110           2011\n",
       "3           677            6000           5500\n",
       "4           550             700            800"
      ]
     },
     "execution_count": 19,
     "metadata": {},
     "output_type": "execute_result"
    }
   ],
   "source": [
    "ventas.head()"
   ]
  },
  {
   "cell_type": "code",
   "execution_count": 20,
   "id": "9dc1bfd2-f28a-41b5-ac58-90b0cce35325",
   "metadata": {},
   "outputs": [
    {
     "data": {
      "text/plain": [
       "(6, 3)"
      ]
     },
     "execution_count": 20,
     "metadata": {},
     "output_type": "execute_result"
    }
   ],
   "source": [
    "ventas.shape"
   ]
  },
  {
   "cell_type": "code",
   "execution_count": 29,
   "id": "af143616-241f-4adc-8739-4684cae9660b",
   "metadata": {},
   "outputs": [],
   "source": [
    "ventas = pd.read_csv(\"/Machine Learning/Data/mydata_sales.csv\", index_col=0)\n"
   ]
  },
  {
   "cell_type": "code",
   "execution_count": 30,
   "id": "63b749dc-a483-4bf6-bdd8-48256bd8a77d",
   "metadata": {},
   "outputs": [
    {
     "data": {
      "text/html": [
       "<div>\n",
       "<style scoped>\n",
       "    .dataframe tbody tr th:only-of-type {\n",
       "        vertical-align: middle;\n",
       "    }\n",
       "\n",
       "    .dataframe tbody tr th {\n",
       "        vertical-align: top;\n",
       "    }\n",
       "\n",
       "    .dataframe thead th {\n",
       "        text-align: right;\n",
       "    }\n",
       "</style>\n",
       "<table border=\"1\" class=\"dataframe\">\n",
       "  <thead>\n",
       "    <tr style=\"text-align: right;\">\n",
       "      <th></th>\n",
       "      <th>Ventas Febrero</th>\n",
       "      <th>Ventas Marzo</th>\n",
       "    </tr>\n",
       "    <tr>\n",
       "      <th>Ventas Enero</th>\n",
       "      <th></th>\n",
       "      <th></th>\n",
       "    </tr>\n",
       "  </thead>\n",
       "  <tbody>\n",
       "    <tr>\n",
       "      <th>130</th>\n",
       "      <td>201</td>\n",
       "      <td>900</td>\n",
       "    </tr>\n",
       "    <tr>\n",
       "      <th>350</th>\n",
       "      <td>340</td>\n",
       "      <td>100</td>\n",
       "    </tr>\n",
       "    <tr>\n",
       "      <th>410</th>\n",
       "      <td>1110</td>\n",
       "      <td>2011</td>\n",
       "    </tr>\n",
       "    <tr>\n",
       "      <th>677</th>\n",
       "      <td>6000</td>\n",
       "      <td>5500</td>\n",
       "    </tr>\n",
       "    <tr>\n",
       "      <th>550</th>\n",
       "      <td>700</td>\n",
       "      <td>800</td>\n",
       "    </tr>\n",
       "  </tbody>\n",
       "</table>\n",
       "</div>"
      ],
      "text/plain": [
       "              Ventas Febrero   Ventas Marzo\n",
       "Ventas Enero                               \n",
       "130                      201            900\n",
       "350                      340            100\n",
       "410                     1110           2011\n",
       "677                     6000           5500\n",
       "550                      700            800"
      ]
     },
     "execution_count": 30,
     "metadata": {},
     "output_type": "execute_result"
    }
   ],
   "source": [
    "ventas.head()"
   ]
  },
  {
   "cell_type": "code",
   "execution_count": 81,
   "id": "edc2082f-e2b3-4e18-b288-d8b3864dfdca",
   "metadata": {},
   "outputs": [],
   "source": [
    "venta_vehiculos = pd.read_csv(\"/Machine Learning/Data/Ventas_vehiculos.csv\")"
   ]
  },
  {
   "cell_type": "code",
   "execution_count": 82,
   "id": "4f4f5fd4-1564-4a21-8538-a1d4c6533604",
   "metadata": {},
   "outputs": [
    {
     "data": {
      "text/plain": [
       "<bound method NDFrame.head of             Ciudad      Marca      Mes  Semana   Vehiculo  Cantidad\n",
       "0         Monteria     Toyota    Enero       1       Auto       105\n",
       "1         Monteria     Toyota    Enero       1    Camion          1\n",
       "2           Cerete     Suzuki    Enero       1    Omnibus         2\n",
       "3           Cerete     Toyota  Febrero       1  Camioneta         2\n",
       "4           Lorica     Suzuki    Enero       1       Moto       583\n",
       "5           Cerete    Renault  Febrero       2       Auto       121\n",
       "6         Monteria    Renault    Enero       2    Camion          1\n",
       "7   Cienaga de Oro      Mazda    Enero       2    Omnibus         1\n",
       "8        Tierralta     Toyota    Marzo       2  Camioneta         2\n",
       "9     Pueblo nuevo      Mazda    Marzo       2       Moto       485\n",
       "10        Monteria     Suzuki    Abril       3       Auto       122\n",
       "11    Pueblo nuevo  Chevrolet    Marzo       3    Camion          1\n",
       "12          Pelayo       Ford     Mayo       3    Omnibus         2\n",
       "13          Pelayo  Chevrolet    Junio       3  Camioneta         2\n",
       "14        Monteria  Chevrolet    Junio       3       Moto       630\n",
       "15         Sahagun     Toyota    Marzo       4       Auto        99\n",
       "16         Sahagun       Ford    Enero       4    Camion        990\n",
       "17          Lorica     Suzuki     Mayo       4    Omnibus         1\n",
       "18          Lorica      Mazda    Enero       4  Camioneta         2\n",
       "19       Tierralta      Mazda  Febrero       4       Moto       544>"
      ]
     },
     "execution_count": 82,
     "metadata": {},
     "output_type": "execute_result"
    }
   ],
   "source": [
    "venta_vehiculos.head"
   ]
  },
  {
   "cell_type": "code",
   "execution_count": 84,
   "id": "fe5945b7-7f35-47aa-9b80-52ab2e5c0d30",
   "metadata": {},
   "outputs": [
    {
     "data": {
      "text/plain": [
       "0           Monteria\n",
       "1           Monteria\n",
       "2             Cerete\n",
       "3             Cerete\n",
       "4             Lorica\n",
       "5             Cerete\n",
       "6           Monteria\n",
       "7     Cienaga de Oro\n",
       "8          Tierralta\n",
       "9       Pueblo nuevo\n",
       "10          Monteria\n",
       "11      Pueblo nuevo\n",
       "12            Pelayo\n",
       "13            Pelayo\n",
       "14          Monteria\n",
       "15           Sahagun\n",
       "16           Sahagun\n",
       "17            Lorica\n",
       "18            Lorica\n",
       "19         Tierralta\n",
       "Name: Ciudad, dtype: object"
      ]
     },
     "execution_count": 84,
     "metadata": {},
     "output_type": "execute_result"
    }
   ],
   "source": [
    "venta_vehiculos.Ciudad"
   ]
  },
  {
   "cell_type": "code",
   "execution_count": 86,
   "id": "3cbb7445-d776-47a0-a3cc-d310e9c945a6",
   "metadata": {},
   "outputs": [
    {
     "data": {
      "text/plain": [
       "0           Monteria\n",
       "1           Monteria\n",
       "2             Cerete\n",
       "3             Cerete\n",
       "4             Lorica\n",
       "5             Cerete\n",
       "6           Monteria\n",
       "7     Cienaga de Oro\n",
       "8          Tierralta\n",
       "9       Pueblo nuevo\n",
       "10          Monteria\n",
       "11      Pueblo nuevo\n",
       "12            Pelayo\n",
       "13            Pelayo\n",
       "14          Monteria\n",
       "15           Sahagun\n",
       "16           Sahagun\n",
       "17            Lorica\n",
       "18            Lorica\n",
       "19         Tierralta\n",
       "Name: Ciudad, dtype: object"
      ]
     },
     "execution_count": 86,
     "metadata": {},
     "output_type": "execute_result"
    }
   ],
   "source": [
    "venta_vehiculos['Ciudad']"
   ]
  },
  {
   "cell_type": "code",
   "execution_count": 88,
   "id": "b3afd042-cf99-4d4a-a7c4-3a7e7b0bcb84",
   "metadata": {},
   "outputs": [
    {
     "data": {
      "text/plain": [
       "'Monteria'"
      ]
     },
     "execution_count": 88,
     "metadata": {},
     "output_type": "execute_result"
    }
   ],
   "source": [
    "venta_vehiculos['Ciudad'][0]"
   ]
  },
  {
   "cell_type": "code",
   "execution_count": 90,
   "id": "9f4d5eea-0b38-434d-bced-4bc4851d8fe4",
   "metadata": {},
   "outputs": [
    {
     "data": {
      "text/plain": [
       "Ciudad      Monteria\n",
       "Marca         Toyota\n",
       "Mes            Enero\n",
       "Semana             1\n",
       "Vehiculo        Auto\n",
       "Cantidad         105\n",
       "Name: 0, dtype: object"
      ]
     },
     "execution_count": 90,
     "metadata": {},
     "output_type": "execute_result"
    }
   ],
   "source": [
    "venta_vehiculos.iloc[0]"
   ]
  },
  {
   "cell_type": "code",
   "execution_count": 91,
   "id": "b8131aaf-dc96-404a-bd56-daaa774506c9",
   "metadata": {},
   "outputs": [
    {
     "data": {
      "text/plain": [
       "0           Monteria\n",
       "1           Monteria\n",
       "2             Cerete\n",
       "3             Cerete\n",
       "4             Lorica\n",
       "5             Cerete\n",
       "6           Monteria\n",
       "7     Cienaga de Oro\n",
       "8          Tierralta\n",
       "9       Pueblo nuevo\n",
       "10          Monteria\n",
       "11      Pueblo nuevo\n",
       "12            Pelayo\n",
       "13            Pelayo\n",
       "14          Monteria\n",
       "15           Sahagun\n",
       "16           Sahagun\n",
       "17            Lorica\n",
       "18            Lorica\n",
       "19         Tierralta\n",
       "Name: Ciudad, dtype: object"
      ]
     },
     "execution_count": 91,
     "metadata": {},
     "output_type": "execute_result"
    }
   ],
   "source": [
    "venta_vehiculos.iloc[:,0]"
   ]
  },
  {
   "cell_type": "code",
   "execution_count": 109,
   "id": "096b730a-89fb-4f53-befc-df273871e72d",
   "metadata": {},
   "outputs": [
    {
     "data": {
      "text/plain": [
       "0    Monteria\n",
       "1    Monteria\n",
       "2      Cerete\n",
       "3      Cerete\n",
       "Name: Ciudad, dtype: object"
      ]
     },
     "execution_count": 109,
     "metadata": {},
     "output_type": "execute_result"
    }
   ],
   "source": [
    "venta_vehiculos.iloc[:4, 0]"
   ]
  },
  {
   "cell_type": "code",
   "execution_count": 112,
   "id": "3dc2b692-eb1b-4f2e-8359-751a9e18457d",
   "metadata": {},
   "outputs": [
    {
     "data": {
      "text/plain": [
       "3    Cerete\n",
       "4    Lorica\n",
       "Name: Ciudad, dtype: object"
      ]
     },
     "execution_count": 112,
     "metadata": {},
     "output_type": "execute_result"
    }
   ],
   "source": [
    "venta_vehiculos.iloc[3:5, 0]"
   ]
  },
  {
   "cell_type": "code",
   "execution_count": 113,
   "id": "d228f304-bc38-4194-8020-5b0a1ea058b2",
   "metadata": {},
   "outputs": [
    {
     "data": {
      "text/plain": [
       "0    Monteria\n",
       "3      Cerete\n",
       "5      Cerete\n",
       "Name: Ciudad, dtype: object"
      ]
     },
     "execution_count": 113,
     "metadata": {},
     "output_type": "execute_result"
    }
   ],
   "source": [
    "venta_vehiculos.iloc[[0, 3, 5], 0]"
   ]
  },
  {
   "cell_type": "code",
   "execution_count": 115,
   "id": "50f5eb91-7fc3-4414-acdf-16ea0209384f",
   "metadata": {},
   "outputs": [
    {
     "data": {
      "text/html": [
       "<div>\n",
       "<style scoped>\n",
       "    .dataframe tbody tr th:only-of-type {\n",
       "        vertical-align: middle;\n",
       "    }\n",
       "\n",
       "    .dataframe tbody tr th {\n",
       "        vertical-align: top;\n",
       "    }\n",
       "\n",
       "    .dataframe thead th {\n",
       "        text-align: right;\n",
       "    }\n",
       "</style>\n",
       "<table border=\"1\" class=\"dataframe\">\n",
       "  <thead>\n",
       "    <tr style=\"text-align: right;\">\n",
       "      <th></th>\n",
       "      <th>Ciudad</th>\n",
       "      <th>Marca</th>\n",
       "      <th>Mes</th>\n",
       "      <th>Semana</th>\n",
       "      <th>Vehiculo</th>\n",
       "      <th>Cantidad</th>\n",
       "      <th>Toyota</th>\n",
       "      <th>index_backwards</th>\n",
       "    </tr>\n",
       "  </thead>\n",
       "  <tbody>\n",
       "    <tr>\n",
       "      <th>14</th>\n",
       "      <td>Monteria</td>\n",
       "      <td>Chevrolet</td>\n",
       "      <td>Junio</td>\n",
       "      <td>3</td>\n",
       "      <td>Moto</td>\n",
       "      <td>630</td>\n",
       "      <td>everyone</td>\n",
       "      <td>6</td>\n",
       "    </tr>\n",
       "    <tr>\n",
       "      <th>15</th>\n",
       "      <td>Sahagun</td>\n",
       "      <td>Toyota</td>\n",
       "      <td>Marzo</td>\n",
       "      <td>4</td>\n",
       "      <td>Auto</td>\n",
       "      <td>99</td>\n",
       "      <td>everyone</td>\n",
       "      <td>5</td>\n",
       "    </tr>\n",
       "    <tr>\n",
       "      <th>16</th>\n",
       "      <td>Sahagun</td>\n",
       "      <td>Ford</td>\n",
       "      <td>Enero</td>\n",
       "      <td>4</td>\n",
       "      <td>Camion</td>\n",
       "      <td>990</td>\n",
       "      <td>everyone</td>\n",
       "      <td>4</td>\n",
       "    </tr>\n",
       "    <tr>\n",
       "      <th>17</th>\n",
       "      <td>Lorica</td>\n",
       "      <td>Suzuki</td>\n",
       "      <td>Mayo</td>\n",
       "      <td>4</td>\n",
       "      <td>Omnibus</td>\n",
       "      <td>1</td>\n",
       "      <td>everyone</td>\n",
       "      <td>3</td>\n",
       "    </tr>\n",
       "    <tr>\n",
       "      <th>18</th>\n",
       "      <td>Lorica</td>\n",
       "      <td>Mazda</td>\n",
       "      <td>Enero</td>\n",
       "      <td>4</td>\n",
       "      <td>Camioneta</td>\n",
       "      <td>2</td>\n",
       "      <td>everyone</td>\n",
       "      <td>2</td>\n",
       "    </tr>\n",
       "    <tr>\n",
       "      <th>19</th>\n",
       "      <td>Tierralta</td>\n",
       "      <td>Mazda</td>\n",
       "      <td>Febrero</td>\n",
       "      <td>4</td>\n",
       "      <td>Moto</td>\n",
       "      <td>544</td>\n",
       "      <td>everyone</td>\n",
       "      <td>1</td>\n",
       "    </tr>\n",
       "  </tbody>\n",
       "</table>\n",
       "</div>"
      ],
      "text/plain": [
       "       Ciudad      Marca      Mes  Semana   Vehiculo  Cantidad    Toyota  \\\n",
       "14   Monteria  Chevrolet    Junio       3       Moto       630  everyone   \n",
       "15    Sahagun     Toyota    Marzo       4       Auto        99  everyone   \n",
       "16    Sahagun       Ford    Enero       4    Camion        990  everyone   \n",
       "17     Lorica     Suzuki     Mayo       4    Omnibus         1  everyone   \n",
       "18     Lorica      Mazda    Enero       4  Camioneta         2  everyone   \n",
       "19  Tierralta      Mazda  Febrero       4       Moto       544  everyone   \n",
       "\n",
       "    index_backwards  \n",
       "14                6  \n",
       "15                5  \n",
       "16                4  \n",
       "17                3  \n",
       "18                2  \n",
       "19                1  "
      ]
     },
     "execution_count": 115,
     "metadata": {},
     "output_type": "execute_result"
    }
   ],
   "source": [
    "venta_vehiculos.iloc[-6:]"
   ]
  },
  {
   "cell_type": "code",
   "execution_count": 96,
   "id": "bcdf8af2-4530-4bdc-b9cb-816190afac9e",
   "metadata": {},
   "outputs": [
    {
     "data": {
      "text/plain": [
       "'Monteria'"
      ]
     },
     "execution_count": 96,
     "metadata": {},
     "output_type": "execute_result"
    }
   ],
   "source": [
    "venta_vehiculos.loc[0, 'Ciudad']"
   ]
  },
  {
   "cell_type": "code",
   "execution_count": 98,
   "id": "f70c921f-6aa3-4a54-bf3b-ee6ea940d5ad",
   "metadata": {},
   "outputs": [
    {
     "data": {
      "text/html": [
       "<div>\n",
       "<style scoped>\n",
       "    .dataframe tbody tr th:only-of-type {\n",
       "        vertical-align: middle;\n",
       "    }\n",
       "\n",
       "    .dataframe tbody tr th {\n",
       "        vertical-align: top;\n",
       "    }\n",
       "\n",
       "    .dataframe thead th {\n",
       "        text-align: right;\n",
       "    }\n",
       "</style>\n",
       "<table border=\"1\" class=\"dataframe\">\n",
       "  <thead>\n",
       "    <tr style=\"text-align: right;\">\n",
       "      <th></th>\n",
       "      <th>Ciudad</th>\n",
       "      <th>Marca</th>\n",
       "      <th>Cantidad</th>\n",
       "    </tr>\n",
       "  </thead>\n",
       "  <tbody>\n",
       "    <tr>\n",
       "      <th>0</th>\n",
       "      <td>Monteria</td>\n",
       "      <td>Toyota</td>\n",
       "      <td>105</td>\n",
       "    </tr>\n",
       "    <tr>\n",
       "      <th>1</th>\n",
       "      <td>Monteria</td>\n",
       "      <td>Toyota</td>\n",
       "      <td>1</td>\n",
       "    </tr>\n",
       "    <tr>\n",
       "      <th>2</th>\n",
       "      <td>Cerete</td>\n",
       "      <td>Suzuki</td>\n",
       "      <td>2</td>\n",
       "    </tr>\n",
       "    <tr>\n",
       "      <th>3</th>\n",
       "      <td>Cerete</td>\n",
       "      <td>Toyota</td>\n",
       "      <td>2</td>\n",
       "    </tr>\n",
       "    <tr>\n",
       "      <th>4</th>\n",
       "      <td>Lorica</td>\n",
       "      <td>Suzuki</td>\n",
       "      <td>583</td>\n",
       "    </tr>\n",
       "    <tr>\n",
       "      <th>5</th>\n",
       "      <td>Cerete</td>\n",
       "      <td>Renault</td>\n",
       "      <td>121</td>\n",
       "    </tr>\n",
       "    <tr>\n",
       "      <th>6</th>\n",
       "      <td>Monteria</td>\n",
       "      <td>Renault</td>\n",
       "      <td>1</td>\n",
       "    </tr>\n",
       "    <tr>\n",
       "      <th>7</th>\n",
       "      <td>Cienaga de Oro</td>\n",
       "      <td>Mazda</td>\n",
       "      <td>1</td>\n",
       "    </tr>\n",
       "    <tr>\n",
       "      <th>8</th>\n",
       "      <td>Tierralta</td>\n",
       "      <td>Toyota</td>\n",
       "      <td>2</td>\n",
       "    </tr>\n",
       "    <tr>\n",
       "      <th>9</th>\n",
       "      <td>Pueblo nuevo</td>\n",
       "      <td>Mazda</td>\n",
       "      <td>485</td>\n",
       "    </tr>\n",
       "    <tr>\n",
       "      <th>10</th>\n",
       "      <td>Monteria</td>\n",
       "      <td>Suzuki</td>\n",
       "      <td>122</td>\n",
       "    </tr>\n",
       "    <tr>\n",
       "      <th>11</th>\n",
       "      <td>Pueblo nuevo</td>\n",
       "      <td>Chevrolet</td>\n",
       "      <td>1</td>\n",
       "    </tr>\n",
       "    <tr>\n",
       "      <th>12</th>\n",
       "      <td>Pelayo</td>\n",
       "      <td>Ford</td>\n",
       "      <td>2</td>\n",
       "    </tr>\n",
       "    <tr>\n",
       "      <th>13</th>\n",
       "      <td>Pelayo</td>\n",
       "      <td>Chevrolet</td>\n",
       "      <td>2</td>\n",
       "    </tr>\n",
       "    <tr>\n",
       "      <th>14</th>\n",
       "      <td>Monteria</td>\n",
       "      <td>Chevrolet</td>\n",
       "      <td>630</td>\n",
       "    </tr>\n",
       "    <tr>\n",
       "      <th>15</th>\n",
       "      <td>Sahagun</td>\n",
       "      <td>Toyota</td>\n",
       "      <td>99</td>\n",
       "    </tr>\n",
       "    <tr>\n",
       "      <th>16</th>\n",
       "      <td>Sahagun</td>\n",
       "      <td>Ford</td>\n",
       "      <td>990</td>\n",
       "    </tr>\n",
       "    <tr>\n",
       "      <th>17</th>\n",
       "      <td>Lorica</td>\n",
       "      <td>Suzuki</td>\n",
       "      <td>1</td>\n",
       "    </tr>\n",
       "    <tr>\n",
       "      <th>18</th>\n",
       "      <td>Lorica</td>\n",
       "      <td>Mazda</td>\n",
       "      <td>2</td>\n",
       "    </tr>\n",
       "    <tr>\n",
       "      <th>19</th>\n",
       "      <td>Tierralta</td>\n",
       "      <td>Mazda</td>\n",
       "      <td>544</td>\n",
       "    </tr>\n",
       "  </tbody>\n",
       "</table>\n",
       "</div>"
      ],
      "text/plain": [
       "            Ciudad      Marca  Cantidad\n",
       "0         Monteria     Toyota       105\n",
       "1         Monteria     Toyota         1\n",
       "2           Cerete     Suzuki         2\n",
       "3           Cerete     Toyota         2\n",
       "4           Lorica     Suzuki       583\n",
       "5           Cerete    Renault       121\n",
       "6         Monteria    Renault         1\n",
       "7   Cienaga de Oro      Mazda         1\n",
       "8        Tierralta     Toyota         2\n",
       "9     Pueblo nuevo      Mazda       485\n",
       "10        Monteria     Suzuki       122\n",
       "11    Pueblo nuevo  Chevrolet         1\n",
       "12          Pelayo       Ford         2\n",
       "13          Pelayo  Chevrolet         2\n",
       "14        Monteria  Chevrolet       630\n",
       "15         Sahagun     Toyota        99\n",
       "16         Sahagun       Ford       990\n",
       "17          Lorica     Suzuki         1\n",
       "18          Lorica      Mazda         2\n",
       "19       Tierralta      Mazda       544"
      ]
     },
     "execution_count": 98,
     "metadata": {},
     "output_type": "execute_result"
    }
   ],
   "source": [
    "venta_vehiculos.loc[:, ['Ciudad', 'Marca', 'Cantidad']]"
   ]
  },
  {
   "cell_type": "code",
   "execution_count": 99,
   "id": "f61072e4-a678-4212-8b7b-c4b81d7b1b5e",
   "metadata": {},
   "outputs": [
    {
     "data": {
      "text/plain": [
       "0      True\n",
       "1      True\n",
       "2     False\n",
       "3     False\n",
       "4     False\n",
       "5     False\n",
       "6      True\n",
       "7     False\n",
       "8     False\n",
       "9     False\n",
       "10     True\n",
       "11    False\n",
       "12    False\n",
       "13    False\n",
       "14     True\n",
       "15    False\n",
       "16    False\n",
       "17    False\n",
       "18    False\n",
       "19    False\n",
       "Name: Ciudad, dtype: bool"
      ]
     },
     "execution_count": 99,
     "metadata": {},
     "output_type": "execute_result"
    }
   ],
   "source": [
    "venta_vehiculos.Ciudad == 'Monteria'"
   ]
  },
  {
   "cell_type": "code",
   "execution_count": 100,
   "id": "89a3067c-3426-4ac5-b60f-46bdea72af86",
   "metadata": {},
   "outputs": [
    {
     "data": {
      "text/html": [
       "<div>\n",
       "<style scoped>\n",
       "    .dataframe tbody tr th:only-of-type {\n",
       "        vertical-align: middle;\n",
       "    }\n",
       "\n",
       "    .dataframe tbody tr th {\n",
       "        vertical-align: top;\n",
       "    }\n",
       "\n",
       "    .dataframe thead th {\n",
       "        text-align: right;\n",
       "    }\n",
       "</style>\n",
       "<table border=\"1\" class=\"dataframe\">\n",
       "  <thead>\n",
       "    <tr style=\"text-align: right;\">\n",
       "      <th></th>\n",
       "      <th>Ciudad</th>\n",
       "      <th>Marca</th>\n",
       "      <th>Mes</th>\n",
       "      <th>Semana</th>\n",
       "      <th>Vehiculo</th>\n",
       "      <th>Cantidad</th>\n",
       "    </tr>\n",
       "  </thead>\n",
       "  <tbody>\n",
       "    <tr>\n",
       "      <th>0</th>\n",
       "      <td>Monteria</td>\n",
       "      <td>Toyota</td>\n",
       "      <td>Enero</td>\n",
       "      <td>1</td>\n",
       "      <td>Auto</td>\n",
       "      <td>105</td>\n",
       "    </tr>\n",
       "    <tr>\n",
       "      <th>1</th>\n",
       "      <td>Monteria</td>\n",
       "      <td>Toyota</td>\n",
       "      <td>Enero</td>\n",
       "      <td>1</td>\n",
       "      <td>Camion</td>\n",
       "      <td>1</td>\n",
       "    </tr>\n",
       "    <tr>\n",
       "      <th>6</th>\n",
       "      <td>Monteria</td>\n",
       "      <td>Renault</td>\n",
       "      <td>Enero</td>\n",
       "      <td>2</td>\n",
       "      <td>Camion</td>\n",
       "      <td>1</td>\n",
       "    </tr>\n",
       "    <tr>\n",
       "      <th>10</th>\n",
       "      <td>Monteria</td>\n",
       "      <td>Suzuki</td>\n",
       "      <td>Abril</td>\n",
       "      <td>3</td>\n",
       "      <td>Auto</td>\n",
       "      <td>122</td>\n",
       "    </tr>\n",
       "    <tr>\n",
       "      <th>14</th>\n",
       "      <td>Monteria</td>\n",
       "      <td>Chevrolet</td>\n",
       "      <td>Junio</td>\n",
       "      <td>3</td>\n",
       "      <td>Moto</td>\n",
       "      <td>630</td>\n",
       "    </tr>\n",
       "  </tbody>\n",
       "</table>\n",
       "</div>"
      ],
      "text/plain": [
       "      Ciudad      Marca    Mes  Semana Vehiculo  Cantidad\n",
       "0   Monteria     Toyota  Enero       1     Auto       105\n",
       "1   Monteria     Toyota  Enero       1  Camion          1\n",
       "6   Monteria    Renault  Enero       2  Camion          1\n",
       "10  Monteria     Suzuki  Abril       3     Auto       122\n",
       "14  Monteria  Chevrolet  Junio       3     Moto       630"
      ]
     },
     "execution_count": 100,
     "metadata": {},
     "output_type": "execute_result"
    }
   ],
   "source": [
    "venta_vehiculos.loc[venta_vehiculos.Ciudad == 'Monteria']"
   ]
  },
  {
   "cell_type": "code",
   "execution_count": 102,
   "id": "edc7505b-c056-4a1c-8f55-138cf1fb3b78",
   "metadata": {},
   "outputs": [
    {
     "data": {
      "text/html": [
       "<div>\n",
       "<style scoped>\n",
       "    .dataframe tbody tr th:only-of-type {\n",
       "        vertical-align: middle;\n",
       "    }\n",
       "\n",
       "    .dataframe tbody tr th {\n",
       "        vertical-align: top;\n",
       "    }\n",
       "\n",
       "    .dataframe thead th {\n",
       "        text-align: right;\n",
       "    }\n",
       "</style>\n",
       "<table border=\"1\" class=\"dataframe\">\n",
       "  <thead>\n",
       "    <tr style=\"text-align: right;\">\n",
       "      <th></th>\n",
       "      <th>Ciudad</th>\n",
       "      <th>Marca</th>\n",
       "      <th>Mes</th>\n",
       "      <th>Semana</th>\n",
       "      <th>Vehiculo</th>\n",
       "      <th>Cantidad</th>\n",
       "    </tr>\n",
       "  </thead>\n",
       "  <tbody>\n",
       "    <tr>\n",
       "      <th>0</th>\n",
       "      <td>Monteria</td>\n",
       "      <td>Toyota</td>\n",
       "      <td>Enero</td>\n",
       "      <td>1</td>\n",
       "      <td>Auto</td>\n",
       "      <td>105</td>\n",
       "    </tr>\n",
       "    <tr>\n",
       "      <th>10</th>\n",
       "      <td>Monteria</td>\n",
       "      <td>Suzuki</td>\n",
       "      <td>Abril</td>\n",
       "      <td>3</td>\n",
       "      <td>Auto</td>\n",
       "      <td>122</td>\n",
       "    </tr>\n",
       "    <tr>\n",
       "      <th>14</th>\n",
       "      <td>Monteria</td>\n",
       "      <td>Chevrolet</td>\n",
       "      <td>Junio</td>\n",
       "      <td>3</td>\n",
       "      <td>Moto</td>\n",
       "      <td>630</td>\n",
       "    </tr>\n",
       "  </tbody>\n",
       "</table>\n",
       "</div>"
      ],
      "text/plain": [
       "      Ciudad      Marca    Mes  Semana Vehiculo  Cantidad\n",
       "0   Monteria     Toyota  Enero       1     Auto       105\n",
       "10  Monteria     Suzuki  Abril       3     Auto       122\n",
       "14  Monteria  Chevrolet  Junio       3     Moto       630"
      ]
     },
     "execution_count": 102,
     "metadata": {},
     "output_type": "execute_result"
    }
   ],
   "source": [
    "venta_vehiculos.loc[(venta_vehiculos.Ciudad == 'Monteria') & (venta_vehiculos.Cantidad >= 70)]"
   ]
  },
  {
   "cell_type": "code",
   "execution_count": 103,
   "id": "7c71bfa6-4cb0-4dbe-8d91-fe34999bfc9a",
   "metadata": {},
   "outputs": [
    {
     "data": {
      "text/html": [
       "<div>\n",
       "<style scoped>\n",
       "    .dataframe tbody tr th:only-of-type {\n",
       "        vertical-align: middle;\n",
       "    }\n",
       "\n",
       "    .dataframe tbody tr th {\n",
       "        vertical-align: top;\n",
       "    }\n",
       "\n",
       "    .dataframe thead th {\n",
       "        text-align: right;\n",
       "    }\n",
       "</style>\n",
       "<table border=\"1\" class=\"dataframe\">\n",
       "  <thead>\n",
       "    <tr style=\"text-align: right;\">\n",
       "      <th></th>\n",
       "      <th>Ciudad</th>\n",
       "      <th>Marca</th>\n",
       "      <th>Mes</th>\n",
       "      <th>Semana</th>\n",
       "      <th>Vehiculo</th>\n",
       "      <th>Cantidad</th>\n",
       "    </tr>\n",
       "  </thead>\n",
       "  <tbody>\n",
       "    <tr>\n",
       "      <th>0</th>\n",
       "      <td>Monteria</td>\n",
       "      <td>Toyota</td>\n",
       "      <td>Enero</td>\n",
       "      <td>1</td>\n",
       "      <td>Auto</td>\n",
       "      <td>105</td>\n",
       "    </tr>\n",
       "    <tr>\n",
       "      <th>4</th>\n",
       "      <td>Lorica</td>\n",
       "      <td>Suzuki</td>\n",
       "      <td>Enero</td>\n",
       "      <td>1</td>\n",
       "      <td>Moto</td>\n",
       "      <td>583</td>\n",
       "    </tr>\n",
       "    <tr>\n",
       "      <th>5</th>\n",
       "      <td>Cerete</td>\n",
       "      <td>Renault</td>\n",
       "      <td>Febrero</td>\n",
       "      <td>2</td>\n",
       "      <td>Auto</td>\n",
       "      <td>121</td>\n",
       "    </tr>\n",
       "    <tr>\n",
       "      <th>9</th>\n",
       "      <td>Pueblo nuevo</td>\n",
       "      <td>Mazda</td>\n",
       "      <td>Marzo</td>\n",
       "      <td>2</td>\n",
       "      <td>Moto</td>\n",
       "      <td>485</td>\n",
       "    </tr>\n",
       "    <tr>\n",
       "      <th>10</th>\n",
       "      <td>Monteria</td>\n",
       "      <td>Suzuki</td>\n",
       "      <td>Abril</td>\n",
       "      <td>3</td>\n",
       "      <td>Auto</td>\n",
       "      <td>122</td>\n",
       "    </tr>\n",
       "    <tr>\n",
       "      <th>14</th>\n",
       "      <td>Monteria</td>\n",
       "      <td>Chevrolet</td>\n",
       "      <td>Junio</td>\n",
       "      <td>3</td>\n",
       "      <td>Moto</td>\n",
       "      <td>630</td>\n",
       "    </tr>\n",
       "    <tr>\n",
       "      <th>15</th>\n",
       "      <td>Sahagun</td>\n",
       "      <td>Toyota</td>\n",
       "      <td>Marzo</td>\n",
       "      <td>4</td>\n",
       "      <td>Auto</td>\n",
       "      <td>99</td>\n",
       "    </tr>\n",
       "    <tr>\n",
       "      <th>16</th>\n",
       "      <td>Sahagun</td>\n",
       "      <td>Ford</td>\n",
       "      <td>Enero</td>\n",
       "      <td>4</td>\n",
       "      <td>Camion</td>\n",
       "      <td>990</td>\n",
       "    </tr>\n",
       "    <tr>\n",
       "      <th>17</th>\n",
       "      <td>Lorica</td>\n",
       "      <td>Suzuki</td>\n",
       "      <td>Mayo</td>\n",
       "      <td>4</td>\n",
       "      <td>Omnibus</td>\n",
       "      <td>1</td>\n",
       "    </tr>\n",
       "    <tr>\n",
       "      <th>18</th>\n",
       "      <td>Lorica</td>\n",
       "      <td>Mazda</td>\n",
       "      <td>Enero</td>\n",
       "      <td>4</td>\n",
       "      <td>Camioneta</td>\n",
       "      <td>2</td>\n",
       "    </tr>\n",
       "    <tr>\n",
       "      <th>19</th>\n",
       "      <td>Tierralta</td>\n",
       "      <td>Mazda</td>\n",
       "      <td>Febrero</td>\n",
       "      <td>4</td>\n",
       "      <td>Moto</td>\n",
       "      <td>544</td>\n",
       "    </tr>\n",
       "  </tbody>\n",
       "</table>\n",
       "</div>"
      ],
      "text/plain": [
       "          Ciudad      Marca      Mes  Semana   Vehiculo  Cantidad\n",
       "0       Monteria     Toyota    Enero       1       Auto       105\n",
       "4         Lorica     Suzuki    Enero       1       Moto       583\n",
       "5         Cerete    Renault  Febrero       2       Auto       121\n",
       "9   Pueblo nuevo      Mazda    Marzo       2       Moto       485\n",
       "10      Monteria     Suzuki    Abril       3       Auto       122\n",
       "14      Monteria  Chevrolet    Junio       3       Moto       630\n",
       "15       Sahagun     Toyota    Marzo       4       Auto        99\n",
       "16       Sahagun       Ford    Enero       4    Camion        990\n",
       "17        Lorica     Suzuki     Mayo       4    Omnibus         1\n",
       "18        Lorica      Mazda    Enero       4  Camioneta         2\n",
       "19     Tierralta      Mazda  Febrero       4       Moto       544"
      ]
     },
     "execution_count": 103,
     "metadata": {},
     "output_type": "execute_result"
    }
   ],
   "source": [
    "venta_vehiculos.loc[(venta_vehiculos.Ciudad == 'Lorica') | (venta_vehiculos.Cantidad >= 50)]"
   ]
  },
  {
   "cell_type": "code",
   "execution_count": 104,
   "id": "4ea381e0-355b-4af1-8bc8-9b5b05bb9eb4",
   "metadata": {},
   "outputs": [
    {
     "data": {
      "text/html": [
       "<div>\n",
       "<style scoped>\n",
       "    .dataframe tbody tr th:only-of-type {\n",
       "        vertical-align: middle;\n",
       "    }\n",
       "\n",
       "    .dataframe tbody tr th {\n",
       "        vertical-align: top;\n",
       "    }\n",
       "\n",
       "    .dataframe thead th {\n",
       "        text-align: right;\n",
       "    }\n",
       "</style>\n",
       "<table border=\"1\" class=\"dataframe\">\n",
       "  <thead>\n",
       "    <tr style=\"text-align: right;\">\n",
       "      <th></th>\n",
       "      <th>Ciudad</th>\n",
       "      <th>Marca</th>\n",
       "      <th>Mes</th>\n",
       "      <th>Semana</th>\n",
       "      <th>Vehiculo</th>\n",
       "      <th>Cantidad</th>\n",
       "    </tr>\n",
       "  </thead>\n",
       "  <tbody>\n",
       "    <tr>\n",
       "      <th>0</th>\n",
       "      <td>Monteria</td>\n",
       "      <td>Toyota</td>\n",
       "      <td>Enero</td>\n",
       "      <td>1</td>\n",
       "      <td>Auto</td>\n",
       "      <td>105</td>\n",
       "    </tr>\n",
       "    <tr>\n",
       "      <th>1</th>\n",
       "      <td>Monteria</td>\n",
       "      <td>Toyota</td>\n",
       "      <td>Enero</td>\n",
       "      <td>1</td>\n",
       "      <td>Camion</td>\n",
       "      <td>1</td>\n",
       "    </tr>\n",
       "    <tr>\n",
       "      <th>4</th>\n",
       "      <td>Lorica</td>\n",
       "      <td>Suzuki</td>\n",
       "      <td>Enero</td>\n",
       "      <td>1</td>\n",
       "      <td>Moto</td>\n",
       "      <td>583</td>\n",
       "    </tr>\n",
       "    <tr>\n",
       "      <th>6</th>\n",
       "      <td>Monteria</td>\n",
       "      <td>Renault</td>\n",
       "      <td>Enero</td>\n",
       "      <td>2</td>\n",
       "      <td>Camion</td>\n",
       "      <td>1</td>\n",
       "    </tr>\n",
       "    <tr>\n",
       "      <th>10</th>\n",
       "      <td>Monteria</td>\n",
       "      <td>Suzuki</td>\n",
       "      <td>Abril</td>\n",
       "      <td>3</td>\n",
       "      <td>Auto</td>\n",
       "      <td>122</td>\n",
       "    </tr>\n",
       "    <tr>\n",
       "      <th>14</th>\n",
       "      <td>Monteria</td>\n",
       "      <td>Chevrolet</td>\n",
       "      <td>Junio</td>\n",
       "      <td>3</td>\n",
       "      <td>Moto</td>\n",
       "      <td>630</td>\n",
       "    </tr>\n",
       "    <tr>\n",
       "      <th>17</th>\n",
       "      <td>Lorica</td>\n",
       "      <td>Suzuki</td>\n",
       "      <td>Mayo</td>\n",
       "      <td>4</td>\n",
       "      <td>Omnibus</td>\n",
       "      <td>1</td>\n",
       "    </tr>\n",
       "    <tr>\n",
       "      <th>18</th>\n",
       "      <td>Lorica</td>\n",
       "      <td>Mazda</td>\n",
       "      <td>Enero</td>\n",
       "      <td>4</td>\n",
       "      <td>Camioneta</td>\n",
       "      <td>2</td>\n",
       "    </tr>\n",
       "  </tbody>\n",
       "</table>\n",
       "</div>"
      ],
      "text/plain": [
       "      Ciudad      Marca    Mes  Semana   Vehiculo  Cantidad\n",
       "0   Monteria     Toyota  Enero       1       Auto       105\n",
       "1   Monteria     Toyota  Enero       1    Camion          1\n",
       "4     Lorica     Suzuki  Enero       1       Moto       583\n",
       "6   Monteria    Renault  Enero       2    Camion          1\n",
       "10  Monteria     Suzuki  Abril       3       Auto       122\n",
       "14  Monteria  Chevrolet  Junio       3       Moto       630\n",
       "17    Lorica     Suzuki   Mayo       4    Omnibus         1\n",
       "18    Lorica      Mazda  Enero       4  Camioneta         2"
      ]
     },
     "execution_count": 104,
     "metadata": {},
     "output_type": "execute_result"
    }
   ],
   "source": [
    "venta_vehiculos.loc[venta_vehiculos.Ciudad.isin(['Monteria', 'Lorica'])]"
   ]
  },
  {
   "cell_type": "code",
   "execution_count": 105,
   "id": "7161ed3f-8dc4-45fa-9eb8-39eccf61ebe6",
   "metadata": {},
   "outputs": [
    {
     "data": {
      "text/html": [
       "<div>\n",
       "<style scoped>\n",
       "    .dataframe tbody tr th:only-of-type {\n",
       "        vertical-align: middle;\n",
       "    }\n",
       "\n",
       "    .dataframe tbody tr th {\n",
       "        vertical-align: top;\n",
       "    }\n",
       "\n",
       "    .dataframe thead th {\n",
       "        text-align: right;\n",
       "    }\n",
       "</style>\n",
       "<table border=\"1\" class=\"dataframe\">\n",
       "  <thead>\n",
       "    <tr style=\"text-align: right;\">\n",
       "      <th></th>\n",
       "      <th>Ciudad</th>\n",
       "      <th>Marca</th>\n",
       "      <th>Mes</th>\n",
       "      <th>Semana</th>\n",
       "      <th>Vehiculo</th>\n",
       "      <th>Cantidad</th>\n",
       "    </tr>\n",
       "  </thead>\n",
       "  <tbody>\n",
       "    <tr>\n",
       "      <th>0</th>\n",
       "      <td>Monteria</td>\n",
       "      <td>Toyota</td>\n",
       "      <td>Enero</td>\n",
       "      <td>1</td>\n",
       "      <td>Auto</td>\n",
       "      <td>105</td>\n",
       "    </tr>\n",
       "    <tr>\n",
       "      <th>1</th>\n",
       "      <td>Monteria</td>\n",
       "      <td>Toyota</td>\n",
       "      <td>Enero</td>\n",
       "      <td>1</td>\n",
       "      <td>Camion</td>\n",
       "      <td>1</td>\n",
       "    </tr>\n",
       "    <tr>\n",
       "      <th>2</th>\n",
       "      <td>Cerete</td>\n",
       "      <td>Suzuki</td>\n",
       "      <td>Enero</td>\n",
       "      <td>1</td>\n",
       "      <td>Omnibus</td>\n",
       "      <td>2</td>\n",
       "    </tr>\n",
       "    <tr>\n",
       "      <th>3</th>\n",
       "      <td>Cerete</td>\n",
       "      <td>Toyota</td>\n",
       "      <td>Febrero</td>\n",
       "      <td>1</td>\n",
       "      <td>Camioneta</td>\n",
       "      <td>2</td>\n",
       "    </tr>\n",
       "    <tr>\n",
       "      <th>4</th>\n",
       "      <td>Lorica</td>\n",
       "      <td>Suzuki</td>\n",
       "      <td>Enero</td>\n",
       "      <td>1</td>\n",
       "      <td>Moto</td>\n",
       "      <td>583</td>\n",
       "    </tr>\n",
       "    <tr>\n",
       "      <th>5</th>\n",
       "      <td>Cerete</td>\n",
       "      <td>Renault</td>\n",
       "      <td>Febrero</td>\n",
       "      <td>2</td>\n",
       "      <td>Auto</td>\n",
       "      <td>121</td>\n",
       "    </tr>\n",
       "    <tr>\n",
       "      <th>6</th>\n",
       "      <td>Monteria</td>\n",
       "      <td>Renault</td>\n",
       "      <td>Enero</td>\n",
       "      <td>2</td>\n",
       "      <td>Camion</td>\n",
       "      <td>1</td>\n",
       "    </tr>\n",
       "    <tr>\n",
       "      <th>7</th>\n",
       "      <td>Cienaga de Oro</td>\n",
       "      <td>Mazda</td>\n",
       "      <td>Enero</td>\n",
       "      <td>2</td>\n",
       "      <td>Omnibus</td>\n",
       "      <td>1</td>\n",
       "    </tr>\n",
       "    <tr>\n",
       "      <th>8</th>\n",
       "      <td>Tierralta</td>\n",
       "      <td>Toyota</td>\n",
       "      <td>Marzo</td>\n",
       "      <td>2</td>\n",
       "      <td>Camioneta</td>\n",
       "      <td>2</td>\n",
       "    </tr>\n",
       "    <tr>\n",
       "      <th>9</th>\n",
       "      <td>Pueblo nuevo</td>\n",
       "      <td>Mazda</td>\n",
       "      <td>Marzo</td>\n",
       "      <td>2</td>\n",
       "      <td>Moto</td>\n",
       "      <td>485</td>\n",
       "    </tr>\n",
       "    <tr>\n",
       "      <th>10</th>\n",
       "      <td>Monteria</td>\n",
       "      <td>Suzuki</td>\n",
       "      <td>Abril</td>\n",
       "      <td>3</td>\n",
       "      <td>Auto</td>\n",
       "      <td>122</td>\n",
       "    </tr>\n",
       "    <tr>\n",
       "      <th>11</th>\n",
       "      <td>Pueblo nuevo</td>\n",
       "      <td>Chevrolet</td>\n",
       "      <td>Marzo</td>\n",
       "      <td>3</td>\n",
       "      <td>Camion</td>\n",
       "      <td>1</td>\n",
       "    </tr>\n",
       "    <tr>\n",
       "      <th>12</th>\n",
       "      <td>Pelayo</td>\n",
       "      <td>Ford</td>\n",
       "      <td>Mayo</td>\n",
       "      <td>3</td>\n",
       "      <td>Omnibus</td>\n",
       "      <td>2</td>\n",
       "    </tr>\n",
       "    <tr>\n",
       "      <th>13</th>\n",
       "      <td>Pelayo</td>\n",
       "      <td>Chevrolet</td>\n",
       "      <td>Junio</td>\n",
       "      <td>3</td>\n",
       "      <td>Camioneta</td>\n",
       "      <td>2</td>\n",
       "    </tr>\n",
       "    <tr>\n",
       "      <th>14</th>\n",
       "      <td>Monteria</td>\n",
       "      <td>Chevrolet</td>\n",
       "      <td>Junio</td>\n",
       "      <td>3</td>\n",
       "      <td>Moto</td>\n",
       "      <td>630</td>\n",
       "    </tr>\n",
       "    <tr>\n",
       "      <th>15</th>\n",
       "      <td>Sahagun</td>\n",
       "      <td>Toyota</td>\n",
       "      <td>Marzo</td>\n",
       "      <td>4</td>\n",
       "      <td>Auto</td>\n",
       "      <td>99</td>\n",
       "    </tr>\n",
       "    <tr>\n",
       "      <th>16</th>\n",
       "      <td>Sahagun</td>\n",
       "      <td>Ford</td>\n",
       "      <td>Enero</td>\n",
       "      <td>4</td>\n",
       "      <td>Camion</td>\n",
       "      <td>990</td>\n",
       "    </tr>\n",
       "    <tr>\n",
       "      <th>17</th>\n",
       "      <td>Lorica</td>\n",
       "      <td>Suzuki</td>\n",
       "      <td>Mayo</td>\n",
       "      <td>4</td>\n",
       "      <td>Omnibus</td>\n",
       "      <td>1</td>\n",
       "    </tr>\n",
       "    <tr>\n",
       "      <th>18</th>\n",
       "      <td>Lorica</td>\n",
       "      <td>Mazda</td>\n",
       "      <td>Enero</td>\n",
       "      <td>4</td>\n",
       "      <td>Camioneta</td>\n",
       "      <td>2</td>\n",
       "    </tr>\n",
       "    <tr>\n",
       "      <th>19</th>\n",
       "      <td>Tierralta</td>\n",
       "      <td>Mazda</td>\n",
       "      <td>Febrero</td>\n",
       "      <td>4</td>\n",
       "      <td>Moto</td>\n",
       "      <td>544</td>\n",
       "    </tr>\n",
       "  </tbody>\n",
       "</table>\n",
       "</div>"
      ],
      "text/plain": [
       "            Ciudad      Marca      Mes  Semana   Vehiculo  Cantidad\n",
       "0         Monteria     Toyota    Enero       1       Auto       105\n",
       "1         Monteria     Toyota    Enero       1    Camion          1\n",
       "2           Cerete     Suzuki    Enero       1    Omnibus         2\n",
       "3           Cerete     Toyota  Febrero       1  Camioneta         2\n",
       "4           Lorica     Suzuki    Enero       1       Moto       583\n",
       "5           Cerete    Renault  Febrero       2       Auto       121\n",
       "6         Monteria    Renault    Enero       2    Camion          1\n",
       "7   Cienaga de Oro      Mazda    Enero       2    Omnibus         1\n",
       "8        Tierralta     Toyota    Marzo       2  Camioneta         2\n",
       "9     Pueblo nuevo      Mazda    Marzo       2       Moto       485\n",
       "10        Monteria     Suzuki    Abril       3       Auto       122\n",
       "11    Pueblo nuevo  Chevrolet    Marzo       3    Camion          1\n",
       "12          Pelayo       Ford     Mayo       3    Omnibus         2\n",
       "13          Pelayo  Chevrolet    Junio       3  Camioneta         2\n",
       "14        Monteria  Chevrolet    Junio       3       Moto       630\n",
       "15         Sahagun     Toyota    Marzo       4       Auto        99\n",
       "16         Sahagun       Ford    Enero       4    Camion        990\n",
       "17          Lorica     Suzuki     Mayo       4    Omnibus         1\n",
       "18          Lorica      Mazda    Enero       4  Camioneta         2\n",
       "19       Tierralta      Mazda  Febrero       4       Moto       544"
      ]
     },
     "execution_count": 105,
     "metadata": {},
     "output_type": "execute_result"
    }
   ],
   "source": [
    "venta_vehiculos.loc[venta_vehiculos.Cantidad.notnull()]"
   ]
  },
  {
   "cell_type": "code",
   "execution_count": 116,
   "id": "e23834da-eea0-4a2f-a778-81a12e09b772",
   "metadata": {},
   "outputs": [
    {
     "data": {
      "text/plain": [
       "0     Toyota_Japan\n",
       "1     Toyota_Japan\n",
       "2     Toyota_Japan\n",
       "3     Toyota_Japan\n",
       "4     Toyota_Japan\n",
       "5     Toyota_Japan\n",
       "6     Toyota_Japan\n",
       "7     Toyota_Japan\n",
       "8     Toyota_Japan\n",
       "9     Toyota_Japan\n",
       "10    Toyota_Japan\n",
       "11    Toyota_Japan\n",
       "12    Toyota_Japan\n",
       "13    Toyota_Japan\n",
       "14    Toyota_Japan\n",
       "15    Toyota_Japan\n",
       "16    Toyota_Japan\n",
       "17    Toyota_Japan\n",
       "18    Toyota_Japan\n",
       "19    Toyota_Japan\n",
       "Name: Toyota, dtype: object"
      ]
     },
     "execution_count": 116,
     "metadata": {},
     "output_type": "execute_result"
    }
   ],
   "source": [
    "venta_vehiculos['Toyota'] = 'Toyota_Japan'\n",
    "venta_vehiculos['Toyota']"
   ]
  },
  {
   "cell_type": "code",
   "execution_count": 108,
   "id": "31052953-e4d4-4a87-8428-e32a4237f7a2",
   "metadata": {},
   "outputs": [
    {
     "data": {
      "text/plain": [
       "0     20\n",
       "1     19\n",
       "2     18\n",
       "3     17\n",
       "4     16\n",
       "5     15\n",
       "6     14\n",
       "7     13\n",
       "8     12\n",
       "9     11\n",
       "10    10\n",
       "11     9\n",
       "12     8\n",
       "13     7\n",
       "14     6\n",
       "15     5\n",
       "16     4\n",
       "17     3\n",
       "18     2\n",
       "19     1\n",
       "Name: index_backwards, dtype: int64"
      ]
     },
     "execution_count": 108,
     "metadata": {},
     "output_type": "execute_result"
    }
   ],
   "source": [
    "venta_vehiculos['index_backwards'] = range(len(venta_vehiculos), 0, -1)\n",
    "venta_vehiculos['index_backwards']"
   ]
  },
  {
   "cell_type": "code",
   "execution_count": 118,
   "id": "28b29bb6-e9df-43e3-8ea9-ee0ba31bac11",
   "metadata": {},
   "outputs": [
    {
     "data": {
      "text/plain": [
       "count     20.000000\n",
       "mean     184.800000\n",
       "std      291.584528\n",
       "min        1.000000\n",
       "25%        1.750000\n",
       "50%        2.000000\n",
       "75%      212.750000\n",
       "max      990.000000\n",
       "Name: Cantidad, dtype: float64"
      ]
     },
     "execution_count": 118,
     "metadata": {},
     "output_type": "execute_result"
    }
   ],
   "source": [
    "venta_vehiculos.Cantidad.describe()"
   ]
  },
  {
   "cell_type": "code",
   "execution_count": 120,
   "id": "5ccec466-d83d-4ff7-9a9d-05332389f933",
   "metadata": {},
   "outputs": [
    {
     "data": {
      "text/plain": [
       "count         20\n",
       "unique         6\n",
       "top       Toyota\n",
       "freq           5\n",
       "Name: Marca, dtype: object"
      ]
     },
     "execution_count": 120,
     "metadata": {},
     "output_type": "execute_result"
    }
   ],
   "source": [
    "venta_vehiculos.Marca.describe()"
   ]
  },
  {
   "cell_type": "code",
   "execution_count": 121,
   "id": "900b5bb9-6328-4ca3-b4da-c1fe596589eb",
   "metadata": {},
   "outputs": [
    {
     "data": {
      "text/plain": [
       "184.8"
      ]
     },
     "execution_count": 121,
     "metadata": {},
     "output_type": "execute_result"
    }
   ],
   "source": [
    "venta_vehiculos.Cantidad.mean()"
   ]
  },
  {
   "cell_type": "code",
   "execution_count": 122,
   "id": "ce88b424-1e46-4311-8a13-33333faf02a3",
   "metadata": {},
   "outputs": [
    {
     "data": {
      "text/plain": [
       "array(['Toyota', 'Suzuki', 'Renault', 'Mazda', 'Chevrolet', 'Ford'],\n",
       "      dtype=object)"
      ]
     },
     "execution_count": 122,
     "metadata": {},
     "output_type": "execute_result"
    }
   ],
   "source": [
    "venta_vehiculos.Marca.unique()"
   ]
  },
  {
   "cell_type": "code",
   "execution_count": 123,
   "id": "394ab9ef-7bbe-42b9-b90e-7fbda8db6ce4",
   "metadata": {},
   "outputs": [
    {
     "data": {
      "text/plain": [
       "Toyota       5\n",
       "Suzuki       4\n",
       "Mazda        4\n",
       "Chevrolet    3\n",
       "Renault      2\n",
       "Ford         2\n",
       "Name: Marca, dtype: int64"
      ]
     },
     "execution_count": 123,
     "metadata": {},
     "output_type": "execute_result"
    }
   ],
   "source": [
    "venta_vehiculos.Marca.value_counts()"
   ]
  },
  {
   "cell_type": "code",
   "execution_count": 126,
   "id": "42bda906-73bb-42d2-a9c9-46b51758cdfb",
   "metadata": {},
   "outputs": [
    {
     "data": {
      "text/plain": [
       "0     -79.8\n",
       "1    -183.8\n",
       "2    -182.8\n",
       "3    -182.8\n",
       "4     398.2\n",
       "5     -63.8\n",
       "6    -183.8\n",
       "7    -183.8\n",
       "8    -182.8\n",
       "9     300.2\n",
       "10    -62.8\n",
       "11   -183.8\n",
       "12   -182.8\n",
       "13   -182.8\n",
       "14    445.2\n",
       "15    -85.8\n",
       "16    805.2\n",
       "17   -183.8\n",
       "18   -182.8\n",
       "19    359.2\n",
       "Name: Cantidad, dtype: float64"
      ]
     },
     "execution_count": 126,
     "metadata": {},
     "output_type": "execute_result"
    }
   ],
   "source": [
    "revision_venta_vehiculos_media = venta_vehiculos.Cantidad.mean()\n",
    "venta_vehiculos.Cantidad.map(lambda p: p - revision_venta_vehiculos_media)"
   ]
  },
  {
   "cell_type": "code",
   "execution_count": 127,
   "id": "cd1f5f2d-7d1c-4fe3-a786-f5439e94d1ab",
   "metadata": {},
   "outputs": [
    {
     "data": {
      "text/html": [
       "<div>\n",
       "<style scoped>\n",
       "    .dataframe tbody tr th:only-of-type {\n",
       "        vertical-align: middle;\n",
       "    }\n",
       "\n",
       "    .dataframe tbody tr th {\n",
       "        vertical-align: top;\n",
       "    }\n",
       "\n",
       "    .dataframe thead th {\n",
       "        text-align: right;\n",
       "    }\n",
       "</style>\n",
       "<table border=\"1\" class=\"dataframe\">\n",
       "  <thead>\n",
       "    <tr style=\"text-align: right;\">\n",
       "      <th></th>\n",
       "      <th>Ciudad</th>\n",
       "      <th>Marca</th>\n",
       "      <th>Mes</th>\n",
       "      <th>Semana</th>\n",
       "      <th>Vehiculo</th>\n",
       "      <th>Cantidad</th>\n",
       "      <th>Toyota</th>\n",
       "      <th>index_backwards</th>\n",
       "    </tr>\n",
       "  </thead>\n",
       "  <tbody>\n",
       "    <tr>\n",
       "      <th>0</th>\n",
       "      <td>Monteria</td>\n",
       "      <td>Toyota</td>\n",
       "      <td>Enero</td>\n",
       "      <td>1</td>\n",
       "      <td>Auto</td>\n",
       "      <td>-79.8</td>\n",
       "      <td>Toyota_Japan</td>\n",
       "      <td>20</td>\n",
       "    </tr>\n",
       "    <tr>\n",
       "      <th>1</th>\n",
       "      <td>Monteria</td>\n",
       "      <td>Toyota</td>\n",
       "      <td>Enero</td>\n",
       "      <td>1</td>\n",
       "      <td>Camion</td>\n",
       "      <td>-183.8</td>\n",
       "      <td>Toyota_Japan</td>\n",
       "      <td>19</td>\n",
       "    </tr>\n",
       "    <tr>\n",
       "      <th>2</th>\n",
       "      <td>Cerete</td>\n",
       "      <td>Suzuki</td>\n",
       "      <td>Enero</td>\n",
       "      <td>1</td>\n",
       "      <td>Omnibus</td>\n",
       "      <td>-182.8</td>\n",
       "      <td>Toyota_Japan</td>\n",
       "      <td>18</td>\n",
       "    </tr>\n",
       "    <tr>\n",
       "      <th>3</th>\n",
       "      <td>Cerete</td>\n",
       "      <td>Toyota</td>\n",
       "      <td>Febrero</td>\n",
       "      <td>1</td>\n",
       "      <td>Camioneta</td>\n",
       "      <td>-182.8</td>\n",
       "      <td>Toyota_Japan</td>\n",
       "      <td>17</td>\n",
       "    </tr>\n",
       "    <tr>\n",
       "      <th>4</th>\n",
       "      <td>Lorica</td>\n",
       "      <td>Suzuki</td>\n",
       "      <td>Enero</td>\n",
       "      <td>1</td>\n",
       "      <td>Moto</td>\n",
       "      <td>398.2</td>\n",
       "      <td>Toyota_Japan</td>\n",
       "      <td>16</td>\n",
       "    </tr>\n",
       "    <tr>\n",
       "      <th>5</th>\n",
       "      <td>Cerete</td>\n",
       "      <td>Renault</td>\n",
       "      <td>Febrero</td>\n",
       "      <td>2</td>\n",
       "      <td>Auto</td>\n",
       "      <td>-63.8</td>\n",
       "      <td>Toyota_Japan</td>\n",
       "      <td>15</td>\n",
       "    </tr>\n",
       "    <tr>\n",
       "      <th>6</th>\n",
       "      <td>Monteria</td>\n",
       "      <td>Renault</td>\n",
       "      <td>Enero</td>\n",
       "      <td>2</td>\n",
       "      <td>Camion</td>\n",
       "      <td>-183.8</td>\n",
       "      <td>Toyota_Japan</td>\n",
       "      <td>14</td>\n",
       "    </tr>\n",
       "    <tr>\n",
       "      <th>7</th>\n",
       "      <td>Cienaga de Oro</td>\n",
       "      <td>Mazda</td>\n",
       "      <td>Enero</td>\n",
       "      <td>2</td>\n",
       "      <td>Omnibus</td>\n",
       "      <td>-183.8</td>\n",
       "      <td>Toyota_Japan</td>\n",
       "      <td>13</td>\n",
       "    </tr>\n",
       "    <tr>\n",
       "      <th>8</th>\n",
       "      <td>Tierralta</td>\n",
       "      <td>Toyota</td>\n",
       "      <td>Marzo</td>\n",
       "      <td>2</td>\n",
       "      <td>Camioneta</td>\n",
       "      <td>-182.8</td>\n",
       "      <td>Toyota_Japan</td>\n",
       "      <td>12</td>\n",
       "    </tr>\n",
       "    <tr>\n",
       "      <th>9</th>\n",
       "      <td>Pueblo nuevo</td>\n",
       "      <td>Mazda</td>\n",
       "      <td>Marzo</td>\n",
       "      <td>2</td>\n",
       "      <td>Moto</td>\n",
       "      <td>300.2</td>\n",
       "      <td>Toyota_Japan</td>\n",
       "      <td>11</td>\n",
       "    </tr>\n",
       "    <tr>\n",
       "      <th>10</th>\n",
       "      <td>Monteria</td>\n",
       "      <td>Suzuki</td>\n",
       "      <td>Abril</td>\n",
       "      <td>3</td>\n",
       "      <td>Auto</td>\n",
       "      <td>-62.8</td>\n",
       "      <td>Toyota_Japan</td>\n",
       "      <td>10</td>\n",
       "    </tr>\n",
       "    <tr>\n",
       "      <th>11</th>\n",
       "      <td>Pueblo nuevo</td>\n",
       "      <td>Chevrolet</td>\n",
       "      <td>Marzo</td>\n",
       "      <td>3</td>\n",
       "      <td>Camion</td>\n",
       "      <td>-183.8</td>\n",
       "      <td>Toyota_Japan</td>\n",
       "      <td>9</td>\n",
       "    </tr>\n",
       "    <tr>\n",
       "      <th>12</th>\n",
       "      <td>Pelayo</td>\n",
       "      <td>Ford</td>\n",
       "      <td>Mayo</td>\n",
       "      <td>3</td>\n",
       "      <td>Omnibus</td>\n",
       "      <td>-182.8</td>\n",
       "      <td>Toyota_Japan</td>\n",
       "      <td>8</td>\n",
       "    </tr>\n",
       "    <tr>\n",
       "      <th>13</th>\n",
       "      <td>Pelayo</td>\n",
       "      <td>Chevrolet</td>\n",
       "      <td>Junio</td>\n",
       "      <td>3</td>\n",
       "      <td>Camioneta</td>\n",
       "      <td>-182.8</td>\n",
       "      <td>Toyota_Japan</td>\n",
       "      <td>7</td>\n",
       "    </tr>\n",
       "    <tr>\n",
       "      <th>14</th>\n",
       "      <td>Monteria</td>\n",
       "      <td>Chevrolet</td>\n",
       "      <td>Junio</td>\n",
       "      <td>3</td>\n",
       "      <td>Moto</td>\n",
       "      <td>445.2</td>\n",
       "      <td>Toyota_Japan</td>\n",
       "      <td>6</td>\n",
       "    </tr>\n",
       "    <tr>\n",
       "      <th>15</th>\n",
       "      <td>Sahagun</td>\n",
       "      <td>Toyota</td>\n",
       "      <td>Marzo</td>\n",
       "      <td>4</td>\n",
       "      <td>Auto</td>\n",
       "      <td>-85.8</td>\n",
       "      <td>Toyota_Japan</td>\n",
       "      <td>5</td>\n",
       "    </tr>\n",
       "    <tr>\n",
       "      <th>16</th>\n",
       "      <td>Sahagun</td>\n",
       "      <td>Ford</td>\n",
       "      <td>Enero</td>\n",
       "      <td>4</td>\n",
       "      <td>Camion</td>\n",
       "      <td>805.2</td>\n",
       "      <td>Toyota_Japan</td>\n",
       "      <td>4</td>\n",
       "    </tr>\n",
       "    <tr>\n",
       "      <th>17</th>\n",
       "      <td>Lorica</td>\n",
       "      <td>Suzuki</td>\n",
       "      <td>Mayo</td>\n",
       "      <td>4</td>\n",
       "      <td>Omnibus</td>\n",
       "      <td>-183.8</td>\n",
       "      <td>Toyota_Japan</td>\n",
       "      <td>3</td>\n",
       "    </tr>\n",
       "    <tr>\n",
       "      <th>18</th>\n",
       "      <td>Lorica</td>\n",
       "      <td>Mazda</td>\n",
       "      <td>Enero</td>\n",
       "      <td>4</td>\n",
       "      <td>Camioneta</td>\n",
       "      <td>-182.8</td>\n",
       "      <td>Toyota_Japan</td>\n",
       "      <td>2</td>\n",
       "    </tr>\n",
       "    <tr>\n",
       "      <th>19</th>\n",
       "      <td>Tierralta</td>\n",
       "      <td>Mazda</td>\n",
       "      <td>Febrero</td>\n",
       "      <td>4</td>\n",
       "      <td>Moto</td>\n",
       "      <td>359.2</td>\n",
       "      <td>Toyota_Japan</td>\n",
       "      <td>1</td>\n",
       "    </tr>\n",
       "  </tbody>\n",
       "</table>\n",
       "</div>"
      ],
      "text/plain": [
       "            Ciudad      Marca      Mes  Semana   Vehiculo  Cantidad  \\\n",
       "0         Monteria     Toyota    Enero       1       Auto     -79.8   \n",
       "1         Monteria     Toyota    Enero       1    Camion     -183.8   \n",
       "2           Cerete     Suzuki    Enero       1    Omnibus    -182.8   \n",
       "3           Cerete     Toyota  Febrero       1  Camioneta    -182.8   \n",
       "4           Lorica     Suzuki    Enero       1       Moto     398.2   \n",
       "5           Cerete    Renault  Febrero       2       Auto     -63.8   \n",
       "6         Monteria    Renault    Enero       2    Camion     -183.8   \n",
       "7   Cienaga de Oro      Mazda    Enero       2    Omnibus    -183.8   \n",
       "8        Tierralta     Toyota    Marzo       2  Camioneta    -182.8   \n",
       "9     Pueblo nuevo      Mazda    Marzo       2       Moto     300.2   \n",
       "10        Monteria     Suzuki    Abril       3       Auto     -62.8   \n",
       "11    Pueblo nuevo  Chevrolet    Marzo       3    Camion     -183.8   \n",
       "12          Pelayo       Ford     Mayo       3    Omnibus    -182.8   \n",
       "13          Pelayo  Chevrolet    Junio       3  Camioneta    -182.8   \n",
       "14        Monteria  Chevrolet    Junio       3       Moto     445.2   \n",
       "15         Sahagun     Toyota    Marzo       4       Auto     -85.8   \n",
       "16         Sahagun       Ford    Enero       4    Camion      805.2   \n",
       "17          Lorica     Suzuki     Mayo       4    Omnibus    -183.8   \n",
       "18          Lorica      Mazda    Enero       4  Camioneta    -182.8   \n",
       "19       Tierralta      Mazda  Febrero       4       Moto     359.2   \n",
       "\n",
       "          Toyota  index_backwards  \n",
       "0   Toyota_Japan               20  \n",
       "1   Toyota_Japan               19  \n",
       "2   Toyota_Japan               18  \n",
       "3   Toyota_Japan               17  \n",
       "4   Toyota_Japan               16  \n",
       "5   Toyota_Japan               15  \n",
       "6   Toyota_Japan               14  \n",
       "7   Toyota_Japan               13  \n",
       "8   Toyota_Japan               12  \n",
       "9   Toyota_Japan               11  \n",
       "10  Toyota_Japan               10  \n",
       "11  Toyota_Japan                9  \n",
       "12  Toyota_Japan                8  \n",
       "13  Toyota_Japan                7  \n",
       "14  Toyota_Japan                6  \n",
       "15  Toyota_Japan                5  \n",
       "16  Toyota_Japan                4  \n",
       "17  Toyota_Japan                3  \n",
       "18  Toyota_Japan                2  \n",
       "19  Toyota_Japan                1  "
      ]
     },
     "execution_count": 127,
     "metadata": {},
     "output_type": "execute_result"
    }
   ],
   "source": [
    "def remean_cantidad(row):\n",
    "    row.Cantidad = row.Cantidad - revision_venta_vehiculos_media\n",
    "    return row\n",
    "\n",
    "venta_vehiculos.apply(remean_cantidad, axis='columns')"
   ]
  },
  {
   "cell_type": "code",
   "execution_count": 128,
   "id": "2edc6fa5-d8fd-448b-8204-17fbda694d46",
   "metadata": {},
   "outputs": [
    {
     "data": {
      "text/html": [
       "<div>\n",
       "<style scoped>\n",
       "    .dataframe tbody tr th:only-of-type {\n",
       "        vertical-align: middle;\n",
       "    }\n",
       "\n",
       "    .dataframe tbody tr th {\n",
       "        vertical-align: top;\n",
       "    }\n",
       "\n",
       "    .dataframe thead th {\n",
       "        text-align: right;\n",
       "    }\n",
       "</style>\n",
       "<table border=\"1\" class=\"dataframe\">\n",
       "  <thead>\n",
       "    <tr style=\"text-align: right;\">\n",
       "      <th></th>\n",
       "      <th>Ciudad</th>\n",
       "      <th>Marca</th>\n",
       "      <th>Mes</th>\n",
       "      <th>Semana</th>\n",
       "      <th>Vehiculo</th>\n",
       "      <th>Cantidad</th>\n",
       "      <th>Toyota</th>\n",
       "      <th>index_backwards</th>\n",
       "    </tr>\n",
       "  </thead>\n",
       "  <tbody>\n",
       "    <tr>\n",
       "      <th>0</th>\n",
       "      <td>Monteria</td>\n",
       "      <td>Toyota</td>\n",
       "      <td>Enero</td>\n",
       "      <td>1</td>\n",
       "      <td>Auto</td>\n",
       "      <td>105</td>\n",
       "      <td>Toyota_Japan</td>\n",
       "      <td>20</td>\n",
       "    </tr>\n",
       "  </tbody>\n",
       "</table>\n",
       "</div>"
      ],
      "text/plain": [
       "     Ciudad   Marca    Mes  Semana Vehiculo  Cantidad        Toyota  \\\n",
       "0  Monteria  Toyota  Enero       1     Auto       105  Toyota_Japan   \n",
       "\n",
       "   index_backwards  \n",
       "0               20  "
      ]
     },
     "execution_count": 128,
     "metadata": {},
     "output_type": "execute_result"
    }
   ],
   "source": [
    "venta_vehiculos.head(1)"
   ]
  },
  {
   "cell_type": "code",
   "execution_count": 129,
   "id": "d88ca8aa-b5f9-42f1-b0b3-16cd1e4935f8",
   "metadata": {},
   "outputs": [
    {
     "data": {
      "text/plain": [
       "0     -79.8\n",
       "1    -183.8\n",
       "2    -182.8\n",
       "3    -182.8\n",
       "4     398.2\n",
       "5     -63.8\n",
       "6    -183.8\n",
       "7    -183.8\n",
       "8    -182.8\n",
       "9     300.2\n",
       "10    -62.8\n",
       "11   -183.8\n",
       "12   -182.8\n",
       "13   -182.8\n",
       "14    445.2\n",
       "15    -85.8\n",
       "16    805.2\n",
       "17   -183.8\n",
       "18   -182.8\n",
       "19    359.2\n",
       "Name: Cantidad, dtype: float64"
      ]
     },
     "execution_count": 129,
     "metadata": {},
     "output_type": "execute_result"
    }
   ],
   "source": [
    "revision_venta_vehiculos_media = venta_vehiculos.Cantidad.mean()\n",
    "venta_vehiculos.Cantidad - revision_venta_vehiculos_media"
   ]
  },
  {
   "cell_type": "code",
   "execution_count": 130,
   "id": "7d1e3fa7-6f01-4c85-a5fb-0d92befe2f61",
   "metadata": {},
   "outputs": [
    {
     "data": {
      "text/plain": [
       "0            Monteria - Toyota\n",
       "1            Monteria - Toyota\n",
       "2              Cerete - Suzuki\n",
       "3              Cerete - Toyota\n",
       "4              Lorica - Suzuki\n",
       "5             Cerete - Renault\n",
       "6           Monteria - Renault\n",
       "7       Cienaga de Oro - Mazda\n",
       "8           Tierralta - Toyota\n",
       "9         Pueblo nuevo - Mazda\n",
       "10           Monteria - Suzuki\n",
       "11    Pueblo nuevo - Chevrolet\n",
       "12               Pelayo - Ford\n",
       "13          Pelayo - Chevrolet\n",
       "14        Monteria - Chevrolet\n",
       "15            Sahagun - Toyota\n",
       "16              Sahagun - Ford\n",
       "17             Lorica - Suzuki\n",
       "18              Lorica - Mazda\n",
       "19           Tierralta - Mazda\n",
       "dtype: object"
      ]
     },
     "execution_count": 130,
     "metadata": {},
     "output_type": "execute_result"
    }
   ],
   "source": [
    "venta_vehiculos.Ciudad + \" - \" + venta_vehiculos.Marca"
   ]
  },
  {
   "cell_type": "code",
   "execution_count": 146,
   "id": "a177ffdc-87a3-420c-96d4-81e52b46136b",
   "metadata": {},
   "outputs": [
    {
     "ename": "KeyError",
     "evalue": "'Cantidad'",
     "output_type": "error",
     "traceback": [
      "\u001b[1;31m---------------------------------------------------------------------------\u001b[0m",
      "\u001b[1;31mKeyError\u001b[0m                                  Traceback (most recent call last)",
      "\u001b[1;32m~\\AppData\\Local\\Temp/ipykernel_23484/905424508.py\u001b[0m in \u001b[0;36m<module>\u001b[1;34m\u001b[0m\n\u001b[1;32m----> 1\u001b[1;33m \u001b[0mventa_vehiculos\u001b[0m\u001b[1;33m.\u001b[0m\u001b[0mgroupby\u001b[0m\u001b[1;33m(\u001b[0m\u001b[1;34m'Cantidad'\u001b[0m\u001b[1;33m)\u001b[0m\u001b[1;33m.\u001b[0m\u001b[0mCantidad\u001b[0m\u001b[1;33m.\u001b[0m\u001b[0mcount\u001b[0m\u001b[1;33m(\u001b[0m\u001b[1;33m)\u001b[0m\u001b[1;33m\u001b[0m\u001b[1;33m\u001b[0m\u001b[0m\n\u001b[0m",
      "\u001b[1;32mc:\\users\\jegjo\\appdata\\local\\programs\\python\\python38-32\\lib\\site-packages\\pandas\\core\\frame.py\u001b[0m in \u001b[0;36mgroupby\u001b[1;34m(self, by, axis, level, as_index, sort, group_keys, squeeze, observed, dropna)\u001b[0m\n\u001b[0;32m   7629\u001b[0m         \u001b[1;31m# error: Argument \"squeeze\" to \"DataFrameGroupBy\" has incompatible type\u001b[0m\u001b[1;33m\u001b[0m\u001b[1;33m\u001b[0m\u001b[1;33m\u001b[0m\u001b[0m\n\u001b[0;32m   7630\u001b[0m         \u001b[1;31m# \"Union[bool, NoDefault]\"; expected \"bool\"\u001b[0m\u001b[1;33m\u001b[0m\u001b[1;33m\u001b[0m\u001b[1;33m\u001b[0m\u001b[0m\n\u001b[1;32m-> 7631\u001b[1;33m         return DataFrameGroupBy(\n\u001b[0m\u001b[0;32m   7632\u001b[0m             \u001b[0mobj\u001b[0m\u001b[1;33m=\u001b[0m\u001b[0mself\u001b[0m\u001b[1;33m,\u001b[0m\u001b[1;33m\u001b[0m\u001b[1;33m\u001b[0m\u001b[0m\n\u001b[0;32m   7633\u001b[0m             \u001b[0mkeys\u001b[0m\u001b[1;33m=\u001b[0m\u001b[0mby\u001b[0m\u001b[1;33m,\u001b[0m\u001b[1;33m\u001b[0m\u001b[1;33m\u001b[0m\u001b[0m\n",
      "\u001b[1;32mc:\\users\\jegjo\\appdata\\local\\programs\\python\\python38-32\\lib\\site-packages\\pandas\\core\\groupby\\groupby.py\u001b[0m in \u001b[0;36m__init__\u001b[1;34m(self, obj, keys, axis, level, grouper, exclusions, selection, as_index, sort, group_keys, squeeze, observed, mutated, dropna)\u001b[0m\n\u001b[0;32m    887\u001b[0m             \u001b[1;32mfrom\u001b[0m \u001b[0mpandas\u001b[0m\u001b[1;33m.\u001b[0m\u001b[0mcore\u001b[0m\u001b[1;33m.\u001b[0m\u001b[0mgroupby\u001b[0m\u001b[1;33m.\u001b[0m\u001b[0mgrouper\u001b[0m \u001b[1;32mimport\u001b[0m \u001b[0mget_grouper\u001b[0m\u001b[1;33m\u001b[0m\u001b[1;33m\u001b[0m\u001b[0m\n\u001b[0;32m    888\u001b[0m \u001b[1;33m\u001b[0m\u001b[0m\n\u001b[1;32m--> 889\u001b[1;33m             grouper, exclusions, obj = get_grouper(\n\u001b[0m\u001b[0;32m    890\u001b[0m                 \u001b[0mobj\u001b[0m\u001b[1;33m,\u001b[0m\u001b[1;33m\u001b[0m\u001b[1;33m\u001b[0m\u001b[0m\n\u001b[0;32m    891\u001b[0m                 \u001b[0mkeys\u001b[0m\u001b[1;33m,\u001b[0m\u001b[1;33m\u001b[0m\u001b[1;33m\u001b[0m\u001b[0m\n",
      "\u001b[1;32mc:\\users\\jegjo\\appdata\\local\\programs\\python\\python38-32\\lib\\site-packages\\pandas\\core\\groupby\\grouper.py\u001b[0m in \u001b[0;36mget_grouper\u001b[1;34m(obj, key, axis, level, sort, observed, mutated, validate, dropna)\u001b[0m\n\u001b[0;32m    860\u001b[0m                 \u001b[0min_axis\u001b[0m\u001b[1;33m,\u001b[0m \u001b[0mlevel\u001b[0m\u001b[1;33m,\u001b[0m \u001b[0mgpr\u001b[0m \u001b[1;33m=\u001b[0m \u001b[1;32mFalse\u001b[0m\u001b[1;33m,\u001b[0m \u001b[0mgpr\u001b[0m\u001b[1;33m,\u001b[0m \u001b[1;32mNone\u001b[0m\u001b[1;33m\u001b[0m\u001b[1;33m\u001b[0m\u001b[0m\n\u001b[0;32m    861\u001b[0m             \u001b[1;32melse\u001b[0m\u001b[1;33m:\u001b[0m\u001b[1;33m\u001b[0m\u001b[1;33m\u001b[0m\u001b[0m\n\u001b[1;32m--> 862\u001b[1;33m                 \u001b[1;32mraise\u001b[0m \u001b[0mKeyError\u001b[0m\u001b[1;33m(\u001b[0m\u001b[0mgpr\u001b[0m\u001b[1;33m)\u001b[0m\u001b[1;33m\u001b[0m\u001b[1;33m\u001b[0m\u001b[0m\n\u001b[0m\u001b[0;32m    863\u001b[0m         \u001b[1;32melif\u001b[0m \u001b[0misinstance\u001b[0m\u001b[1;33m(\u001b[0m\u001b[0mgpr\u001b[0m\u001b[1;33m,\u001b[0m \u001b[0mGrouper\u001b[0m\u001b[1;33m)\u001b[0m \u001b[1;32mand\u001b[0m \u001b[0mgpr\u001b[0m\u001b[1;33m.\u001b[0m\u001b[0mkey\u001b[0m \u001b[1;32mis\u001b[0m \u001b[1;32mnot\u001b[0m \u001b[1;32mNone\u001b[0m\u001b[1;33m:\u001b[0m\u001b[1;33m\u001b[0m\u001b[1;33m\u001b[0m\u001b[0m\n\u001b[0;32m    864\u001b[0m             \u001b[1;31m# Add key to exclusions\u001b[0m\u001b[1;33m\u001b[0m\u001b[1;33m\u001b[0m\u001b[1;33m\u001b[0m\u001b[0m\n",
      "\u001b[1;31mKeyError\u001b[0m: 'Cantidad'"
     ]
    }
   ],
   "source": [
    "venta_vehiculos.groupby('Cantidad').Cantidad.count()"
   ]
  },
  {
   "cell_type": "code",
   "execution_count": 141,
   "id": "752805c9-d613-4607-9b31-38a7ac5691ef",
   "metadata": {},
   "outputs": [],
   "source": [
    "venta_vehiculos = pd.read_csv(\"/Machine Learning/Data/mydata_sales.csv\")\n"
   ]
  },
  {
   "cell_type": "code",
   "execution_count": 142,
   "id": "9d2f76e1-5444-47ad-bde4-4f398837e656",
   "metadata": {},
   "outputs": [
    {
     "data": {
      "text/plain": [
       "<bound method NDFrame.head of    Ventas Enero  Ventas Febrero   Ventas Marzo\n",
       "0           130             201            900\n",
       "1           350             340            100\n",
       "2           410            1110           2011\n",
       "3           677            6000           5500\n",
       "4           550             700            800\n",
       "5         36900            4000           5500>"
      ]
     },
     "execution_count": 142,
     "metadata": {},
     "output_type": "execute_result"
    }
   ],
   "source": [
    "venta_vehiculos.head"
   ]
  },
  {
   "cell_type": "code",
   "execution_count": 143,
   "id": "a310e132-66b2-45f4-9a3e-a62734e245a4",
   "metadata": {},
   "outputs": [
    {
     "ename": "KeyError",
     "evalue": "'Cantidad'",
     "output_type": "error",
     "traceback": [
      "\u001b[1;31m---------------------------------------------------------------------------\u001b[0m",
      "\u001b[1;31mKeyError\u001b[0m                                  Traceback (most recent call last)",
      "\u001b[1;32m~\\AppData\\Local\\Temp/ipykernel_23484/3131846199.py\u001b[0m in \u001b[0;36m<module>\u001b[1;34m\u001b[0m\n\u001b[1;32m----> 1\u001b[1;33m \u001b[0mventa_vehiculos\u001b[0m\u001b[1;33m.\u001b[0m\u001b[0mgroupby\u001b[0m\u001b[1;33m(\u001b[0m\u001b[1;34m'Cantidad'\u001b[0m\u001b[1;33m)\u001b[0m\u001b[1;33m.\u001b[0m\u001b[0mPrecio_Unitario\u001b[0m\u001b[1;33m.\u001b[0m\u001b[0mmin\u001b[0m\u001b[1;33m(\u001b[0m\u001b[1;33m)\u001b[0m\u001b[1;33m\u001b[0m\u001b[1;33m\u001b[0m\u001b[0m\n\u001b[0m",
      "\u001b[1;32mc:\\users\\jegjo\\appdata\\local\\programs\\python\\python38-32\\lib\\site-packages\\pandas\\core\\frame.py\u001b[0m in \u001b[0;36mgroupby\u001b[1;34m(self, by, axis, level, as_index, sort, group_keys, squeeze, observed, dropna)\u001b[0m\n\u001b[0;32m   7629\u001b[0m         \u001b[1;31m# error: Argument \"squeeze\" to \"DataFrameGroupBy\" has incompatible type\u001b[0m\u001b[1;33m\u001b[0m\u001b[1;33m\u001b[0m\u001b[1;33m\u001b[0m\u001b[0m\n\u001b[0;32m   7630\u001b[0m         \u001b[1;31m# \"Union[bool, NoDefault]\"; expected \"bool\"\u001b[0m\u001b[1;33m\u001b[0m\u001b[1;33m\u001b[0m\u001b[1;33m\u001b[0m\u001b[0m\n\u001b[1;32m-> 7631\u001b[1;33m         return DataFrameGroupBy(\n\u001b[0m\u001b[0;32m   7632\u001b[0m             \u001b[0mobj\u001b[0m\u001b[1;33m=\u001b[0m\u001b[0mself\u001b[0m\u001b[1;33m,\u001b[0m\u001b[1;33m\u001b[0m\u001b[1;33m\u001b[0m\u001b[0m\n\u001b[0;32m   7633\u001b[0m             \u001b[0mkeys\u001b[0m\u001b[1;33m=\u001b[0m\u001b[0mby\u001b[0m\u001b[1;33m,\u001b[0m\u001b[1;33m\u001b[0m\u001b[1;33m\u001b[0m\u001b[0m\n",
      "\u001b[1;32mc:\\users\\jegjo\\appdata\\local\\programs\\python\\python38-32\\lib\\site-packages\\pandas\\core\\groupby\\groupby.py\u001b[0m in \u001b[0;36m__init__\u001b[1;34m(self, obj, keys, axis, level, grouper, exclusions, selection, as_index, sort, group_keys, squeeze, observed, mutated, dropna)\u001b[0m\n\u001b[0;32m    887\u001b[0m             \u001b[1;32mfrom\u001b[0m \u001b[0mpandas\u001b[0m\u001b[1;33m.\u001b[0m\u001b[0mcore\u001b[0m\u001b[1;33m.\u001b[0m\u001b[0mgroupby\u001b[0m\u001b[1;33m.\u001b[0m\u001b[0mgrouper\u001b[0m \u001b[1;32mimport\u001b[0m \u001b[0mget_grouper\u001b[0m\u001b[1;33m\u001b[0m\u001b[1;33m\u001b[0m\u001b[0m\n\u001b[0;32m    888\u001b[0m \u001b[1;33m\u001b[0m\u001b[0m\n\u001b[1;32m--> 889\u001b[1;33m             grouper, exclusions, obj = get_grouper(\n\u001b[0m\u001b[0;32m    890\u001b[0m                 \u001b[0mobj\u001b[0m\u001b[1;33m,\u001b[0m\u001b[1;33m\u001b[0m\u001b[1;33m\u001b[0m\u001b[0m\n\u001b[0;32m    891\u001b[0m                 \u001b[0mkeys\u001b[0m\u001b[1;33m,\u001b[0m\u001b[1;33m\u001b[0m\u001b[1;33m\u001b[0m\u001b[0m\n",
      "\u001b[1;32mc:\\users\\jegjo\\appdata\\local\\programs\\python\\python38-32\\lib\\site-packages\\pandas\\core\\groupby\\grouper.py\u001b[0m in \u001b[0;36mget_grouper\u001b[1;34m(obj, key, axis, level, sort, observed, mutated, validate, dropna)\u001b[0m\n\u001b[0;32m    860\u001b[0m                 \u001b[0min_axis\u001b[0m\u001b[1;33m,\u001b[0m \u001b[0mlevel\u001b[0m\u001b[1;33m,\u001b[0m \u001b[0mgpr\u001b[0m \u001b[1;33m=\u001b[0m \u001b[1;32mFalse\u001b[0m\u001b[1;33m,\u001b[0m \u001b[0mgpr\u001b[0m\u001b[1;33m,\u001b[0m \u001b[1;32mNone\u001b[0m\u001b[1;33m\u001b[0m\u001b[1;33m\u001b[0m\u001b[0m\n\u001b[0;32m    861\u001b[0m             \u001b[1;32melse\u001b[0m\u001b[1;33m:\u001b[0m\u001b[1;33m\u001b[0m\u001b[1;33m\u001b[0m\u001b[0m\n\u001b[1;32m--> 862\u001b[1;33m                 \u001b[1;32mraise\u001b[0m \u001b[0mKeyError\u001b[0m\u001b[1;33m(\u001b[0m\u001b[0mgpr\u001b[0m\u001b[1;33m)\u001b[0m\u001b[1;33m\u001b[0m\u001b[1;33m\u001b[0m\u001b[0m\n\u001b[0m\u001b[0;32m    863\u001b[0m         \u001b[1;32melif\u001b[0m \u001b[0misinstance\u001b[0m\u001b[1;33m(\u001b[0m\u001b[0mgpr\u001b[0m\u001b[1;33m,\u001b[0m \u001b[0mGrouper\u001b[0m\u001b[1;33m)\u001b[0m \u001b[1;32mand\u001b[0m \u001b[0mgpr\u001b[0m\u001b[1;33m.\u001b[0m\u001b[0mkey\u001b[0m \u001b[1;32mis\u001b[0m \u001b[1;32mnot\u001b[0m \u001b[1;32mNone\u001b[0m\u001b[1;33m:\u001b[0m\u001b[1;33m\u001b[0m\u001b[1;33m\u001b[0m\u001b[0m\n\u001b[0;32m    864\u001b[0m             \u001b[1;31m# Add key to exclusions\u001b[0m\u001b[1;33m\u001b[0m\u001b[1;33m\u001b[0m\u001b[1;33m\u001b[0m\u001b[0m\n",
      "\u001b[1;31mKeyError\u001b[0m: 'Cantidad'"
     ]
    }
   ],
   "source": [
    "venta_vehiculos.groupby('Cantidad').Precio_Unitario.min()"
   ]
  },
  {
   "cell_type": "code",
   "execution_count": 144,
   "id": "a607749f-ae44-4cbd-b9a6-34dd707bd268",
   "metadata": {},
   "outputs": [
    {
     "ename": "KeyError",
     "evalue": "'Cantidad'",
     "output_type": "error",
     "traceback": [
      "\u001b[1;31m---------------------------------------------------------------------------\u001b[0m",
      "\u001b[1;31mKeyError\u001b[0m                                  Traceback (most recent call last)",
      "\u001b[1;32m~\\AppData\\Local\\Temp/ipykernel_23484/905424508.py\u001b[0m in \u001b[0;36m<module>\u001b[1;34m\u001b[0m\n\u001b[1;32m----> 1\u001b[1;33m \u001b[0mventa_vehiculos\u001b[0m\u001b[1;33m.\u001b[0m\u001b[0mgroupby\u001b[0m\u001b[1;33m(\u001b[0m\u001b[1;34m'Cantidad'\u001b[0m\u001b[1;33m)\u001b[0m\u001b[1;33m.\u001b[0m\u001b[0mCantidad\u001b[0m\u001b[1;33m.\u001b[0m\u001b[0mcount\u001b[0m\u001b[1;33m(\u001b[0m\u001b[1;33m)\u001b[0m\u001b[1;33m\u001b[0m\u001b[1;33m\u001b[0m\u001b[0m\n\u001b[0m",
      "\u001b[1;32mc:\\users\\jegjo\\appdata\\local\\programs\\python\\python38-32\\lib\\site-packages\\pandas\\core\\frame.py\u001b[0m in \u001b[0;36mgroupby\u001b[1;34m(self, by, axis, level, as_index, sort, group_keys, squeeze, observed, dropna)\u001b[0m\n\u001b[0;32m   7629\u001b[0m         \u001b[1;31m# error: Argument \"squeeze\" to \"DataFrameGroupBy\" has incompatible type\u001b[0m\u001b[1;33m\u001b[0m\u001b[1;33m\u001b[0m\u001b[1;33m\u001b[0m\u001b[0m\n\u001b[0;32m   7630\u001b[0m         \u001b[1;31m# \"Union[bool, NoDefault]\"; expected \"bool\"\u001b[0m\u001b[1;33m\u001b[0m\u001b[1;33m\u001b[0m\u001b[1;33m\u001b[0m\u001b[0m\n\u001b[1;32m-> 7631\u001b[1;33m         return DataFrameGroupBy(\n\u001b[0m\u001b[0;32m   7632\u001b[0m             \u001b[0mobj\u001b[0m\u001b[1;33m=\u001b[0m\u001b[0mself\u001b[0m\u001b[1;33m,\u001b[0m\u001b[1;33m\u001b[0m\u001b[1;33m\u001b[0m\u001b[0m\n\u001b[0;32m   7633\u001b[0m             \u001b[0mkeys\u001b[0m\u001b[1;33m=\u001b[0m\u001b[0mby\u001b[0m\u001b[1;33m,\u001b[0m\u001b[1;33m\u001b[0m\u001b[1;33m\u001b[0m\u001b[0m\n",
      "\u001b[1;32mc:\\users\\jegjo\\appdata\\local\\programs\\python\\python38-32\\lib\\site-packages\\pandas\\core\\groupby\\groupby.py\u001b[0m in \u001b[0;36m__init__\u001b[1;34m(self, obj, keys, axis, level, grouper, exclusions, selection, as_index, sort, group_keys, squeeze, observed, mutated, dropna)\u001b[0m\n\u001b[0;32m    887\u001b[0m             \u001b[1;32mfrom\u001b[0m \u001b[0mpandas\u001b[0m\u001b[1;33m.\u001b[0m\u001b[0mcore\u001b[0m\u001b[1;33m.\u001b[0m\u001b[0mgroupby\u001b[0m\u001b[1;33m.\u001b[0m\u001b[0mgrouper\u001b[0m \u001b[1;32mimport\u001b[0m \u001b[0mget_grouper\u001b[0m\u001b[1;33m\u001b[0m\u001b[1;33m\u001b[0m\u001b[0m\n\u001b[0;32m    888\u001b[0m \u001b[1;33m\u001b[0m\u001b[0m\n\u001b[1;32m--> 889\u001b[1;33m             grouper, exclusions, obj = get_grouper(\n\u001b[0m\u001b[0;32m    890\u001b[0m                 \u001b[0mobj\u001b[0m\u001b[1;33m,\u001b[0m\u001b[1;33m\u001b[0m\u001b[1;33m\u001b[0m\u001b[0m\n\u001b[0;32m    891\u001b[0m                 \u001b[0mkeys\u001b[0m\u001b[1;33m,\u001b[0m\u001b[1;33m\u001b[0m\u001b[1;33m\u001b[0m\u001b[0m\n",
      "\u001b[1;32mc:\\users\\jegjo\\appdata\\local\\programs\\python\\python38-32\\lib\\site-packages\\pandas\\core\\groupby\\grouper.py\u001b[0m in \u001b[0;36mget_grouper\u001b[1;34m(obj, key, axis, level, sort, observed, mutated, validate, dropna)\u001b[0m\n\u001b[0;32m    860\u001b[0m                 \u001b[0min_axis\u001b[0m\u001b[1;33m,\u001b[0m \u001b[0mlevel\u001b[0m\u001b[1;33m,\u001b[0m \u001b[0mgpr\u001b[0m \u001b[1;33m=\u001b[0m \u001b[1;32mFalse\u001b[0m\u001b[1;33m,\u001b[0m \u001b[0mgpr\u001b[0m\u001b[1;33m,\u001b[0m \u001b[1;32mNone\u001b[0m\u001b[1;33m\u001b[0m\u001b[1;33m\u001b[0m\u001b[0m\n\u001b[0;32m    861\u001b[0m             \u001b[1;32melse\u001b[0m\u001b[1;33m:\u001b[0m\u001b[1;33m\u001b[0m\u001b[1;33m\u001b[0m\u001b[0m\n\u001b[1;32m--> 862\u001b[1;33m                 \u001b[1;32mraise\u001b[0m \u001b[0mKeyError\u001b[0m\u001b[1;33m(\u001b[0m\u001b[0mgpr\u001b[0m\u001b[1;33m)\u001b[0m\u001b[1;33m\u001b[0m\u001b[1;33m\u001b[0m\u001b[0m\n\u001b[0m\u001b[0;32m    863\u001b[0m         \u001b[1;32melif\u001b[0m \u001b[0misinstance\u001b[0m\u001b[1;33m(\u001b[0m\u001b[0mgpr\u001b[0m\u001b[1;33m,\u001b[0m \u001b[0mGrouper\u001b[0m\u001b[1;33m)\u001b[0m \u001b[1;32mand\u001b[0m \u001b[0mgpr\u001b[0m\u001b[1;33m.\u001b[0m\u001b[0mkey\u001b[0m \u001b[1;32mis\u001b[0m \u001b[1;32mnot\u001b[0m \u001b[1;32mNone\u001b[0m\u001b[1;33m:\u001b[0m\u001b[1;33m\u001b[0m\u001b[1;33m\u001b[0m\u001b[0m\n\u001b[0;32m    864\u001b[0m             \u001b[1;31m# Add key to exclusions\u001b[0m\u001b[1;33m\u001b[0m\u001b[1;33m\u001b[0m\u001b[1;33m\u001b[0m\u001b[0m\n",
      "\u001b[1;31mKeyError\u001b[0m: 'Cantidad'"
     ]
    }
   ],
   "source": [
    "venta_vehiculos.groupby('Cantidad').Cantidad.count()"
   ]
  },
  {
   "cell_type": "code",
   "execution_count": null,
   "id": "3fec1480-6b93-4598-8e96-b1ea007ee7ac",
   "metadata": {},
   "outputs": [],
   "source": []
  }
 ],
 "metadata": {
  "kernelspec": {
   "display_name": "Python 3 (ipykernel)",
   "language": "python",
   "name": "python3"
  },
  "language_info": {
   "codemirror_mode": {
    "name": "ipython",
    "version": 3
   },
   "file_extension": ".py",
   "mimetype": "text/x-python",
   "name": "python",
   "nbconvert_exporter": "python",
   "pygments_lexer": "ipython3",
   "version": "3.8.2"
  }
 },
 "nbformat": 4,
 "nbformat_minor": 5
}
