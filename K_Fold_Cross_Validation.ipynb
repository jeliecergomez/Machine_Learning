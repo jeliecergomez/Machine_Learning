{
 "cells": [
  {
   "cell_type": "code",
   "execution_count": 2,
   "id": "e5e2a58d-a844-48ce-9b96-15f3bfab6da1",
   "metadata": {},
   "outputs": [
    {
     "data": {
      "text/html": [
       "<div>\n",
       "<style scoped>\n",
       "    .dataframe tbody tr th:only-of-type {\n",
       "        vertical-align: middle;\n",
       "    }\n",
       "\n",
       "    .dataframe tbody tr th {\n",
       "        vertical-align: top;\n",
       "    }\n",
       "\n",
       "    .dataframe thead th {\n",
       "        text-align: right;\n",
       "    }\n",
       "</style>\n",
       "<table border=\"1\" class=\"dataframe\">\n",
       "  <thead>\n",
       "    <tr style=\"text-align: right;\">\n",
       "      <th></th>\n",
       "      <th>id</th>\n",
       "      <th>diagnosis</th>\n",
       "      <th>radius_mean</th>\n",
       "      <th>texture_mean</th>\n",
       "      <th>perimeter_mean</th>\n",
       "      <th>area_mean</th>\n",
       "      <th>smoothness_mean</th>\n",
       "      <th>compactness_mean</th>\n",
       "      <th>concavity_mean</th>\n",
       "      <th>concave points_mean</th>\n",
       "      <th>...</th>\n",
       "      <th>radius_worst</th>\n",
       "      <th>texture_worst</th>\n",
       "      <th>perimeter_worst</th>\n",
       "      <th>area_worst</th>\n",
       "      <th>smoothness_worst</th>\n",
       "      <th>compactness_worst</th>\n",
       "      <th>concavity_worst</th>\n",
       "      <th>concave points_worst</th>\n",
       "      <th>symmetry_worst</th>\n",
       "      <th>fractal_dimension_worst</th>\n",
       "    </tr>\n",
       "  </thead>\n",
       "  <tbody>\n",
       "    <tr>\n",
       "      <th>0</th>\n",
       "      <td>842302</td>\n",
       "      <td>M</td>\n",
       "      <td>17.99</td>\n",
       "      <td>10.38</td>\n",
       "      <td>122.80</td>\n",
       "      <td>1001.0</td>\n",
       "      <td>0.11840</td>\n",
       "      <td>0.27760</td>\n",
       "      <td>0.3001</td>\n",
       "      <td>0.14710</td>\n",
       "      <td>...</td>\n",
       "      <td>25.38</td>\n",
       "      <td>17.33</td>\n",
       "      <td>184.60</td>\n",
       "      <td>2019.0</td>\n",
       "      <td>0.1622</td>\n",
       "      <td>0.6656</td>\n",
       "      <td>0.7119</td>\n",
       "      <td>0.2654</td>\n",
       "      <td>0.4601</td>\n",
       "      <td>0.11890</td>\n",
       "    </tr>\n",
       "    <tr>\n",
       "      <th>1</th>\n",
       "      <td>842517</td>\n",
       "      <td>M</td>\n",
       "      <td>20.57</td>\n",
       "      <td>17.77</td>\n",
       "      <td>132.90</td>\n",
       "      <td>1326.0</td>\n",
       "      <td>0.08474</td>\n",
       "      <td>0.07864</td>\n",
       "      <td>0.0869</td>\n",
       "      <td>0.07017</td>\n",
       "      <td>...</td>\n",
       "      <td>24.99</td>\n",
       "      <td>23.41</td>\n",
       "      <td>158.80</td>\n",
       "      <td>1956.0</td>\n",
       "      <td>0.1238</td>\n",
       "      <td>0.1866</td>\n",
       "      <td>0.2416</td>\n",
       "      <td>0.1860</td>\n",
       "      <td>0.2750</td>\n",
       "      <td>0.08902</td>\n",
       "    </tr>\n",
       "    <tr>\n",
       "      <th>2</th>\n",
       "      <td>84300903</td>\n",
       "      <td>M</td>\n",
       "      <td>19.69</td>\n",
       "      <td>21.25</td>\n",
       "      <td>130.00</td>\n",
       "      <td>1203.0</td>\n",
       "      <td>0.10960</td>\n",
       "      <td>0.15990</td>\n",
       "      <td>0.1974</td>\n",
       "      <td>0.12790</td>\n",
       "      <td>...</td>\n",
       "      <td>23.57</td>\n",
       "      <td>25.53</td>\n",
       "      <td>152.50</td>\n",
       "      <td>1709.0</td>\n",
       "      <td>0.1444</td>\n",
       "      <td>0.4245</td>\n",
       "      <td>0.4504</td>\n",
       "      <td>0.2430</td>\n",
       "      <td>0.3613</td>\n",
       "      <td>0.08758</td>\n",
       "    </tr>\n",
       "    <tr>\n",
       "      <th>3</th>\n",
       "      <td>84348301</td>\n",
       "      <td>M</td>\n",
       "      <td>11.42</td>\n",
       "      <td>20.38</td>\n",
       "      <td>77.58</td>\n",
       "      <td>386.1</td>\n",
       "      <td>0.14250</td>\n",
       "      <td>0.28390</td>\n",
       "      <td>0.2414</td>\n",
       "      <td>0.10520</td>\n",
       "      <td>...</td>\n",
       "      <td>14.91</td>\n",
       "      <td>26.50</td>\n",
       "      <td>98.87</td>\n",
       "      <td>567.7</td>\n",
       "      <td>0.2098</td>\n",
       "      <td>0.8663</td>\n",
       "      <td>0.6869</td>\n",
       "      <td>0.2575</td>\n",
       "      <td>0.6638</td>\n",
       "      <td>0.17300</td>\n",
       "    </tr>\n",
       "    <tr>\n",
       "      <th>4</th>\n",
       "      <td>84358402</td>\n",
       "      <td>M</td>\n",
       "      <td>20.29</td>\n",
       "      <td>14.34</td>\n",
       "      <td>135.10</td>\n",
       "      <td>1297.0</td>\n",
       "      <td>0.10030</td>\n",
       "      <td>0.13280</td>\n",
       "      <td>0.1980</td>\n",
       "      <td>0.10430</td>\n",
       "      <td>...</td>\n",
       "      <td>22.54</td>\n",
       "      <td>16.67</td>\n",
       "      <td>152.20</td>\n",
       "      <td>1575.0</td>\n",
       "      <td>0.1374</td>\n",
       "      <td>0.2050</td>\n",
       "      <td>0.4000</td>\n",
       "      <td>0.1625</td>\n",
       "      <td>0.2364</td>\n",
       "      <td>0.07678</td>\n",
       "    </tr>\n",
       "  </tbody>\n",
       "</table>\n",
       "<p>5 rows × 32 columns</p>\n",
       "</div>"
      ],
      "text/plain": [
       "         id diagnosis  radius_mean  texture_mean  perimeter_mean  area_mean  \\\n",
       "0    842302         M        17.99         10.38          122.80     1001.0   \n",
       "1    842517         M        20.57         17.77          132.90     1326.0   \n",
       "2  84300903         M        19.69         21.25          130.00     1203.0   \n",
       "3  84348301         M        11.42         20.38           77.58      386.1   \n",
       "4  84358402         M        20.29         14.34          135.10     1297.0   \n",
       "\n",
       "   smoothness_mean  compactness_mean  concavity_mean  concave points_mean  \\\n",
       "0          0.11840           0.27760          0.3001              0.14710   \n",
       "1          0.08474           0.07864          0.0869              0.07017   \n",
       "2          0.10960           0.15990          0.1974              0.12790   \n",
       "3          0.14250           0.28390          0.2414              0.10520   \n",
       "4          0.10030           0.13280          0.1980              0.10430   \n",
       "\n",
       "   ...  radius_worst  texture_worst  perimeter_worst  area_worst  \\\n",
       "0  ...         25.38          17.33           184.60      2019.0   \n",
       "1  ...         24.99          23.41           158.80      1956.0   \n",
       "2  ...         23.57          25.53           152.50      1709.0   \n",
       "3  ...         14.91          26.50            98.87       567.7   \n",
       "4  ...         22.54          16.67           152.20      1575.0   \n",
       "\n",
       "   smoothness_worst  compactness_worst  concavity_worst  concave points_worst  \\\n",
       "0            0.1622             0.6656           0.7119                0.2654   \n",
       "1            0.1238             0.1866           0.2416                0.1860   \n",
       "2            0.1444             0.4245           0.4504                0.2430   \n",
       "3            0.2098             0.8663           0.6869                0.2575   \n",
       "4            0.1374             0.2050           0.4000                0.1625   \n",
       "\n",
       "   symmetry_worst  fractal_dimension_worst  \n",
       "0          0.4601                  0.11890  \n",
       "1          0.2750                  0.08902  \n",
       "2          0.3613                  0.08758  \n",
       "3          0.6638                  0.17300  \n",
       "4          0.2364                  0.07678  \n",
       "\n",
       "[5 rows x 32 columns]"
      ]
     },
     "execution_count": 2,
     "metadata": {},
     "output_type": "execute_result"
    }
   ],
   "source": [
    "import pandas as pd\n",
    "#se define un data frame para cargar el archivo que contiene los datos de entrenamiento\n",
    "dtcancer = pd.read_csv(\"/Machine Learning/Data/data_Breast_Cancer.csv\")\n",
    "#se muestra el dataframe\n",
    "dtcancer.head()"
   ]
  },
  {
   "cell_type": "code",
   "execution_count": null,
   "id": "35b4cae6-97ed-4aec-a548-32b5f4338ba5",
   "metadata": {},
   "outputs": [],
   "source": []
  },
  {
   "cell_type": "code",
   "execution_count": 3,
   "id": "deab5fa9-e841-471c-87f1-e3340d75bc10",
   "metadata": {},
   "outputs": [
    {
     "data": {
      "text/plain": [
       "Index(['id', 'diagnosis', 'radius_mean', 'texture_mean', 'perimeter_mean',\n",
       "       'area_mean', 'smoothness_mean', 'compactness_mean', 'concavity_mean',\n",
       "       'concave points_mean', 'symmetry_mean', 'fractal_dimension_mean',\n",
       "       'radius_se', 'texture_se', 'perimeter_se', 'area_se', 'smoothness_se',\n",
       "       'compactness_se', 'concavity_se', 'concave points_se', 'symmetry_se',\n",
       "       'fractal_dimension_se', 'radius_worst', 'texture_worst',\n",
       "       'perimeter_worst', 'area_worst', 'smoothness_worst',\n",
       "       'compactness_worst', 'concavity_worst', 'concave points_worst',\n",
       "       'symmetry_worst', 'fractal_dimension_worst'],\n",
       "      dtype='object')"
      ]
     },
     "execution_count": 3,
     "metadata": {},
     "output_type": "execute_result"
    }
   ],
   "source": [
    "#permite mostrar el nombre de las columnas \n",
    "col_names=dtcancer.columns\n",
    "col_names"
   ]
  },
  {
   "cell_type": "code",
   "execution_count": 4,
   "id": "f53a7843-02c4-492c-95a2-3da62c775750",
   "metadata": {},
   "outputs": [],
   "source": [
    "#Se elimina los espacios al principio y al final de la cadena:\n",
    "#en el eventual caso de que los hubiera\n",
    "dtcancer.columns=dtcancer.columns.str.strip()"
   ]
  },
  {
   "cell_type": "code",
   "execution_count": 27,
   "id": "1f345475-2abd-4791-9c80-0b6344396147",
   "metadata": {},
   "outputs": [],
   "source": [
    "#Se reemplazará el valor del diagnóstico , donde 0 corresponde Maligno y 1 a Benigno\n",
    "dtcancer=dtcancer.replace(to_replace =\"M\", value =\"0\")\n",
    "dtcancer=dtcancer.replace(to_replace =\"B\", value =\"1\")\n"
   ]
  },
  {
   "cell_type": "code",
   "execution_count": null,
   "id": "4ea2a3ca-0195-4673-8ad3-97a6a5b41668",
   "metadata": {},
   "outputs": [],
   "source": []
  },
  {
   "cell_type": "code",
   "execution_count": 28,
   "id": "a60c9621-94f9-4ac5-9bb5-d61e04f72d3d",
   "metadata": {},
   "outputs": [
    {
     "data": {
      "text/plain": [
       "1    357\n",
       "0    212\n",
       "Name: diagnosis, dtype: int64"
      ]
     },
     "execution_count": 28,
     "metadata": {},
     "output_type": "execute_result"
    }
   ],
   "source": [
    "#Se visualizan el número pruebas tanto malignas como benignas \n",
    "dtcancer['diagnosis'].value_counts()"
   ]
  },
  {
   "cell_type": "code",
   "execution_count": 29,
   "id": "f37e1784-3357-4e01-8cbc-0c6523609970",
   "metadata": {},
   "outputs": [
    {
     "name": "stdout",
     "output_type": "stream",
     "text": [
      "<class 'pandas.core.frame.DataFrame'>\n",
      "RangeIndex: 569 entries, 0 to 568\n",
      "Data columns (total 32 columns):\n",
      " #   Column                   Non-Null Count  Dtype  \n",
      "---  ------                   --------------  -----  \n",
      " 0   id                       569 non-null    int64  \n",
      " 1   diagnosis                569 non-null    object \n",
      " 2   radius_mean              569 non-null    float64\n",
      " 3   texture_mean             569 non-null    float64\n",
      " 4   perimeter_mean           569 non-null    float64\n",
      " 5   area_mean                569 non-null    float64\n",
      " 6   smoothness_mean          569 non-null    float64\n",
      " 7   compactness_mean         569 non-null    float64\n",
      " 8   concavity_mean           569 non-null    float64\n",
      " 9   concave points_mean      569 non-null    float64\n",
      " 10  symmetry_mean            569 non-null    float64\n",
      " 11  fractal_dimension_mean   569 non-null    float64\n",
      " 12  radius_se                569 non-null    float64\n",
      " 13  texture_se               569 non-null    float64\n",
      " 14  perimeter_se             569 non-null    float64\n",
      " 15  area_se                  569 non-null    float64\n",
      " 16  smoothness_se            569 non-null    float64\n",
      " 17  compactness_se           569 non-null    float64\n",
      " 18  concavity_se             569 non-null    float64\n",
      " 19  concave points_se        569 non-null    float64\n",
      " 20  symmetry_se              569 non-null    float64\n",
      " 21  fractal_dimension_se     569 non-null    float64\n",
      " 22  radius_worst             569 non-null    float64\n",
      " 23  texture_worst            569 non-null    float64\n",
      " 24  perimeter_worst          569 non-null    float64\n",
      " 25  area_worst               569 non-null    float64\n",
      " 26  smoothness_worst         569 non-null    float64\n",
      " 27  compactness_worst        569 non-null    float64\n",
      " 28  concavity_worst          569 non-null    float64\n",
      " 29  concave points_worst     569 non-null    float64\n",
      " 30  symmetry_worst           569 non-null    float64\n",
      " 31  fractal_dimension_worst  569 non-null    float64\n",
      "dtypes: float64(30), int64(1), object(1)\n",
      "memory usage: 140.1+ KB\n"
     ]
    }
   ],
   "source": [
    "#Permite viusalizar información del dataframe\n",
    "dtcancer.info()"
   ]
  },
  {
   "cell_type": "code",
   "execution_count": 30,
   "id": "5b1cc664-15bc-490e-ad59-62c5a6d01779",
   "metadata": {},
   "outputs": [
    {
     "data": {
      "text/html": [
       "<div>\n",
       "<style scoped>\n",
       "    .dataframe tbody tr th:only-of-type {\n",
       "        vertical-align: middle;\n",
       "    }\n",
       "\n",
       "    .dataframe tbody tr th {\n",
       "        vertical-align: top;\n",
       "    }\n",
       "\n",
       "    .dataframe thead th {\n",
       "        text-align: right;\n",
       "    }\n",
       "</style>\n",
       "<table border=\"1\" class=\"dataframe\">\n",
       "  <thead>\n",
       "    <tr style=\"text-align: right;\">\n",
       "      <th></th>\n",
       "      <th>id</th>\n",
       "      <th>radius_mean</th>\n",
       "      <th>texture_mean</th>\n",
       "      <th>perimeter_mean</th>\n",
       "      <th>area_mean</th>\n",
       "      <th>smoothness_mean</th>\n",
       "      <th>compactness_mean</th>\n",
       "      <th>concavity_mean</th>\n",
       "      <th>concave points_mean</th>\n",
       "      <th>symmetry_mean</th>\n",
       "      <th>...</th>\n",
       "      <th>radius_worst</th>\n",
       "      <th>texture_worst</th>\n",
       "      <th>perimeter_worst</th>\n",
       "      <th>area_worst</th>\n",
       "      <th>smoothness_worst</th>\n",
       "      <th>compactness_worst</th>\n",
       "      <th>concavity_worst</th>\n",
       "      <th>concave points_worst</th>\n",
       "      <th>symmetry_worst</th>\n",
       "      <th>fractal_dimension_worst</th>\n",
       "    </tr>\n",
       "  </thead>\n",
       "  <tbody>\n",
       "    <tr>\n",
       "      <th>count</th>\n",
       "      <td>5.690000e+02</td>\n",
       "      <td>569.00</td>\n",
       "      <td>569.00</td>\n",
       "      <td>569.00</td>\n",
       "      <td>569.00</td>\n",
       "      <td>569.00</td>\n",
       "      <td>569.00</td>\n",
       "      <td>569.00</td>\n",
       "      <td>569.00</td>\n",
       "      <td>569.00</td>\n",
       "      <td>...</td>\n",
       "      <td>569.00</td>\n",
       "      <td>569.00</td>\n",
       "      <td>569.00</td>\n",
       "      <td>569.00</td>\n",
       "      <td>569.00</td>\n",
       "      <td>569.00</td>\n",
       "      <td>569.00</td>\n",
       "      <td>569.00</td>\n",
       "      <td>569.00</td>\n",
       "      <td>569.00</td>\n",
       "    </tr>\n",
       "    <tr>\n",
       "      <th>mean</th>\n",
       "      <td>3.037183e+07</td>\n",
       "      <td>14.13</td>\n",
       "      <td>19.29</td>\n",
       "      <td>91.97</td>\n",
       "      <td>654.89</td>\n",
       "      <td>0.10</td>\n",
       "      <td>0.10</td>\n",
       "      <td>0.09</td>\n",
       "      <td>0.05</td>\n",
       "      <td>0.18</td>\n",
       "      <td>...</td>\n",
       "      <td>16.27</td>\n",
       "      <td>25.68</td>\n",
       "      <td>107.26</td>\n",
       "      <td>880.58</td>\n",
       "      <td>0.13</td>\n",
       "      <td>0.25</td>\n",
       "      <td>0.27</td>\n",
       "      <td>0.11</td>\n",
       "      <td>0.29</td>\n",
       "      <td>0.08</td>\n",
       "    </tr>\n",
       "    <tr>\n",
       "      <th>std</th>\n",
       "      <td>1.250206e+08</td>\n",
       "      <td>3.52</td>\n",
       "      <td>4.30</td>\n",
       "      <td>24.30</td>\n",
       "      <td>351.91</td>\n",
       "      <td>0.01</td>\n",
       "      <td>0.05</td>\n",
       "      <td>0.08</td>\n",
       "      <td>0.04</td>\n",
       "      <td>0.03</td>\n",
       "      <td>...</td>\n",
       "      <td>4.83</td>\n",
       "      <td>6.15</td>\n",
       "      <td>33.60</td>\n",
       "      <td>569.36</td>\n",
       "      <td>0.02</td>\n",
       "      <td>0.16</td>\n",
       "      <td>0.21</td>\n",
       "      <td>0.07</td>\n",
       "      <td>0.06</td>\n",
       "      <td>0.02</td>\n",
       "    </tr>\n",
       "    <tr>\n",
       "      <th>min</th>\n",
       "      <td>8.670000e+03</td>\n",
       "      <td>6.98</td>\n",
       "      <td>9.71</td>\n",
       "      <td>43.79</td>\n",
       "      <td>143.50</td>\n",
       "      <td>0.05</td>\n",
       "      <td>0.02</td>\n",
       "      <td>0.00</td>\n",
       "      <td>0.00</td>\n",
       "      <td>0.11</td>\n",
       "      <td>...</td>\n",
       "      <td>7.93</td>\n",
       "      <td>12.02</td>\n",
       "      <td>50.41</td>\n",
       "      <td>185.20</td>\n",
       "      <td>0.07</td>\n",
       "      <td>0.03</td>\n",
       "      <td>0.00</td>\n",
       "      <td>0.00</td>\n",
       "      <td>0.16</td>\n",
       "      <td>0.06</td>\n",
       "    </tr>\n",
       "    <tr>\n",
       "      <th>25%</th>\n",
       "      <td>8.692180e+05</td>\n",
       "      <td>11.70</td>\n",
       "      <td>16.17</td>\n",
       "      <td>75.17</td>\n",
       "      <td>420.30</td>\n",
       "      <td>0.09</td>\n",
       "      <td>0.06</td>\n",
       "      <td>0.03</td>\n",
       "      <td>0.02</td>\n",
       "      <td>0.16</td>\n",
       "      <td>...</td>\n",
       "      <td>13.01</td>\n",
       "      <td>21.08</td>\n",
       "      <td>84.11</td>\n",
       "      <td>515.30</td>\n",
       "      <td>0.12</td>\n",
       "      <td>0.15</td>\n",
       "      <td>0.11</td>\n",
       "      <td>0.06</td>\n",
       "      <td>0.25</td>\n",
       "      <td>0.07</td>\n",
       "    </tr>\n",
       "    <tr>\n",
       "      <th>50%</th>\n",
       "      <td>9.060240e+05</td>\n",
       "      <td>13.37</td>\n",
       "      <td>18.84</td>\n",
       "      <td>86.24</td>\n",
       "      <td>551.10</td>\n",
       "      <td>0.10</td>\n",
       "      <td>0.09</td>\n",
       "      <td>0.06</td>\n",
       "      <td>0.03</td>\n",
       "      <td>0.18</td>\n",
       "      <td>...</td>\n",
       "      <td>14.97</td>\n",
       "      <td>25.41</td>\n",
       "      <td>97.66</td>\n",
       "      <td>686.50</td>\n",
       "      <td>0.13</td>\n",
       "      <td>0.21</td>\n",
       "      <td>0.23</td>\n",
       "      <td>0.10</td>\n",
       "      <td>0.28</td>\n",
       "      <td>0.08</td>\n",
       "    </tr>\n",
       "    <tr>\n",
       "      <th>75%</th>\n",
       "      <td>8.813129e+06</td>\n",
       "      <td>15.78</td>\n",
       "      <td>21.80</td>\n",
       "      <td>104.10</td>\n",
       "      <td>782.70</td>\n",
       "      <td>0.11</td>\n",
       "      <td>0.13</td>\n",
       "      <td>0.13</td>\n",
       "      <td>0.07</td>\n",
       "      <td>0.20</td>\n",
       "      <td>...</td>\n",
       "      <td>18.79</td>\n",
       "      <td>29.72</td>\n",
       "      <td>125.40</td>\n",
       "      <td>1084.00</td>\n",
       "      <td>0.15</td>\n",
       "      <td>0.34</td>\n",
       "      <td>0.38</td>\n",
       "      <td>0.16</td>\n",
       "      <td>0.32</td>\n",
       "      <td>0.09</td>\n",
       "    </tr>\n",
       "    <tr>\n",
       "      <th>max</th>\n",
       "      <td>9.113205e+08</td>\n",
       "      <td>28.11</td>\n",
       "      <td>39.28</td>\n",
       "      <td>188.50</td>\n",
       "      <td>2501.00</td>\n",
       "      <td>0.16</td>\n",
       "      <td>0.35</td>\n",
       "      <td>0.43</td>\n",
       "      <td>0.20</td>\n",
       "      <td>0.30</td>\n",
       "      <td>...</td>\n",
       "      <td>36.04</td>\n",
       "      <td>49.54</td>\n",
       "      <td>251.20</td>\n",
       "      <td>4254.00</td>\n",
       "      <td>0.22</td>\n",
       "      <td>1.06</td>\n",
       "      <td>1.25</td>\n",
       "      <td>0.29</td>\n",
       "      <td>0.66</td>\n",
       "      <td>0.21</td>\n",
       "    </tr>\n",
       "  </tbody>\n",
       "</table>\n",
       "<p>8 rows × 31 columns</p>\n",
       "</div>"
      ],
      "text/plain": [
       "                 id  radius_mean  texture_mean  perimeter_mean  area_mean  \\\n",
       "count  5.690000e+02       569.00        569.00          569.00     569.00   \n",
       "mean   3.037183e+07        14.13         19.29           91.97     654.89   \n",
       "std    1.250206e+08         3.52          4.30           24.30     351.91   \n",
       "min    8.670000e+03         6.98          9.71           43.79     143.50   \n",
       "25%    8.692180e+05        11.70         16.17           75.17     420.30   \n",
       "50%    9.060240e+05        13.37         18.84           86.24     551.10   \n",
       "75%    8.813129e+06        15.78         21.80          104.10     782.70   \n",
       "max    9.113205e+08        28.11         39.28          188.50    2501.00   \n",
       "\n",
       "       smoothness_mean  compactness_mean  concavity_mean  concave points_mean  \\\n",
       "count           569.00            569.00          569.00               569.00   \n",
       "mean              0.10              0.10            0.09                 0.05   \n",
       "std               0.01              0.05            0.08                 0.04   \n",
       "min               0.05              0.02            0.00                 0.00   \n",
       "25%               0.09              0.06            0.03                 0.02   \n",
       "50%               0.10              0.09            0.06                 0.03   \n",
       "75%               0.11              0.13            0.13                 0.07   \n",
       "max               0.16              0.35            0.43                 0.20   \n",
       "\n",
       "       symmetry_mean  ...  radius_worst  texture_worst  perimeter_worst  \\\n",
       "count         569.00  ...        569.00         569.00           569.00   \n",
       "mean            0.18  ...         16.27          25.68           107.26   \n",
       "std             0.03  ...          4.83           6.15            33.60   \n",
       "min             0.11  ...          7.93          12.02            50.41   \n",
       "25%             0.16  ...         13.01          21.08            84.11   \n",
       "50%             0.18  ...         14.97          25.41            97.66   \n",
       "75%             0.20  ...         18.79          29.72           125.40   \n",
       "max             0.30  ...         36.04          49.54           251.20   \n",
       "\n",
       "       area_worst  smoothness_worst  compactness_worst  concavity_worst  \\\n",
       "count      569.00            569.00             569.00           569.00   \n",
       "mean       880.58              0.13               0.25             0.27   \n",
       "std        569.36              0.02               0.16             0.21   \n",
       "min        185.20              0.07               0.03             0.00   \n",
       "25%        515.30              0.12               0.15             0.11   \n",
       "50%        686.50              0.13               0.21             0.23   \n",
       "75%       1084.00              0.15               0.34             0.38   \n",
       "max       4254.00              0.22               1.06             1.25   \n",
       "\n",
       "       concave points_worst  symmetry_worst  fractal_dimension_worst  \n",
       "count                569.00          569.00                   569.00  \n",
       "mean                   0.11            0.29                     0.08  \n",
       "std                    0.07            0.06                     0.02  \n",
       "min                    0.00            0.16                     0.06  \n",
       "25%                    0.06            0.25                     0.07  \n",
       "50%                    0.10            0.28                     0.08  \n",
       "75%                    0.16            0.32                     0.09  \n",
       "max                    0.29            0.66                     0.21  \n",
       "\n",
       "[8 rows x 31 columns]"
      ]
     },
     "execution_count": 30,
     "metadata": {},
     "output_type": "execute_result"
    }
   ],
   "source": [
    "#permite mostrar estadísticas del resumen de las variables numéricas\n",
    "round(dtcancer.describe(),2)"
   ]
  },
  {
   "cell_type": "code",
   "execution_count": 31,
   "id": "efa76334-34f1-4f80-b144-cb2204fa8a7c",
   "metadata": {},
   "outputs": [],
   "source": [
    "#Se almacena en la variable inputs la variables independientes y en mytarget la variable dependiente\n",
    "inputs_X=dtcancer.drop('diagnosis', axis='columns')\n",
    "# Se elimina la columna id, debido a que no es relevante\n",
    "inputs_X=dtcancer.drop('id', axis='columns')\n",
    "mytarget_y=dtcancer['diagnosis']"
   ]
  },
  {
   "cell_type": "code",
   "execution_count": 32,
   "id": "85cb852a-8f3c-4df9-a80f-9279133000bd",
   "metadata": {},
   "outputs": [
    {
     "data": {
      "text/html": [
       "<div>\n",
       "<style scoped>\n",
       "    .dataframe tbody tr th:only-of-type {\n",
       "        vertical-align: middle;\n",
       "    }\n",
       "\n",
       "    .dataframe tbody tr th {\n",
       "        vertical-align: top;\n",
       "    }\n",
       "\n",
       "    .dataframe thead th {\n",
       "        text-align: right;\n",
       "    }\n",
       "</style>\n",
       "<table border=\"1\" class=\"dataframe\">\n",
       "  <thead>\n",
       "    <tr style=\"text-align: right;\">\n",
       "      <th></th>\n",
       "      <th>diagnosis</th>\n",
       "      <th>radius_mean</th>\n",
       "      <th>texture_mean</th>\n",
       "      <th>perimeter_mean</th>\n",
       "      <th>area_mean</th>\n",
       "      <th>smoothness_mean</th>\n",
       "      <th>compactness_mean</th>\n",
       "      <th>concavity_mean</th>\n",
       "      <th>concave points_mean</th>\n",
       "      <th>symmetry_mean</th>\n",
       "      <th>...</th>\n",
       "      <th>radius_worst</th>\n",
       "      <th>texture_worst</th>\n",
       "      <th>perimeter_worst</th>\n",
       "      <th>area_worst</th>\n",
       "      <th>smoothness_worst</th>\n",
       "      <th>compactness_worst</th>\n",
       "      <th>concavity_worst</th>\n",
       "      <th>concave points_worst</th>\n",
       "      <th>symmetry_worst</th>\n",
       "      <th>fractal_dimension_worst</th>\n",
       "    </tr>\n",
       "  </thead>\n",
       "  <tbody>\n",
       "    <tr>\n",
       "      <th>0</th>\n",
       "      <td>0</td>\n",
       "      <td>17.99</td>\n",
       "      <td>10.38</td>\n",
       "      <td>122.80</td>\n",
       "      <td>1001.0</td>\n",
       "      <td>0.11840</td>\n",
       "      <td>0.27760</td>\n",
       "      <td>0.3001</td>\n",
       "      <td>0.14710</td>\n",
       "      <td>0.2419</td>\n",
       "      <td>...</td>\n",
       "      <td>25.38</td>\n",
       "      <td>17.33</td>\n",
       "      <td>184.60</td>\n",
       "      <td>2019.0</td>\n",
       "      <td>0.1622</td>\n",
       "      <td>0.6656</td>\n",
       "      <td>0.7119</td>\n",
       "      <td>0.2654</td>\n",
       "      <td>0.4601</td>\n",
       "      <td>0.11890</td>\n",
       "    </tr>\n",
       "    <tr>\n",
       "      <th>1</th>\n",
       "      <td>0</td>\n",
       "      <td>20.57</td>\n",
       "      <td>17.77</td>\n",
       "      <td>132.90</td>\n",
       "      <td>1326.0</td>\n",
       "      <td>0.08474</td>\n",
       "      <td>0.07864</td>\n",
       "      <td>0.0869</td>\n",
       "      <td>0.07017</td>\n",
       "      <td>0.1812</td>\n",
       "      <td>...</td>\n",
       "      <td>24.99</td>\n",
       "      <td>23.41</td>\n",
       "      <td>158.80</td>\n",
       "      <td>1956.0</td>\n",
       "      <td>0.1238</td>\n",
       "      <td>0.1866</td>\n",
       "      <td>0.2416</td>\n",
       "      <td>0.1860</td>\n",
       "      <td>0.2750</td>\n",
       "      <td>0.08902</td>\n",
       "    </tr>\n",
       "    <tr>\n",
       "      <th>2</th>\n",
       "      <td>0</td>\n",
       "      <td>19.69</td>\n",
       "      <td>21.25</td>\n",
       "      <td>130.00</td>\n",
       "      <td>1203.0</td>\n",
       "      <td>0.10960</td>\n",
       "      <td>0.15990</td>\n",
       "      <td>0.1974</td>\n",
       "      <td>0.12790</td>\n",
       "      <td>0.2069</td>\n",
       "      <td>...</td>\n",
       "      <td>23.57</td>\n",
       "      <td>25.53</td>\n",
       "      <td>152.50</td>\n",
       "      <td>1709.0</td>\n",
       "      <td>0.1444</td>\n",
       "      <td>0.4245</td>\n",
       "      <td>0.4504</td>\n",
       "      <td>0.2430</td>\n",
       "      <td>0.3613</td>\n",
       "      <td>0.08758</td>\n",
       "    </tr>\n",
       "    <tr>\n",
       "      <th>3</th>\n",
       "      <td>0</td>\n",
       "      <td>11.42</td>\n",
       "      <td>20.38</td>\n",
       "      <td>77.58</td>\n",
       "      <td>386.1</td>\n",
       "      <td>0.14250</td>\n",
       "      <td>0.28390</td>\n",
       "      <td>0.2414</td>\n",
       "      <td>0.10520</td>\n",
       "      <td>0.2597</td>\n",
       "      <td>...</td>\n",
       "      <td>14.91</td>\n",
       "      <td>26.50</td>\n",
       "      <td>98.87</td>\n",
       "      <td>567.7</td>\n",
       "      <td>0.2098</td>\n",
       "      <td>0.8663</td>\n",
       "      <td>0.6869</td>\n",
       "      <td>0.2575</td>\n",
       "      <td>0.6638</td>\n",
       "      <td>0.17300</td>\n",
       "    </tr>\n",
       "    <tr>\n",
       "      <th>4</th>\n",
       "      <td>0</td>\n",
       "      <td>20.29</td>\n",
       "      <td>14.34</td>\n",
       "      <td>135.10</td>\n",
       "      <td>1297.0</td>\n",
       "      <td>0.10030</td>\n",
       "      <td>0.13280</td>\n",
       "      <td>0.1980</td>\n",
       "      <td>0.10430</td>\n",
       "      <td>0.1809</td>\n",
       "      <td>...</td>\n",
       "      <td>22.54</td>\n",
       "      <td>16.67</td>\n",
       "      <td>152.20</td>\n",
       "      <td>1575.0</td>\n",
       "      <td>0.1374</td>\n",
       "      <td>0.2050</td>\n",
       "      <td>0.4000</td>\n",
       "      <td>0.1625</td>\n",
       "      <td>0.2364</td>\n",
       "      <td>0.07678</td>\n",
       "    </tr>\n",
       "  </tbody>\n",
       "</table>\n",
       "<p>5 rows × 31 columns</p>\n",
       "</div>"
      ],
      "text/plain": [
       "  diagnosis  radius_mean  texture_mean  perimeter_mean  area_mean  \\\n",
       "0         0        17.99         10.38          122.80     1001.0   \n",
       "1         0        20.57         17.77          132.90     1326.0   \n",
       "2         0        19.69         21.25          130.00     1203.0   \n",
       "3         0        11.42         20.38           77.58      386.1   \n",
       "4         0        20.29         14.34          135.10     1297.0   \n",
       "\n",
       "   smoothness_mean  compactness_mean  concavity_mean  concave points_mean  \\\n",
       "0          0.11840           0.27760          0.3001              0.14710   \n",
       "1          0.08474           0.07864          0.0869              0.07017   \n",
       "2          0.10960           0.15990          0.1974              0.12790   \n",
       "3          0.14250           0.28390          0.2414              0.10520   \n",
       "4          0.10030           0.13280          0.1980              0.10430   \n",
       "\n",
       "   symmetry_mean  ...  radius_worst  texture_worst  perimeter_worst  \\\n",
       "0         0.2419  ...         25.38          17.33           184.60   \n",
       "1         0.1812  ...         24.99          23.41           158.80   \n",
       "2         0.2069  ...         23.57          25.53           152.50   \n",
       "3         0.2597  ...         14.91          26.50            98.87   \n",
       "4         0.1809  ...         22.54          16.67           152.20   \n",
       "\n",
       "   area_worst  smoothness_worst  compactness_worst  concavity_worst  \\\n",
       "0      2019.0            0.1622             0.6656           0.7119   \n",
       "1      1956.0            0.1238             0.1866           0.2416   \n",
       "2      1709.0            0.1444             0.4245           0.4504   \n",
       "3       567.7            0.2098             0.8663           0.6869   \n",
       "4      1575.0            0.1374             0.2050           0.4000   \n",
       "\n",
       "   concave points_worst  symmetry_worst  fractal_dimension_worst  \n",
       "0                0.2654          0.4601                  0.11890  \n",
       "1                0.1860          0.2750                  0.08902  \n",
       "2                0.2430          0.3613                  0.08758  \n",
       "3                0.2575          0.6638                  0.17300  \n",
       "4                0.1625          0.2364                  0.07678  \n",
       "\n",
       "[5 rows x 31 columns]"
      ]
     },
     "execution_count": 32,
     "metadata": {},
     "output_type": "execute_result"
    }
   ],
   "source": [
    "#Variables independientes\n",
    "inputs_X.head()"
   ]
  },
  {
   "cell_type": "code",
   "execution_count": 33,
   "id": "16ad9fb0-ca54-4ba5-a1ec-9e742026c8ad",
   "metadata": {},
   "outputs": [
    {
     "data": {
      "text/plain": [
       "0      0\n",
       "1      0\n",
       "2      0\n",
       "3      0\n",
       "4      0\n",
       "      ..\n",
       "564    0\n",
       "565    0\n",
       "566    0\n",
       "567    0\n",
       "568    1\n",
       "Name: diagnosis, Length: 569, dtype: object"
      ]
     },
     "execution_count": 33,
     "metadata": {},
     "output_type": "execute_result"
    }
   ],
   "source": [
    "#Se viualiza la variable dependiente\n",
    "mytarget_y"
   ]
  },
  {
   "cell_type": "code",
   "execution_count": 87,
   "id": "e7f618b2-b9b5-438c-b836-51b77f7babeb",
   "metadata": {},
   "outputs": [],
   "source": [
    "#A continuación se introducirán los datos de entrenamiento y de prueba\n",
    "from sklearn.model_selection import train_test_split\n",
    "\n",
    "X_train, X_test, y_train, y_test = train_test_split(inputs_X, mytarget_y, test_size = 0.2, random_state = 30)"
   ]
  },
  {
   "cell_type": "code",
   "execution_count": 88,
   "id": "0851228c-af84-4e44-bbdb-e4c9c4727702",
   "metadata": {},
   "outputs": [
    {
     "data": {
      "text/plain": [
       "((455, 31), (114, 31))"
      ]
     },
     "execution_count": 88,
     "metadata": {},
     "output_type": "execute_result"
    }
   ],
   "source": [
    "#Visualiza los datos de entrenamiento y el número de variables involucradas \n",
    "X_train.shape, X_test.shape"
   ]
  },
  {
   "cell_type": "code",
   "execution_count": 89,
   "id": "147c6d9d-a5ac-4b52-b984-5e5d9573775e",
   "metadata": {},
   "outputs": [
    {
     "data": {
      "text/plain": [
       "114"
      ]
     },
     "execution_count": 89,
     "metadata": {},
     "output_type": "execute_result"
    }
   ],
   "source": [
    "len(X_test)"
   ]
  },
  {
   "cell_type": "code",
   "execution_count": 90,
   "id": "c75c47ff-8e71-462d-b80d-59f375ab934d",
   "metadata": {},
   "outputs": [
    {
     "data": {
      "text/plain": [
       "RandomForestClassifier()"
      ]
     },
     "execution_count": 90,
     "metadata": {},
     "output_type": "execute_result"
    }
   ],
   "source": [
    "#Se importa el modelo de predicción de bosque aleatorio\n",
    "from sklearn.ensemble import RandomForestClassifier\n",
    "#Se instancia el modelo de clasificación\n",
    "model = RandomForestClassifier()\n",
    "#Al modelo se le pasan los parámetros de entrenamiento\n",
    "model.fit(X_train,y_train)\n"
   ]
  },
  {
   "cell_type": "code",
   "execution_count": 91,
   "id": "a50c0bb5-71d3-4ae9-965d-8661c12773d3",
   "metadata": {},
   "outputs": [
    {
     "data": {
      "text/plain": [
       "1.0"
      ]
     },
     "execution_count": 91,
     "metadata": {},
     "output_type": "execute_result"
    }
   ],
   "source": [
    "#Visualiza el porcentaje de precisión del modelo\n",
    "model.score(X_test,y_test)"
   ]
  },
  {
   "cell_type": "code",
   "execution_count": 92,
   "id": "27c29e96-e8f1-4be2-9dc3-a7053dcd244e",
   "metadata": {},
   "outputs": [
    {
     "data": {
      "text/plain": [
       "array(['0', '0', '1', '0', '1', '0', '1', '1', '1', '1', '1', '0', '1',\n",
       "       '0', '0', '0', '0', '0', '1', '1', '1', '1', '0', '1', '1', '0',\n",
       "       '1', '1', '1', '1', '1', '1', '0', '0', '1', '1', '1', '1', '1',\n",
       "       '1', '0', '1', '1', '1', '0', '0', '0', '0', '1', '1', '1', '1',\n",
       "       '1', '0', '1', '1', '1', '0', '1', '0', '1', '1', '1', '0', '1',\n",
       "       '0', '1', '0', '1', '0', '1', '0', '1', '1', '0', '0', '1', '1',\n",
       "       '0', '0', '0', '1', '1', '1', '0', '0', '1', '1', '1', '0', '0',\n",
       "       '0', '1', '0', '1', '0', '1', '1', '0', '1', '1', '0', '1', '0',\n",
       "       '1', '1', '1', '1', '1', '0', '1', '1', '1', '0'], dtype=object)"
      ]
     },
     "execution_count": 92,
     "metadata": {},
     "output_type": "execute_result"
    }
   ],
   "source": [
    "#Se visualizan las predicciones de acuerdo al dataset de prueba\n",
    "y_predicted = model.predict(X_test)\n",
    "y_predicted"
   ]
  },
  {
   "cell_type": "code",
   "execution_count": 93,
   "id": "f0c2b00c-b081-40fe-9c25-1c1b69b28af1",
   "metadata": {},
   "outputs": [
    {
     "data": {
      "text/plain": [
       "array([[44,  0],\n",
       "       [ 0, 70]], dtype=int64)"
      ]
     },
     "execution_count": 93,
     "metadata": {},
     "output_type": "execute_result"
    }
   ],
   "source": [
    "#Se utiliza la matriz de confusión para observar las aproximaciones del modelo\n",
    "from sklearn.metrics import  confusion_matrix\n",
    "cm= confusion_matrix(y_test,y_predicted)\n",
    "cm"
   ]
  },
  {
   "cell_type": "code",
   "execution_count": 94,
   "id": "44ccdb1a-800b-470e-8145-09a6fd92d1fb",
   "metadata": {},
   "outputs": [
    {
     "data": {
      "text/plain": [
       "Text(69.0, 0.5, 'Verdadero')"
      ]
     },
     "execution_count": 94,
     "metadata": {},
     "output_type": "execute_result"
    },
    {
     "data": {
      "image/png": "[encoded data removed]",
      "text/plain": [
       "<Figure size 720x432 with 2 Axes>"
      ]
     },
     "metadata": {
      "needs_background": "light"
     },
     "output_type": "display_data"
    }
   ],
   "source": [
    "#seaborn es una biblioteca para hacer gráficos estadísticos\n",
    "#Si tiene problemas para ejecutar seaborn ejecute la siguiente instruccion: pip install seaborn\n",
    "import matplotlib.pyplot as plt\n",
    "import seaborn as sn\n",
    "plt.figure(figsize=(10,6))\n",
    "sn.heatmap(cm,annot=True)\n",
    "plt.xlabel('Prediccion')\n",
    "plt.ylabel('Verdadero')"
   ]
  },
  {
   "cell_type": "code",
   "execution_count": null,
   "id": "302989b0-d42b-43d8-ba9a-eac5af9a7046",
   "metadata": {},
   "outputs": [],
   "source": [
    "\n"
   ]
  },
  {
   "cell_type": "code",
   "execution_count": 95,
   "id": "a1184f9b-d92a-4077-ae70-73604db63333",
   "metadata": {},
   "outputs": [
    {
     "data": {
      "image/png": "[encoded data removed]",
      "text/plain": [
       "<Figure size 2880x2880 with 1 Axes>"
      ]
     },
     "metadata": {
      "needs_background": "light"
     },
     "output_type": "display_data"
    }
   ],
   "source": [
    "#Se viualiza de forma gráfica la estimación del bosque aleatorio mediante\n",
    "#un árbol de decisión\n",
    "from sklearn.tree import plot_tree\n",
    "plt.figure(figsize=(40,40))\n",
    "plot_tree(model.estimators_[5], feature_names = X_train.columns,class_names=[\"0\", \"1\",\"2\"],filled=True);"
   ]
  },
  {
   "cell_type": "code",
   "execution_count": 96,
   "id": "243adb7f-3034-47b6-a464-f605a3688d00",
   "metadata": {},
   "outputs": [],
   "source": [
    "#Trabajando ahora con SVM\n",
    "#Se crean unos dataframe temporales de acuerdo a cada especie para visualizarlo en un diagrama de dispersión\n",
    "df0=dtcancer[dtcancer.diagnosis=='0']\n",
    "df1=dtcancer[dtcancer.diagnosis=='1']\n"
   ]
  },
  {
   "cell_type": "code",
   "execution_count": 97,
   "id": "b02f1c4f-6baa-42fe-ad82-06d1d92e757f",
   "metadata": {},
   "outputs": [
    {
     "data": {
      "text/plain": [
       "<matplotlib.collections.PathCollection at 0x1e3fc130>"
      ]
     },
     "execution_count": 97,
     "metadata": {},
     "output_type": "execute_result"
    },
    {
     "data": {
      "image/png": "[encoded data removed]",
      "text/plain": [
       "<Figure size 432x288 with 1 Axes>"
      ]
     },
     "metadata": {
      "needs_background": "light"
     },
     "output_type": "display_data"
    }
   ],
   "source": [
    "#Visualización del diagrama de dispersión\n",
    "plt.xlabel('area_mean')\n",
    "plt.ylabel('perimeter_mean')\n",
    "plt.scatter(df0['area_mean'],df0['perimeter_mean'], color='green',marker='*')\n",
    "plt.scatter(df1['area_mean'],df1['perimeter_mean'], color='blue',marker='+')\n"
   ]
  },
  {
   "cell_type": "code",
   "execution_count": 98,
   "id": "7781d1de-207d-44b3-af87-2d14900b2d24",
   "metadata": {},
   "outputs": [],
   "source": [
    "from sklearn.preprocessing import StandardScaler\n",
    "\n",
    "scaler = StandardScaler()\n",
    "#scaler.fit_transform se utiliza para el ajuste  de parámetros iniciales de acuerdo al conjunto de datos de entrenamiento\n",
    "#además devuelve la trnasformada\n",
    "X_train = scaler.fit_transform(X_train)\n",
    "#scaler.transform se utiliza para para calcular la media y la desviación estándar en un conjunto de entrenamiento para poder volver a aplicar más tarde,\n",
    "#la misma transformación en el conjunto de prueba.\n",
    "X_test = scaler.transform(X_test)"
   ]
  },
  {
   "cell_type": "code",
   "execution_count": 99,
   "id": "8b90c8ad-aaee-4d70-95b5-a9cec1d80209",
   "metadata": {},
   "outputs": [],
   "source": [
    "#Permite conocer cuantas variables se van a utilizar\n",
    "cols=inputs_X.columns"
   ]
  },
  {
   "cell_type": "code",
   "execution_count": 100,
   "id": "7ebbf3f5-369d-42f3-955a-74afa911d738",
   "metadata": {},
   "outputs": [],
   "source": [
    "#Se define a los datos de entrenamiento el número de columnas del dataframe que corresponden a las variables independientes\n",
    "X_train = pd.DataFrame(X_train, columns=[cols])\n"
   ]
  },
  {
   "cell_type": "code",
   "execution_count": 101,
   "id": "1527b174-4624-4a38-8be5-c8d4fb0daf59",
   "metadata": {},
   "outputs": [
    {
     "data": {
      "text/html": [
       "<div>\n",
       "<style scoped>\n",
       "    .dataframe tbody tr th:only-of-type {\n",
       "        vertical-align: middle;\n",
       "    }\n",
       "\n",
       "    .dataframe tbody tr th {\n",
       "        vertical-align: top;\n",
       "    }\n",
       "\n",
       "    .dataframe thead tr th {\n",
       "        text-align: left;\n",
       "    }\n",
       "</style>\n",
       "<table border=\"1\" class=\"dataframe\">\n",
       "  <thead>\n",
       "    <tr>\n",
       "      <th></th>\n",
       "      <th>diagnosis</th>\n",
       "      <th>radius_mean</th>\n",
       "      <th>texture_mean</th>\n",
       "      <th>perimeter_mean</th>\n",
       "      <th>area_mean</th>\n",
       "      <th>smoothness_mean</th>\n",
       "      <th>compactness_mean</th>\n",
       "      <th>concavity_mean</th>\n",
       "      <th>concave points_mean</th>\n",
       "      <th>symmetry_mean</th>\n",
       "      <th>...</th>\n",
       "      <th>radius_worst</th>\n",
       "      <th>texture_worst</th>\n",
       "      <th>perimeter_worst</th>\n",
       "      <th>area_worst</th>\n",
       "      <th>smoothness_worst</th>\n",
       "      <th>compactness_worst</th>\n",
       "      <th>concavity_worst</th>\n",
       "      <th>concave points_worst</th>\n",
       "      <th>symmetry_worst</th>\n",
       "      <th>fractal_dimension_worst</th>\n",
       "    </tr>\n",
       "  </thead>\n",
       "  <tbody>\n",
       "    <tr>\n",
       "      <th>count</th>\n",
       "      <td>4.550000e+02</td>\n",
       "      <td>4.550000e+02</td>\n",
       "      <td>4.550000e+02</td>\n",
       "      <td>4.550000e+02</td>\n",
       "      <td>4.550000e+02</td>\n",
       "      <td>4.550000e+02</td>\n",
       "      <td>4.550000e+02</td>\n",
       "      <td>4.550000e+02</td>\n",
       "      <td>4.550000e+02</td>\n",
       "      <td>4.550000e+02</td>\n",
       "      <td>...</td>\n",
       "      <td>4.550000e+02</td>\n",
       "      <td>4.550000e+02</td>\n",
       "      <td>4.550000e+02</td>\n",
       "      <td>4.550000e+02</td>\n",
       "      <td>4.550000e+02</td>\n",
       "      <td>4.550000e+02</td>\n",
       "      <td>4.550000e+02</td>\n",
       "      <td>4.550000e+02</td>\n",
       "      <td>4.550000e+02</td>\n",
       "      <td>4.550000e+02</td>\n",
       "    </tr>\n",
       "    <tr>\n",
       "      <th>mean</th>\n",
       "      <td>5.465713e-17</td>\n",
       "      <td>2.108204e-16</td>\n",
       "      <td>-2.108204e-16</td>\n",
       "      <td>-5.446193e-16</td>\n",
       "      <td>-3.630795e-16</td>\n",
       "      <td>-1.046294e-15</td>\n",
       "      <td>1.542112e-16</td>\n",
       "      <td>3.904081e-17</td>\n",
       "      <td>1.015061e-16</td>\n",
       "      <td>-5.934203e-16</td>\n",
       "      <td>...</td>\n",
       "      <td>7.710560e-16</td>\n",
       "      <td>2.967102e-16</td>\n",
       "      <td>-1.795877e-16</td>\n",
       "      <td>-1.288347e-16</td>\n",
       "      <td>-3.396550e-16</td>\n",
       "      <td>-7.808162e-17</td>\n",
       "      <td>1.737316e-16</td>\n",
       "      <td>-2.537653e-16</td>\n",
       "      <td>1.561632e-17</td>\n",
       "      <td>-6.051325e-16</td>\n",
       "    </tr>\n",
       "    <tr>\n",
       "      <th>std</th>\n",
       "      <td>1.001101e+00</td>\n",
       "      <td>1.001101e+00</td>\n",
       "      <td>1.001101e+00</td>\n",
       "      <td>1.001101e+00</td>\n",
       "      <td>1.001101e+00</td>\n",
       "      <td>1.001101e+00</td>\n",
       "      <td>1.001101e+00</td>\n",
       "      <td>1.001101e+00</td>\n",
       "      <td>1.001101e+00</td>\n",
       "      <td>1.001101e+00</td>\n",
       "      <td>...</td>\n",
       "      <td>1.001101e+00</td>\n",
       "      <td>1.001101e+00</td>\n",
       "      <td>1.001101e+00</td>\n",
       "      <td>1.001101e+00</td>\n",
       "      <td>1.001101e+00</td>\n",
       "      <td>1.001101e+00</td>\n",
       "      <td>1.001101e+00</td>\n",
       "      <td>1.001101e+00</td>\n",
       "      <td>1.001101e+00</td>\n",
       "      <td>1.001101e+00</td>\n",
       "    </tr>\n",
       "    <tr>\n",
       "      <th>min</th>\n",
       "      <td>-1.307032e+00</td>\n",
       "      <td>-2.075959e+00</td>\n",
       "      <td>-2.216885e+00</td>\n",
       "      <td>-2.029220e+00</td>\n",
       "      <td>-1.481562e+00</td>\n",
       "      <td>-3.182640e+00</td>\n",
       "      <td>-1.622012e+00</td>\n",
       "      <td>-1.125097e+00</td>\n",
       "      <td>-1.293998e+00</td>\n",
       "      <td>-2.771367e+00</td>\n",
       "      <td>...</td>\n",
       "      <td>-1.757242e+00</td>\n",
       "      <td>-2.210845e+00</td>\n",
       "      <td>-1.721946e+00</td>\n",
       "      <td>-1.239443e+00</td>\n",
       "      <td>-2.229713e+00</td>\n",
       "      <td>-1.381845e+00</td>\n",
       "      <td>-1.291031e+00</td>\n",
       "      <td>-1.760761e+00</td>\n",
       "      <td>-2.130344e+00</td>\n",
       "      <td>-1.580054e+00</td>\n",
       "    </tr>\n",
       "    <tr>\n",
       "      <th>25%</th>\n",
       "      <td>-1.307032e+00</td>\n",
       "      <td>-6.883702e-01</td>\n",
       "      <td>-7.382134e-01</td>\n",
       "      <td>-6.909171e-01</td>\n",
       "      <td>-6.657465e-01</td>\n",
       "      <td>-7.113750e-01</td>\n",
       "      <td>-7.525152e-01</td>\n",
       "      <td>-7.552345e-01</td>\n",
       "      <td>-7.523531e-01</td>\n",
       "      <td>-7.069219e-01</td>\n",
       "      <td>...</td>\n",
       "      <td>-6.711916e-01</td>\n",
       "      <td>-7.632500e-01</td>\n",
       "      <td>-6.851451e-01</td>\n",
       "      <td>-6.390924e-01</td>\n",
       "      <td>-6.969011e-01</td>\n",
       "      <td>-6.850915e-01</td>\n",
       "      <td>-7.449502e-01</td>\n",
       "      <td>-7.752907e-01</td>\n",
       "      <td>-6.687532e-01</td>\n",
       "      <td>-7.037013e-01</td>\n",
       "    </tr>\n",
       "    <tr>\n",
       "      <th>50%</th>\n",
       "      <td>7.650921e-01</td>\n",
       "      <td>-1.888501e-01</td>\n",
       "      <td>-1.005364e-01</td>\n",
       "      <td>-1.967033e-01</td>\n",
       "      <td>-2.765758e-01</td>\n",
       "      <td>1.644860e-02</td>\n",
       "      <td>-1.831582e-01</td>\n",
       "      <td>-3.259571e-01</td>\n",
       "      <td>-3.645564e-01</td>\n",
       "      <td>-1.073287e-01</td>\n",
       "      <td>...</td>\n",
       "      <td>-2.682848e-01</td>\n",
       "      <td>-4.026142e-02</td>\n",
       "      <td>-2.875199e-01</td>\n",
       "      <td>-3.384679e-01</td>\n",
       "      <td>-5.515807e-02</td>\n",
       "      <td>-2.482242e-01</td>\n",
       "      <td>-2.143316e-01</td>\n",
       "      <td>-2.072123e-01</td>\n",
       "      <td>-1.202569e-01</td>\n",
       "      <td>-1.961403e-01</td>\n",
       "    </tr>\n",
       "    <tr>\n",
       "      <th>75%</th>\n",
       "      <td>7.650921e-01</td>\n",
       "      <td>4.752350e-01</td>\n",
       "      <td>5.671760e-01</td>\n",
       "      <td>4.908069e-01</td>\n",
       "      <td>3.456016e-01</td>\n",
       "      <td>6.427828e-01</td>\n",
       "      <td>4.804769e-01</td>\n",
       "      <td>5.312101e-01</td>\n",
       "      <td>6.607418e-01</td>\n",
       "      <td>5.328523e-01</td>\n",
       "      <td>...</td>\n",
       "      <td>5.364715e-01</td>\n",
       "      <td>7.102234e-01</td>\n",
       "      <td>5.414352e-01</td>\n",
       "      <td>3.630490e-01</td>\n",
       "      <td>5.952572e-01</td>\n",
       "      <td>5.262225e-01</td>\n",
       "      <td>5.189295e-01</td>\n",
       "      <td>7.287434e-01</td>\n",
       "      <td>4.450300e-01</td>\n",
       "      <td>4.323715e-01</td>\n",
       "    </tr>\n",
       "    <tr>\n",
       "      <th>max</th>\n",
       "      <td>7.650921e-01</td>\n",
       "      <td>4.078188e+00</td>\n",
       "      <td>4.615039e+00</td>\n",
       "      <td>4.078184e+00</td>\n",
       "      <td>5.393448e+00</td>\n",
       "      <td>3.332250e+00</td>\n",
       "      <td>4.543800e+00</td>\n",
       "      <td>4.253801e+00</td>\n",
       "      <td>3.678910e+00</td>\n",
       "      <td>4.534445e+00</td>\n",
       "      <td>...</td>\n",
       "      <td>4.188013e+00</td>\n",
       "      <td>3.472784e+00</td>\n",
       "      <td>4.374973e+00</td>\n",
       "      <td>6.071859e+00</td>\n",
       "      <td>3.899367e+00</td>\n",
       "      <td>4.970603e+00</td>\n",
       "      <td>4.575058e+00</td>\n",
       "      <td>2.693255e+00</td>\n",
       "      <td>5.981964e+00</td>\n",
       "      <td>6.652155e+00</td>\n",
       "    </tr>\n",
       "  </tbody>\n",
       "</table>\n",
       "<p>8 rows × 31 columns</p>\n",
       "</div>"
      ],
      "text/plain": [
       "          diagnosis   radius_mean  texture_mean perimeter_mean     area_mean  \\\n",
       "count  4.550000e+02  4.550000e+02  4.550000e+02   4.550000e+02  4.550000e+02   \n",
       "mean   5.465713e-17  2.108204e-16 -2.108204e-16  -5.446193e-16 -3.630795e-16   \n",
       "std    1.001101e+00  1.001101e+00  1.001101e+00   1.001101e+00  1.001101e+00   \n",
       "min   -1.307032e+00 -2.075959e+00 -2.216885e+00  -2.029220e+00 -1.481562e+00   \n",
       "25%   -1.307032e+00 -6.883702e-01 -7.382134e-01  -6.909171e-01 -6.657465e-01   \n",
       "50%    7.650921e-01 -1.888501e-01 -1.005364e-01  -1.967033e-01 -2.765758e-01   \n",
       "75%    7.650921e-01  4.752350e-01  5.671760e-01   4.908069e-01  3.456016e-01   \n",
       "max    7.650921e-01  4.078188e+00  4.615039e+00   4.078184e+00  5.393448e+00   \n",
       "\n",
       "      smoothness_mean compactness_mean concavity_mean concave points_mean  \\\n",
       "count    4.550000e+02     4.550000e+02   4.550000e+02        4.550000e+02   \n",
       "mean    -1.046294e-15     1.542112e-16   3.904081e-17        1.015061e-16   \n",
       "std      1.001101e+00     1.001101e+00   1.001101e+00        1.001101e+00   \n",
       "min     -3.182640e+00    -1.622012e+00  -1.125097e+00       -1.293998e+00   \n",
       "25%     -7.113750e-01    -7.525152e-01  -7.552345e-01       -7.523531e-01   \n",
       "50%      1.644860e-02    -1.831582e-01  -3.259571e-01       -3.645564e-01   \n",
       "75%      6.427828e-01     4.804769e-01   5.312101e-01        6.607418e-01   \n",
       "max      3.332250e+00     4.543800e+00   4.253801e+00        3.678910e+00   \n",
       "\n",
       "      symmetry_mean  ...  radius_worst texture_worst perimeter_worst  \\\n",
       "count  4.550000e+02  ...  4.550000e+02  4.550000e+02    4.550000e+02   \n",
       "mean  -5.934203e-16  ...  7.710560e-16  2.967102e-16   -1.795877e-16   \n",
       "std    1.001101e+00  ...  1.001101e+00  1.001101e+00    1.001101e+00   \n",
       "min   -2.771367e+00  ... -1.757242e+00 -2.210845e+00   -1.721946e+00   \n",
       "25%   -7.069219e-01  ... -6.711916e-01 -7.632500e-01   -6.851451e-01   \n",
       "50%   -1.073287e-01  ... -2.682848e-01 -4.026142e-02   -2.875199e-01   \n",
       "75%    5.328523e-01  ...  5.364715e-01  7.102234e-01    5.414352e-01   \n",
       "max    4.534445e+00  ...  4.188013e+00  3.472784e+00    4.374973e+00   \n",
       "\n",
       "         area_worst smoothness_worst compactness_worst concavity_worst  \\\n",
       "count  4.550000e+02     4.550000e+02      4.550000e+02    4.550000e+02   \n",
       "mean  -1.288347e-16    -3.396550e-16     -7.808162e-17    1.737316e-16   \n",
       "std    1.001101e+00     1.001101e+00      1.001101e+00    1.001101e+00   \n",
       "min   -1.239443e+00    -2.229713e+00     -1.381845e+00   -1.291031e+00   \n",
       "25%   -6.390924e-01    -6.969011e-01     -6.850915e-01   -7.449502e-01   \n",
       "50%   -3.384679e-01    -5.515807e-02     -2.482242e-01   -2.143316e-01   \n",
       "75%    3.630490e-01     5.952572e-01      5.262225e-01    5.189295e-01   \n",
       "max    6.071859e+00     3.899367e+00      4.970603e+00    4.575058e+00   \n",
       "\n",
       "      concave points_worst symmetry_worst fractal_dimension_worst  \n",
       "count         4.550000e+02   4.550000e+02            4.550000e+02  \n",
       "mean         -2.537653e-16   1.561632e-17           -6.051325e-16  \n",
       "std           1.001101e+00   1.001101e+00            1.001101e+00  \n",
       "min          -1.760761e+00  -2.130344e+00           -1.580054e+00  \n",
       "25%          -7.752907e-01  -6.687532e-01           -7.037013e-01  \n",
       "50%          -2.072123e-01  -1.202569e-01           -1.961403e-01  \n",
       "75%           7.287434e-01   4.450300e-01            4.323715e-01  \n",
       "max           2.693255e+00   5.981964e+00            6.652155e+00  \n",
       "\n",
       "[8 rows x 31 columns]"
      ]
     },
     "execution_count": 101,
     "metadata": {},
     "output_type": "execute_result"
    }
   ],
   "source": [
    "#Visualiza las estadísticas del las diferentes variables independientes\n",
    "X_train.describe()"
   ]
  },
  {
   "cell_type": "code",
   "execution_count": 102,
   "id": "2cf61afb-45b4-4241-aa65-2abcdfbd1a8c",
   "metadata": {},
   "outputs": [
    {
     "name": "stdout",
     "output_type": "stream",
     "text": [
      "Puntuación de precisión del modelo con hiperparámetros predeterminados: 1.0000\n"
     ]
    }
   ],
   "source": [
    "# Se importa el clasificador SVC\n",
    "from sklearn.svm import SVC\n",
    "\n",
    "\n",
    "# Se importan las metricas para calcular la precisión\n",
    "from sklearn.metrics import accuracy_score\n",
    "\n",
    "\n",
    "#Se instancia el clasificador con hypermarametros por defecto\n",
    "svc=SVC() \n",
    "\n",
    "\n",
    "#Al clasificador se fijan los datos de entrenamiento\n",
    "svc.fit(X_train,y_train)\n",
    "\n",
    "\n",
    "# Se hacen las predicciones sobre los datos de prueba\n",
    "y_pred=svc.predict(X_test)\n",
    "\n",
    "\n",
    "# compute and print accuracy score\n",
    "# Se visualiza el computo y la precisión del puntaje\n",
    "print('Puntuación de precisión del modelo con hiperparámetros predeterminados: {0:0.4f}'. format(accuracy_score(y_test, y_pred)))"
   ]
  },
  {
   "cell_type": "code",
   "execution_count": 103,
   "id": "e78f6995-e1d4-4d96-bb84-685b0fe38b81",
   "metadata": {},
   "outputs": [
    {
     "name": "stdout",
     "output_type": "stream",
     "text": [
      "Puntuación de precisión del modelo con kernel rbf y C=100.0 : 1.0000\n"
     ]
    }
   ],
   "source": [
    "# instanciación con clasificador con kernel rbf y C=100\n",
    "svc=SVC(C=100.0) \n",
    "\n",
    "# Se se establece los datos de entrenamiento\n",
    "svc.fit(X_train,y_train)\n",
    "\n",
    "# Se hace la predicción sobre el conjunto de datos de prueba\n",
    "y_pred=svc.predict(X_test)\n",
    "\n",
    "# Se imprime el puntaje de precisión de computo\n",
    "print('Puntuación de precisión del modelo con kernel rbf y C=100.0 : {0:0.4f}'. format(accuracy_score(y_test, y_pred)))"
   ]
  },
  {
   "cell_type": "code",
   "execution_count": 72,
   "id": "ee8ff5bc-55a9-419f-b441-cc301ccc37a6",
   "metadata": {},
   "outputs": [
    {
     "name": "stdout",
     "output_type": "stream",
     "text": [
      "Puntuación de precisión del modelo con kernel lineal y C=1.0: 1.0000\n"
     ]
    }
   ],
   "source": [
    "# se instancia un clasificador con kernel lineal y C=1.0\n",
    "linear_svc=SVC(kernel='linear', C=1.0) \n",
    "\n",
    "\n",
    "# Se se establece los datos de entrenamiento\n",
    "linear_svc.fit(X_train,y_train)\n",
    "\n",
    "\n",
    "# Se hace la predicción sobre el conjunto de datos de prueba\n",
    "y_pred_test=linear_svc.predict(X_test)\n",
    "\n",
    "\n",
    "# Se imprime el puntaje de precisión de computo\n",
    "print('Puntuación de precisión del modelo con kernel lineal y C=1.0: {0:0.4f}'. format(accuracy_score(y_test, y_pred_test)))"
   ]
  },
  {
   "cell_type": "code",
   "execution_count": 73,
   "id": "b3260f0c-c072-472d-9cb2-bc6fdf74fe99",
   "metadata": {},
   "outputs": [
    {
     "data": {
      "text/plain": [
       "array(['0', '1', '0', '0', '1', '1', '0', '1', '1', '1', '1', '1', '1',\n",
       "       '1', '1', '1', '1', '0', '0', '1', '1', '1', '1', '1', '0', '1',\n",
       "       '1', '0', '1', '1', '0', '1', '1', '1', '0', '0', '1', '1', '1',\n",
       "       '0', '1', '1', '1', '0', '1', '1', '0', '1', '0', '0', '1', '1',\n",
       "       '0', '1', '1', '1', '0', '0', '1', '0', '1', '0', '1', '0', '0',\n",
       "       '0', '1', '0', '1', '1', '0', '1', '0', '0', '1', '0', '0', '0',\n",
       "       '1', '0', '1', '1', '0', '1', '0', '1', '1', '0', '1', '0', '0',\n",
       "       '0', '1', '1', '1', '0', '0', '1', '1', '1', '0', '1', '1', '1',\n",
       "       '1', '0', '0', '0', '0', '1', '0', '1', '0', '0', '1', '1', '1',\n",
       "       '1', '1', '1', '1', '1', '1', '1', '1', '0', '1', '1', '0', '0',\n",
       "       '1', '1', '1', '1', '1', '1', '1', '0', '1', '1', '1', '0', '0',\n",
       "       '0', '1', '0', '1', '0', '1', '1', '1', '0', '1', '1', '1', '1',\n",
       "       '0', '1', '1', '0', '0', '0', '0', '1', '1', '1', '0', '1', '1',\n",
       "       '1', '1', '0', '1', '0', '0', '0', '1', '0', '1', '0', '0', '1',\n",
       "       '0', '1', '1', '0', '1', '1', '1', '1', '1', '1', '0', '1', '1',\n",
       "       '1', '1', '1', '1', '0', '0', '0', '1', '0', '1', '1', '0', '0',\n",
       "       '0', '1', '0', '1', '1', '1', '0', '1', '0', '1', '1', '1', '1',\n",
       "       '0', '0', '0', '1', '1', '1', '1', '1', '0', '1', '1', '1', '1',\n",
       "       '1', '1', '1', '0', '0', '1', '1', '1', '0', '1', '1', '1', '0',\n",
       "       '0', '1', '0', '0', '1', '1', '1', '1', '1', '1', '0', '1', '1',\n",
       "       '1', '1', '0', '1', '0', '1', '1', '1', '1', '0', '0', '1', '1',\n",
       "       '1', '1', '1', '0', '1', '1', '1', '1', '1', '0', '0', '0', '0',\n",
       "       '1', '1', '0', '1', '0', '0', '0', '1', '1', '0', '1', '1', '0',\n",
       "       '1', '1', '0', '1', '0', '1', '1', '1', '1', '1', '0', '1', '1',\n",
       "       '0', '1', '1', '1', '0', '0', '0', '1', '1', '1', '1', '1', '0',\n",
       "       '1', '1', '1', '1', '1', '1', '1', '0', '1', '0', '1', '0', '1',\n",
       "       '0', '0', '0', '0', '0', '1', '0', '1', '1', '1', '1', '0', '0',\n",
       "       '0', '1', '1', '1', '0', '1', '1', '1', '1', '0', '1', '1', '1',\n",
       "       '0', '1', '0', '1', '0', '0', '1', '0', '0', '1', '1', '0', '1',\n",
       "       '1', '0', '1', '1', '1', '1', '1', '0', '0', '0', '1', '1', '1',\n",
       "       '1', '1', '1', '1', '0', '1', '0', '1', '1', '0', '0', '1', '1',\n",
       "       '1', '1', '0', '1', '0', '1', '0', '0', '1', '1', '1', '1', '0',\n",
       "       '1', '0', '0', '1', '1', '1', '1', '1', '0', '0', '0', '0', '1',\n",
       "       '0', '0', '1', '1', '1', '1', '1', '1', '0', '0', '1', '0', '1',\n",
       "       '1', '0', '1', '1', '1', '0', '1', '0', '0', '1', '1', '1', '1'],\n",
       "      dtype=object)"
      ]
     },
     "execution_count": 73,
     "metadata": {},
     "output_type": "execute_result"
    }
   ],
   "source": [
    "#Se visuarlizarán los datos de entrenamiento\n",
    "y_pred_train = linear_svc.predict(X_train)\n",
    "\n",
    "y_pred_train"
   ]
  },
  {
   "cell_type": "code",
   "execution_count": 104,
   "id": "3bd4e557-155d-4c24-ab3f-537d58e88480",
   "metadata": {},
   "outputs": [
    {
     "data": {
      "text/plain": [
       "LogisticRegression()"
      ]
     },
     "execution_count": 104,
     "metadata": {},
     "output_type": "execute_result"
    }
   ],
   "source": [
    "# Ahora lo haremos con logistica de regresión\n",
    "#Se define el modelo de logística de regresión \n",
    "# Permite cargar el modelo logistica de regresión\n",
    "from sklearn.linear_model import LogisticRegression \n",
    "modelreg=LogisticRegression()\n",
    "modelreg.fit(X_train,y_train)"
   ]
  },
  {
   "cell_type": "code",
   "execution_count": 105,
   "id": "f37dd525-534a-479d-8bd3-2b0ffcb6c894",
   "metadata": {},
   "outputs": [
    {
     "data": {
      "text/plain": [
       "1.0"
      ]
     },
     "execution_count": 105,
     "metadata": {},
     "output_type": "execute_result"
    }
   ],
   "source": [
    "modelreg.score(X_test,y_test)"
   ]
  },
  {
   "cell_type": "code",
   "execution_count": 108,
   "id": "e724c3ec-f994-464e-92b1-49630321148c",
   "metadata": {},
   "outputs": [
    {
     "data": {
      "text/plain": [
       "KFold(n_splits=3, random_state=None, shuffle=False)"
      ]
     },
     "execution_count": 108,
     "metadata": {},
     "output_type": "execute_result"
    }
   ],
   "source": [
    "from sklearn.model_selection import KFold\n",
    "kf = KFold(n_splits=3)\n",
    "kf"
   ]
  },
  {
   "cell_type": "code",
   "execution_count": 111,
   "id": "915ddfd4-6a7d-4263-89f3-9a133a7646da",
   "metadata": {},
   "outputs": [],
   "source": [
    "def get_score(model, X_train,X_test,y_train,y_test):\n",
    "    model.fit(X_train,y_train)\n",
    "    return model.score(X_test,y_test)"
   ]
  },
  {
   "cell_type": "code",
   "execution_count": 112,
   "id": "a3014b71-3178-402e-9c65-d8b8d19c8d8d",
   "metadata": {},
   "outputs": [
    {
     "data": {
      "text/plain": [
       "1.0"
      ]
     },
     "execution_count": 112,
     "metadata": {},
     "output_type": "execute_result"
    }
   ],
   "source": [
    "get_score(LogisticRegression(),X_train,X_test,y_train,y_test)"
   ]
  },
  {
   "cell_type": "code",
   "execution_count": 114,
   "id": "c2984cd9-18e1-4dd8-a044-c328f8f9a7ad",
   "metadata": {},
   "outputs": [
    {
     "data": {
      "text/plain": [
       "1.0"
      ]
     },
     "execution_count": 114,
     "metadata": {},
     "output_type": "execute_result"
    }
   ],
   "source": [
    "get_score(SVC(),X_train,X_test,y_train,y_test)"
   ]
  },
  {
   "cell_type": "code",
   "execution_count": 115,
   "id": "139514d0-deb8-4db1-85f1-d6ade3bdb038",
   "metadata": {},
   "outputs": [
    {
     "data": {
      "text/plain": [
       "1.0"
      ]
     },
     "execution_count": 115,
     "metadata": {},
     "output_type": "execute_result"
    }
   ],
   "source": [
    "get_score(RandomForestClassifier(),X_train,X_test,y_train,y_test)"
   ]
  },
  {
   "cell_type": "code",
   "execution_count": 169,
   "id": "f48da596-82b7-49d8-b8a1-90c4939642f9",
   "metadata": {},
   "outputs": [],
   "source": []
  },
  {
   "cell_type": "code",
   "execution_count": null,
   "id": "aa76826e-f947-43b4-ba65-95cf4aaf8ff4",
   "metadata": {},
   "outputs": [],
   "source": []
  },
  {
   "cell_type": "code",
   "execution_count": 225,
   "id": "62815059-aa70-4c46-b963-f4851b4da005",
   "metadata": {},
   "outputs": [],
   "source": [
    "#Permite la normalización de los datos de entrenamiento  normalmente distribuidos estándar: Gaussian con media cero y varianza de unidad\n",
    "from sklearn.preprocessing import StandardScaler\n",
    "from sklearn.model_selection import StratifiedKFold\n",
    "folds = StratifiedKFold(n_splits=3)"
   ]
  },
  {
   "cell_type": "code",
   "execution_count": 228,
   "id": "5cdfea08-7f38-4d5a-a026-0ff84d6da745",
   "metadata": {},
   "outputs": [],
   "source": [
    "lg_score = []\n",
    "svm_score = []\n",
    "rf_score = []\n",
    "for train_index,test_index in kf.split(inputs_X):\n",
    "    X_train,X_test=inputs_X.iloc[train_index,:],inputs_X.iloc[test_index,:]\n",
    "    #scale preprocesa los datos para ser normalizados posteriormente\n",
    "    scaler = preprocessing.StandardScaler().fit(X_train)\n",
    "    y_train,y_test=mytarget_y[train_index],mytarget_y[test_index]\n",
    "    #Normaliza los datos\n",
    "    X_scaled = scaler.transform(X_train)\n",
    "    lg_score.append(get_score(LogisticRegression(),X_scaled,X_test,y_train,y_test))\n",
    "    svm_score.append(get_score(SVC(),X_train,X_test,y_train,y_test))\n",
    "    rf_score.append(get_score(RandomForestClassifier(n_estimators=40),X_train,X_test,y_train,y_test))\n",
    "    "
   ]
  },
  {
   "cell_type": "code",
   "execution_count": 229,
   "id": "4448960b-e06a-4812-a316-07c7f6995ddb",
   "metadata": {},
   "outputs": [
    {
     "data": {
      "text/plain": [
       "[0.5105263157894737, 0.37894736842105264, 0.2275132275132275]"
      ]
     },
     "execution_count": 229,
     "metadata": {},
     "output_type": "execute_result"
    }
   ],
   "source": [
    "lg_score"
   ]
  },
  {
   "cell_type": "code",
   "execution_count": 216,
   "id": "aee6ad14-5e33-4407-9abb-2241f6fd9b41",
   "metadata": {},
   "outputs": [
    {
     "data": {
      "text/plain": [
       "[0.8157894736842105, 0.9315789473684211, 0.9365079365079365]"
      ]
     },
     "execution_count": 216,
     "metadata": {},
     "output_type": "execute_result"
    }
   ],
   "source": [
    "svm_score"
   ]
  },
  {
   "cell_type": "code",
   "execution_count": 217,
   "id": "ec61353b-d10f-4570-aaad-55edc8821acb",
   "metadata": {},
   "outputs": [
    {
     "data": {
      "text/plain": [
       "[0.9842105263157894, 1.0, 1.0]"
      ]
     },
     "execution_count": 217,
     "metadata": {},
     "output_type": "execute_result"
    }
   ],
   "source": [
    "rf_score"
   ]
  },
  {
   "cell_type": "code",
   "execution_count": 224,
   "id": "4de056c2-cc5c-4d6e-b3c0-4e966d5532c7",
   "metadata": {},
   "outputs": [],
   "source": [
    "from sklearn import preprocessing\n",
    "from sklearn.model_selection import cross_val_score\n",
    "scaler_X = preprocessing.StandardScaler().fit(X_train)\n",
    "X_scaled = scaler.transform(X_train)"
   ]
  },
  {
   "cell_type": "code",
   "execution_count": 230,
   "id": "480a8e58-a47e-4abb-ad17-f04b24b39fdb",
   "metadata": {},
   "outputs": [
    {
     "data": {
      "text/plain": [
       "array([1.        , 1.        , 1.        , 1.        , 0.98684211])"
      ]
     },
     "execution_count": 230,
     "metadata": {},
     "output_type": "execute_result"
    }
   ],
   "source": [
    "cross_val_score(LogisticRegression(),X_scaled,y_train)"
   ]
  },
  {
   "cell_type": "code",
   "execution_count": 231,
   "id": "af8e4993-48f7-47eb-8903-7e36c3619e52",
   "metadata": {},
   "outputs": [
    {
     "data": {
      "text/plain": [
       "array([0.92105263, 0.82894737, 0.89473684, 0.94736842, 0.92105263])"
      ]
     },
     "execution_count": 231,
     "metadata": {},
     "output_type": "execute_result"
    }
   ],
   "source": [
    "cross_val_score(SVC(),X_train,y_train)"
   ]
  },
  {
   "cell_type": "code",
   "execution_count": 237,
   "id": "695df162-fe2a-4d98-b8c1-602086a4bf62",
   "metadata": {},
   "outputs": [
    {
     "data": {
      "text/plain": [
       "array([1.        , 1.        , 1.        , 1.        , 0.98684211])"
      ]
     },
     "execution_count": 237,
     "metadata": {},
     "output_type": "execute_result"
    }
   ],
   "source": [
    "cross_val_score(RandomForestClassifier(n_estimators=70),X_train,y_train)"
   ]
  },
  {
   "cell_type": "code",
   "execution_count": null,
   "id": "5b6b2378-d27f-4f5e-a76e-b0ff13de8ac7",
   "metadata": {},
   "outputs": [],
   "source": []
  },
  {
   "cell_type": "code",
   "execution_count": null,
   "id": "2c81fe98-3c5a-4c35-a4c3-a11efababc69",
   "metadata": {},
   "outputs": [],
   "source": []
  }
 ],
 "metadata": {
  "kernelspec": {
   "display_name": "Python 3 (ipykernel)",
   "language": "python",
   "name": "python3"
  },
  "language_info": {
   "codemirror_mode": {
    "name": "ipython",
    "version": 3
   },
   "file_extension": ".py",
   "mimetype": "text/x-python",
   "name": "python",
   "nbconvert_exporter": "python",
   "pygments_lexer": "ipython3",
   "version": "3.8.2"
  }
 },
 "nbformat": 4,
 "nbformat_minor": 5
}
