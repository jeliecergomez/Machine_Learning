{
 "cells": [
  {
   "cell_type": "code",
   "execution_count": 5,
   "id": "331ed082-ac07-475e-91d0-a4db95d528ae",
   "metadata": {
    "tags": []
   },
   "outputs": [],
   "source": [
    "#se importan las librerias para gestionar el modelo\n",
    "import pandas as pd\n",
    "import numpy as np\n",
    "import matplotlib.pyplot as plt\n",
    "from sklearn import linear_model"
   ]
  },
  {
   "cell_type": "code",
   "execution_count": 6,
   "id": "d196ef23-7d33-48c5-82de-5c019f7fd796",
   "metadata": {
    "tags": []
   },
   "outputs": [],
   "source": [
    "#se define un data frame para cargar el archivo que contiene los datos de entrenamiento\n",
    "incomecol = pd.read_csv(\"/Machine Learning/Data/income_percapita_colombia.csv\")\n"
   ]
  },
  {
   "cell_type": "code",
   "execution_count": 7,
   "id": "1e01d4aa-e77c-4a13-8287-9499010561cc",
   "metadata": {},
   "outputs": [
    {
     "data": {
      "text/html": [
       "<div>\n",
       "<style scoped>\n",
       "    .dataframe tbody tr th:only-of-type {\n",
       "        vertical-align: middle;\n",
       "    }\n",
       "\n",
       "    .dataframe tbody tr th {\n",
       "        vertical-align: top;\n",
       "    }\n",
       "\n",
       "    .dataframe thead th {\n",
       "        text-align: right;\n",
       "    }\n",
       "</style>\n",
       "<table border=\"1\" class=\"dataframe\">\n",
       "  <thead>\n",
       "    <tr style=\"text-align: right;\">\n",
       "      <th></th>\n",
       "      <th>year</th>\n",
       "      <th>income</th>\n",
       "    </tr>\n",
       "  </thead>\n",
       "  <tbody>\n",
       "    <tr>\n",
       "      <th>0</th>\n",
       "      <td>1970</td>\n",
       "      <td>276.512949</td>\n",
       "    </tr>\n",
       "    <tr>\n",
       "      <th>1</th>\n",
       "      <td>1971</td>\n",
       "      <td>294.752843</td>\n",
       "    </tr>\n",
       "    <tr>\n",
       "      <th>2</th>\n",
       "      <td>1972</td>\n",
       "      <td>321.025214</td>\n",
       "    </tr>\n",
       "    <tr>\n",
       "      <th>3</th>\n",
       "      <td>1973</td>\n",
       "      <td>377.917971</td>\n",
       "    </tr>\n",
       "    <tr>\n",
       "      <th>4</th>\n",
       "      <td>1974</td>\n",
       "      <td>436.164638</td>\n",
       "    </tr>\n",
       "    <tr>\n",
       "      <th>5</th>\n",
       "      <td>1975</td>\n",
       "      <td>451.868949</td>\n",
       "    </tr>\n",
       "    <tr>\n",
       "      <th>6</th>\n",
       "      <td>1976</td>\n",
       "      <td>524.171173</td>\n",
       "    </tr>\n",
       "    <tr>\n",
       "      <th>7</th>\n",
       "      <td>1977</td>\n",
       "      <td>666.958555</td>\n",
       "    </tr>\n",
       "    <tr>\n",
       "      <th>8</th>\n",
       "      <td>1978</td>\n",
       "      <td>789.452006</td>\n",
       "    </tr>\n",
       "    <tr>\n",
       "      <th>9</th>\n",
       "      <td>1979</td>\n",
       "      <td>919.417103</td>\n",
       "    </tr>\n",
       "    <tr>\n",
       "      <th>10</th>\n",
       "      <td>1980</td>\n",
       "      <td>1078.325464</td>\n",
       "    </tr>\n",
       "    <tr>\n",
       "      <th>11</th>\n",
       "      <td>1981</td>\n",
       "      <td>1143.853214</td>\n",
       "    </tr>\n",
       "    <tr>\n",
       "      <th>12</th>\n",
       "      <td>1982</td>\n",
       "      <td>1189.838603</td>\n",
       "    </tr>\n",
       "    <tr>\n",
       "      <th>13</th>\n",
       "      <td>1983</td>\n",
       "      <td>1131.642234</td>\n",
       "    </tr>\n",
       "    <tr>\n",
       "      <th>14</th>\n",
       "      <td>1984</td>\n",
       "      <td>1080.239342</td>\n",
       "    </tr>\n",
       "    <tr>\n",
       "      <th>15</th>\n",
       "      <td>1985</td>\n",
       "      <td>950.854595</td>\n",
       "    </tr>\n",
       "    <tr>\n",
       "      <th>16</th>\n",
       "      <td>1986</td>\n",
       "      <td>941.995747</td>\n",
       "    </tr>\n",
       "    <tr>\n",
       "      <th>17</th>\n",
       "      <td>1987</td>\n",
       "      <td>932.368534</td>\n",
       "    </tr>\n",
       "    <tr>\n",
       "      <th>18</th>\n",
       "      <td>1988</td>\n",
       "      <td>1010.228117</td>\n",
       "    </tr>\n",
       "    <tr>\n",
       "      <th>19</th>\n",
       "      <td>1989</td>\n",
       "      <td>961.342604</td>\n",
       "    </tr>\n",
       "    <tr>\n",
       "      <th>20</th>\n",
       "      <td>1990</td>\n",
       "      <td>1142.974397</td>\n",
       "    </tr>\n",
       "    <tr>\n",
       "      <th>21</th>\n",
       "      <td>1991</td>\n",
       "      <td>1189.781924</td>\n",
       "    </tr>\n",
       "    <tr>\n",
       "      <th>22</th>\n",
       "      <td>1992</td>\n",
       "      <td>1409.623200</td>\n",
       "    </tr>\n",
       "    <tr>\n",
       "      <th>23</th>\n",
       "      <td>1993</td>\n",
       "      <td>1600.025418</td>\n",
       "    </tr>\n",
       "    <tr>\n",
       "      <th>24</th>\n",
       "      <td>1994</td>\n",
       "      <td>1958.631034</td>\n",
       "    </tr>\n",
       "    <tr>\n",
       "      <th>25</th>\n",
       "      <td>1995</td>\n",
       "      <td>2158.258623</td>\n",
       "    </tr>\n",
       "    <tr>\n",
       "      <th>26</th>\n",
       "      <td>1996</td>\n",
       "      <td>2181.434504</td>\n",
       "    </tr>\n",
       "    <tr>\n",
       "      <th>27</th>\n",
       "      <td>1997</td>\n",
       "      <td>2355.494263</td>\n",
       "    </tr>\n",
       "    <tr>\n",
       "      <th>28</th>\n",
       "      <td>1998</td>\n",
       "      <td>2150.638828</td>\n",
       "    </tr>\n",
       "    <tr>\n",
       "      <th>29</th>\n",
       "      <td>1999</td>\n",
       "      <td>1788.239471</td>\n",
       "    </tr>\n",
       "    <tr>\n",
       "      <th>30</th>\n",
       "      <td>2000</td>\n",
       "      <td>2008.139401</td>\n",
       "    </tr>\n",
       "    <tr>\n",
       "      <th>31</th>\n",
       "      <td>2001</td>\n",
       "      <td>1983.743973</td>\n",
       "    </tr>\n",
       "    <tr>\n",
       "      <th>32</th>\n",
       "      <td>2002</td>\n",
       "      <td>1942.027326</td>\n",
       "    </tr>\n",
       "    <tr>\n",
       "      <th>33</th>\n",
       "      <td>2003</td>\n",
       "      <td>1819.338753</td>\n",
       "    </tr>\n",
       "    <tr>\n",
       "      <th>34</th>\n",
       "      <td>2004</td>\n",
       "      <td>2203.831482</td>\n",
       "    </tr>\n",
       "    <tr>\n",
       "      <th>35</th>\n",
       "      <td>2005</td>\n",
       "      <td>2729.364334</td>\n",
       "    </tr>\n",
       "    <tr>\n",
       "      <th>36</th>\n",
       "      <td>2006</td>\n",
       "      <td>2974.870505</td>\n",
       "    </tr>\n",
       "    <tr>\n",
       "      <th>37</th>\n",
       "      <td>2007</td>\n",
       "      <td>3784.968133</td>\n",
       "    </tr>\n",
       "    <tr>\n",
       "      <th>38</th>\n",
       "      <td>2008</td>\n",
       "      <td>4306.188931</td>\n",
       "    </tr>\n",
       "    <tr>\n",
       "      <th>39</th>\n",
       "      <td>2009</td>\n",
       "      <td>4209.641580</td>\n",
       "    </tr>\n",
       "    <tr>\n",
       "      <th>40</th>\n",
       "      <td>2010</td>\n",
       "      <td>5034.048730</td>\n",
       "    </tr>\n",
       "    <tr>\n",
       "      <th>41</th>\n",
       "      <td>2011</td>\n",
       "      <td>5644.120518</td>\n",
       "    </tr>\n",
       "    <tr>\n",
       "      <th>42</th>\n",
       "      <td>2012</td>\n",
       "      <td>6272.776682</td>\n",
       "    </tr>\n",
       "    <tr>\n",
       "      <th>43</th>\n",
       "      <td>2013</td>\n",
       "      <td>6468.771521</td>\n",
       "    </tr>\n",
       "    <tr>\n",
       "      <th>44</th>\n",
       "      <td>2014</td>\n",
       "      <td>6508.656398</td>\n",
       "    </tr>\n",
       "    <tr>\n",
       "      <th>45</th>\n",
       "      <td>2015</td>\n",
       "      <td>5177.347028</td>\n",
       "    </tr>\n",
       "    <tr>\n",
       "      <th>46</th>\n",
       "      <td>2016</td>\n",
       "      <td>4967.750722</td>\n",
       "    </tr>\n",
       "    <tr>\n",
       "      <th>47</th>\n",
       "      <td>2017</td>\n",
       "      <td>5308.529444</td>\n",
       "    </tr>\n",
       "    <tr>\n",
       "      <th>48</th>\n",
       "      <td>2018</td>\n",
       "      <td>5501.390053</td>\n",
       "    </tr>\n",
       "    <tr>\n",
       "      <th>49</th>\n",
       "      <td>2019</td>\n",
       "      <td>5246.157424</td>\n",
       "    </tr>\n",
       "  </tbody>\n",
       "</table>\n",
       "</div>"
      ],
      "text/plain": [
       "    year       income\n",
       "0   1970   276.512949\n",
       "1   1971   294.752843\n",
       "2   1972   321.025214\n",
       "3   1973   377.917971\n",
       "4   1974   436.164638\n",
       "5   1975   451.868949\n",
       "6   1976   524.171173\n",
       "7   1977   666.958555\n",
       "8   1978   789.452006\n",
       "9   1979   919.417103\n",
       "10  1980  1078.325464\n",
       "11  1981  1143.853214\n",
       "12  1982  1189.838603\n",
       "13  1983  1131.642234\n",
       "14  1984  1080.239342\n",
       "15  1985   950.854595\n",
       "16  1986   941.995747\n",
       "17  1987   932.368534\n",
       "18  1988  1010.228117\n",
       "19  1989   961.342604\n",
       "20  1990  1142.974397\n",
       "21  1991  1189.781924\n",
       "22  1992  1409.623200\n",
       "23  1993  1600.025418\n",
       "24  1994  1958.631034\n",
       "25  1995  2158.258623\n",
       "26  1996  2181.434504\n",
       "27  1997  2355.494263\n",
       "28  1998  2150.638828\n",
       "29  1999  1788.239471\n",
       "30  2000  2008.139401\n",
       "31  2001  1983.743973\n",
       "32  2002  1942.027326\n",
       "33  2003  1819.338753\n",
       "34  2004  2203.831482\n",
       "35  2005  2729.364334\n",
       "36  2006  2974.870505\n",
       "37  2007  3784.968133\n",
       "38  2008  4306.188931\n",
       "39  2009  4209.641580\n",
       "40  2010  5034.048730\n",
       "41  2011  5644.120518\n",
       "42  2012  6272.776682\n",
       "43  2013  6468.771521\n",
       "44  2014  6508.656398\n",
       "45  2015  5177.347028\n",
       "46  2016  4967.750722\n",
       "47  2017  5308.529444\n",
       "48  2018  5501.390053\n",
       "49  2019  5246.157424"
      ]
     },
     "execution_count": 7,
     "metadata": {},
     "output_type": "execute_result"
    }
   ],
   "source": [
    "#permite visualizar los datos del dataframe\n",
    "incomecol"
   ]
  },
  {
   "cell_type": "code",
   "execution_count": 9,
   "id": "d232e690-ebd5-40b4-9694-a0dfc491ae70",
   "metadata": {},
   "outputs": [
    {
     "data": {
      "text/plain": [
       "<matplotlib.collections.PathCollection at 0x661ec10>"
      ]
     },
     "execution_count": 9,
     "metadata": {},
     "output_type": "execute_result"
    },
    {
     "data": {
      "image/png": "[encoded data removed]",
      "text/plain": [
       "<Figure size 432x288 with 1 Axes>"
      ]
     },
     "metadata": {
      "needs_background": "light"
     },
     "output_type": "display_data"
    }
   ],
   "source": [
    "%matplotlib inline\n",
    "plt.xlabel('year')\n",
    "plt.ylabel('income_percapita')\n",
    "\n",
    "plt.scatter(incomecol.year, incomecol.income, color ='red',marker='+')"
   ]
  },
  {
   "cell_type": "code",
   "execution_count": 10,
   "id": "67ea488b-56b0-49ba-bb1d-82616a1f99ca",
   "metadata": {},
   "outputs": [
    {
     "data": {
      "text/plain": [
       "LinearRegression()"
      ]
     },
     "execution_count": 10,
     "metadata": {},
     "output_type": "execute_result"
    }
   ],
   "source": [
    "reg = linear_model.LinearRegression()\n",
    "reg.fit(incomecol[['year']],incomecol.income)"
   ]
  },
  {
   "cell_type": "code",
   "execution_count": 22,
   "id": "8a508a67-453f-4669-a7dc-bf0634d7ee25",
   "metadata": {},
   "outputs": [
    {
     "data": {
      "text/plain": [
       "array([4180.99576245])"
      ]
     },
     "execution_count": 22,
     "metadata": {},
     "output_type": "execute_result"
    }
   ],
   "source": [
    "#dato para predecir el valor de la casa de acuerdo al metro cuadrado\n",
    "reg.predict([[2010]])"
   ]
  },
  {
   "cell_type": "code",
   "execution_count": 15,
   "id": "bff3c5f5-b0d8-4643-b480-29f6d9e3fdcb",
   "metadata": {},
   "outputs": [
    {
     "data": {
      "text/plain": [
       "array([118.12141119])"
      ]
     },
     "execution_count": 15,
     "metadata": {},
     "output_type": "execute_result"
    }
   ],
   "source": [
    "#m es la pendiente o gradiente\n",
    "m=reg.coef_\n",
    "m"
   ]
  },
  {
   "cell_type": "code",
   "execution_count": 16,
   "id": "4b6a5065-8982-4e0f-ba83-e2b34389e98f",
   "metadata": {},
   "outputs": [
    {
     "data": {
      "text/plain": [
       "-233243.04071955333"
      ]
     },
     "execution_count": 16,
     "metadata": {},
     "output_type": "execute_result"
    }
   ],
   "source": [
    "#b es el intercepto\n",
    "b=reg.intercept_\n",
    "b"
   ]
  },
  {
   "cell_type": "code",
   "execution_count": 17,
   "id": "eeba839f-3939-4b69-a8ce-49a4f2bd7d42",
   "metadata": {},
   "outputs": [],
   "source": [
    "#area en metros cuadrados (x)\n",
    "x=2020"
   ]
  },
  {
   "cell_type": "code",
   "execution_count": 18,
   "id": "e0e01050-be6b-4822-a065-f0b1b319c869",
   "metadata": {},
   "outputs": [
    {
     "data": {
      "text/plain": [
       "array([5362.2098743])"
      ]
     },
     "execution_count": 18,
     "metadata": {},
     "output_type": "execute_result"
    }
   ],
   "source": [
    "#Finalmente obtenemos el valor de y, que viene siendo el ingreso per capita\n",
    "y=m*x+b\n",
    "y"
   ]
  },
  {
   "cell_type": "code",
   "execution_count": 19,
   "id": "f7693a7b-3a73-4e92-813f-1a4cb1a3f5b3",
   "metadata": {},
   "outputs": [
    {
     "data": {
      "text/plain": [
       "[<matplotlib.lines.Line2D at 0x6336e80>]"
      ]
     },
     "execution_count": 19,
     "metadata": {},
     "output_type": "execute_result"
    },
    {
     "data": {
      "image/png": "[encoded data removed]",
      "text/plain": [
       "<Figure size 432x288 with 1 Axes>"
      ]
     },
     "metadata": {
      "needs_background": "light"
     },
     "output_type": "display_data"
    }
   ],
   "source": [
    "#Se define el gráfico de dispersión y la línea basada en el modelo de predicción, con el añoy el ingreso per capita como parámetros\n",
    "%matplotlib inline\n",
    "plt.xlabel('year)',fontsize=20)\n",
    "plt.ylabel('Income per capita ',fontsize=20)\n",
    "plt.scatter(incomecol.year, incomecol.income, color ='red',marker='+')\n",
    "plt.plot(incomecol.year,reg.predict(s_home[['year']]),color='blue')"
   ]
  },
  {
   "cell_type": "code",
   "execution_count": 67,
   "id": "42b3e5c8-01f5-4cbd-9c49-f3b21a7df6e0",
   "metadata": {},
   "outputs": [],
   "source": []
  },
  {
   "cell_type": "code",
   "execution_count": 146,
   "id": "c467114d-f05f-4843-818b-499ddefc1cc3",
   "metadata": {},
   "outputs": [
    {
     "data": {
      "text/html": [
       "<div>\n",
       "<style scoped>\n",
       "    .dataframe tbody tr th:only-of-type {\n",
       "        vertical-align: middle;\n",
       "    }\n",
       "\n",
       "    .dataframe tbody tr th {\n",
       "        vertical-align: top;\n",
       "    }\n",
       "\n",
       "    .dataframe thead th {\n",
       "        text-align: right;\n",
       "    }\n",
       "</style>\n",
       "<table border=\"1\" class=\"dataframe\">\n",
       "  <thead>\n",
       "    <tr style=\"text-align: right;\">\n",
       "      <th></th>\n",
       "      <th>area</th>\n",
       "    </tr>\n",
       "  </thead>\n",
       "  <tbody>\n",
       "    <tr>\n",
       "      <th>0</th>\n",
       "      <td>260</td>\n",
       "    </tr>\n",
       "    <tr>\n",
       "      <th>1</th>\n",
       "      <td>300</td>\n",
       "    </tr>\n",
       "    <tr>\n",
       "      <th>2</th>\n",
       "      <td>320</td>\n",
       "    </tr>\n",
       "    <tr>\n",
       "      <th>3</th>\n",
       "      <td>360</td>\n",
       "    </tr>\n",
       "    <tr>\n",
       "      <th>4</th>\n",
       "      <td>400</td>\n",
       "    </tr>\n",
       "  </tbody>\n",
       "</table>\n",
       "</div>"
      ],
      "text/plain": [
       "   area\n",
       "0   260\n",
       "1   300\n",
       "2   320\n",
       "3   360\n",
       "4   400"
      ]
     },
     "execution_count": 146,
     "metadata": {},
     "output_type": "execute_result"
    }
   ],
   "source": [
    "#Se define un nuevo dataframe para cargar los datos de area\n",
    "sale_home2=pd.read_csv(\"/Machine Learning/Data/predictionincome.csv\")\n",
    "sale_home2.head(5)"
   ]
  },
  {
   "cell_type": "code",
   "execution_count": 145,
   "id": "fafbb63c-6931-4851-865d-23a0adda06c0",
   "metadata": {},
   "outputs": [
    {
     "data": {
      "text/plain": [
       "array([ 760.04082317,  871.1022257 ,  926.63292697, 1037.69432949,\n",
       "       1148.75573202, 1304.24169556, 1398.64388771, 1426.40923834,\n",
       "       1454.17458897, 1565.2359915 , 1593.00134213, 1648.5320434 ,\n",
       "       1704.06274466, 2037.24695224])"
      ]
     },
     "execution_count": 145,
     "metadata": {},
     "output_type": "execute_result"
    }
   ],
   "source": [
    "reg.predict(sale_home2)"
   ]
  },
  {
   "cell_type": "code",
   "execution_count": 69,
   "id": "c58bef30-b8b1-46f2-9e69-7ec8acf3ab1f",
   "metadata": {},
   "outputs": [],
   "source": [
    "#Definimos una variable precio para cargar los datos de predicción\n",
    "precio=reg.predict(sale_home2)"
   ]
  },
  {
   "cell_type": "code",
   "execution_count": 71,
   "id": "11dec9f4-f3d8-4f45-b210-0750695a746b",
   "metadata": {},
   "outputs": [
    {
     "data": {
      "text/html": [
       "<div>\n",
       "<style scoped>\n",
       "    .dataframe tbody tr th:only-of-type {\n",
       "        vertical-align: middle;\n",
       "    }\n",
       "\n",
       "    .dataframe tbody tr th {\n",
       "        vertical-align: top;\n",
       "    }\n",
       "\n",
       "    .dataframe thead th {\n",
       "        text-align: right;\n",
       "    }\n",
       "</style>\n",
       "<table border=\"1\" class=\"dataframe\">\n",
       "  <thead>\n",
       "    <tr style=\"text-align: right;\">\n",
       "      <th></th>\n",
       "      <th>area</th>\n",
       "      <th>precio</th>\n",
       "    </tr>\n",
       "  </thead>\n",
       "  <tbody>\n",
       "    <tr>\n",
       "      <th>0</th>\n",
       "      <td>2600</td>\n",
       "      <td>5.336644e+05</td>\n",
       "    </tr>\n",
       "    <tr>\n",
       "      <th>1</th>\n",
       "      <td>3000</td>\n",
       "      <td>5.879795e+05</td>\n",
       "    </tr>\n",
       "    <tr>\n",
       "      <th>2</th>\n",
       "      <td>3200</td>\n",
       "      <td>6.151370e+05</td>\n",
       "    </tr>\n",
       "    <tr>\n",
       "      <th>3</th>\n",
       "      <td>3600</td>\n",
       "      <td>6.694521e+05</td>\n",
       "    </tr>\n",
       "    <tr>\n",
       "      <th>4</th>\n",
       "      <td>4000</td>\n",
       "      <td>7.237671e+05</td>\n",
       "    </tr>\n",
       "    <tr>\n",
       "      <th>5</th>\n",
       "      <td>4560</td>\n",
       "      <td>7.998082e+05</td>\n",
       "    </tr>\n",
       "    <tr>\n",
       "      <th>6</th>\n",
       "      <td>5490</td>\n",
       "      <td>9.260908e+05</td>\n",
       "    </tr>\n",
       "    <tr>\n",
       "      <th>7</th>\n",
       "      <td>3490</td>\n",
       "      <td>6.545154e+05</td>\n",
       "    </tr>\n",
       "    <tr>\n",
       "      <th>8</th>\n",
       "      <td>3460</td>\n",
       "      <td>6.504418e+05</td>\n",
       "    </tr>\n",
       "    <tr>\n",
       "      <th>9</th>\n",
       "      <td>4750</td>\n",
       "      <td>8.256079e+05</td>\n",
       "    </tr>\n",
       "    <tr>\n",
       "      <th>10</th>\n",
       "      <td>2300</td>\n",
       "      <td>4.929281e+05</td>\n",
       "    </tr>\n",
       "    <tr>\n",
       "      <th>11</th>\n",
       "      <td>9000</td>\n",
       "      <td>1.402705e+06</td>\n",
       "    </tr>\n",
       "    <tr>\n",
       "      <th>12</th>\n",
       "      <td>8600</td>\n",
       "      <td>1.348390e+06</td>\n",
       "    </tr>\n",
       "    <tr>\n",
       "      <th>13</th>\n",
       "      <td>7100</td>\n",
       "      <td>1.144709e+06</td>\n",
       "    </tr>\n",
       "  </tbody>\n",
       "</table>\n",
       "</div>"
      ],
      "text/plain": [
       "    area        precio\n",
       "0   2600  5.336644e+05\n",
       "1   3000  5.879795e+05\n",
       "2   3200  6.151370e+05\n",
       "3   3600  6.694521e+05\n",
       "4   4000  7.237671e+05\n",
       "5   4560  7.998082e+05\n",
       "6   5490  9.260908e+05\n",
       "7   3490  6.545154e+05\n",
       "8   3460  6.504418e+05\n",
       "9   4750  8.256079e+05\n",
       "10  2300  4.929281e+05\n",
       "11  9000  1.402705e+06\n",
       "12  8600  1.348390e+06\n",
       "13  7100  1.144709e+06"
      ]
     },
     "execution_count": 71,
     "metadata": {},
     "output_type": "execute_result"
    }
   ],
   "source": [
    "#Al dataframe sale_home le asignamos el precio basado en la predicción\n",
    "sale_home2['precio']=precio\n",
    "sale_home2"
   ]
  },
  {
   "cell_type": "code",
   "execution_count": 72,
   "id": "091bbddc-0e32-45c2-9d0b-da1e40f06864",
   "metadata": {},
   "outputs": [],
   "source": [
    "#Guardamos el archivo de predicción que incluye el área cuadrada y el precio de las casas\n",
    "sale_home2.to_csv(\"/Machine Learning/Data/Prediccion.csv\")"
   ]
  },
  {
   "cell_type": "code",
   "execution_count": null,
   "id": "57180b6e-03a9-4538-968c-e60baa41579f",
   "metadata": {},
   "outputs": [],
   "source": []
  }
 ],
 "metadata": {
  "kernelspec": {
   "display_name": "Python 3 (ipykernel)",
   "language": "python",
   "name": "python3"
  },
  "language_info": {
   "codemirror_mode": {
    "name": "ipython",
    "version": 3
   },
   "file_extension": ".py",
   "mimetype": "text/x-python",
   "name": "python",
   "nbconvert_exporter": "python",
   "pygments_lexer": "ipython3",
   "version": "3.8.2"
  }
 },
 "nbformat": 4,
 "nbformat_minor": 5
}
