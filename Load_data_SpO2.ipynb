{
 "cells": [
  {
   "cell_type": "code",
   "execution_count": 32,
   "id": "c1c7cadd-eb6c-4005-939f-05fd8986172e",
   "metadata": {},
   "outputs": [
    {
     "name": "stdout",
     "output_type": "stream",
     "text": [
      "Hecho... 2\n",
      "Hecho... 3\n",
      "Hecho... 4\n",
      "Hecho... 5\n",
      "Hecho... 6\n",
      "Hecho... 7\n",
      "Hecho... 8\n",
      "Hecho... 9\n",
      "Hecho... 10\n",
      "Hecho... 11\n",
      "Hecho... 12\n",
      "Hecho... 13\n",
      "Hecho... 14\n"
     ]
    }
   ],
   "source": [
    "import pandas as pd\n",
    "import numpy as np\n",
    "i=2\n",
    "data = np.load(\"/UCordoba/Machine Learning/Data/label_\"+str(i)+\".npy\")\n",
    "data\n",
    "for i in range(2,15):\n",
    "    k=str(i)\n",
    "    data = np.load(\"/UCordoba/Machine Learning/Data/label_\"+k+\".npy\")\n",
    "    data\n",
    "    # convert array into dataframe\n",
    "    DF = pd.DataFrame(data)\n",
    "    # save the dataframe as a csv file\n",
    "    DF.to_csv(\"/UCordoba/Machine Learning/Data/label_\"+str(i)+\".csv\")\n",
    "    print(\"Hecho...\",k)"
   ]
  },
  {
   "cell_type": "code",
   "execution_count": null,
   "id": "40af4e26-3e86-4cde-98f2-c0b87631ce28",
   "metadata": {},
   "outputs": [],
   "source": []
  },
  {
   "cell_type": "code",
   "execution_count": null,
   "id": "8001215a-b8c6-4a81-94fd-02d6c4b1eae6",
   "metadata": {},
   "outputs": [],
   "source": []
  }
 ],
 "metadata": {
  "kernelspec": {
   "display_name": "Python 3 (ipykernel)",
   "language": "python",
   "name": "python3"
  },
  "language_info": {
   "codemirror_mode": {
    "name": "ipython",
    "version": 3
   },
   "file_extension": ".py",
   "mimetype": "text/x-python",
   "name": "python",
   "nbconvert_exporter": "python",
   "pygments_lexer": "ipython3",
   "version": "3.11.5"
  }
 },
 "nbformat": 4,
 "nbformat_minor": 5
}
