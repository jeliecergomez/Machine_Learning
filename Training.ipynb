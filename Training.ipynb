{
 "cells": [
  {
   "cell_type": "code",
   "execution_count": 83,
   "id": "d8adf292-e80e-45fd-9e5f-e954762823ca",
   "metadata": {},
   "outputs": [],
   "source": [
    "#Se crea una estructura de un dataframe para cargar los datos\n",
    "import pandas as pd   \n",
    "# Permite cargar el modelo de regresión lineal \n",
    "from sklearn import linear_model"
   ]
  },
  {
   "cell_type": "code",
   "execution_count": 84,
   "id": "65302080-68b0-4b78-a3a0-c7317e8b458c",
   "metadata": {},
   "outputs": [
    {
     "data": {
      "text/html": [
       "<div>\n",
       "<style scoped>\n",
       "    .dataframe tbody tr th:only-of-type {\n",
       "        vertical-align: middle;\n",
       "    }\n",
       "\n",
       "    .dataframe tbody tr th {\n",
       "        vertical-align: top;\n",
       "    }\n",
       "\n",
       "    .dataframe thead th {\n",
       "        text-align: right;\n",
       "    }\n",
       "</style>\n",
       "<table border=\"1\" class=\"dataframe\">\n",
       "  <thead>\n",
       "    <tr style=\"text-align: right;\">\n",
       "      <th></th>\n",
       "      <th>kilometros</th>\n",
       "      <th>edad</th>\n",
       "      <th>precio</th>\n",
       "    </tr>\n",
       "  </thead>\n",
       "  <tbody>\n",
       "    <tr>\n",
       "      <th>0</th>\n",
       "      <td>111044</td>\n",
       "      <td>6</td>\n",
       "      <td>73800</td>\n",
       "    </tr>\n",
       "    <tr>\n",
       "      <th>1</th>\n",
       "      <td>56327</td>\n",
       "      <td>3</td>\n",
       "      <td>139400</td>\n",
       "    </tr>\n",
       "    <tr>\n",
       "      <th>2</th>\n",
       "      <td>91732</td>\n",
       "      <td>5</td>\n",
       "      <td>107010</td>\n",
       "    </tr>\n",
       "    <tr>\n",
       "      <th>3</th>\n",
       "      <td>36210</td>\n",
       "      <td>2</td>\n",
       "      <td>164000</td>\n",
       "    </tr>\n",
       "    <tr>\n",
       "      <th>4</th>\n",
       "      <td>74030</td>\n",
       "      <td>4</td>\n",
       "      <td>129150</td>\n",
       "    </tr>\n",
       "    <tr>\n",
       "      <th>5</th>\n",
       "      <td>94951</td>\n",
       "      <td>5</td>\n",
       "      <td>109675</td>\n",
       "    </tr>\n",
       "    <tr>\n",
       "      <th>6</th>\n",
       "      <td>83686</td>\n",
       "      <td>5</td>\n",
       "      <td>131200</td>\n",
       "    </tr>\n",
       "    <tr>\n",
       "      <th>7</th>\n",
       "      <td>115872</td>\n",
       "      <td>6</td>\n",
       "      <td>79130</td>\n",
       "    </tr>\n",
       "    <tr>\n",
       "      <th>8</th>\n",
       "      <td>146450</td>\n",
       "      <td>8</td>\n",
       "      <td>49200</td>\n",
       "    </tr>\n",
       "    <tr>\n",
       "      <th>9</th>\n",
       "      <td>107826</td>\n",
       "      <td>6</td>\n",
       "      <td>90200</td>\n",
       "    </tr>\n",
       "  </tbody>\n",
       "</table>\n",
       "</div>"
      ],
      "text/plain": [
       "   kilometros  edad  precio\n",
       "0      111044     6   73800\n",
       "1       56327     3  139400\n",
       "2       91732     5  107010\n",
       "3       36210     2  164000\n",
       "4       74030     4  129150\n",
       "5       94951     5  109675\n",
       "6       83686     5  131200\n",
       "7      115872     6   79130\n",
       "8      146450     8   49200\n",
       "9      107826     6   90200"
      ]
     },
     "execution_count": 84,
     "metadata": {},
     "output_type": "execute_result"
    }
   ],
   "source": [
    "#se define un data frame para cargar el archivo que contiene los datos de entrenamiento\n",
    "vehiculos = pd.read_csv(\"/Machine Learning/Data/carros_usados.csv\")\n",
    "#se muestra el dataframe\n",
    "vehiculos"
   ]
  },
  {
   "cell_type": "code",
   "execution_count": 85,
   "id": "13fb4911-bdc5-422e-be3d-233dac290683",
   "metadata": {},
   "outputs": [
    {
     "data": {
      "text/plain": [
       "<matplotlib.collections.PathCollection at 0x20d6be08>"
      ]
     },
     "execution_count": 85,
     "metadata": {},
     "output_type": "execute_result"
    },
    {
     "data": {
      "image/png": "[encoded data removed]",
      "text/plain": [
       "<Figure size 432x288 with 1 Axes>"
      ]
     },
     "metadata": {
      "needs_background": "light"
     },
     "output_type": "display_data"
    }
   ],
   "source": [
    "#Se visualiza en una gráfico de dispersión edad de uso vs kilómetros\n",
    "import matplotlib.pyplot as plott\n",
    "%matplotlib inline\n",
    "plott.xlabel('edad de uso')\n",
    "plott.ylabel('kilometraje de recorrido')\n",
    "plott.scatter(vehiculos['edad'],vehiculos['kilometros'])"
   ]
  },
  {
   "cell_type": "code",
   "execution_count": 86,
   "id": "0f88cd70-cc0e-465e-9a95-fa474d95698c",
   "metadata": {},
   "outputs": [
    {
     "data": {
      "text/plain": [
       "<matplotlib.collections.PathCollection at 0x20da1b98>"
      ]
     },
     "execution_count": 86,
     "metadata": {},
     "output_type": "execute_result"
    },
    {
     "data": {
      "image/png": "[encoded data removed]",
      "text/plain": [
       "<Figure size 432x288 with 1 Axes>"
      ]
     },
     "metadata": {
      "needs_background": "light"
     },
     "output_type": "display_data"
    }
   ],
   "source": [
    "#Se visualiza en una gráfico de dispersión el precio vs kilómetros\n",
    "import matplotlib.pyplot as plott\n",
    "%matplotlib inline\n",
    "plott.xlabel('kilometraje de recorrido')\n",
    "plott.ylabel('precio')\n",
    "plott.scatter(vehiculos['kilometros'],vehiculos['precio'])"
   ]
  },
  {
   "cell_type": "code",
   "execution_count": 87,
   "id": "8fb0c103-9337-4b65-8ef3-4ce6ea1d55ef",
   "metadata": {},
   "outputs": [
    {
     "name": "stdout",
     "output_type": "stream",
     "text": [
      "   kilometros  edad\n",
      "0      111044     6\n",
      "1       56327     3\n",
      "2       91732     5\n",
      "3       36210     2\n",
      "4       74030     4\n",
      "5       94951     5\n",
      "6       83686     5\n",
      "7      115872     6\n",
      "8      146450     8\n",
      "9      107826     6\n"
     ]
    }
   ],
   "source": [
    "#En X se separan las variables independientes, es decir kilometraje y edad del vehículo\n",
    "X= vehiculos[['kilometros','edad']]\n",
    "#En y se asigna la variable dependiente que en este caso es el precio del vehículo\n",
    "y=vehiculos['precio']\n",
    "#Se visualizan las variables independientes \n",
    "print(X)"
   ]
  },
  {
   "cell_type": "code",
   "execution_count": 88,
   "id": "69486c4e-3f25-4457-b4d9-7da882a6a161",
   "metadata": {},
   "outputs": [
    {
     "name": "stdout",
     "output_type": "stream",
     "text": [
      "0     73800\n",
      "1    139400\n",
      "2    107010\n",
      "3    164000\n",
      "4    129150\n",
      "5    109675\n",
      "6    131200\n",
      "7     79130\n",
      "8     49200\n",
      "9     90200\n",
      "Name: precio, dtype: int64\n"
     ]
    }
   ],
   "source": [
    "#Se visualiza la variable dependiente\n",
    "print(y)"
   ]
  },
  {
   "cell_type": "code",
   "execution_count": 89,
   "id": "963b541b-efe0-4ef3-a6db-e72175137151",
   "metadata": {},
   "outputs": [],
   "source": [
    "#train_test_split permite la separación de datos de entrenamiento y pruebas\n",
    "from sklearn.model_selection import train_test_split\n",
    "#Se dividen los datos en en entrenamiento y pruebas, además se define mediante test_size=0.2 el porcentaje para pruebas\n",
    "#También se puede definir de forma aleatoria que datos se utilizarán para el entrenamiento mediante random_state=10\n",
    "X_train, X_test, y_train, y_test= train_test_split(X,y,test_size=0.2, random_state=10)"
   ]
  },
  {
   "cell_type": "code",
   "execution_count": 90,
   "id": "fb5e48a6-f79d-4803-bc36-cd75c81b3c79",
   "metadata": {},
   "outputs": [
    {
     "name": "stdout",
     "output_type": "stream",
     "text": [
      "8\n"
     ]
    }
   ],
   "source": [
    "#se define una variable tmX para mostrar cuantos datos fueron tomados del dataset para entrenar de las variables independientes\n",
    "tmX=len(X_train)\n",
    "print(tmX)"
   ]
  },
  {
   "cell_type": "code",
   "execution_count": 91,
   "id": "f084317b-c1b6-4a94-8dc2-d593461252f1",
   "metadata": {},
   "outputs": [
    {
     "name": "stdout",
     "output_type": "stream",
     "text": [
      "8\n"
     ]
    }
   ],
   "source": [
    "#se define una variable tmy para mostrar cuantos datos fueron tomados del dataset para entrenar de la variable dependiente\n",
    "tmy=len(y_train)\n",
    "print(tmy)"
   ]
  },
  {
   "cell_type": "code",
   "execution_count": 92,
   "id": "f3b125e1-076d-4627-a41d-d34105916bf0",
   "metadata": {},
   "outputs": [
    {
     "name": "stdout",
     "output_type": "stream",
     "text": [
      "2\n"
     ]
    }
   ],
   "source": [
    "#se define una variable tmtestX para mostrar cuantos datos fueron tomados del dataset para hacer el entrenamiento de las variable independientes\n",
    "tmtestX=len(X_test)\n",
    "print(tmtestX)"
   ]
  },
  {
   "cell_type": "code",
   "execution_count": 93,
   "id": "e938d116-7d49-4b0e-bc89-f60cf884b3c8",
   "metadata": {},
   "outputs": [
    {
     "name": "stdout",
     "output_type": "stream",
     "text": [
      "2\n"
     ]
    }
   ],
   "source": [
    "#se define una variable tmtesty para mostrar cuantos datos fueron tomados del dataset para hacer pruebas de la variable dependiente\n",
    "tmtesty=len(y_test)\n",
    "print(tmtesty)"
   ]
  },
  {
   "cell_type": "code",
   "execution_count": 94,
   "id": "2c016a00-901f-46e2-b4aa-091ae597048e",
   "metadata": {},
   "outputs": [
    {
     "name": "stdout",
     "output_type": "stream",
     "text": [
      "   kilometros  edad\n",
      "5       94951     5\n",
      "6       83686     5\n",
      "3       36210     2\n",
      "1       56327     3\n",
      "0      111044     6\n",
      "7      115872     6\n",
      "4       74030     4\n",
      "9      107826     6\n"
     ]
    }
   ],
   "source": [
    "#Se muestran el dataset de entrenamiento almacenados en X_train\n",
    "print(X_train)"
   ]
  },
  {
   "cell_type": "code",
   "execution_count": 95,
   "id": "d33654c5-df42-4763-a349-5b08e87ea545",
   "metadata": {},
   "outputs": [
    {
     "data": {
      "text/plain": [
       "LinearRegression()"
      ]
     },
     "execution_count": 95,
     "metadata": {},
     "output_type": "execute_result"
    }
   ],
   "source": [
    "#Se define el modelo de regresión líneal\n",
    "reg=linear_model.LinearRegression()\n",
    "reg.fit(X_train,y_train)"
   ]
  },
  {
   "cell_type": "code",
   "execution_count": 96,
   "id": "ba04b027-c5bd-47f7-b50f-0a801631c39c",
   "metadata": {},
   "outputs": [
    {
     "data": {
      "text/plain": [
       "array([ 50535.2305584 , 107655.02352579])"
      ]
     },
     "execution_count": 96,
     "metadata": {},
     "output_type": "execute_result"
    }
   ],
   "source": [
    "#Permite predecir los valores de los vehiculos de acuerdo a los datos de prueba\n",
    "reg.predict(X_test)"
   ]
  },
  {
   "cell_type": "code",
   "execution_count": 97,
   "id": "6a66aade-7176-4c35-90e8-f34f8ea9233a",
   "metadata": {},
   "outputs": [
    {
     "data": {
      "text/plain": [
       "8     49200\n",
       "2    107010\n",
       "Name: precio, dtype: int64"
      ]
     },
     "execution_count": 97,
     "metadata": {},
     "output_type": "execute_result"
    }
   ],
   "source": [
    "#Se muestran los datos utilzados para prueba\n",
    "y_test"
   ]
  },
  {
   "cell_type": "code",
   "execution_count": 98,
   "id": "0a45f416-aba0-4952-8770-bf3870f80abc",
   "metadata": {},
   "outputs": [
    {
     "data": {
      "text/plain": [
       "0.9986840822507688"
      ]
     },
     "execution_count": 98,
     "metadata": {},
     "output_type": "execute_result"
    }
   ],
   "source": [
    "#Permite saber el porcentaje de precisión de los datos de prueba\n",
    "reg.score(X_test,y_test)"
   ]
  },
  {
   "cell_type": "code",
   "execution_count": null,
   "id": "279676bb-b845-40c3-a3ba-6a53b9f46d8f",
   "metadata": {},
   "outputs": [],
   "source": []
  },
  {
   "cell_type": "code",
   "execution_count": null,
   "id": "4027bbe4-71ab-41e2-8b9a-80199e972a7e",
   "metadata": {},
   "outputs": [],
   "source": []
  }
 ],
 "metadata": {
  "kernelspec": {
   "display_name": "Python 3 (ipykernel)",
   "language": "python",
   "name": "python3"
  },
  "language_info": {
   "codemirror_mode": {
    "name": "ipython",
    "version": 3
   },
   "file_extension": ".py",
   "mimetype": "text/x-python",
   "name": "python",
   "nbconvert_exporter": "python",
   "pygments_lexer": "ipython3",
   "version": "3.8.2"
  }
 },
 "nbformat": 4,
 "nbformat_minor": 5
}
