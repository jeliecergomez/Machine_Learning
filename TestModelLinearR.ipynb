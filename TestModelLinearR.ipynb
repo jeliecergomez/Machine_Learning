{
 "cells": [
  {
   "cell_type": "code",
   "execution_count": 12,
   "id": "32844621-b3cd-4877-a91a-3cadd289d022",
   "metadata": {},
   "outputs": [],
   "source": [
    "import pickle"
   ]
  },
  {
   "cell_type": "code",
   "execution_count": 13,
   "id": "f05655bb-4a15-437a-a2fe-95f56a9ace95",
   "metadata": {},
   "outputs": [],
   "source": [
    "#Este método permite abrir el modelo de entrenamiento almancenado\n",
    "with open('model_pickle_LinealRegresion','rb') as f:\n",
    "    mp= pickle.load(f)"
   ]
  },
  {
   "cell_type": "code",
   "execution_count": 14,
   "id": "073e74ce-d854-476c-8f4c-b032224beb82",
   "metadata": {},
   "outputs": [
    {
     "data": {
      "text/plain": [
       "array([4048.66577033])"
      ]
     },
     "execution_count": 14,
     "metadata": {},
     "output_type": "execute_result"
    }
   ],
   "source": [
    "mp.predict([[500,10,15]])"
   ]
  },
  {
   "cell_type": "code",
   "execution_count": null,
   "id": "02e6030b-7bc3-445c-8e6d-573c0b0c8447",
   "metadata": {},
   "outputs": [],
   "source": []
  }
 ],
 "metadata": {
  "kernelspec": {
   "display_name": "Python 3 (ipykernel)",
   "language": "python",
   "name": "python3"
  },
  "language_info": {
   "codemirror_mode": {
    "name": "ipython",
    "version": 3
   },
   "file_extension": ".py",
   "mimetype": "text/x-python",
   "name": "python",
   "nbconvert_exporter": "python",
   "pygments_lexer": "ipython3",
   "version": "3.8.2"
  }
 },
 "nbformat": 4,
 "nbformat_minor": 5
}
