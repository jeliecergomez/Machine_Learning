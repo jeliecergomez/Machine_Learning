{
 "cells": [
  {
   "cell_type": "code",
   "execution_count": 116,
   "id": "0c5ca3e7-34fb-4d03-b603-0b588daf071a",
   "metadata": {},
   "outputs": [
    {
     "data": {
      "text/plain": [
       "['DESCR', 'data', 'feature_names', 'frame', 'images', 'target', 'target_names']"
      ]
     },
     "execution_count": 116,
     "metadata": {},
     "output_type": "execute_result"
    }
   ],
   "source": [
    "%matplotlib inline\n",
    "# Permite cargar el modelo logistica de regresión\n",
    "from sklearn.linear_model import LogisticRegression \n",
    "#Permite mostrar visualizar gráficas\n",
    "import matplotlib.pyplot as myplot\n",
    "#Permite cargar datos desde klearn desde los dataset ya establecidos\n",
    "from sklearn.datasets import load_digits\n",
    "#Carga los datos\n",
    "digitos= load_digits()\n",
    "#Visualiza las carateristicas del dataset\n",
    "dir(digitos)"
   ]
  },
  {
   "cell_type": "code",
   "execution_count": 117,
   "id": "c93f093b-4939-4ee9-907b-7524ac259007",
   "metadata": {},
   "outputs": [
    {
     "data": {
      "text/plain": [
       "array([ 0.,  0.,  5., 13.,  9.,  1.,  0.,  0.,  0.,  0., 13., 15., 10.,\n",
       "       15.,  5.,  0.,  0.,  3., 15.,  2.,  0., 11.,  8.,  0.,  0.,  4.,\n",
       "       12.,  0.,  0.,  8.,  8.,  0.,  0.,  5.,  8.,  0.,  0.,  9.,  8.,\n",
       "        0.,  0.,  4., 11.,  0.,  1., 12.,  7.,  0.,  0.,  2., 14.,  5.,\n",
       "       10., 12.,  0.,  0.,  0.,  0.,  6., 13., 10.,  0.,  0.,  0.])"
      ]
     },
     "execution_count": 117,
     "metadata": {},
     "output_type": "execute_result"
    }
   ],
   "source": [
    "#contiene las características, es decir, imágenes de imágenes manuscritas de dígitos, que se pueden utilizar para la clasificación.\n",
    "digitos.data[0]"
   ]
  },
  {
   "cell_type": "code",
   "execution_count": 118,
   "id": "4b7fc593-7a27-4c4a-9b9e-c47c6b1d03ff",
   "metadata": {},
   "outputs": [
    {
     "data": {
      "text/plain": [
       "<matplotlib.image.AxesImage at 0x20348790>"
      ]
     },
     "execution_count": 118,
     "metadata": {},
     "output_type": "execute_result"
    },
    {
     "data": {
      "text/plain": [
       "<Figure size 432x288 with 0 Axes>"
      ]
     },
     "metadata": {},
     "output_type": "display_data"
    },
    {
     "data": {
      "image/png": "[encoded data removed]",
      "text/plain": [
       "<Figure size 288x288 with 1 Axes>"
      ]
     },
     "metadata": {
      "needs_background": "light"
     },
     "output_type": "display_data"
    }
   ],
   "source": [
    "#esta biblioteca se utiliza para establecer el mapa de colores en \"gris\"\n",
    "myplot.gray()\n",
    "#Muestre los datos de una matriz como una nueva ventana de figura.\n",
    "myplot.matshow(digitos.images[0])"
   ]
  },
  {
   "cell_type": "code",
   "execution_count": 119,
   "id": "4861acac-58b4-4643-a93a-7783de295ad1",
   "metadata": {},
   "outputs": [
    {
     "data": {
      "text/plain": [
       "<Figure size 432x288 with 0 Axes>"
      ]
     },
     "metadata": {},
     "output_type": "display_data"
    },
    {
     "data": {
      "image/png": "[encoded data removed]",
      "text/plain": [
       "<Figure size 288x288 with 1 Axes>"
      ]
     },
     "metadata": {
      "needs_background": "light"
     },
     "output_type": "display_data"
    },
    {
     "data": {
      "image/png": "[encoded data removed]",
      "text/plain": [
       "<Figure size 288x288 with 1 Axes>"
      ]
     },
     "metadata": {
      "needs_background": "light"
     },
     "output_type": "display_data"
    },
    {
     "data": {
      "image/png": "[encoded data removed]",
      "text/plain": [
       "<Figure size 288x288 with 1 Axes>"
      ]
     },
     "metadata": {
      "needs_background": "light"
     },
     "output_type": "display_data"
    },
    {
     "data": {
      "image/png": "[encoded data removed]",
      "text/plain": [
       "<Figure size 288x288 with 1 Axes>"
      ]
     },
     "metadata": {
      "needs_background": "light"
     },
     "output_type": "display_data"
    }
   ],
   "source": [
    "#Ahora mostraremos las primeras 4 imágenes\n",
    "myplot.gray()\n",
    "for i in range(4):\n",
    "    myplot.matshow(digitos.images[i])  \n",
    "    "
   ]
  },
  {
   "cell_type": "code",
   "execution_count": 120,
   "id": "c92bf8ee-91f1-42e0-ade8-8e29ae8b2ee3",
   "metadata": {},
   "outputs": [
    {
     "data": {
      "text/plain": [
       "array([0, 1, 2, 3, 4])"
      ]
     },
     "execution_count": 120,
     "metadata": {},
     "output_type": "execute_result"
    }
   ],
   "source": [
    "#Parámetros para entrenar el modelo\n",
    "digitos.target[0:5]"
   ]
  },
  {
   "cell_type": "code",
   "execution_count": 121,
   "id": "28a36e05-229a-4cf4-981b-cab9092cbae5",
   "metadata": {},
   "outputs": [],
   "source": [
    "#train_test_split permite la separación de datos de entrenamiento y pruebas\n",
    "from sklearn.model_selection import train_test_split\n",
    "#Se dividen los datos en en entrenamiento y pruebas, además se define mediante test_size=0.2 el porcentaje para pruebas\n",
    "#También se puede definir de forma aleatoria que datos se utilizarán para el entrenamiento mediante random_state=10\n",
    "X_train, X_test, y_train, y_test= train_test_split(digitos.data,digitos.target,test_size=0.2, random_state=10)"
   ]
  },
  {
   "cell_type": "code",
   "execution_count": 122,
   "id": "52098e27-502b-4fa6-bf9c-a69cca8c04b7",
   "metadata": {},
   "outputs": [
    {
     "name": "stdout",
     "output_type": "stream",
     "text": [
      "Número de muestras para el entrenamiento:  1437\n"
     ]
    }
   ],
   "source": [
    "print('Número de muestras para el entrenamiento: ',len(X_train))"
   ]
  },
  {
   "cell_type": "code",
   "execution_count": 123,
   "id": "a3612dd1-71df-4010-b569-318fe4145453",
   "metadata": {},
   "outputs": [
    {
     "name": "stdout",
     "output_type": "stream",
     "text": [
      "Número de muestras para las pruebas:  360\n"
     ]
    }
   ],
   "source": [
    "print('Número de muestras para las pruebas: ',len(y_test))"
   ]
  },
  {
   "cell_type": "code",
   "execution_count": 124,
   "id": "f9891af3-c9f6-42ae-83b6-00fc23af6bfe",
   "metadata": {},
   "outputs": [
    {
     "name": "stderr",
     "output_type": "stream",
     "text": [
      "c:\\users\\jegjo\\appdata\\local\\programs\\python\\python38-32\\lib\\site-packages\\sklearn\\linear_model\\_logistic.py:763: ConvergenceWarning: lbfgs failed to converge (status=1):\n",
      "STOP: TOTAL NO. of ITERATIONS REACHED LIMIT.\n",
      "\n",
      "Increase the number of iterations (max_iter) or scale the data as shown in:\n",
      "    https://scikit-learn.org/stable/modules/preprocessing.html\n",
      "Please also refer to the documentation for alternative solver options:\n",
      "    https://scikit-learn.org/stable/modules/linear_model.html#logistic-regression\n",
      "  n_iter_i = _check_optimize_result(\n"
     ]
    },
    {
     "data": {
      "text/plain": [
       "LogisticRegression()"
      ]
     },
     "execution_count": 124,
     "metadata": {},
     "output_type": "execute_result"
    }
   ],
   "source": [
    "#Se define el modelo de logística de regresión \n",
    "modelreg=LogisticRegression()\n",
    "modelreg.fit(X_train,y_train)"
   ]
  },
  {
   "cell_type": "code",
   "execution_count": 137,
   "id": "af839025-be3c-4113-b5b4-ae007244667f",
   "metadata": {},
   "outputs": [
    {
     "name": "stdout",
     "output_type": "stream",
     "text": [
      "Puntaje: 0.95\n"
     ]
    }
   ],
   "source": [
    "print('Puntaje:', modelreg.score(X_test,y_test))"
   ]
  },
  {
   "cell_type": "code",
   "execution_count": 136,
   "id": "f8484f74-123c-4399-bff5-03d2820b911e",
   "metadata": {},
   "outputs": [
    {
     "data": {
      "text/plain": [
       "<matplotlib.image.AxesImage at 0x2116d5f8>"
      ]
     },
     "execution_count": 136,
     "metadata": {},
     "output_type": "execute_result"
    },
    {
     "data": {
      "image/png": "[encoded data removed]",
      "text/plain": [
       "<Figure size 288x288 with 1 Axes>"
      ]
     },
     "metadata": {
      "needs_background": "light"
     },
     "output_type": "display_data"
    }
   ],
   "source": [
    "#Se muestra el número contenido en la imagen \n",
    "myplot.matshow(digitos.images[67])"
   ]
  },
  {
   "cell_type": "code",
   "execution_count": 139,
   "id": "b005d389-162c-4c33-a12c-46331b7e7888",
   "metadata": {},
   "outputs": [
    {
     "data": {
      "text/plain": [
       "6"
      ]
     },
     "execution_count": 139,
     "metadata": {},
     "output_type": "execute_result"
    }
   ],
   "source": [
    "#Se muestra el número objetivo\n",
    "digitos.target[67]"
   ]
  },
  {
   "cell_type": "code",
   "execution_count": 128,
   "id": "b7f732d3-d90e-4627-96a8-3205466fd35b",
   "metadata": {},
   "outputs": [
    {
     "data": {
      "text/plain": [
       "array([6])"
      ]
     },
     "execution_count": 128,
     "metadata": {},
     "output_type": "execute_result"
    }
   ],
   "source": [
    "#Se envia el valor para validar el modelo\n",
    "modelreg.predict([digitos.data[67]])"
   ]
  },
  {
   "cell_type": "code",
   "execution_count": 140,
   "id": "18d28c26-d511-4a81-a400-3f6f7a7078b2",
   "metadata": {},
   "outputs": [
    {
     "data": {
      "text/plain": [
       "array([0, 1, 2, 3, 4, 5, 6])"
      ]
     },
     "execution_count": 140,
     "metadata": {},
     "output_type": "execute_result"
    }
   ],
   "source": [
    "#Ahora se mostrará la predicción de los número del 0 al 6\n",
    "modelreg.predict(digitos.data[0:7])"
   ]
  },
  {
   "cell_type": "code",
   "execution_count": 130,
   "id": "cb53ecfa-d455-482a-8551-f8e9d723c618",
   "metadata": {},
   "outputs": [
    {
     "data": {
      "text/plain": [
       "array([[37,  0,  0,  0,  0,  0,  0,  0,  0,  0],\n",
       "       [ 0, 31,  1,  0,  1,  0,  0,  0,  1,  0],\n",
       "       [ 0,  0, 34,  0,  0,  0,  0,  0,  0,  0],\n",
       "       [ 0,  0,  1, 38,  0,  1,  0,  0,  0,  0],\n",
       "       [ 1,  1,  0,  0, 31,  0,  0,  0,  1,  0],\n",
       "       [ 0,  1,  0,  0,  0, 30,  0,  1,  0,  0],\n",
       "       [ 0,  1,  0,  0,  0,  0, 36,  0,  0,  0],\n",
       "       [ 0,  0,  0,  0,  1,  0,  0, 38,  0,  1],\n",
       "       [ 0,  0,  1,  0,  0,  0,  1,  0, 31,  0],\n",
       "       [ 0,  0,  0,  0,  0,  1,  0,  0,  2, 36]], dtype=int64)"
      ]
     },
     "execution_count": 130,
     "metadata": {},
     "output_type": "execute_result"
    }
   ],
   "source": [
    "#Creación de la matriz de confusión \n",
    "y_prediccion = modelreg.predict(X_test)\n",
    "from sklearn.metrics import confusion_matrix\n",
    "mconf= confusion_matrix(y_test,y_prediccion)\n",
    "mconf"
   ]
  },
  {
   "cell_type": "code",
   "execution_count": 131,
   "id": "d3d9128f-91d1-4cb7-951e-58360cd2cd64",
   "metadata": {},
   "outputs": [
    {
     "data": {
      "text/plain": [
       "Text(69.0, 0.5, 'Verdadero')"
      ]
     },
     "execution_count": 131,
     "metadata": {},
     "output_type": "execute_result"
    },
    {
     "data": {
      "image/png": "[encoded data removed]",
      "text/plain": [
       "<Figure size 720x432 with 2 Axes>"
      ]
     },
     "metadata": {
      "needs_background": "light"
     },
     "output_type": "display_data"
    }
   ],
   "source": [
    "#seaborn es una biblioteca para hacer gráficos estadísticos\n",
    "#Si tiene problemas para ejecutar seaborn ejecute la siguiente instruccion: pip install seaborn\n",
    "import seaborn as sn\n",
    "myplot.figure(figsize=(10,6))\n",
    "sn.heatmap(mconf,annot=True)\n",
    "myplot.xlabel('Prediccion')\n",
    "myplot.ylabel('Verdadero')"
   ]
  },
  {
   "cell_type": "code",
   "execution_count": null,
   "id": "1b826451-15da-4aa5-9a88-00a757c5d747",
   "metadata": {},
   "outputs": [],
   "source": []
  },
  {
   "cell_type": "code",
   "execution_count": null,
   "id": "49376731-ab25-404f-b92a-8fce72398c3e",
   "metadata": {},
   "outputs": [],
   "source": []
  },
  {
   "cell_type": "code",
   "execution_count": null,
   "id": "32086f58-c9d4-4628-88cd-e704ca6819c5",
   "metadata": {},
   "outputs": [],
   "source": []
  }
 ],
 "metadata": {
  "kernelspec": {
   "display_name": "Python 3 (ipykernel)",
   "language": "python",
   "name": "python3"
  },
  "language_info": {
   "codemirror_mode": {
    "name": "ipython",
    "version": 3
   },
   "file_extension": ".py",
   "mimetype": "text/x-python",
   "name": "python",
   "nbconvert_exporter": "python",
   "pygments_lexer": "ipython3",
   "version": "3.8.2"
  }
 },
 "nbformat": 4,
 "nbformat_minor": 5
}
